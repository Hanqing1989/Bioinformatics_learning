{
 "cells": [
  {
   "cell_type": "markdown",
   "id": "85e27e7e",
   "metadata": {},
   "source": [
    "# Biopython教程（下）实例操作"
   ]
  },
  {
   "cell_type": "markdown",
   "id": "5e9d40f7",
   "metadata": {},
   "source": [
    "Source：\n",
    "\n",
    "1. [Biopython中文教程](https://biopython-cn.readthedocs.io/zh_CN/latest/cn/chr01.html)。\n",
    "\n",
    "2. [Biopython简介详细操作教程](https://www.lidihuo.com/biopython/biopython-index.html)。"
   ]
  },
  {
   "cell_type": "markdown",
   "id": "61d3288d",
   "metadata": {},
   "source": [
    "<!-- vscode-jupyter-toc -->\n",
    "<!-- THIS CELL WILL BE REPLACED ON TOC UPDATE. DO NOT WRITE YOUR TEXT IN THIS CELL -->\n",
    "<a id='toc0_'></a>**Table of contents**    \n",
    "- [多序列比对](#toc1_)    \n",
    "  - [读取多序列比对数据](#toc1_1_)    \n",
    "    - [单一的序列比对](#toc1_1_1_)    \n",
    "    - [多个序列比对](#toc1_1_2_)    \n",
    "    - [序列比对的格式间转换和写出](#toc1_1_3_)    \n",
    "    - [将序列比对对象转换为格式化字符串（formatted strings）](#toc1_1_4_)    \n",
    "  - [序列比对的操纵](#toc1_2_)    \n",
    "    - [序列比对的切片（slice）操作](#toc1_2_1_)    \n",
    "  - [构建序列比对的工具](#toc1_3_)    \n",
    "    - [ClustalW](#toc1_3_1_)    \n",
    "- [Bio.Phylo系统发育分析](#toc2_)    \n",
    "  - [示例: 树中有什么？](#toc2_1_)    \n",
    "\n",
    "<!-- vscode-jupyter-toc-config\n",
    "\tnumbering=false\n",
    "\tanchor=true\n",
    "\tflat=false\n",
    "\tminLevel=2\n",
    "\tmaxLevel=6\n",
    "\t/vscode-jupyter-toc-config -->\n",
    "<!-- /vscode-jupyter-toc -->"
   ]
  },
  {
   "cell_type": "markdown",
   "metadata": {},
   "source": [
    "## <a id='toc1_'></a>[多序列比对](#toc0_)\n",
    "\n",
    "### <a id='toc1_1_'></a>[读取多序列比对数据](#toc0_)\n",
    "\n",
    "- 在Biopython中，有两种方法读取多序列比对数据，Bio.AlignIO.read(...)和Bio.AlignIO.parse(...)。这两种方法跟Bio.SeqIO处理一个和多个数据的设计方式是一样的。Bio.AlignIO.read(...)只能读取一个多序列比对而Bio.AlignIO.parse(...)可以依次读取多个序列比对数据。\n",
    "\n",
    "- PACKAGE CONTENTS\n",
    "    - ClustalIO\n",
    "    \n",
    "    - EmbossIO\n",
    "    \n",
    "    - FastaIO\n",
    "    \n",
    "    - Interfaces\n",
    "    \n",
    "    - MafIO\n",
    "    \n",
    "    - MauveIO\n",
    "    \n",
    "    - MsfIO\n",
    "    \n",
    "    - NexusIO\n",
    "    \n",
    "    - PhylipIO\n",
    "    \n",
    "    - StockholmIO\n",
    "    \n",
    "- 从Internet下载样本序列比对文件。要下载示例文件，请按照以下步骤操作：\n",
    "    - 打开浏览器，然后访问 - https://www.ebi.ac.uk/interpro/entry/pfam/#table 网站。它将按字母顺序显示所有Pfam系列。\n",
    "    \n",
    "    - 选择任何一个种子数量较少的家庭，方便轻松进行比对。在搜索框输入PF18225，点击打开搜索结果，在左边栏显示有关它的完整详细信息。\n",
    "    - 转到比对（Alignment）部分，在“Available alignments”选择“seed”，“colors”可以选择“hydro”，勾选“Conservation”，点击“Download”。\n",
    "\n",
    "#### <a id='toc1_1_1_'></a>[单一的序列比对](#toc0_)\n",
    "\n",
    "- Bio.AlignIO.read(...)只能读取一个多序列比对"
   ]
  },
  {
   "cell_type": "code",
   "execution_count": 1,
   "id": "ebe9f4f9",
   "metadata": {},
   "outputs": [
    {
     "ename": "ModuleNotFoundError",
     "evalue": "No module named 'Bio'",
     "output_type": "error",
     "traceback": [
      "\u001b[0;31m---------------------------------------------------------------------------\u001b[0m",
      "\u001b[0;31mModuleNotFoundError\u001b[0m                       Traceback (most recent call last)",
      "Cell \u001b[0;32mIn [1], line 1\u001b[0m\n\u001b[0;32m----> 1\u001b[0m \u001b[39mfrom\u001b[39;00m \u001b[39mBio\u001b[39;00m \u001b[39mimport\u001b[39;00m AlignIO\n\u001b[1;32m      2\u001b[0m alignment \u001b[39m=\u001b[39m AlignIO\u001b[39m.\u001b[39mread(\u001b[39m\"\u001b[39m\u001b[39m/Users/liang.hanqing/Documents/jupyter/Biopython/examples/PF18225.alignment.seed\u001b[39m\u001b[39m\"\u001b[39m, \u001b[39m\"\u001b[39m\u001b[39mstockholm\u001b[39m\u001b[39m\"\u001b[39m)\n\u001b[1;32m      3\u001b[0m \u001b[39mprint\u001b[39m(alignment)\n",
      "\u001b[0;31mModuleNotFoundError\u001b[0m: No module named 'Bio'"
     ]
    }
   ],
   "source": [
    "from Bio import AlignIO\n",
    "alignment = AlignIO.read(\"/Users/liang.hanqing/Documents/jupyter/Biopython/examples/PF18225.alignment.seed\", \"stockholm\")\n",
    "print(alignment)"
   ]
  },
  {
   "cell_type": "markdown",
   "id": "de706055",
   "metadata": {},
   "source": [
    "- 检查比对以及可用的序列(SeqRecord)："
   ]
  },
  {
   "cell_type": "code",
   "execution_count": 2,
   "id": "92386222",
   "metadata": {},
   "outputs": [
    {
     "ename": "NameError",
     "evalue": "name 'alignment' is not defined",
     "output_type": "error",
     "traceback": [
      "\u001b[0;31m---------------------------------------------------------------------------\u001b[0m",
      "\u001b[0;31mNameError\u001b[0m                                 Traceback (most recent call last)",
      "Cell \u001b[0;32mIn [2], line 1\u001b[0m\n\u001b[0;32m----> 1\u001b[0m \u001b[39mfor\u001b[39;00m align \u001b[39min\u001b[39;00m alignment:\n\u001b[1;32m      2\u001b[0m     \u001b[39mprint\u001b[39m(align\u001b[39m.\u001b[39mseq)\n",
      "\u001b[0;31mNameError\u001b[0m: name 'alignment' is not defined"
     ]
    }
   ],
   "source": [
    "for align in alignment:\n",
    "    print(align.seq)"
   ]
  },
  {
   "cell_type": "markdown",
   "metadata": {},
   "source": [
    "#### <a id='toc1_1_2_'></a>[多个序列比对](#toc0_)\n",
    "\n",
    "- Bio.AlignIO.parse(...)可以依次读取多个序列比对数据。"
   ]
  },
  {
   "cell_type": "code",
   "execution_count": 9,
   "id": "6ea39513",
   "metadata": {},
   "outputs": [
    {
     "name": "stdout",
     "output_type": "stream",
     "text": [
      "<generator object parse at 0x7faa353fd5f0>\n"
     ]
    }
   ],
   "source": [
    "from Bio import AlignIO\n",
    "alignments = AlignIO.parse(open(\"/Users/liang.hanqing/Documents/jupyter/Biopython/examples/PF18225.alignment.seed\"), \"stockholm\")\n",
    "print(alignments)"
   ]
  },
  {
   "cell_type": "code",
   "execution_count": 10,
   "id": "94e20280",
   "metadata": {},
   "outputs": [
    {
     "name": "stdout",
     "output_type": "stream",
     "text": [
      "Alignment with 5 rows and 65 columns\n",
      "AINRNTQQLTQDLRAMPNWSLRFVYIVDRNNQDLLKRPLPPGIM...NRK B3PFT7_CELJU/62-126\n",
      "AVNATEREFTERIRTLPHWARRNVFVLDSQGFEIFDRELPSPVA...NRT K4KEM7_SIMAS/61-125\n",
      "MQNTPAERLPAIIEKAKSKHDINVWLLDRQGRDLLEQRVPAKVA...EGP B7RZ31_9GAMM/59-123\n",
      "ARRHGQEYFQQWLERQPKKVKEQVFAVDQFGRELLGRPLPEDMA...KKP A0A143HL37_9GAMM/57-121\n",
      "TRRHGPESFRFWLERQPVEARDRIYAIDRSGAEILDRPIPRGMA...NKP A0A0X3UC67_9GAMM/57-121\n"
     ]
    }
   ],
   "source": [
    "for alignment in alignments:\n",
    "    print(alignment)"
   ]
  },
  {
   "cell_type": "markdown",
   "metadata": {},
   "source": [
    "#### <a id='toc1_1_3_'></a>[序列比对的格式间转换和写出](#toc0_)\n",
    "\n",
    "- 在通常情况下，我们建议使用Bio.AlignIO.parse(...)来读取序列比对数据，然后使用Bio.AlignIO.write(...)函数来写出。或者你也可以直接使用Bio.AlignIO.convert(...)函数来实现格式的转换。\n",
    "\n",
    "- 实例：将读取PFAM/Stockholm格式的序列比对，然后将其保存为Clustal格式："
   ]
  },
  {
   "cell_type": "code",
   "execution_count": 20,
   "id": "d22d02f1",
   "metadata": {},
   "outputs": [
    {
     "data": {
      "text/plain": [
       "1"
      ]
     },
     "execution_count": 20,
     "metadata": {},
     "output_type": "execute_result"
    }
   ],
   "source": [
    "from Bio import AlignIO\n",
    "AlignIO.convert(\"/Users/liang.hanqing/Documents/jupyter/Biopython/examples/PF18225.alignment.seed\", \"stockholm\", \"PF18225.alignment.aln\", \"clustal\")"
   ]
  },
  {
   "cell_type": "markdown",
   "id": "e54ebe05",
   "metadata": {},
   "source": [
    "- 或者，使用Bio.AlignIO.read(...)函数来读取数据，然后使用Bio.AlignIO.write(...)来将数据保存为另一种格式："
   ]
  },
  {
   "cell_type": "code",
   "execution_count": 12,
   "id": "8cdd917d",
   "metadata": {},
   "outputs": [
    {
     "data": {
      "text/plain": [
       "1"
      ]
     },
     "execution_count": 12,
     "metadata": {},
     "output_type": "execute_result"
    }
   ],
   "source": [
    "from Bio import AlignIO\n",
    "alignment = AlignIO.read(\"/Users/liang.hanqing/Documents/jupyter/Biopython/examples/PF18225.alignment.seed\", \"stockholm\")\n",
    "AlignIO.write([alignment], \"PF18225.alignment.aln\", \"clustal\")"
   ]
  },
  {
   "cell_type": "markdown",
   "id": "5f55dd41",
   "metadata": {},
   "source": [
    "- 或者，使用以下代码将它保存为PHYLIP格式："
   ]
  },
  {
   "cell_type": "code",
   "execution_count": 21,
   "id": "effa70c6",
   "metadata": {},
   "outputs": [
    {
     "data": {
      "text/plain": [
       "1"
      ]
     },
     "execution_count": 21,
     "metadata": {},
     "output_type": "execute_result"
    }
   ],
   "source": [
    "from Bio import AlignIO\n",
    "AlignIO.convert(\"/Users/liang.hanqing/Documents/jupyter/Biopython/examples/PF18225.alignment.seed\", \"stockholm\", \"PF18225.alignment.phy\", \"phylip\")"
   ]
  },
  {
   "cell_type": "markdown",
   "metadata": {},
   "source": [
    "#### <a id='toc1_1_4_'></a>[将序列比对对象转换为格式化字符串（formatted strings）](#toc0_)"
   ]
  },
  {
   "cell_type": "code",
   "execution_count": 46,
   "id": "22d7a89a",
   "metadata": {},
   "outputs": [
    {
     "ename": "AttributeError",
     "evalue": "'MultipleSeqAlignment' object has no attribute 'format'",
     "output_type": "error",
     "traceback": [
      "\u001b[0;31m---------------------------------------------------------------------------\u001b[0m",
      "\u001b[0;31mAttributeError\u001b[0m                            Traceback (most recent call last)",
      "\u001b[0;32m/var/folders/14/pj985hh56sl5pj_j6y0ldsk00000gn/T/ipykernel_80771/3404935188.py\u001b[0m in \u001b[0;36m<module>\u001b[0;34m\u001b[0m\n\u001b[1;32m      1\u001b[0m \u001b[0;32mfrom\u001b[0m \u001b[0mBio\u001b[0m \u001b[0;32mimport\u001b[0m \u001b[0mAlignIO\u001b[0m\u001b[0;34m\u001b[0m\u001b[0;34m\u001b[0m\u001b[0m\n\u001b[1;32m      2\u001b[0m \u001b[0malignment\u001b[0m \u001b[0;34m=\u001b[0m \u001b[0mAlignIO\u001b[0m\u001b[0;34m.\u001b[0m\u001b[0mread\u001b[0m\u001b[0;34m(\u001b[0m\u001b[0;34m\"/Users/liang.hanqing/Documents/jupyter/Biopython/examples/PF18225.alignment.seed\"\u001b[0m\u001b[0;34m,\u001b[0m \u001b[0;34m\"stockholm\"\u001b[0m\u001b[0;34m)\u001b[0m\u001b[0;34m\u001b[0m\u001b[0;34m\u001b[0m\u001b[0m\n\u001b[0;32m----> 3\u001b[0;31m \u001b[0mprint\u001b[0m\u001b[0;34m(\u001b[0m\u001b[0malignment\u001b[0m\u001b[0;34m.\u001b[0m\u001b[0mformat\u001b[0m\u001b[0;34m(\u001b[0m\u001b[0;34m\"clustal\"\u001b[0m\u001b[0;34m)\u001b[0m\u001b[0;34m)\u001b[0m\u001b[0;34m\u001b[0m\u001b[0;34m\u001b[0m\u001b[0m\n\u001b[0m",
      "\u001b[0;31mAttributeError\u001b[0m: 'MultipleSeqAlignment' object has no attribute 'format'"
     ]
    }
   ],
   "source": [
    "from Bio import AlignIO\n",
    "alignment = AlignIO.read(\"/Users/liang.hanqing/Documents/jupyter/Biopython/examples/PF18225.alignment.seed\", \"stockholm\")\n",
    "print(alignment.format(\"clustal\"))"
   ]
  },
  {
   "cell_type": "markdown",
   "id": "56bbfcdb",
   "metadata": {},
   "source": [
    "- 使用`obj.__dict__`看一个对象有哪些字段："
   ]
  },
  {
   "cell_type": "code",
   "execution_count": 44,
   "id": "f6e96d00",
   "metadata": {},
   "outputs": [
    {
     "data": {
      "text/plain": [
       "mappingproxy({'__module__': 'Bio.Align',\n",
       "              '__doc__': 'Represents a classical multiple sequence alignment (MSA).\\n\\n    By this we mean a collection of sequences (usually shown as rows) which\\n    are all the same length (usually with gap characters for insertions or\\n    padding). The data can then be regarded as a matrix of letters, with well\\n    defined columns.\\n\\n    You would typically create an MSA by loading an alignment file with the\\n    AlignIO module:\\n\\n    >>> from Bio import AlignIO\\n    >>> align = AlignIO.read(\"Clustalw/opuntia.aln\", \"clustal\")\\n    >>> print(align)\\n    Alignment with 7 rows and 156 columns\\n    TATACATTAAAGAAGGGGGATGCGGATAAATGGAAAGGCGAAAG...AGA gi|6273285|gb|AF191659.1|AF191\\n    TATACATTAAAGAAGGGGGATGCGGATAAATGGAAAGGCGAAAG...AGA gi|6273284|gb|AF191658.1|AF191\\n    TATACATTAAAGAAGGGGGATGCGGATAAATGGAAAGGCGAAAG...AGA gi|6273287|gb|AF191661.1|AF191\\n    TATACATAAAAGAAGGGGGATGCGGATAAATGGAAAGGCGAAAG...AGA gi|6273286|gb|AF191660.1|AF191\\n    TATACATTAAAGGAGGGGGATGCGGATAAATGGAAAGGCGAAAG...AGA gi|6273290|gb|AF191664.1|AF191\\n    TATACATTAAAGGAGGGGGATGCGGATAAATGGAAAGGCGAAAG...AGA gi|6273289|gb|AF191663.1|AF191\\n    TATACATTAAAGGAGGGGGATGCGGATAAATGGAAAGGCGAAAG...AGA gi|6273291|gb|AF191665.1|AF191\\n\\n    In some respects you can treat these objects as lists of SeqRecord objects,\\n    each representing a row of the alignment. Iterating over an alignment gives\\n    the SeqRecord object for each row:\\n\\n    >>> len(align)\\n    7\\n    >>> for record in align:\\n    ...     print(\"%s %i\" % (record.id, len(record)))\\n    ...\\n    gi|6273285|gb|AF191659.1|AF191 156\\n    gi|6273284|gb|AF191658.1|AF191 156\\n    gi|6273287|gb|AF191661.1|AF191 156\\n    gi|6273286|gb|AF191660.1|AF191 156\\n    gi|6273290|gb|AF191664.1|AF191 156\\n    gi|6273289|gb|AF191663.1|AF191 156\\n    gi|6273291|gb|AF191665.1|AF191 156\\n\\n    You can also access individual rows as SeqRecord objects via their index:\\n\\n    >>> print(align[0].id)\\n    gi|6273285|gb|AF191659.1|AF191\\n    >>> print(align[-1].id)\\n    gi|6273291|gb|AF191665.1|AF191\\n\\n    And extract columns as strings:\\n\\n    >>> print(align[:, 1])\\n    AAAAAAA\\n\\n    Or, take just the first ten columns as a sub-alignment:\\n\\n    >>> print(align[:, :10])\\n    Alignment with 7 rows and 10 columns\\n    TATACATTAA gi|6273285|gb|AF191659.1|AF191\\n    TATACATTAA gi|6273284|gb|AF191658.1|AF191\\n    TATACATTAA gi|6273287|gb|AF191661.1|AF191\\n    TATACATAAA gi|6273286|gb|AF191660.1|AF191\\n    TATACATTAA gi|6273290|gb|AF191664.1|AF191\\n    TATACATTAA gi|6273289|gb|AF191663.1|AF191\\n    TATACATTAA gi|6273291|gb|AF191665.1|AF191\\n\\n    Combining this alignment slicing with alignment addition allows you to\\n    remove a section of the alignment. For example, taking just the first\\n    and last ten columns:\\n\\n    >>> print(align[:, :10] + align[:, -10:])\\n    Alignment with 7 rows and 20 columns\\n    TATACATTAAGTGTACCAGA gi|6273285|gb|AF191659.1|AF191\\n    TATACATTAAGTGTACCAGA gi|6273284|gb|AF191658.1|AF191\\n    TATACATTAAGTGTACCAGA gi|6273287|gb|AF191661.1|AF191\\n    TATACATAAAGTGTACCAGA gi|6273286|gb|AF191660.1|AF191\\n    TATACATTAAGTGTACCAGA gi|6273290|gb|AF191664.1|AF191\\n    TATACATTAAGTATACCAGA gi|6273289|gb|AF191663.1|AF191\\n    TATACATTAAGTGTACCAGA gi|6273291|gb|AF191665.1|AF191\\n\\n    Note - This object replaced the older Alignment object defined in module\\n    Bio.Align.Generic but is not fully backwards compatible with it.\\n\\n    Note - This object does NOT attempt to model the kind of alignments used\\n    in next generation sequencing with multiple sequencing reads which are\\n    much shorter than the alignment, and where there is usually a consensus or\\n    reference sequence with special status.\\n    ',\n",
       "              '__init__': <function Bio.Align.MultipleSeqAlignment.__init__(self, records, alphabet=None, annotations=None, column_annotations=None)>,\n",
       "              '_set_per_column_annotations': <function Bio.Align.MultipleSeqAlignment._set_per_column_annotations(self, value)>,\n",
       "              '_get_per_column_annotations': <function Bio.Align.MultipleSeqAlignment._get_per_column_annotations(self)>,\n",
       "              'column_annotations': <property at 0x7faa3479d4a0>,\n",
       "              '_str_line': <function Bio.Align.MultipleSeqAlignment._str_line(self, record, length=50)>,\n",
       "              '__str__': <function Bio.Align.MultipleSeqAlignment.__str__(self)>,\n",
       "              '__repr__': <function Bio.Align.MultipleSeqAlignment.__repr__(self)>,\n",
       "              '__format__': <function Bio.Align.MultipleSeqAlignment.__format__(self, format_spec)>,\n",
       "              '__iter__': <function Bio.Align.MultipleSeqAlignment.__iter__(self)>,\n",
       "              '__len__': <function Bio.Align.MultipleSeqAlignment.__len__(self)>,\n",
       "              'get_alignment_length': <function Bio.Align.MultipleSeqAlignment.get_alignment_length(self)>,\n",
       "              'extend': <function Bio.Align.MultipleSeqAlignment.extend(self, records)>,\n",
       "              'append': <function Bio.Align.MultipleSeqAlignment.append(self, record)>,\n",
       "              '_append': <function Bio.Align.MultipleSeqAlignment._append(self, record, expected_length=None)>,\n",
       "              '__add__': <function Bio.Align.MultipleSeqAlignment.__add__(self, other)>,\n",
       "              '__getitem__': <function Bio.Align.MultipleSeqAlignment.__getitem__(self, index)>,\n",
       "              'sort': <function Bio.Align.MultipleSeqAlignment.sort(self, key=None, reverse=False)>,\n",
       "              'substitutions': <property at 0x7faa347a1400>,\n",
       "              '__dict__': <attribute '__dict__' of 'MultipleSeqAlignment' objects>,\n",
       "              '__weakref__': <attribute '__weakref__' of 'MultipleSeqAlignment' objects>})"
      ]
     },
     "execution_count": 44,
     "metadata": {},
     "output_type": "execute_result"
    }
   ],
   "source": [
    "MultipleSeqAlignment.__dict__"
   ]
  },
  {
   "cell_type": "markdown",
   "id": "11ddb93a",
   "metadata": {},
   "source": [
    "- 以上可以看到，“format”已经变成了`__format__`。"
   ]
  },
  {
   "cell_type": "code",
   "execution_count": 47,
   "id": "ae4753e9",
   "metadata": {},
   "outputs": [
    {
     "name": "stdout",
     "output_type": "stream",
     "text": [
      "CLUSTAL X (1.81) multiple sequence alignment\n",
      "\n",
      "\n",
      "B3PFT7_CELJU/62-126                 AINRNTQQLTQDLRAMPNWSLRFVYIVDRNNQDLLKRPLPPGIMVLAPRL\n",
      "K4KEM7_SIMAS/61-125                 AVNATEREFTERIRTLPHWARRNVFVLDSQGFEIFDRELPSPVADLMRKL\n",
      "B7RZ31_9GAMM/59-123                 MQNTPAERLPAIIEKAKSKHDINVWLLDRQGRDLLEQRVPAKVATVANQL\n",
      "A0A143HL37_9GAMM/57-121             ARRHGQEYFQQWLERQPKKVKEQVFAVDQFGRELLGRPLPEDMAPMLIAL\n",
      "A0A0X3UC67_9GAMM/57-121             TRRHGPESFRFWLERQPVEARDRIYAIDRSGAEILDRPIPRGMAPLFKVL\n",
      "\n",
      "B3PFT7_CELJU/62-126                 TAKHPYDKVQDRNRK\n",
      "K4KEM7_SIMAS/61-125                 DLDRPFKKLERKNRT\n",
      "B7RZ31_9GAMM/59-123                 RGRKRRAFARHREGP\n",
      "A0A143HL37_9GAMM/57-121             NYRNRESHAQVDKKP\n",
      "A0A0X3UC67_9GAMM/57-121             SFRNREDQGLVNNKP\n",
      "\n",
      "\n",
      "\n"
     ]
    }
   ],
   "source": [
    "from Bio import AlignIO\n",
    "alignment = AlignIO.read(\"/Users/liang.hanqing/Documents/jupyter/Biopython/examples/PF18225.alignment.seed\", \"stockholm\")\n",
    "print(alignment.__format__(\"clustal\"))"
   ]
  },
  {
   "cell_type": "markdown",
   "metadata": {},
   "source": [
    "### <a id='toc1_2_'></a>[序列比对的操纵](#toc0_)\n",
    "\n",
    "#### <a id='toc1_2_1_'></a>[序列比对的切片（slice）操作](#toc0_)\n",
    "\n",
    "- 可以认为读入的序列比对是一个由SeqRecord对象构成的Python列表（list）。因此可以使用len(...)方法来得到行数（序列比对的个数），也可以对序列比对进行迭代。"
   ]
  },
  {
   "cell_type": "code",
   "execution_count": 48,
   "id": "7511dad5",
   "metadata": {},
   "outputs": [
    {
     "name": "stdout",
     "output_type": "stream",
     "text": [
      "Number of rows: 5\n"
     ]
    }
   ],
   "source": [
    "from Bio import AlignIO\n",
    ">>> alignment = AlignIO.read(\"/Users/liang.hanqing/Documents/jupyter/Biopython/examples/PF18225.alignment.seed\", \"stockholm\")\n",
    ">>> print(\"Number of rows: %i\" % len(alignment))"
   ]
  },
  {
   "cell_type": "code",
   "execution_count": 49,
   "id": "30e276d8",
   "metadata": {},
   "outputs": [
    {
     "name": "stdout",
     "output_type": "stream",
     "text": [
      "AINRNTQQLTQDLRAMPNWSLRFVYIVDRNNQDLLKRPLPPGIMVLAPRLTAKHPYDKVQDRNRK - B3PFT7_CELJU/62-126\n",
      "AVNATEREFTERIRTLPHWARRNVFVLDSQGFEIFDRELPSPVADLMRKLDLDRPFKKLERKNRT - K4KEM7_SIMAS/61-125\n",
      "MQNTPAERLPAIIEKAKSKHDINVWLLDRQGRDLLEQRVPAKVATVANQLRGRKRRAFARHREGP - B7RZ31_9GAMM/59-123\n",
      "ARRHGQEYFQQWLERQPKKVKEQVFAVDQFGRELLGRPLPEDMAPMLIALNYRNRESHAQVDKKP - A0A143HL37_9GAMM/57-121\n",
      "TRRHGPESFRFWLERQPVEARDRIYAIDRSGAEILDRPIPRGMAPLFKVLSFRNREDQGLVNNKP - A0A0X3UC67_9GAMM/57-121\n"
     ]
    }
   ],
   "source": [
    "for record in alignment:\n",
    "    print(\"%s - %s\" % (record.seq, record.id))"
   ]
  },
  {
   "cell_type": "markdown",
   "id": "b9e26c6e",
   "metadata": {},
   "source": [
    "- 使用列表所拥有的append和extend方法来给序列比对增加序列。"
   ]
  },
  {
   "cell_type": "code",
   "execution_count": 50,
   "id": "951c7aff",
   "metadata": {},
   "outputs": [
    {
     "name": "stdout",
     "output_type": "stream",
     "text": [
      "Alignment with 5 rows and 65 columns\n",
      "AINRNTQQLTQDLRAMPNWSLRFVYIVDRNNQDLLKRPLPPGIM...NRK B3PFT7_CELJU/62-126\n",
      "AVNATEREFTERIRTLPHWARRNVFVLDSQGFEIFDRELPSPVA...NRT K4KEM7_SIMAS/61-125\n",
      "MQNTPAERLPAIIEKAKSKHDINVWLLDRQGRDLLEQRVPAKVA...EGP B7RZ31_9GAMM/59-123\n",
      "ARRHGQEYFQQWLERQPKKVKEQVFAVDQFGRELLGRPLPEDMA...KKP A0A143HL37_9GAMM/57-121\n",
      "TRRHGPESFRFWLERQPVEARDRIYAIDRSGAEILDRPIPRGMA...NKP A0A0X3UC67_9GAMM/57-121\n"
     ]
    }
   ],
   "source": [
    "print(alignment)"
   ]
  },
  {
   "cell_type": "code",
   "execution_count": 67,
   "id": "7fea89b9",
   "metadata": {},
   "outputs": [
    {
     "name": "stdout",
     "output_type": "stream",
     "text": [
      "Alignment with 2 rows and 65 columns\n",
      "MQNTPAERLPAIIEKAKSKHDINVWLLDRQGRDLLEQRVPAKVA...EGP B7RZ31_9GAMM/59-123\n",
      "ARRHGQEYFQQWLERQPKKVKEQVFAVDQFGRELLGRPLPEDMA...KKP A0A143HL37_9GAMM/57-121\n"
     ]
    }
   ],
   "source": [
    "print(alignment[2:4])"
   ]
  },
  {
   "cell_type": "markdown",
   "id": "b9951038",
   "metadata": {},
   "source": [
    "- 获得特定的列："
   ]
  },
  {
   "cell_type": "code",
   "execution_count": 68,
   "id": "d9e4be6f",
   "metadata": {},
   "outputs": [
    {
     "name": "stdout",
     "output_type": "stream",
     "text": [
      "P\n"
     ]
    }
   ],
   "source": [
    "print(alignment[2].seq[4])"
   ]
  },
  {
   "cell_type": "markdown",
   "id": "9fa3fe9f",
   "metadata": {},
   "source": [
    "- 以上方法简化后："
   ]
  },
  {
   "cell_type": "code",
   "execution_count": 69,
   "id": "c8f1615a",
   "metadata": {},
   "outputs": [
    {
     "name": "stdout",
     "output_type": "stream",
     "text": [
      "P\n"
     ]
    }
   ],
   "source": [
    "print(alignment[2,4])"
   ]
  },
  {
   "cell_type": "markdown",
   "id": "9c39d3b5",
   "metadata": {},
   "source": [
    "- 获取整列："
   ]
  },
  {
   "cell_type": "code",
   "execution_count": 70,
   "id": "8fa56555",
   "metadata": {},
   "outputs": [
    {
     "name": "stdout",
     "output_type": "stream",
     "text": [
      "NTPGG\n"
     ]
    }
   ],
   "source": [
    "print(alignment[:,4])"
   ]
  },
  {
   "cell_type": "markdown",
   "id": "8ac24f47",
   "metadata": {},
   "source": [
    "- 同时选择特定的行和列（第2到4行的前6列）："
   ]
  },
  {
   "cell_type": "code",
   "execution_count": 71,
   "id": "6c149fe0",
   "metadata": {},
   "outputs": [
    {
     "name": "stdout",
     "output_type": "stream",
     "text": [
      "Alignment with 3 rows and 6 columns\n",
      "AVNATE K4KEM7_SIMAS/61-125\n",
      "MQNTPA B7RZ31_9GAMM/59-123\n",
      "ARRHGQ A0A143HL37_9GAMM/57-121\n"
     ]
    }
   ],
   "source": [
    "print(alignment[1:4,:6])"
   ]
  },
  {
   "cell_type": "markdown",
   "id": "6f8388cf",
   "metadata": {},
   "source": [
    "- 使用`:`将打印出选定列的所有行："
   ]
  },
  {
   "cell_type": "code",
   "execution_count": 65,
   "id": "739b6c39",
   "metadata": {},
   "outputs": [
    {
     "name": "stdout",
     "output_type": "stream",
     "text": [
      "Alignment with 5 rows and 6 columns\n",
      "AINRNT B3PFT7_CELJU/62-126\n",
      "AVNATE K4KEM7_SIMAS/61-125\n",
      "MQNTPA B7RZ31_9GAMM/59-123\n",
      "ARRHGQ A0A143HL37_9GAMM/57-121\n",
      "TRRHGP A0A0X3UC67_9GAMM/57-121\n"
     ]
    }
   ],
   "source": [
    "print(alignment[:,:6])"
   ]
  },
  {
   "cell_type": "markdown",
   "id": "a4a59e8f",
   "metadata": {},
   "source": [
    "- 切片给提供了一个简单的方式来去除一部分序列比对（比如需要去除不齐的头尾的时候）："
   ]
  },
  {
   "cell_type": "code",
   "execution_count": 74,
   "id": "e7ed8236",
   "metadata": {},
   "outputs": [
    {
     "name": "stdout",
     "output_type": "stream",
     "text": [
      "Alignment with 5 rows and 34 columns\n",
      "QQLTQDLRAMPNWSLRFVYIVDRNNQDLLKRPLP B3PFT7_CELJU/62-126\n",
      "REFTERIRTLPHWARRNVFVLDSQGFEIFDRELP K4KEM7_SIMAS/61-125\n",
      "ERLPAIIEKAKSKHDINVWLLDRQGRDLLEQRVP B7RZ31_9GAMM/59-123\n",
      "EYFQQWLERQPKKVKEQVFAVDQFGRELLGRPLP A0A143HL37_9GAMM/57-121\n",
      "ESFRFWLERQPVEARDRIYAIDRSGAEILDRPIP A0A0X3UC67_9GAMM/57-121\n"
     ]
    }
   ],
   "source": [
    "print(alignment[:,6:40])"
   ]
  },
  {
   "cell_type": "code",
   "execution_count": 75,
   "id": "a4f14c92",
   "metadata": {},
   "outputs": [
    {
     "name": "stdout",
     "output_type": "stream",
     "text": [
      "Alignment with 5 rows and 25 columns\n",
      "PGIMVLAPRLTAKHPYDKVQDRNRK B3PFT7_CELJU/62-126\n",
      "SPVADLMRKLDLDRPFKKLERKNRT K4KEM7_SIMAS/61-125\n",
      "AKVATVANQLRGRKRRAFARHREGP B7RZ31_9GAMM/59-123\n",
      "EDMAPMLIALNYRNRESHAQVDKKP A0A143HL37_9GAMM/57-121\n",
      "RGMAPLFKVLSFRNREDQGLVNNKP A0A0X3UC67_9GAMM/57-121\n"
     ]
    }
   ],
   "source": [
    "print(alignment[:,40:])"
   ]
  },
  {
   "cell_type": "code",
   "execution_count": 76,
   "id": "e8a8c006",
   "metadata": {},
   "outputs": [
    {
     "name": "stdout",
     "output_type": "stream",
     "text": [
      "Alignment with 5 rows and 31 columns\n",
      "AINRNTPGIMVLAPRLTAKHPYDKVQDRNRK B3PFT7_CELJU/62-126\n",
      "AVNATESPVADLMRKLDLDRPFKKLERKNRT K4KEM7_SIMAS/61-125\n",
      "MQNTPAAKVATVANQLRGRKRRAFARHREGP B7RZ31_9GAMM/59-123\n",
      "ARRHGQEDMAPMLIALNYRNRESHAQVDKKP A0A143HL37_9GAMM/57-121\n",
      "TRRHGPRGMAPLFKVLSFRNREDQGLVNNKP A0A0X3UC67_9GAMM/57-121\n"
     ]
    }
   ],
   "source": [
    "edited = alignment[:,:6] + alignment[:,40:]\n",
    "print(edited)"
   ]
  },
  {
   "cell_type": "markdown",
   "id": "7a308371",
   "metadata": {},
   "source": [
    "- 另一个经常使用的序列比对操作是将多个基因的序列比对拼接成一个大的序列比对（meta-alignment）。在进行这种操作时一定要注意序列的ID需要匹配。为了达到这种目的，用sort(...)方法将序列ID按照字母顺序进行排列可能会有所帮助："
   ]
  },
  {
   "cell_type": "code",
   "execution_count": 77,
   "id": "02c2fab1",
   "metadata": {},
   "outputs": [
    {
     "name": "stdout",
     "output_type": "stream",
     "text": [
      "Alignment with 5 rows and 31 columns\n",
      "TRRHGPRGMAPLFKVLSFRNREDQGLVNNKP A0A0X3UC67_9GAMM/57-121\n",
      "ARRHGQEDMAPMLIALNYRNRESHAQVDKKP A0A143HL37_9GAMM/57-121\n",
      "AINRNTPGIMVLAPRLTAKHPYDKVQDRNRK B3PFT7_CELJU/62-126\n",
      "MQNTPAAKVATVANQLRGRKRRAFARHREGP B7RZ31_9GAMM/59-123\n",
      "AVNATESPVADLMRKLDLDRPFKKLERKNRT K4KEM7_SIMAS/61-125\n"
     ]
    }
   ],
   "source": [
    "edited.sort()\n",
    "print(edited)"
   ]
  },
  {
   "cell_type": "markdown",
   "id": "e22ebad1",
   "metadata": {},
   "source": [
    "### <a id='toc1_3_'></a>[构建序列比对的工具](#toc0_)"
   ]
  },
  {
   "cell_type": "markdown",
   "metadata": {},
   "source": [
    "#### <a id='toc1_3_1_'></a>[ClustalW](#toc0_)\n",
    "\n",
    "- Biopython的Bio.Align.Applications模块包含这一多序列比对程序的打包程序。\n",
    "\n",
    "- 从anaconda下载安装clustalw包。"
   ]
  },
  {
   "cell_type": "code",
   "execution_count": 89,
   "id": "9df74a39",
   "metadata": {},
   "outputs": [
    {
     "name": "stdout",
     "output_type": "stream",
     "text": [
      "Collecting package metadata (current_repodata.json): done\n",
      "Solving environment: done\n",
      "\n",
      "## Package Plan ##\n",
      "\n",
      "  environment location: /Users/liang.hanqing/opt/anaconda3\n",
      "\n",
      "  added / updated specs:\n",
      "    - clustalw\n",
      "\n",
      "\n",
      "The following packages will be downloaded:\n",
      "\n",
      "    package                    |            build\n",
      "    ---------------------------|-----------------\n",
      "    clustalw-2.1               |       hcd10b59_7         326 KB  bioconda\n",
      "    ------------------------------------------------------------\n",
      "                                           Total:         326 KB\n",
      "\n",
      "The following NEW packages will be INSTALLED:\n",
      "\n",
      "  clustalw           bioconda/osx-64::clustalw-2.1-hcd10b59_7 None\n",
      "\n",
      "The following packages will be UPDATED:\n",
      "\n",
      "  ca-certificates    conda-forge::ca-certificates-2022.9.2~ --> pkgs/main::ca-certificates-2022.10.11-hecd8cb5_0 None\n",
      "\n",
      "The following packages will be SUPERSEDED by a higher-priority channel:\n",
      "\n",
      "  certifi            conda-forge/noarch::certifi-2022.9.24~ --> pkgs/main/osx-64::certifi-2022.9.24-py39hecd8cb5_0 None\n",
      "  openssl            conda-forge::openssl-1.1.1s-hfd90126_0 --> pkgs/main::openssl-1.1.1s-hca72f7f_0 None\n",
      "\n",
      "\n",
      "\n",
      "Downloading and Extracting Packages\n",
      "clustalw-2.1         | 326 KB    | ##################################### | 100% \n",
      "Preparing transaction: done\n",
      "Verifying transaction: done\n",
      "Executing transaction: done\n",
      "Retrieving notices: ...working... done\n",
      "\n",
      "Note: you may need to restart the kernel to use updated packages.\n"
     ]
    }
   ],
   "source": [
    "conda install -c bioconda clustalw"
   ]
  },
  {
   "cell_type": "markdown",
   "id": "5a6900b8",
   "metadata": {},
   "source": [
    "- ClustalW在默认情况下会产生一个包括所有输入序列的序列比对以及一个由输入序列名字构成的指导树（guide tree）。例如，用opuntia.fasta文件作为输入，ClustalW将会输出opuntia.aln和opuntia.dnd两个文件："
   ]
  },
  {
   "cell_type": "code",
   "execution_count": 51,
   "id": "1bbc53b0",
   "metadata": {},
   "outputs": [
    {
     "name": "stdout",
     "output_type": "stream",
     "text": [
      "clustalw2 -infile=/Users/liang.hanqing/Documents/jupyter/Biopython/examples/opuntia.fasta\n"
     ]
    }
   ],
   "source": [
    "from Bio.Align.Applications import ClustalwCommandline\n",
    "clustalw_cline = ClustalwCommandline(\"clustalw2\", infile=\"/Users/liang.hanqing/Documents/jupyter/Biopython/examples/opuntia.fasta\")\n",
    "print(clustalw_cline)"
   ]
  },
  {
   "cell_type": "markdown",
   "id": "5a50e4d6",
   "metadata": {},
   "source": [
    "- 调用clustalw_cline(...)将运行clustalw命令，默认情况下会产生一个包括所有输入序列的序列比对以及一个由输入序列名字构成的指导树（guide tree）。例如，用上述文件作为输入，ClustalW将会在opuntia.fasta所在的文件夹中，输出opuntia.aln和opuntia.dnd两个文件。"
   ]
  },
  {
   "cell_type": "code",
   "execution_count": 61,
   "id": "0d29627c",
   "metadata": {},
   "outputs": [],
   "source": [
    "stdout, stderr = clustalw_cline()"
   ]
  },
  {
   "cell_type": "markdown",
   "id": "96ef1cb7",
   "metadata": {},
   "source": [
    "- 当成功运行完ClustalW以后，可以使用Bio.AlignIO来读取opuntia.aln的结果："
   ]
  },
  {
   "cell_type": "code",
   "execution_count": 53,
   "id": "6b722b5c",
   "metadata": {},
   "outputs": [
    {
     "name": "stdout",
     "output_type": "stream",
     "text": [
      "Alignment with 7 rows and 906 columns\n",
      "TATACATTAAAGAAGGGGGATGCGGATAAATGGAAAGGCGAAAG...AGA gi|6273285|gb|AF191659.1|AF191\n",
      "TATACATTAAAGAAGGGGGATGCGGATAAATGGAAAGGCGAAAG...AGA gi|6273284|gb|AF191658.1|AF191\n",
      "TATACATTAAAGAAGGGGGATGCGGATAAATGGAAAGGCGAAAG...AGA gi|6273287|gb|AF191661.1|AF191\n",
      "TATACATAAAAGAAGGGGGATGCGGATAAATGGAAAGGCGAAAG...AGA gi|6273286|gb|AF191660.1|AF191\n",
      "TATACATTAAAGGAGGGGGATGCGGATAAATGGAAAGGCGAAAG...AGA gi|6273290|gb|AF191664.1|AF191\n",
      "TATACATTAAAGGAGGGGGATGCGGATAAATGGAAAGGCGAAAG...AGA gi|6273289|gb|AF191663.1|AF191\n",
      "TATACATTAAAGGAGGGGGATGCGGATAAATGGAAAGGCGAAAG...AGA gi|6273291|gb|AF191665.1|AF191\n"
     ]
    }
   ],
   "source": [
    "from Bio import AlignIO\n",
    "align = AlignIO.read(\"/Users/liang.hanqing/Documents/jupyter/Biopython/examples/opuntia.aln\", \"clustal\")\n",
    "print(align)"
   ]
  },
  {
   "cell_type": "markdown",
   "id": "19f3b2ca",
   "metadata": {},
   "source": [
    "- 另一个输出文件opuntia.dnd中包含有一个newick格式的指导树，你可以使用Biopython中的 Bio.Phylo来读取它："
   ]
  },
  {
   "cell_type": "code",
   "execution_count": 7,
   "id": "a884b2bf",
   "metadata": {},
   "outputs": [
    {
     "name": "stdout",
     "output_type": "stream",
     "text": [
      "                             _______________ gi|6273291|gb|AF191665.1|AF191665\n",
      "  __________________________|\n",
      " |                          |   ______ gi|6273290|gb|AF191664.1|AF191664\n",
      " |                          |__|\n",
      " |                             |_____ gi|6273289|gb|AF191663.1|AF191663\n",
      " |\n",
      "_|_________________ gi|6273287|gb|AF191661.1|AF191661\n",
      " |\n",
      " |__________ gi|6273286|gb|AF191660.1|AF191660\n",
      " |\n",
      " |    __ gi|6273285|gb|AF191659.1|AF191659\n",
      " |___|\n",
      "     | gi|6273284|gb|AF191658.1|AF191658\n",
      "\n"
     ]
    }
   ],
   "source": [
    "from Bio import Phylo\n",
    "tree = Phylo.read(\"/Users/liang.hanqing/Documents/jupyter/Biopython/examples/opuntia.dnd\", \"newick\")\n",
    "Phylo.draw_ascii(tree)"
   ]
  },
  {
   "cell_type": "markdown",
   "metadata": {},
   "source": [
    "## <a id='toc2_'></a>[Bio.Phylo系统发育分析](#toc0_)\n",
    "\n",
    "### <a id='toc2_1_'></a>[示例: 树中有什么？](#toc0_)\n",
    "\n",
    "- 译者注：本翻译中，分支对应原文中的branch ，原文中一般代表某一个节点的前导连线；而进化枝对应原文中的clade，代表某个节点所代表的整个进化分支，包括本身和它所有的后代；若clade代表biopython中的对象则保留原文。"
   ]
  },
  {
   "cell_type": "markdown",
   "id": "8d80029d",
   "metadata": {},
   "source": [
    "- 读取树文件，并通过函数draw_ascii创建一个简单的ASCII-art(纯文本)系统发生图。"
   ]
  },
  {
   "cell_type": "code",
   "execution_count": 77,
   "id": "545751a7",
   "metadata": {},
   "outputs": [
    {
     "name": "stdout",
     "output_type": "stream",
     "text": [
      "                             _______________ gi|6273291|gb|AF191665.1|AF191665\n",
      "  __________________________|\n",
      " |                          |   ______ gi|6273290|gb|AF191664.1|AF191664\n",
      " |                          |__|\n",
      " |                             |_____ gi|6273289|gb|AF191663.1|AF191663\n",
      " |\n",
      "_|_________________ gi|6273287|gb|AF191661.1|AF191661\n",
      " |\n",
      " |__________ gi|6273286|gb|AF191660.1|AF191660\n",
      " |\n",
      " |    __ gi|6273285|gb|AF191659.1|AF191659\n",
      " |___|\n",
      "     | gi|6273284|gb|AF191658.1|AF191658\n",
      "\n"
     ]
    }
   ],
   "source": [
    "from Bio import Phylo\n",
    "tree = Phylo.read(\"/Users/liang.hanqing/Documents/jupyter/Biopython/examples/opuntia.dnd\", \"newick\")\n",
    "Phylo.draw_ascii(tree)"
   ]
  },
  {
   "cell_type": "markdown",
   "id": "018c7c21",
   "metadata": {},
   "source": [
    "- 函数draw和draw_graphviz支持在树中显示不同的颜色和分支宽度。"
   ]
  },
  {
   "cell_type": "markdown",
   "id": "22c851a1",
   "metadata": {},
   "source": [
    "- 将这个树转换为一个基本树对象的子类Phylogeny，该类在Bio.Phylo.PhyloXML模块中。"
   ]
  },
  {
   "cell_type": "code",
   "execution_count": 79,
   "id": "777f2476",
   "metadata": {},
   "outputs": [],
   "source": [
    "tree = tree.as_phyloxml()"
   ]
  },
  {
   "cell_type": "markdown",
   "id": "0d92dd84",
   "metadata": {},
   "source": [
    "- 开始指定颜色：首先设置根的进化枝为灰色。我们能通过赋值24位的颜色值来实现，用三位数的RGB值、HTML格式的十六进制字符串、或者预先设置好的颜色名称。"
   ]
  },
  {
   "cell_type": "code",
   "execution_count": 80,
   "id": "f282bd16",
   "metadata": {},
   "outputs": [],
   "source": [
    "tree.root.color = (128, 128, 128)"
   ]
  },
  {
   "cell_type": "markdown",
   "id": "8b2e363d",
   "metadata": {},
   "source": [
    "- or"
   ]
  },
  {
   "cell_type": "code",
   "execution_count": 81,
   "id": "5a624378",
   "metadata": {},
   "outputs": [],
   "source": [
    "tree.root.color = \"#808080\""
   ]
  },
  {
   "cell_type": "markdown",
   "id": "73b1fd05",
   "metadata": {},
   "source": [
    "- or"
   ]
  },
  {
   "cell_type": "code",
   "execution_count": 82,
   "id": "63230b24",
   "metadata": {},
   "outputs": [],
   "source": [
    "tree.root.color = \"gray\""
   ]
  },
  {
   "cell_type": "markdown",
   "id": "c04d7393",
   "metadata": {},
   "source": [
    "- 接着定位“E”和“F”最近祖先（MRCA）节点。方法 common_ancestor 返回 原始树中这个进化枝的引用，所以当我们设置该进化枝为“salmon”颜色时，这个颜 色则会在原始的树中显示出来。"
   ]
  },
  {
   "cell_type": "code",
   "execution_count": 83,
   "id": "89da6933",
   "metadata": {},
   "outputs": [],
   "source": [
    "tree.clade[0,1].color = \"blue\""
   ]
  },
  {
   "cell_type": "code",
   "execution_count": 84,
   "id": "5cf3e002",
   "metadata": {},
   "outputs": [
    {
     "name": "stderr",
     "output_type": "stream",
     "text": [
      "Fontconfig warning: ignoring UTF-8: not a valid region tag\n"
     ]
    },
    {
     "data": {
      "image/png": "[encoded data removed]",
      "text/plain": [
       "<Figure size 640x480 with 1 Axes>"
      ]
     },
     "metadata": {},
     "output_type": "display_data"
    }
   ],
   "source": [
    "Phylo.draw(tree)"
   ]
  }
 ],
 "metadata": {
  "kernelspec": {
   "display_name": "Python 3.11.0 64-bit",
   "language": "python",
   "name": "python3"
  },
  "language_info": {
   "codemirror_mode": {
    "name": "ipython",
    "version": 3
   },
   "file_extension": ".py",
   "mimetype": "text/x-python",
   "name": "python",
   "nbconvert_exporter": "python",
   "pygments_lexer": "ipython3",
   "version": "3.11.0"
  },
  "toc": {
   "base_numbering": 1,
   "nav_menu": {},
   "number_sections": true,
   "sideBar": true,
   "skip_h1_title": true,
   "title_cell": "Table of Contents",
   "title_sidebar": "Contents",
   "toc_cell": true,
   "toc_position": {},
   "toc_section_display": true,
   "toc_window_display": false
  },
  "vscode": {
   "interpreter": {
    "hash": "aee8b7b246df8f9039afb4144a1f6fd8d2ca17a180786b69acc140d282b71a49"
   }
  }
 },
 "nbformat": 4,
 "nbformat_minor": 5
}
