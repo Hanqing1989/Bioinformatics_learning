{
 "cells": [
  {
   "cell_type": "markdown",
   "id": "cc92651e",
   "metadata": {},
   "source": [
    "# Python基础语法学习（第一阶段）"
   ]
  },
  {
   "cell_type": "markdown",
   "id": "feb55ee3",
   "metadata": {},
   "source": [
    "Source：\n",
    "\n",
    "1. [Biopython中文教程](https://biopython-cn.readthedocs.io/zh_CN/latest/cn/chr01.html)。\n",
    "\n",
    "2. [编程小白的第一本Python入门书](https://www.ituring.com.cn/book/1863)。\n",
    "\n",
    "3. [【B站】2022新版黑马程序员python教程](https://www.bilibili.com/video/BV1qW4y1a7fU/?spm_id_from=333.1007.top_right_bar_window_custom_collection.content.click)。"
   ]
  },
  {
   "cell_type": "markdown",
   "id": "db86e0b7",
   "metadata": {
    "toc": true
   },
   "source": [
    "<h1>Table of Contents<span class=\"tocSkip\"></span></h1>\n",
    "<div class=\"toc\"><ul class=\"toc-item\"><li><span><a href=\"#1-代码规范\" data-toc-modified-id=\"1-代码规范-1\">1 代码规范</a></span></li><li><span><a href=\"#2-注释\" data-toc-modified-id=\"2-注释-2\">2 注释</a></span><ul class=\"toc-item\"><li><span><a href=\"#2.1-注释语句的作用\" data-toc-modified-id=\"2.1-注释语句的作用-2.1\">2.1 注释语句的作用</a></span></li><li><span><a href=\"#2.2-注释类型\" data-toc-modified-id=\"2.2-注释类型-2.2\">2.2 注释类型</a></span></li></ul></li><li><span><a href=\"#3-标识符\" data-toc-modified-id=\"3-标识符-3\">3 标识符</a></span></li><li><span><a href=\"#4-运算符\" data-toc-modified-id=\"4-运算符-4\">4 运算符</a></span><ul class=\"toc-item\"><li><span><a href=\"#4.1-数学运算符\" data-toc-modified-id=\"4.1-数学运算符-4.1\">4.1 数学运算符</a></span></li><li><span><a href=\"#4.2-赋值运算符\" data-toc-modified-id=\"4.2-赋值运算符-4.2\">4.2 赋值运算符</a></span></li></ul></li><li><span><a href=\"#5-基本数据类型\" data-toc-modified-id=\"5-基本数据类型-5\">5 基本数据类型</a></span><ul class=\"toc-item\"><li><span><a href=\"#5.1-数字、判断类型、布尔值\" data-toc-modified-id=\"5.1-数字、判断类型、布尔值-5.1\">5.1 数字、判断类型、布尔值</a></span></li><li><span><a href=\"#5.2-变量和字符串（string）\" data-toc-modified-id=\"5.2-变量和字符串（string）-5.2\">5.2 变量和字符串（string）</a></span><ul class=\"toc-item\"><li><span><a href=\"#5.2.1-字符串格式化\" data-toc-modified-id=\"5.2.1-字符串格式化-5.2.1\">5.2.1 字符串格式化</a></span><ul class=\"toc-item\"><li><span><a href=\"#5.2.1.1-使用print(...)占位符格式化输出\" data-toc-modified-id=\"5.2.1.1-使用print(...)占位符格式化输出-5.2.1.1\">5.2.1.1 使用print(...)占位符格式化输出</a></span></li><li><span><a href=\"#5.2.1.2-使用input(...)接受用户输入：返回字符串\" data-toc-modified-id=\"5.2.1.2-使用input(...)接受用户输入：返回字符串-5.2.1.2\">5.2.1.2 使用input(...)接受用户输入：返回字符串</a></span></li><li><span><a href=\"#5.2.1.3-字符串的快速格式化\" data-toc-modified-id=\"5.2.1.3-字符串的快速格式化-5.2.1.3\">5.2.1.3 字符串的快速格式化</a></span></li><li><span><a href=\"#5.2.1.4-表达式的格式化\" data-toc-modified-id=\"5.2.1.4-表达式的格式化-5.2.1.4\">5.2.1.4 表达式的格式化</a></span></li><li><span><a href=\"#5.2.1.5-print输出不换行的方法\" data-toc-modified-id=\"5.2.1.5-print输出不换行的方法-5.2.1.5\">5.2.1.5 print输出不换行的方法</a></span></li><li><span><a href=\"#5.2.1.6-练习题\" data-toc-modified-id=\"5.2.1.6-练习题-5.2.1.6\">5.2.1.6 练习题</a></span></li></ul></li><li><span><a href=\"#5.2.2-数字的精度控制，使用辅助符号“m.n“来控制数据的宽度和精度。\" data-toc-modified-id=\"5.2.2-数字的精度控制，使用辅助符号“m.n“来控制数据的宽度和精度。-5.2.2\">5.2.2 数字的精度控制，使用辅助符号“m.n“来控制数据的宽度和精度。</a></span></li><li><span><a href=\"#5.2.3-类型转换\" data-toc-modified-id=\"5.2.3-类型转换-5.2.3\">5.2.3 类型转换</a></span></li><li><span><a href=\"#5.2.4-字符串运算方法\" data-toc-modified-id=\"5.2.4-字符串运算方法-5.2.4\">5.2.4 字符串运算方法</a></span></li><li><span><a href=\"#5.2.5-字符的常用操作\" data-toc-modified-id=\"5.2.5-字符的常用操作-5.2.5\">5.2.5 字符的常用操作</a></span></li></ul></li></ul></li><li><span><a href=\"#6-判断与循环\" data-toc-modified-id=\"6-判断与循环-6\">6 判断与循环</a></span><ul class=\"toc-item\"><li><span><a href=\"#6.1-布尔类型和比较运算符\" data-toc-modified-id=\"6.1-布尔类型和比较运算符-6.1\">6.1 布尔类型和比较运算符</a></span></li><li><span><a href=\"#6.2-if语句的基本各式\" data-toc-modified-id=\"6.2-if语句的基本各式-6.2\">6.2 if语句的基本各式</a></span></li><li><span><a href=\"#6.3-循环（Loop）\" data-toc-modified-id=\"6.3-循环（Loop）-6.3\">6.3 循环（Loop）</a></span><ul class=\"toc-item\"><li><span><a href=\"#6.3.1-for循环\" data-toc-modified-id=\"6.3.1-for循环-6.3.1\">6.3.1 for循环</a></span></li><li><span><a href=\"#6.3.2-while循环\" data-toc-modified-id=\"6.3.2-while循环-6.3.2\">6.3.2 while循环</a></span></li><li><span><a href=\"#6.3.3-break循环\" data-toc-modified-id=\"6.3.3-break循环-6.3.3\">6.3.3 break循环</a></span></li><li><span><a href=\"#6.3.4-continue循环\" data-toc-modified-id=\"6.3.4-continue循环-6.3.4\">6.3.4 continue循环</a></span></li></ul></li></ul></li><li><span><a href=\"#7-函数\" data-toc-modified-id=\"7-函数-7\">7 函数</a></span><ul class=\"toc-item\"><li><span><a href=\"#7.1-定义函数\" data-toc-modified-id=\"7.1-定义函数-7.1\">7.1 定义函数</a></span></li><li><span><a href=\"#7.2-函数的嵌套调用\" data-toc-modified-id=\"7.2-函数的嵌套调用-7.2\">7.2 函数的嵌套调用</a></span></li><li><span><a href=\"#7.3-变量的作用域\" data-toc-modified-id=\"7.3-变量的作用域-7.3\">7.3 变量的作用域</a></span></li><li><span><a href=\"#7.4-综合案例\" data-toc-modified-id=\"7.4-综合案例-7.4\">7.4 综合案例</a></span></li><li><span><a href=\"#7.5-函数的多返回值（参数的类型）\" data-toc-modified-id=\"7.5-函数的多返回值（参数的类型）-7.5\">7.5 函数的多返回值（参数的类型）</a></span></li><li><span><a href=\"#7.6-函数作为参数进行传递\" data-toc-modified-id=\"7.6-函数作为参数进行传递-7.6\">7.6 函数作为参数进行传递</a></span></li><li><span><a href=\"#7.7-lambda匿名函数\" data-toc-modified-id=\"7.7-lambda匿名函数-7.7\">7.7 lambda匿名函数</a></span></li></ul></li><li><span><a href=\"#8-数据容器\" data-toc-modified-id=\"8-数据容器-8\">8 数据容器</a></span><ul class=\"toc-item\"><li><span><a href=\"#8.1-列表（list）\" data-toc-modified-id=\"8.1-列表（list）-8.1\">8.1 列表（list）</a></span><ul class=\"toc-item\"><li><span><a href=\"#8.1.1-列表的常用功能\" data-toc-modified-id=\"8.1.1-列表的常用功能-8.1.1\">8.1.1 列表的常用功能</a></span></li><li><span><a href=\"#8.1.2-列表的使用案例\" data-toc-modified-id=\"8.1.2-列表的使用案例-8.1.2\">8.1.2 列表的使用案例</a></span></li><li><span><a href=\"#8.1.3-列表的循环遍历\" data-toc-modified-id=\"8.1.3-列表的循环遍历-8.1.3\">8.1.3 列表的循环遍历</a></span></li></ul></li><li><span><a href=\"#8.2-元组（tuple）\" data-toc-modified-id=\"8.2-元组（tuple）-8.2\">8.2 元组（tuple）</a></span></li><li><span><a href=\"#8.3-集合（set）\" data-toc-modified-id=\"8.3-集合（set）-8.3\">8.3 集合（set）</a></span></li><li><span><a href=\"#8.4-字典（dict）\" data-toc-modified-id=\"8.4-字典（dict）-8.4\">8.4 字典（dict）</a></span></li><li><span><a href=\"#8.5-数据容器小结\" data-toc-modified-id=\"8.5-数据容器小结-8.5\">8.5 数据容器小结</a></span></li><li><span><a href=\"#8.6-数据容器的通用操作\" data-toc-modified-id=\"8.6-数据容器的通用操作-8.6\">8.6 数据容器的通用操作</a></span></li></ul></li><li><span><a href=\"#9-文件操作\" data-toc-modified-id=\"9-文件操作-9\">9 文件操作</a></span><ul class=\"toc-item\"><li><span><a href=\"#9.1-文件的编码\" data-toc-modified-id=\"9.1-文件的编码-9.1\">9.1 文件的编码</a></span></li><li><span><a href=\"#9.2-文件的读取\" data-toc-modified-id=\"9.2-文件的读取-9.2\">9.2 文件的读取</a></span></li><li><span><a href=\"#9.3-文件的写入\" data-toc-modified-id=\"9.3-文件的写入-9.3\">9.3 文件的写入</a></span></li><li><span><a href=\"#9.4-文件的追加\" data-toc-modified-id=\"9.4-文件的追加-9.4\">9.4 文件的追加</a></span></li></ul></li><li><span><a href=\"#10-运行异常、模块与包\" data-toc-modified-id=\"10-运行异常、模块与包-10\">10 运行异常、模块与包</a></span><ul class=\"toc-item\"><li><span><a href=\"#10.1-Python的异常\" data-toc-modified-id=\"10.1-Python的异常-10.1\">10.1 Python的异常</a></span></li><li><span><a href=\"#10.2-模块的概念和导入\" data-toc-modified-id=\"10.2-模块的概念和导入-10.2\">10.2 模块的概念和导入</a></span></li><li><span><a href=\"#10.3-自定义包\" data-toc-modified-id=\"10.3-自定义包-10.3\">10.3 自定义包</a></span></li></ul></li></ul></div>"
   ]
  },
  {
   "cell_type": "markdown",
   "id": "a65e9d35",
   "metadata": {},
   "source": [
    "## 1 代码规范"
   ]
  },
  {
   "cell_type": "code",
   "execution_count": 1,
   "id": "e93e34d5",
   "metadata": {},
   "outputs": [
    {
     "name": "stdout",
     "output_type": "stream",
     "text": [
      "Hello world!\n"
     ]
    }
   ],
   "source": [
    "print('Hello world!')"
   ]
  },
  {
   "cell_type": "markdown",
   "id": "8546607b",
   "metadata": {},
   "source": [
    "- 严格的缩进"
   ]
  },
  {
   "cell_type": "code",
   "execution_count": 2,
   "id": "feb22c60",
   "metadata": {},
   "outputs": [
    {
     "name": "stdout",
     "output_type": "stream",
     "text": [
      "Hello world!\n"
     ]
    }
   ],
   "source": [
    "    print('Hello world!')#缩进错误"
   ]
  },
  {
   "cell_type": "markdown",
   "id": "a36c44da",
   "metadata": {},
   "source": [
    "- 区分大小写（比如函数名）"
   ]
  },
  {
   "cell_type": "code",
   "execution_count": 3,
   "id": "07553068",
   "metadata": {},
   "outputs": [
    {
     "ename": "NameError",
     "evalue": "name 'Print' is not defined",
     "output_type": "error",
     "traceback": [
      "\u001b[0;31m---------------------------------------------------------------------------\u001b[0m",
      "\u001b[0;31mNameError\u001b[0m                                 Traceback (most recent call last)",
      "\u001b[0;32m/var/folders/14/pj985hh56sl5pj_j6y0ldsk00000gn/T/ipykernel_3731/1600588866.py\u001b[0m in \u001b[0;36m<module>\u001b[0;34m\u001b[0m\n\u001b[0;32m----> 1\u001b[0;31m \u001b[0mPrint\u001b[0m\u001b[0;34m(\u001b[0m\u001b[0;34m'Hello world!'\u001b[0m\u001b[0;34m)\u001b[0m\u001b[0;34m\u001b[0m\u001b[0;34m\u001b[0m\u001b[0m\n\u001b[0m",
      "\u001b[0;31mNameError\u001b[0m: name 'Print' is not defined"
     ]
    }
   ],
   "source": [
    "Print('Hello world!')"
   ]
  },
  {
   "cell_type": "markdown",
   "id": "5504d073",
   "metadata": {},
   "source": [
    "- 语法结构中禁止使用中文符号（比如中文双引号）"
   ]
  },
  {
   "cell_type": "code",
   "execution_count": 4,
   "id": "4e2f8519",
   "metadata": {},
   "outputs": [
    {
     "ename": "SyntaxError",
     "evalue": "invalid character '“' (U+201C) (3845946514.py, line 1)",
     "output_type": "error",
     "traceback": [
      "\u001b[0;36m  File \u001b[0;32m\"/var/folders/14/pj985hh56sl5pj_j6y0ldsk00000gn/T/ipykernel_3731/3845946514.py\"\u001b[0;36m, line \u001b[0;32m1\u001b[0m\n\u001b[0;31m    print(“Hello world!”)\u001b[0m\n\u001b[0m          ^\u001b[0m\n\u001b[0;31mSyntaxError\u001b[0m\u001b[0;31m:\u001b[0m invalid character '“' (U+201C)\n"
     ]
    }
   ],
   "source": [
    "print(“Hello world!”)"
   ]
  },
  {
   "cell_type": "markdown",
   "id": "d1cb4133",
   "metadata": {},
   "source": [
    "## 2 注释\n",
    "\n",
    "### 2.1 注释语句的作用\n",
    "\n",
    "- 注明代码的作用，其本身不会被Python执行。\n",
    "\n",
    "- 便于与他人协作以及维护和管理\n",
    "\n",
    "### 2.2 注释类型\n",
    "\n",
    "- 单行注释：单个`#`+空格+说明。"
   ]
  },
  {
   "cell_type": "code",
   "execution_count": 6,
   "id": "662465d6",
   "metadata": {},
   "outputs": [
    {
     "name": "stdout",
     "output_type": "stream",
     "text": [
      "ok\n"
     ]
    }
   ],
   "source": [
    "print('ok') # 单行注释"
   ]
  },
  {
   "cell_type": "markdown",
   "id": "1f335858",
   "metadata": {},
   "source": [
    "- 多行注释：连续三个英文双引号对上下文进行包裹（\"\"\"注释内容\"\"\"），一般写在文件开头的地方。"
   ]
  },
  {
   "cell_type": "code",
   "execution_count": 9,
   "id": "9498570a",
   "metadata": {},
   "outputs": [
    {
     "data": {
      "text/plain": [
       "\"\\n多行注释\\n连续三个\\n变音符号\\n这里的print('ok')\\n不会被执行\\n\""
      ]
     },
     "execution_count": 9,
     "metadata": {},
     "output_type": "execute_result"
    }
   ],
   "source": [
    "\"\"\"\n",
    "多行注释\n",
    "连续三个\n",
    "变音符号\n",
    "这里的print('ok')\n",
    "不会被执行\n",
    "\"\"\""
   ]
  },
  {
   "cell_type": "markdown",
   "id": "9074cc0d",
   "metadata": {},
   "source": [
    "## 3 标识符\n",
    "\n",
    "- 主要用于起名字：\n",
    "    - 变量的名字。\n",
    "    - 方法的名字。\n",
    "    - 类的名字。\n",
    "    - ...\n",
    "    \n",
    "- 命名规则：\n",
    "    - 内容限定：\n",
    "        - 英文。\n",
    "        - 中文（不推荐）。\n",
    "        - 数字（不可以用在开头）。\n",
    "        - 下划线`_`。\n",
    "        - 其余任何内容都不被允许！\n",
    "        \n",
    "    - 大小写敏感：\n",
    "        - Andy = “安迪1”\n",
    "        - andy = “安迪2”\n",
    "        - 以上两者在print语句中是可以区分的。\n",
    "        \n",
    "    - 不可以使用关键字。\n",
    "        - 关键字同样大小写敏感。\n",
    "        \n",
    "- 变量命名规范：\n",
    "    - 见名知意。\n",
    "    - 下划线命名法：多个单词组合成变量名，使用下划线进行分割。\n",
    "    - 英文字母全小写。\n",
    "    "
   ]
  },
  {
   "cell_type": "markdown",
   "id": "68aaeb40",
   "metadata": {},
   "source": [
    "- 查看关键字"
   ]
  },
  {
   "cell_type": "code",
   "execution_count": 16,
   "id": "b91d536b",
   "metadata": {},
   "outputs": [
    {
     "data": {
      "text/plain": [
       "['False',\n",
       " 'None',\n",
       " 'True',\n",
       " '__peg_parser__',\n",
       " 'and',\n",
       " 'as',\n",
       " 'assert',\n",
       " 'async',\n",
       " 'await',\n",
       " 'break',\n",
       " 'class',\n",
       " 'continue',\n",
       " 'def',\n",
       " 'del',\n",
       " 'elif',\n",
       " 'else',\n",
       " 'except',\n",
       " 'finally',\n",
       " 'for',\n",
       " 'from',\n",
       " 'global',\n",
       " 'if',\n",
       " 'import',\n",
       " 'in',\n",
       " 'is',\n",
       " 'lambda',\n",
       " 'nonlocal',\n",
       " 'not',\n",
       " 'or',\n",
       " 'pass',\n",
       " 'raise',\n",
       " 'return',\n",
       " 'try',\n",
       " 'while',\n",
       " 'with',\n",
       " 'yield']"
      ]
     },
     "execution_count": 16,
     "metadata": {},
     "output_type": "execute_result"
    }
   ],
   "source": [
    "import keyword\n",
    "keyword.kwlist"
   ]
  },
  {
   "cell_type": "markdown",
   "id": "e2013faa",
   "metadata": {},
   "source": [
    "## 4 运算符\n",
    "\n",
    "### 4.1 数学运算符\n",
    "\n",
    "- 加：`+`\n",
    "\n",
    "- 减：`-`\n",
    "\n",
    "- 乘：`*`\n",
    "\n",
    "- 除：`/`\n",
    "\n",
    "- 取整数：`//`\n",
    "\n",
    "- 取余数：`%` （判断奇偶数：if (num % 2) == 0是偶数）\n",
    "\n",
    "- 乘方：`**`"
   ]
  },
  {
   "cell_type": "code",
   "execution_count": 8,
   "id": "62303a97",
   "metadata": {},
   "outputs": [
    {
     "name": "stdout",
     "output_type": "stream",
     "text": [
      "1 + 1 =  2\n",
      "2 - 1 =  1\n",
      "3 * 3 =  9\n",
      "4 / 2 =  2.0\n",
      "11 // 2 =  5\n",
      "9 % 2 =  1\n",
      "2 ** 2 =  4\n"
     ]
    }
   ],
   "source": [
    "print('1 + 1 = ', 1 + 1)\n",
    "print('2 - 1 = ', 2 - 1)\n",
    "print('3 * 3 = ', 3 * 3)\n",
    "print('4 / 2 = ', 4 / 2)\n",
    "print('11 // 2 = ', 11 // 2)\n",
    "print('9 % 2 = ', 9 % 2)\n",
    "print('2 ** 2 = ', 2 ** 2)"
   ]
  },
  {
   "cell_type": "markdown",
   "id": "4f7f4a31",
   "metadata": {},
   "source": [
    "### 4.2 赋值运算符\n",
    "\n",
    "- 标准赋值运算符：=，赋值运算符，把=右边的结果 赋给 左边的变量。\n",
    "\n",
    "- 复合赋值运算符：\n",
    "    - `+=`，加法赋值运算符，c `+=` a等效于c = c + a。\n",
    "    - `-=`，减法赋值运算符，c `-=` a等效于c = c - a。\n",
    "    - `*=`，乘法赋值运算符，c `*=` a等效于c = c * a。\n",
    "    - `/=`，除法赋值运算符，c `/=` a等效于c = c / a。\n",
    "    - `%=`，取模赋值运算符，c `%=` a等效于c = c % a。\n",
    "    - `**=`，幂赋值运算符，c `**=` a等效于c = c ** a。\n",
    "    - `//=`，取整除赋值运算符，c `//=` a等效于c = c // a。"
   ]
  },
  {
   "cell_type": "code",
   "execution_count": 12,
   "id": "8813e44d",
   "metadata": {},
   "outputs": [
    {
     "name": "stdout",
     "output_type": "stream",
     "text": [
      "num += 1:  11\n",
      "num -= 1:  10\n",
      "num *= 4:  40\n",
      "num /= 2:  20.0\n",
      "num %= 2:  1\n",
      "num **= 2:  1\n",
      "num //= 2:  4\n"
     ]
    }
   ],
   "source": [
    "num = 10\n",
    "num += 1\n",
    "print('num += 1: ', num)\n",
    "num -= 1\n",
    "print('num -= 1: ', num)\n",
    "num *= 4\n",
    "print('num *= 4: ', num)\n",
    "num /= 2\n",
    "print('num /= 2: ', num)\n",
    "\n",
    "num = 3\n",
    "num %= 2\n",
    "print('num %= 2: ', num)\n",
    "num **= 2\n",
    "print('num **= 2: ', num)\n",
    "\n",
    "num = 9\n",
    "num //= 2\n",
    "print('num //= 2: ', num)"
   ]
  },
  {
   "cell_type": "markdown",
   "id": "d31a43f7",
   "metadata": {},
   "source": [
    "## 5 基本数据类型\n",
    "\n",
    "- 常用的6中数据类型：\n",
    "    - 数字（number）：包括整数（int）、浮点数（float）、复数（complex）、布尔（bool）。\n",
    "    - 字符串（string）：描述文本的一种数据类型，可**由任意数量的字符组成**。\n",
    "    - 列表（list）：有序的**可变**序列，是使用最频繁的数据类型，可有序的记录一堆数据。\n",
    "    - 元组（tuple）：**有序**的**不可变**序列，可**有序**的记录一堆**不可变**的数据集合。\n",
    "    - 集合（set）：**无序**的**不重复**集合，可**无序**记录一堆**不重复**的数据集合。\n",
    "    - 字典（dict）：无序键值（key-value）集合，可无序记录一堆key-value型的数据集合。\n"
   ]
  },
  {
   "cell_type": "markdown",
   "id": "3b7cf313",
   "metadata": {},
   "source": [
    "### 5.1 数字、判断类型、布尔值"
   ]
  },
  {
   "cell_type": "markdown",
   "id": "21872bf9",
   "metadata": {},
   "source": [
    "- 整数（int）、浮点数（float）、type（）、isinstance（）、True、False。"
   ]
  },
  {
   "cell_type": "code",
   "execution_count": 10,
   "id": "3abab51c",
   "metadata": {},
   "outputs": [
    {
     "name": "stdout",
     "output_type": "stream",
     "text": [
      "<class 'int'>\n"
     ]
    }
   ],
   "source": [
    "print(type(1)) #int"
   ]
  },
  {
   "cell_type": "code",
   "execution_count": 11,
   "id": "ec5e608c",
   "metadata": {},
   "outputs": [
    {
     "name": "stdout",
     "output_type": "stream",
     "text": [
      "<class 'float'>\n"
     ]
    }
   ],
   "source": [
    "print(type(1.0)) #float"
   ]
  },
  {
   "cell_type": "code",
   "execution_count": 12,
   "id": "9997c6c5",
   "metadata": {},
   "outputs": [
    {
     "name": "stdout",
     "output_type": "stream",
     "text": [
      "<class 'str'>\n"
     ]
    }
   ],
   "source": [
    "print(type('1')) #str"
   ]
  },
  {
   "cell_type": "code",
   "execution_count": 13,
   "id": "daf76f48",
   "metadata": {},
   "outputs": [
    {
     "name": "stdout",
     "output_type": "stream",
     "text": [
      "<class 'bool'>\n"
     ]
    }
   ],
   "source": [
    "print(type(True)) #True"
   ]
  },
  {
   "cell_type": "code",
   "execution_count": 14,
   "id": "8792d611",
   "metadata": {},
   "outputs": [
    {
     "name": "stdout",
     "output_type": "stream",
     "text": [
      "True\n"
     ]
    }
   ],
   "source": [
    "print(isinstance(1,int)) #1是整数吗？"
   ]
  },
  {
   "cell_type": "code",
   "execution_count": 15,
   "id": "a1758474",
   "metadata": {},
   "outputs": [
    {
     "name": "stdout",
     "output_type": "stream",
     "text": [
      "False\n"
     ]
    }
   ],
   "source": [
    "print(isinstance(1,float)) #1是浮点数吗？"
   ]
  },
  {
   "cell_type": "markdown",
   "id": "5a9f7205",
   "metadata": {},
   "source": [
    "- 注：以上出现的“class”表示类型。"
   ]
  },
  {
   "cell_type": "markdown",
   "id": "efe59f55",
   "metadata": {},
   "source": [
    "### 5.2 变量和字符串（string）\n",
    "\n",
    "- **变量**：用于存储不同的数据类型，实现数据的复用。\n",
    "\n",
    "- 语法：\n",
    "    - 变量名 = 数据（数值、字符串、布尔值。。。）\n",
    "    - 等号表示“赋值”。\n",
    "    - 等号两边有一个空格。\n",
    "    \n",
    "- 变量命名规则：\n",
    "    - 不能以数字开头：age = 8\n",
    "    - 区分大小写：level_1 = 1\n",
    "    - 见名知意：ClassDog = 'dog'\n",
    "    - 不能与**关键字**同名：Print = 1"
   ]
  },
  {
   "cell_type": "markdown",
   "id": "f076f88d",
   "metadata": {},
   "source": [
    "- 被写在代码中的固定的值，称之为“字面量”。常见的字面量包括：整数、浮点数、字符串。基于print语句的输出：print(字面量)。\n",
    "\n",
    "- 字符串（string）：由单/双引号（英文）包裹的任意文本。\n",
    "\n",
    "- 使用`\\`**转义**特殊字符\n",
    "    - `\\'` 单引号本身\n",
    "    - `\\n` 换行符\n",
    "    - `\\t` 制表符\n",
    "    - `\\\\` \\本身"
   ]
  },
  {
   "cell_type": "code",
   "execution_count": 1,
   "id": "16b5362c",
   "metadata": {},
   "outputs": [
    {
     "name": "stdout",
     "output_type": "stream",
     "text": [
      "10\n"
     ]
    }
   ],
   "source": [
    "print(10)"
   ]
  },
  {
   "cell_type": "code",
   "execution_count": 2,
   "id": "6adad22c",
   "metadata": {},
   "outputs": [
    {
     "name": "stdout",
     "output_type": "stream",
     "text": [
      "13.14\n"
     ]
    }
   ],
   "source": [
    "print(13.14)"
   ]
  },
  {
   "cell_type": "code",
   "execution_count": 4,
   "id": "110ccc11",
   "metadata": {},
   "outputs": [
    {
     "name": "stdout",
     "output_type": "stream",
     "text": [
      "黑马程序员\n"
     ]
    }
   ],
   "source": [
    "print(\"黑马程序员\")"
   ]
  },
  {
   "cell_type": "code",
   "execution_count": 5,
   "id": "c78fd0fb",
   "metadata": {},
   "outputs": [
    {
     "name": "stdout",
     "output_type": "stream",
     "text": [
      "黑马程序员\n"
     ]
    }
   ],
   "source": [
    "print('黑马程序员')"
   ]
  },
  {
   "cell_type": "code",
   "execution_count": 22,
   "id": "45b6cd0e",
   "metadata": {},
   "outputs": [
    {
     "name": "stdout",
     "output_type": "stream",
     "text": [
      "'\n"
     ]
    }
   ],
   "source": [
    "print('\\'')"
   ]
  },
  {
   "cell_type": "code",
   "execution_count": 18,
   "id": "4d879606",
   "metadata": {},
   "outputs": [
    {
     "name": "stdout",
     "output_type": "stream",
     "text": [
      "ATCG\n",
      "ATCG\n"
     ]
    }
   ],
   "source": [
    "print('ATCG\\nATCG')"
   ]
  },
  {
   "cell_type": "code",
   "execution_count": 19,
   "id": "f430cbec",
   "metadata": {},
   "outputs": [
    {
     "name": "stdout",
     "output_type": "stream",
     "text": [
      "ATCG\tATCG\n"
     ]
    }
   ],
   "source": [
    "print('ATCG\\tATCG')"
   ]
  },
  {
   "cell_type": "code",
   "execution_count": 20,
   "id": "f11d6572",
   "metadata": {},
   "outputs": [
    {
     "name": "stdout",
     "output_type": "stream",
     "text": [
      "I'am Python\n"
     ]
    }
   ],
   "source": [
    "print('I\\'am Python')"
   ]
  },
  {
   "cell_type": "markdown",
   "id": "55593610",
   "metadata": {},
   "source": [
    "- 制表符的对齐功能"
   ]
  },
  {
   "cell_type": "code",
   "execution_count": 4,
   "id": "142cf88d",
   "metadata": {},
   "outputs": [
    {
     "name": "stdout",
     "output_type": "stream",
     "text": [
      "Hello World\n",
      "itheima best\n"
     ]
    }
   ],
   "source": [
    "print('Hello World')\n",
    "print('itheima best')"
   ]
  },
  {
   "cell_type": "code",
   "execution_count": 5,
   "id": "799a8e37",
   "metadata": {},
   "outputs": [
    {
     "name": "stdout",
     "output_type": "stream",
     "text": [
      "Hello\tWorld\n",
      "itheima\tbest\n"
     ]
    }
   ],
   "source": [
    "print('Hello\\tWorld')\n",
    "print('itheima\\tbest')"
   ]
  },
  {
   "cell_type": "markdown",
   "id": "d1ea63bc",
   "metadata": {},
   "source": [
    "- 在print语句中，使用逗号来分割不同类型的字面量。"
   ]
  },
  {
   "cell_type": "code",
   "execution_count": 7,
   "id": "da3cd7f4",
   "metadata": {},
   "outputs": [
    {
     "name": "stdout",
     "output_type": "stream",
     "text": [
      "钱包还有： 50\n",
      "买了冰淇淋花费10元，还剩余： 40 元\n"
     ]
    }
   ],
   "source": [
    "# 定义一个变量，用来记录钱包余额\n",
    "money = 50\n",
    "\n",
    "# 通过print语句，输出变量记录的内容\n",
    "print('钱包还有：', money)\n",
    "\n",
    "# 买了一个冰淇淋，花费10元\n",
    "money = money - 10\n",
    "print('买了冰淇淋花费10元，还剩余：', money, '元')"
   ]
  },
  {
   "cell_type": "markdown",
   "id": "569502a3",
   "metadata": {},
   "source": [
    "#### 5.2.1 字符串格式化\n",
    "\n",
    "##### 5.2.1.1 使用print(...)占位符格式化输出\n",
    "    - print( 'name:%s,age:%d' %(name,age))\n",
    "    - %s：将内容转换为字符串，放入占位位置。\n",
    "    - %d：将内容转换为整数，放入占位位置。\n",
    "    - %f：将内容转换为浮点数，放入占位位置。\n",
    "\n",
    "- 字符串类型"
   ]
  },
  {
   "cell_type": "code",
   "execution_count": 14,
   "id": "bdea5290",
   "metadata": {},
   "outputs": [
    {
     "name": "stdout",
     "output_type": "stream",
     "text": [
      "学IT就来黑马程序员\n"
     ]
    }
   ],
   "source": [
    "name = '黑马程序员'\n",
    "message = '学IT就来%s' % name # % 表示：我要占位，s 表示：将变量变成 字符串 放入占位的地方\n",
    "print(message)"
   ]
  },
  {
   "cell_type": "markdown",
   "id": "4f34cf77",
   "metadata": {},
   "source": [
    "- 数字类型"
   ]
  },
  {
   "cell_type": "code",
   "execution_count": 15,
   "id": "2f8b5f00",
   "metadata": {},
   "outputs": [
    {
     "name": "stdout",
     "output_type": "stream",
     "text": [
      "Python大数据学科，北京57期，毕业平均工资：16781\n"
     ]
    }
   ],
   "source": [
    "class_num = 57\n",
    "avg_salary = 16781\n",
    "message = 'Python大数据学科，北京%s期，毕业平均工资：%s' % (class_num, avg_salary)\n",
    "print(message)"
   ]
  },
  {
   "cell_type": "code",
   "execution_count": 16,
   "id": "6b9ba142",
   "metadata": {},
   "outputs": [
    {
     "name": "stdout",
     "output_type": "stream",
     "text": [
      "传智播客，成立于：2006，今天的股价是：19.990000\n"
     ]
    }
   ],
   "source": [
    "name = '传智播客'\n",
    "setup_year = 2006\n",
    "stock_price = 19.99\n",
    "message = '%s，成立于：%d，今天的股价是：%f' % (name, setup_year, stock_price)\n",
    "print(message)"
   ]
  },
  {
   "cell_type": "markdown",
   "id": "0439071f",
   "metadata": {},
   "source": [
    "##### 5.2.1.2 使用input(...)接受用户输入：返回字符串\n",
    "\n",
    "- 在运行数学运算时，需要将字符串强制转换为数字（这里是整数int）"
   ]
  },
  {
   "cell_type": "code",
   "execution_count": 44,
   "id": "0566d71b",
   "metadata": {},
   "outputs": [
    {
     "name": "stdout",
     "output_type": "stream",
     "text": [
      "please enter your name:MJ\n"
     ]
    }
   ],
   "source": [
    "name = input('please enter your name:')"
   ]
  },
  {
   "cell_type": "code",
   "execution_count": 45,
   "id": "5b0f67de",
   "metadata": {},
   "outputs": [
    {
     "name": "stdout",
     "output_type": "stream",
     "text": [
      "please enter your score:100\n"
     ]
    }
   ],
   "source": [
    "score = input('please enter your score:')"
   ]
  },
  {
   "cell_type": "code",
   "execution_count": 46,
   "id": "67ec05d4",
   "metadata": {},
   "outputs": [
    {
     "name": "stdout",
     "output_type": "stream",
     "text": [
      "name:MJ,score:50\n"
     ]
    }
   ],
   "source": [
    "print('name:%s,score:%d' %(name,int(score) * 0.5))"
   ]
  },
  {
   "cell_type": "markdown",
   "id": "41e89858",
   "metadata": {},
   "source": [
    "##### 5.2.1.3 字符串的快速格式化\n",
    "\n",
    "- 语法：f“内容｛变量｝”（f是，format的缩写）\n",
    "    - f'{表达式}'\n",
    "    - '%s\\%d\\%f' % (表达式、表达式、表达式)"
   ]
  },
  {
   "cell_type": "code",
   "execution_count": 4,
   "id": "be3313b4",
   "metadata": {},
   "outputs": [
    {
     "name": "stdout",
     "output_type": "stream",
     "text": [
      "我是传智播客，成立于：2006，今天的股价是：19.99\n"
     ]
    }
   ],
   "source": [
    "name = '传智播客'\n",
    "setup_year = 2006\n",
    "stock_price = 19.99\n",
    "print(f'我是{name}，成立于：{setup_year}，今天的股价是：{stock_price}')"
   ]
  },
  {
   "cell_type": "markdown",
   "id": "d061214f",
   "metadata": {},
   "source": [
    "##### 5.2.1.4 表达式的格式化\n",
    "\n",
    "- 表达式：一条具有明确执行结果的代码语句。\n",
    "    - 比如，1 + 1、5 * 2.\n",
    "    - 比如，name = '张三'，age = 11 + 11。"
   ]
  },
  {
   "cell_type": "code",
   "execution_count": 5,
   "id": "d86b30d2",
   "metadata": {},
   "outputs": [
    {
     "name": "stdout",
     "output_type": "stream",
     "text": [
      "1 * 1的结果是：1\n",
      "1 * 1的结果是：1\n",
      "字符串在Python中的类型是：<class 'str'>\n"
     ]
    }
   ],
   "source": [
    "print('1 * 1的结果是：%d' % (1 * 1))\n",
    "print(f'1 * 1的结果是：{1 * 1}')\n",
    "print('字符串在Python中的类型是：%s' % type('字符串'))"
   ]
  },
  {
   "cell_type": "markdown",
   "id": "00aede42",
   "metadata": {},
   "source": [
    "##### 5.2.1.5 print输出不换行的方法"
   ]
  },
  {
   "cell_type": "markdown",
   "id": "a3bb13f4",
   "metadata": {},
   "source": [
    "- 在print语句中，加上end=''即可输出不换行。"
   ]
  },
  {
   "cell_type": "code",
   "execution_count": 3,
   "id": "5d627a18",
   "metadata": {},
   "outputs": [
    {
     "name": "stdout",
     "output_type": "stream",
     "text": [
      "HelloWorld"
     ]
    }
   ],
   "source": [
    "print('Hello', end='')\n",
    "print('World', end='')"
   ]
  },
  {
   "cell_type": "markdown",
   "id": "2cdc18ca",
   "metadata": {},
   "source": [
    "##### 5.2.1.6 练习题"
   ]
  },
  {
   "cell_type": "code",
   "execution_count": 7,
   "id": "c10ce436",
   "metadata": {},
   "outputs": [
    {
     "name": "stdout",
     "output_type": "stream",
     "text": [
      "公司：传智播客，股票代码：003032，当前股价：19.99\n",
      "每日增长系数：1.2，经过7天的增长后，股价达到了：71.63\n"
     ]
    }
   ],
   "source": [
    "# 定义需要的变量\n",
    "name = '传智播客'\n",
    "stock_price = 19.99\n",
    "stock_code = '003032'\n",
    "# 股票 价格 每日 增长 因子\n",
    "stock_price_daily_growth_factor = 1.2\n",
    "growth_days = 7\n",
    "\n",
    "finally_stock_price = stock_price * stock_price_daily_growth_factor ** growth_days\n",
    "\n",
    "print(f'公司：{name}，股票代码：{stock_code}，当前股价：{stock_price}')\n",
    "print('每日增长系数：%.1f，经过%d天的增长后，股价达到了：%.2f' % (stock_price_daily_growth_factor, growth_days, finally_stock_price))"
   ]
  },
  {
   "cell_type": "markdown",
   "id": "ecb228f4",
   "metadata": {},
   "source": [
    "#### 5.2.2 数字的精度控制，使用辅助符号“m.n“来控制数据的宽度和精度。\n",
    "    - m，控制宽度，要求为数字（很少使用），设置的宽度小于数字自身，不生效。\n",
    "    - .n，控制小数点精度，要求为数字，进行小数的四舍五入。\n",
    "    - 例如，%5d：表示将整数的宽度控制在5位，如数字11，被设置为5d，就会变成：【空格】【空格】【空格】11，用三个空格补足宽度。\n",
    "    - %5.2f：表示将宽度控制为5，将小数点精度设置为2。小数点和小数部分也算入宽度计算。如对数字11.345设置了%7.2f之后，结果是：【空格】【空格】11.35。用2个空格补足宽度，小数部分限制2位精度后，四舍五入为.35。\n"
   ]
  },
  {
   "cell_type": "code",
   "execution_count": 3,
   "id": "7900f7ad",
   "metadata": {},
   "outputs": [
    {
     "name": "stdout",
     "output_type": "stream",
     "text": [
      "数字11，宽度为5，结果是：   11\n",
      "数字11，宽度为1，结果是：11\n",
      "数字11.345，宽度为7，小数精度为2，结果是：  11.35\n",
      "数字11.345，宽度不限制，小数精度为2，结果是：11.35\n"
     ]
    }
   ],
   "source": [
    "num1 = 11\n",
    "num2 = 11.345\n",
    "print('数字11，宽度为5，结果是：%5d' % num1)\n",
    "print('数字11，宽度为1，结果是：%1d' % num1) # 宽度比原数字小，因此不生效\n",
    "print('数字11.345，宽度为7，小数精度为2，结果是：%7.2f' % num2)\n",
    "print('数字11.345，宽度不限制，小数精度为2，结果是：%.2f' % num2)"
   ]
  },
  {
   "cell_type": "markdown",
   "id": "23d8d118",
   "metadata": {},
   "source": [
    "#### 5.2.3 类型转换\n",
    "\n",
    "- str（...）转换成字符串\n",
    "\n",
    "- int（...）转换成整数\n",
    "\n",
    "- float（...）转换成浮点数"
   ]
  },
  {
   "cell_type": "code",
   "execution_count": 23,
   "id": "6fac06c1",
   "metadata": {},
   "outputs": [
    {
     "data": {
      "text/plain": [
       "'100'"
      ]
     },
     "execution_count": 23,
     "metadata": {},
     "output_type": "execute_result"
    }
   ],
   "source": [
    "str(100)"
   ]
  },
  {
   "cell_type": "code",
   "execution_count": 24,
   "id": "6a1cf27f",
   "metadata": {},
   "outputs": [
    {
     "data": {
      "text/plain": [
       "100"
      ]
     },
     "execution_count": 24,
     "metadata": {},
     "output_type": "execute_result"
    }
   ],
   "source": [
    "int('100')"
   ]
  },
  {
   "cell_type": "code",
   "execution_count": 25,
   "id": "0542f0ba",
   "metadata": {},
   "outputs": [
    {
     "data": {
      "text/plain": [
       "100.0"
      ]
     },
     "execution_count": 25,
     "metadata": {},
     "output_type": "execute_result"
    }
   ],
   "source": [
    "float(100)"
   ]
  },
  {
   "cell_type": "markdown",
   "id": "910c9a4f",
   "metadata": {},
   "source": [
    "#### 5.2.4 字符串运算方法\n",
    "\n",
    "- str1 + str2 + str3 +。。。：`+`拼接任意多个字符串\n",
    "\n",
    "- str * number：`*`重复字符串任意次\n",
    "\n",
    "- len(str)：计算字符串长度\n",
    "\n",
    "- in：包含\n",
    "\n",
    "- not in：不包含"
   ]
  },
  {
   "cell_type": "code",
   "execution_count": 26,
   "id": "ee6b6a3e",
   "metadata": {},
   "outputs": [
    {
     "data": {
      "text/plain": [
       "'Python'"
      ]
     },
     "execution_count": 26,
     "metadata": {},
     "output_type": "execute_result"
    }
   ],
   "source": [
    "'Pyth' + 'on'"
   ]
  },
  {
   "cell_type": "code",
   "execution_count": 27,
   "id": "bafd1752",
   "metadata": {},
   "outputs": [
    {
     "data": {
      "text/plain": [
       "'ATCGATCGATCGATCGATCGATCGATCGATCGATCGATCG'"
      ]
     },
     "execution_count": 27,
     "metadata": {},
     "output_type": "execute_result"
    }
   ],
   "source": [
    "'ATCG' * 10"
   ]
  },
  {
   "cell_type": "code",
   "execution_count": 17,
   "id": "ed96865e",
   "metadata": {},
   "outputs": [
    {
     "data": {
      "text/plain": [
       "36"
      ]
     },
     "execution_count": 17,
     "metadata": {},
     "output_type": "execute_result"
    }
   ],
   "source": [
    "len(keyword.kwlist)"
   ]
  },
  {
   "cell_type": "code",
   "execution_count": 28,
   "id": "eefc326f",
   "metadata": {},
   "outputs": [
    {
     "data": {
      "text/plain": [
       "True"
      ]
     },
     "execution_count": 28,
     "metadata": {},
     "output_type": "execute_result"
    }
   ],
   "source": [
    "'a' in 'abc'"
   ]
  },
  {
   "cell_type": "code",
   "execution_count": 29,
   "id": "0785eb3b",
   "metadata": {},
   "outputs": [
    {
     "data": {
      "text/plain": [
       "False"
      ]
     },
     "execution_count": 29,
     "metadata": {},
     "output_type": "execute_result"
    }
   ],
   "source": [
    "'ac' in 'abc' #因为ac没连载一起，所以False"
   ]
  },
  {
   "cell_type": "markdown",
   "id": "10cfb5c8",
   "metadata": {},
   "source": [
    "#### 5.2.5 字符的常用操作\n",
    "\n",
    "- 字符串切片和索引：截取任意位置的字符\n",
    "\n",
    "- Python索引从0开始，即第一个元素的位置为0\n",
    "\n",
    "- 语法：\n",
    "    - 字符串[索引]：单个元素\n",
    "    - 字符串[起始值:结束值:步长N]：多个元素（当N=1时，逐个取元素；N大于1时，表示从左到右间隔N-1个元素取值；N为-1时，从右到左取值，逆序输出，注意，起始下标和结束下标也要反向标记。）\n",
    "    \n",
    "- 字符串.方法名（...）\n",
    "\n",
    "- 常用方法：\n",
    "    - Str.upper( )：全部大写\n",
    "    - Str.lower( )：全部小写\n",
    "    - Str.count(char)：统计char出现的次数\n",
    "    - Str.startswith(char)：判断以char开始，返回True or False\n",
    "    - Str.endswith(char)：判断以char结束，返回True or False\n",
    "    - Str.strip(char)：删除字符串中的所有char字符\n",
    "    - Str.rstrip(char)：删除字符串中的右边char字符\n",
    "    - Str.split(char)：将char作为分割符，默认为空格（任意多个空格、制表符、换行符），返回分割的字符串列表）"
   ]
  },
  {
   "cell_type": "markdown",
   "id": "5a14b758",
   "metadata": {},
   "source": [
    "- 案例1:切片"
   ]
  },
  {
   "cell_type": "code",
   "execution_count": 36,
   "id": "1ee22235",
   "metadata": {},
   "outputs": [
    {
     "name": "stdout",
     "output_type": "stream",
     "text": [
      "从字符串abcdefg取下标为0的元素是a，取下标-1的元素是g，取从0到结束值前一位元素是abcdef，取倒数第二个到末尾的元素是fg，取完整序列是abcdefg，取步长为2，从左到右间隔一个元素取值是aceg，取步长为-1，从最右向左取值，逆序输出的值是gfedcba，取步长为-2，从最右向左取值，逆序输出的值是geca。\n"
     ]
    }
   ],
   "source": [
    "my_str = 'abcdefg'\n",
    "# 取单个元素\n",
    "value1=my_str[0]\n",
    "# 取倒数第一个元素\n",
    "value2=my_str[-1]\n",
    "# 取从0到结束值前一位元素\n",
    "value3=my_str[0:6]\n",
    "# 取倒数第二个到末尾的元素\n",
    "value4=my_str[-2:]\n",
    "# 取完整序列\n",
    "value5=my_str[::]\n",
    "# 步长为2，从左到右间隔一个元素取值\n",
    "value6=my_str[::2]\n",
    "# 步长为-1，从最右向左取值，逆序输出\n",
    "value7=my_str[::-1]\n",
    "# 步长为-2，从最右向左取值，逆序输出\n",
    "value8=my_str[::-2]\n",
    "print(f'从字符串{my_str}取下标为0的元素是{value1}，取下标-1的元素是{value2}，取从0到结束值前一位元素是{value3}，取倒数第二个到末尾的元素是{value4}，取完整序列是{value5}，取步长为2，从左到右间隔一个元素取值是{value6}，取步长为-1，从最右向左取值，逆序输出的值是{value7}，取步长为-2，从最右向左取值，逆序输出的值是{value8}。')"
   ]
  },
  {
   "cell_type": "markdown",
   "id": "c5595eaf",
   "metadata": {},
   "source": [
    "- 案例2：切片"
   ]
  },
  {
   "cell_type": "code",
   "execution_count": 42,
   "id": "435c25eb",
   "metadata": {},
   "outputs": [
    {
     "name": "stdout",
     "output_type": "stream",
     "text": [
      "方式1结果为：黑马程序员。\n",
      "方式2结果为：黑马程序员。\n",
      "方式3结果为：黑马程序员。\n"
     ]
    }
   ],
   "source": [
    "text_str='万过薪月，员序程马黑来，nohtyP学'\n",
    "# 倒序取出切片\n",
    "result1=text_str[-10:-15:-1]\n",
    "print(f'方式1结果为：{result1}。')\n",
    "# 取出切片，然后倒序\n",
    "result2=text_str[5:10][::-1]\n",
    "print(f'方式2结果为：{result2}。')\n",
    "# split分割逗号，replace替换“来”为空，倒序字符串\n",
    "result3=text_str.split('，')[1].replace('来','')[::-1]\n",
    "print(f'方式3结果为：{result3}。')"
   ]
  },
  {
   "cell_type": "code",
   "execution_count": 20,
   "id": "26ea8a8b",
   "metadata": {},
   "outputs": [
    {
     "name": "stdout",
     "output_type": "stream",
     "text": [
      "在字符串abcdefg中查找d，下标为3，efg替换abc后，新字符串为abcdabc。\n"
     ]
    }
   ],
   "source": [
    "my_str = 'abcdefg'\n",
    "# index方法查询元素下标\n",
    "value8=my_str.index('d')\n",
    "# replace字符串替换法，将efg替换为abc\n",
    "new_my_str=my_str.replace('efg','abc')\n",
    "print(f'在字符串{my_str}中查找d，下标为{value8}，efg替换abc后，新字符串为{new_my_str}。')"
   ]
  },
  {
   "cell_type": "code",
   "execution_count": 32,
   "id": "a18faa64",
   "metadata": {},
   "outputs": [
    {
     "name": "stdout",
     "output_type": "stream",
     "text": [
      "将字符串hello python itheima itcast进行split切分后得到：['hello', 'python', 'itheima', 'itcast']，类型是：<class 'list'>。\n",
      "序列>HBA1\n",
      "atttgcgggg\n",
      ">HBA2\n",
      "aaaaaaaaaa按照换行符\n",
      "来分割后，结果为：['>HBA1', 'atttgcgggg', '>HBA2', 'aaaaaaaaaa']。\n"
     ]
    }
   ],
   "source": [
    "# split字符串分割方法\n",
    "my_str='hello python itheima itcast'\n",
    "my_str.split(' ') # 按照空格来分割\n",
    "my_str_list=my_str.split(' ')\n",
    "print(f'将字符串{my_str}进行split切分后得到：{my_str_list}，类型是：{type(my_str_list)}。')\n",
    "seq='>HBA1\\natttgcgggg\\n>HBA2\\naaaaaaaaaa' \n",
    "seq1=seq.split('\\n')# 按照换行符\\n来分割\n",
    "print(f'序列{seq}按照换行符\\n来分割后，结果为：{seq1}。')"
   ]
  },
  {
   "cell_type": "code",
   "execution_count": 31,
   "id": "81f987dc",
   "metadata": {},
   "outputs": [
    {
     "name": "stdout",
     "output_type": "stream",
     "text": [
      "字符串     python itheima itcast        去除首尾空格后，结果是：python itheima itcast。\n",
      "字符串     python itheima itcast        去除尾部空格后，结果是：     python itheima itcast。\n",
      "字符串123hon itheima itc321去除123后，结果是：hon itheima itc。\n",
      "在字符串python itheima itcast中，t出现了4次。\n",
      "字符串python itheima itcast的长度是21位。\n"
     ]
    }
   ],
   "source": [
    "# strip去除元素方法\n",
    "my_str_1='     python itheima itcast        '\n",
    "new_my_str_1=my_str_1.strip() #不传入参数，去除首尾空格\n",
    "print(f'字符串{my_str_1}去除首尾空格后，结果是：{new_my_str_1}。')\n",
    "new_my_str_2=my_str_1.rstrip() #不传入参数，去除尾部空格\n",
    "print(f'字符串{my_str_1}去除尾部空格后，结果是：{new_my_str_2}。')\n",
    "my_str_3='123hon itheima itc321'\n",
    "new_my_str_3=my_str_3.strip('123') #1、2、3都会被去除\n",
    "print(f'字符串{my_str_3}去除123后，结果是：{new_my_str_3}。')\n",
    "# 统计字符串的数量\n",
    "count=new_my_str_1.count('t')\n",
    "print(f'在字符串{new_my_str_1}中，t出现了{count}次。')\n",
    "# 统计字符串的长度\n",
    "num=len(new_my_str_1)\n",
    "print(f'字符串{new_my_str_1}的长度是{num}位。')"
   ]
  },
  {
   "cell_type": "code",
   "execution_count": 33,
   "id": "88b9af9c",
   "metadata": {},
   "outputs": [
    {
     "name": "stdout",
     "output_type": "stream",
     "text": [
      "字符串atcg全部大写后为ATCG。\n"
     ]
    }
   ],
   "source": [
    "str0='atcg'\n",
    "# 全部大写\n",
    "str1=str0.upper()\n",
    "print(f'字符串{str0}全部大写后为{str1}。')"
   ]
  },
  {
   "cell_type": "markdown",
   "id": "baabd0cb",
   "metadata": {},
   "source": [
    "- 字符串的遍历"
   ]
  },
  {
   "cell_type": "code",
   "execution_count": 34,
   "id": "9d3f220d",
   "metadata": {},
   "outputs": [
    {
     "name": "stdout",
     "output_type": "stream",
     "text": [
      "a\n",
      "t\n",
      "c\n",
      "g\n"
     ]
    }
   ],
   "source": [
    "# 使用while循环遍历\n",
    "str0='atcg'\n",
    "index=0\n",
    "while index<len(str0):\n",
    "    print(str0[index])\n",
    "    index+=1"
   ]
  },
  {
   "cell_type": "code",
   "execution_count": 35,
   "id": "d79eb7d6",
   "metadata": {},
   "outputs": [
    {
     "name": "stdout",
     "output_type": "stream",
     "text": [
      "a\n",
      "t\n",
      "c\n",
      "g\n"
     ]
    }
   ],
   "source": [
    "# 使用for循环遍历\n",
    "str0='atcg'\n",
    "for i in str0:\n",
    "    print(i)"
   ]
  },
  {
   "cell_type": "markdown",
   "id": "4acb0ac6",
   "metadata": {},
   "source": [
    "## 6 判断与循环"
   ]
  },
  {
   "cell_type": "markdown",
   "id": "1c3899f6",
   "metadata": {},
   "source": [
    "### 6.1 布尔类型和比较运算符\n",
    "\n",
    "- 布尔表达现实生活中的逻辑，即真和假。\n",
    "    - True表示真，本质上是数字1。\n",
    "    - False表示假，本质上是数字0。\n",
    "    \n",
    "- 定义变量存储布尔类型数据：`变量名称 = 布尔类型字面量`\n",
    "\n",
    "- 比较运算符：\n",
    "    - `==`：判断内容**是否相等**，满足为True，不满足为False。\n",
    "    - `!=`：判断内容**是否不相等**，满足为True，不满足为False。\n",
    "    - `>`：判断运算符左侧内容**是否大于**右侧，满足为True，不满足为False。\n",
    "    - `<`：判断运算符左侧内容**是否小于**右侧，满足为True，不满足为False。\n",
    "    - `>=`：判断运算符左侧内容**是否大于等于**右侧，满足为True，不满足为False。\n",
    "    - `<=`：判断运算符左侧内容**是否小于等于**右侧，满足为True，不满足为False。"
   ]
  },
  {
   "cell_type": "code",
   "execution_count": 10,
   "id": "34546f6c",
   "metadata": {},
   "outputs": [
    {
     "name": "stdout",
     "output_type": "stream",
     "text": [
      "10 == 10的结果是：True\n",
      "10 != 15的结果是：True\n",
      "itcast == itheima的结果是：False\n"
     ]
    }
   ],
   "source": [
    "num1 = 10\n",
    "num2 = 10\n",
    "print(f'10 == 10的结果是：{num1 == num2}')\n",
    "\n",
    "num1 = 10\n",
    "num2 = 15\n",
    "print(f'10 != 15的结果是：{num1 != num2}')\n",
    "\n",
    "name1 = 'itcast'\n",
    "name2 = 'itheima'\n",
    "print(f'itcast == itheima的结果是：{name1 == name2}')"
   ]
  },
  {
   "cell_type": "markdown",
   "id": "957f5d11",
   "metadata": {},
   "source": [
    "### 6.2 if语句的基本各式\n",
    "\n",
    "- 每个条件后要使用**冒号**（:），表示接下来是满足条件后要执行的语句块。\n",
    "\n",
    "- 使用缩进来划分语句块，相同缩进数的语句在一起组成一个语句块。\n",
    "\n",
    "    if 判断条件1:\n",
    "        执行语句1\n",
    "    elif 判断条件2：\n",
    "        执行语句2\n",
    "    else：\n",
    "        执行语句3"
   ]
  },
  {
   "cell_type": "markdown",
   "id": "000b231f",
   "metadata": {},
   "source": [
    "- 数值判断：\n",
    "    - larger --- >\n",
    "    - smaller --- <\n",
    "    - equal --- ==\n",
    "    - larger or equal --- >=\n",
    "    \n",
    "- 字符判断：\n",
    "    - ==：字符相等\n",
    "    - !=：字符不等\n",
    "    - in：包含\n",
    "    - not in：不包含"
   ]
  },
  {
   "cell_type": "code",
   "execution_count": 65,
   "id": "033e65c8",
   "metadata": {},
   "outputs": [
    {
     "name": "stdout",
     "output_type": "stream",
     "text": [
      "不及格\n"
     ]
    }
   ],
   "source": [
    "score = 38\n",
    "if score >= 90:\n",
    "    print('优秀')\n",
    "elif score >= 80:\n",
    "    print('良好')\n",
    "elif score >= 60:\n",
    "    print('及格')\n",
    "else:\n",
    "    print('不及格')"
   ]
  },
  {
   "cell_type": "code",
   "execution_count": 1,
   "id": "42599683",
   "metadata": {},
   "outputs": [
    {
     "name": "stdout",
     "output_type": "stream",
     "text": [
      "请输入你的年龄：20\n",
      "您已成年，需要买票10元。\n"
     ]
    }
   ],
   "source": [
    "age = int(input('请输入你的年龄：'))\n",
    "if age >= 18:\n",
    "    print('您已成年，需要买票10元。')\n",
    "else:\n",
    "    print('您未成年，可以免费游玩。')"
   ]
  },
  {
   "cell_type": "code",
   "execution_count": 3,
   "id": "bcd73207",
   "metadata": {},
   "outputs": [
    {
     "name": "stdout",
     "output_type": "stream",
     "text": [
      "请猜一个数字：1\n",
      "猜错了，请再猜一次：2\n",
      "猜错了，请再猜一次：3\n",
      "Sorry，你猜错了\n"
     ]
    }
   ],
   "source": [
    "# 定义一个变量数字\n",
    "num = 5\n",
    "# 键入猜想数字，通过多次if和elif的组合进行猜想比较\n",
    "if int(input('请猜一个数字：')) == num:\n",
    "    print('恭喜第一次就才对啦')\n",
    "elif int(input('猜错了，请再猜一次：')) == num:\n",
    "    print('猜对了')\n",
    "elif int(input('猜错了，请再猜一次：')) == num:\n",
    "    print('恭喜，最后一次机会，你猜对了')\n",
    "else:\n",
    "    print('Sorry，你猜错了')"
   ]
  },
  {
   "cell_type": "markdown",
   "id": "55e08140",
   "metadata": {},
   "source": [
    "- 判断语句的嵌套：许多逻辑的判断是嵌套的，多层次的。可以使用if、elif、else进行自由组合，完成特定需求。"
   ]
  },
  {
   "cell_type": "code",
   "execution_count": 5,
   "id": "b50c3762",
   "metadata": {},
   "outputs": [
    {
     "name": "stdout",
     "output_type": "stream",
     "text": [
      "你的身高是多少：130\n",
      "你的身高超出限制，不可以免费。\n",
      "但是，如果vip级别大于3，可以免费。\n",
      "你的vip级别是多少：5\n",
      "恭喜你，vip级别达标，可以免费。\n"
     ]
    }
   ],
   "source": [
    "if int(input('你的身高是多少：')) > 120:\n",
    "    print('你的身高超出限制，不可以免费。')\n",
    "    print('但是，如果vip级别大于3，可以免费。')\n",
    "    \n",
    "    if int(input('你的vip级别是多少：')) > 3:\n",
    "        print('恭喜你，vip级别达标，可以免费。')\n",
    "    else:\n",
    "        print('Sorry，你需要买票10元。')\n",
    "else:\n",
    "    print('欢迎小朋友，免费游玩。')"
   ]
  },
  {
   "cell_type": "code",
   "execution_count": 6,
   "id": "c526a0f0",
   "metadata": {},
   "outputs": [
    {
     "name": "stdout",
     "output_type": "stream",
     "text": [
      "你是成年人。\n",
      "你的年龄达标了。\n",
      "恭喜你，年龄和入职时间都达标，可以领取礼物。\n"
     ]
    }
   ],
   "source": [
    "age = 20\n",
    "year = 3\n",
    "level = 1\n",
    "if age >= 18:\n",
    "    print('你是成年人。')\n",
    "    if age < 30:\n",
    "        print('你的年龄达标了。')\n",
    "        if year > 2:\n",
    "            print('恭喜你，年龄和入职时间都达标，可以领取礼物。')\n",
    "        elif level > 3:\n",
    "            print('恭喜你，年龄和级别都达标，可以领取礼物。')\n",
    "        else:\n",
    "            print('不好意思，尽管年龄达标，但是入职时间和级别都不达标。')\n",
    "    else:\n",
    "        print('不好意思，年龄太大了。')\n",
    "else:\n",
    "    print('不好意思，小朋友不可以领取。')"
   ]
  },
  {
   "cell_type": "markdown",
   "id": "0b6f7213",
   "metadata": {},
   "source": [
    "### 6.3 循环（Loop）\n",
    "\n",
    "#### 6.3.1 for循环\n",
    "\n",
    "- for循环可以遍历所有序列的基本类型，如字符串、列表、字典等。\n",
    "\n",
    "- for循环的一般格式：\n",
    "    - `for` item `in` iterable:\n",
    "            do something\n",
    "            \n",
    "    - item为变量名，iterable为可迭代的或像列表的集合形态的对象，比如range。\n",
    "                \n",
    "\n",
    "- range语句，可获得一个简单的数字序列，可用于for循环中遍历数字序列。\n",
    "    - 语法1：range(num)，获取一个从0开始，到num结束的数字序列（不含num本身）。如range(5)取得的数据是：[0, 1, 2, 3, 4]\n",
    "    - 语法2：range(num1, num2)，获得从num1开始，到num2结束的数字序列（不含num2本身）。如，range(5,10)取得的数据是：[5,6,7,8,9]\n",
    "    - 语法3：range(num1, num2 ,step)，获得从num1开始，到num2结束的数字序列（不含num2本身），step为数字之间的步长，默认为1。如，range(5,10,2)得出[5,7,9]"
   ]
  },
  {
   "cell_type": "markdown",
   "id": "cab01363",
   "metadata": {},
   "source": [
    "- 统计下列字符串中有多少个字母a"
   ]
  },
  {
   "cell_type": "code",
   "execution_count": 7,
   "id": "317539e3",
   "metadata": {},
   "outputs": [
    {
     "name": "stdout",
     "output_type": "stream",
     "text": [
      "被统计的字符串中有4个a\n"
     ]
    }
   ],
   "source": [
    "name = 'itheima is a brand of itcast'\n",
    "# 定义一个变量来统计a的个数\n",
    "count = 0\n",
    "# for 循环统计\n",
    "# for 临时变量 in 被统计的数据：\n",
    "for X in name:\n",
    "    if X == 'a':\n",
    "        count += 1\n",
    "print(f'被统计的字符串中有{count}个a')"
   ]
  },
  {
   "cell_type": "markdown",
   "id": "2aa024b1",
   "metadata": {},
   "source": [
    "- 计算100以内的和\n",
    "    - 赋初始化值"
   ]
  },
  {
   "cell_type": "code",
   "execution_count": 10,
   "id": "a80dcea1",
   "metadata": {
    "scrolled": true
   },
   "outputs": [
    {
     "name": "stdout",
     "output_type": "stream",
     "text": [
      "5050\n"
     ]
    }
   ],
   "source": [
    "# range函数生成1到100的序列，循环一次将值累加到number。\n",
    "number = 0\n",
    "for i in range(1,101):\n",
    "    number = number + i\n",
    "print(number)"
   ]
  },
  {
   "cell_type": "markdown",
   "id": "d7ba3333",
   "metadata": {},
   "source": [
    "- 案例：有几个偶数"
   ]
  },
  {
   "cell_type": "code",
   "execution_count": 17,
   "id": "b8a8f21e",
   "metadata": {},
   "outputs": [
    {
     "name": "stdout",
     "output_type": "stream",
     "text": [
      "1到100范围内，有50个偶数。\n"
     ]
    }
   ],
   "source": [
    "num = 0\n",
    "count = 0\n",
    "for i in range(1,101):\n",
    "    num += i\n",
    "    if (num % 2) == 0:\n",
    "        count += 1\n",
    "print(f'1到100范围内，有{count}个偶数。')"
   ]
  },
  {
   "cell_type": "markdown",
   "id": "017547da",
   "metadata": {},
   "source": [
    "- for循环的嵌套应用（九九乘法表）"
   ]
  },
  {
   "cell_type": "code",
   "execution_count": 18,
   "id": "9b38e84b",
   "metadata": {},
   "outputs": [
    {
     "name": "stdout",
     "output_type": "stream",
     "text": [
      "1 * 1 = 1\t\n",
      "1 * 2 = 2\t2 * 2 = 4\t\n",
      "1 * 3 = 3\t2 * 3 = 6\t3 * 3 = 9\t\n",
      "1 * 4 = 4\t2 * 4 = 8\t3 * 4 = 12\t4 * 4 = 16\t\n",
      "1 * 5 = 5\t2 * 5 = 10\t3 * 5 = 15\t4 * 5 = 20\t5 * 5 = 25\t\n",
      "1 * 6 = 6\t2 * 6 = 12\t3 * 6 = 18\t4 * 6 = 24\t5 * 6 = 30\t6 * 6 = 36\t\n",
      "1 * 7 = 7\t2 * 7 = 14\t3 * 7 = 21\t4 * 7 = 28\t5 * 7 = 35\t6 * 7 = 42\t7 * 7 = 49\t\n",
      "1 * 8 = 8\t2 * 8 = 16\t3 * 8 = 24\t4 * 8 = 32\t5 * 8 = 40\t6 * 8 = 48\t7 * 8 = 56\t8 * 8 = 64\t\n",
      "1 * 9 = 9\t2 * 9 = 18\t3 * 9 = 27\t4 * 9 = 36\t5 * 9 = 45\t6 * 9 = 54\t7 * 9 = 63\t8 * 9 = 72\t9 * 9 = 81\t\n"
     ]
    }
   ],
   "source": [
    "# 通过外层循环控制行数\n",
    "for i in range(1,10):\n",
    "    # 通过内层循环控制每一列的数据\n",
    "    for j in range(1,i + 1):\n",
    "        # 在内层循环中每行输出的内容\n",
    "        print(f'{j} * {i} = {j * i}\\t', end='')\n",
    "    # 外层循环可以通过print内空格，输出一个换行\n",
    "    print()"
   ]
  },
  {
   "cell_type": "markdown",
   "id": "8e1e3fd2",
   "metadata": {},
   "source": [
    "#### 6.3.2 while循环\n",
    "\n",
    "- 与for循环的相同点为：都能循环做一件重复的事情。\n",
    "\n",
    "- 与for循环的**不同点**为：for循环会在可迭代的序列被穷尽的时候停止，while循环则是在条件不成立的时候停止，因此while的作用概括成一句话就是：只要…条件成立，就一直做……。\n",
    "\n",
    "- while循环的一般格式：\n",
    "    - `while` condition:\n",
    "            do something\n",
    "        \n",
    "    - condition为成立条件。\n",
    "    \n",
    "- 因为在while后面的表达式是永远成立的，所以print会一直进行下去直至你的cpu过热。这种条件永远为True的循环，我们称之为死循环 (Infinite Loop)，在终端或者命令行中按Ctrl + C停止运行。\n",
    "\n",
    "- 控制while循环的两种方式：1、在循环过程中制造某种可以使循环停下来的条件；2、改变使循环成立的条件。"
   ]
  },
  {
   "cell_type": "code",
   "execution_count": 8,
   "id": "957b6cb6",
   "metadata": {
    "scrolled": true
   },
   "outputs": [
    {
     "name": "stdout",
     "output_type": "stream",
     "text": [
      "1到100累加的和是：5050\n"
     ]
    }
   ],
   "source": [
    "sum = 0\n",
    "i = 1\n",
    "while i <= 100:  #循环条件\n",
    "    sum += i\n",
    "    i += 1  #循环一次将计数加1，否则一直是形成死循环\n",
    "print(f'1到100累加的和是：{sum}')"
   ]
  },
  {
   "cell_type": "markdown",
   "id": "1708a167",
   "metadata": {},
   "source": [
    "- 案例：猜数字"
   ]
  },
  {
   "cell_type": "code",
   "execution_count": 2,
   "id": "9406e64f",
   "metadata": {},
   "outputs": [
    {
     "name": "stdout",
     "output_type": "stream",
     "text": [
      "请输入你猜测的数字：50\n",
      "你猜的小了。\n",
      "请输入你猜测的数字：75\n",
      "你猜的大了。\n",
      "请输入你猜测的数字：65\n",
      "你猜的小了。\n",
      "请输入你猜测的数字：70\n",
      "你猜的小了。\n",
      "请输入你猜测的数字：72\n",
      "你猜的大了。\n",
      "请输入你猜测的数字：71\n",
      "猜中了！\n",
      "你总共猜测了6次\n"
     ]
    }
   ],
   "source": [
    "# 获取1-100的随机数\n",
    "import random\n",
    "num = random.randint(1, 100)\n",
    "# 定义变量，记录猜测总次数\n",
    "count = 0\n",
    "\n",
    "# 通过布尔类型的变量，做循环是否继续的标记\n",
    "flag = True\n",
    "while flag:\n",
    "    guess_num = int(input('请输入你猜测的数字：'))\n",
    "    count += 1\n",
    "    if guess_num == num:\n",
    "        print('猜中了！')\n",
    "        # 设置False为终止循环条件\n",
    "        flag = False\n",
    "    else:\n",
    "        if guess_num > num:\n",
    "            print('你猜的大了。')\n",
    "        else:\n",
    "            print('你猜的小了。')\n",
    "print(f'你总共猜测了{count}次')"
   ]
  },
  {
   "cell_type": "markdown",
   "id": "aea44e98",
   "metadata": {},
   "source": [
    "- while循环的嵌套（九九乘法表）"
   ]
  },
  {
   "cell_type": "code",
   "execution_count": 6,
   "id": "5fd2e320",
   "metadata": {},
   "outputs": [
    {
     "name": "stdout",
     "output_type": "stream",
     "text": [
      "1 * 1 = 1\t\n",
      "1 * 2 = 2\t2 * 2 = 4\t\n",
      "1 * 3 = 3\t2 * 3 = 6\t3 * 3 = 9\t\n",
      "1 * 4 = 4\t2 * 4 = 8\t3 * 4 = 12\t4 * 4 = 16\t\n",
      "1 * 5 = 5\t2 * 5 = 10\t3 * 5 = 15\t4 * 5 = 20\t5 * 5 = 25\t\n",
      "1 * 6 = 6\t2 * 6 = 12\t3 * 6 = 18\t4 * 6 = 24\t5 * 6 = 30\t6 * 6 = 36\t\n",
      "1 * 7 = 7\t2 * 7 = 14\t3 * 7 = 21\t4 * 7 = 28\t5 * 7 = 35\t6 * 7 = 42\t7 * 7 = 49\t\n",
      "1 * 8 = 8\t2 * 8 = 16\t3 * 8 = 24\t4 * 8 = 32\t5 * 8 = 40\t6 * 8 = 48\t7 * 8 = 56\t8 * 8 = 64\t\n",
      "1 * 9 = 9\t2 * 9 = 18\t3 * 9 = 27\t4 * 9 = 36\t5 * 9 = 45\t6 * 9 = 54\t7 * 9 = 63\t8 * 9 = 72\t9 * 9 = 81\t\n"
     ]
    }
   ],
   "source": [
    "# 定义外层循环的控制变量\n",
    "i = 1\n",
    "while i <= 9:\n",
    "    # 定义内层循环的控制变量\n",
    "    j = 1\n",
    "    while j <= i:\n",
    "        # 内层循环的print语句，不要换行，通过\\t制表符进行对齐\n",
    "        print(f'{j} * {i} = {j * i}\\t', end='')\n",
    "        j += 1\n",
    "    i += 1\n",
    "    print() #print内空格，就是输出一个换行"
   ]
  },
  {
   "cell_type": "markdown",
   "id": "c2ba8a63",
   "metadata": {},
   "source": [
    "#### 6.3.3 break循环\n",
    "\n",
    "- break：跳出后续所有循环\n",
    "\n",
    "- break跳出后续所有循环，打印1，2，3。"
   ]
  },
  {
   "cell_type": "code",
   "execution_count": 72,
   "id": "ba035cfe",
   "metadata": {},
   "outputs": [
    {
     "name": "stdout",
     "output_type": "stream",
     "text": [
      "1\n",
      "2\n",
      "3\n"
     ]
    }
   ],
   "source": [
    "for i in range(1,5):\n",
    "    print(i)\n",
    "    if i == 3:\n",
    "        break"
   ]
  },
  {
   "cell_type": "markdown",
   "id": "4ce98365",
   "metadata": {},
   "source": [
    "#### 6.3.4 continue循环\n",
    "\n",
    "- continue：跳过当前循环\n",
    "\n",
    "- continue跳出当前循环执行下一循环，打印1，2，4。"
   ]
  },
  {
   "cell_type": "code",
   "execution_count": 73,
   "id": "de6f9070",
   "metadata": {},
   "outputs": [
    {
     "name": "stdout",
     "output_type": "stream",
     "text": [
      "1\n",
      "2\n",
      "4\n"
     ]
    }
   ],
   "source": [
    "for i in range(1,5):\n",
    "    if i == 3:\n",
    "        continue\n",
    "    print(i)"
   ]
  },
  {
   "cell_type": "markdown",
   "id": "9bc649de",
   "metadata": {},
   "source": [
    "- 案例：发工资\n",
    "\n",
    "- 某公司，帐户余额有10000元，给20个员工发工资。\n",
    "    - 员工编号从1到20，从编号1开始依次领取工资，每人领取1000元。\n",
    "    - 领工资时，财务判断员工的绩效分为1-10分，随机生成，如果低于5，不发工资，换下一位。\n",
    "    - 如果发完工资，则剩余员工将不再得到工资。\n",
    "    \n",
    "- 提示：\n",
    "    - 使用循环对员工依次发放工资。\n",
    "    - continue用于跳过员工，break直接结束发工资。\n",
    "    - 随机数可用：\n",
    "        - import random\n",
    "        - num = random.randint(num1,num2)"
   ]
  },
  {
   "cell_type": "code",
   "execution_count": 19,
   "id": "1f03830c",
   "metadata": {},
   "outputs": [
    {
     "name": "stdout",
     "output_type": "stream",
     "text": [
      "员工1，满足条件，发放1000元，公司账户余额为9000。\n",
      "员工2绩效分为1,不满足条件，不发工资，下一位。\n",
      "员工3绩效分为4,不满足条件，不发工资，下一位。\n",
      "员工4，满足条件，发放1000元，公司账户余额为8000。\n",
      "员工5绩效分为3,不满足条件，不发工资，下一位。\n",
      "员工6绩效分为1,不满足条件，不发工资，下一位。\n",
      "员工7绩效分为1,不满足条件，不发工资，下一位。\n",
      "员工8，满足条件，发放1000元，公司账户余额为7000。\n",
      "员工9绩效分为2,不满足条件，不发工资，下一位。\n",
      "员工10绩效分为4,不满足条件，不发工资，下一位。\n",
      "员工11，满足条件，发放1000元，公司账户余额为6000。\n",
      "员工12绩效分为4,不满足条件，不发工资，下一位。\n",
      "员工13绩效分为2,不满足条件，不发工资，下一位。\n",
      "员工14，满足条件，发放1000元，公司账户余额为5000。\n",
      "员工15，满足条件，发放1000元，公司账户余额为4000。\n",
      "员工16绩效分为4,不满足条件，不发工资，下一位。\n",
      "员工17，满足条件，发放1000元，公司账户余额为3000。\n",
      "员工18，满足条件，发放1000元，公司账户余额为2000。\n",
      "员工19绩效分为4,不满足条件，不发工资，下一位。\n",
      "员工20绩效分为2,不满足条件，不发工资，下一位。\n"
     ]
    }
   ],
   "source": [
    "# 定义账户余额变量\n",
    "money = 10000\n",
    "# for循环对员工发工资\n",
    "for i in range(1,21):\n",
    "    import random\n",
    "    score = random.randint(1,10)\n",
    "    \n",
    "    if score < 5:\n",
    "        print(f'员工{i}绩效分为{score},不满足条件，不发工资，下一位。')\n",
    "        # continue跳过发放\n",
    "        continue\n",
    "        \n",
    "    # 要判断余额情况\n",
    "    if money >= 1000:\n",
    "        money -= 1000\n",
    "        print(f'员工{i}，满足条件，发放1000元，公司账户余额为{money}。')\n",
    "    else:\n",
    "        print(f'余额补足，当前余额为{money}元，不够发工资，下个月再来。')\n",
    "        # break结束发放\n",
    "        break"
   ]
  },
  {
   "cell_type": "markdown",
   "id": "4af88b67",
   "metadata": {},
   "source": [
    "## 7 函数\n",
    "\n",
    "### 7.1 定义函数\n",
    "\n",
    "- `def` 函数名(参数1，参数2，……):\n",
    "         \n",
    "         函数体\n",
    "         \n",
    "        return(返回值)\n",
    "  \n",
    "  \n",
    "- 调用函数：\n",
    "    - 函数名(参数1，参数2，……)\n",
    "    \n",
    "- 需要注意的是：\n",
    "\n",
    "    - 千万别把代码写在return的后面，那将无法执行。\n",
    "\n",
    "    - def 和 return 是关键宇 (keyword)，Python 就是靠识别这些特定的关键字来明白用户的意图，实现更为复杂的编程。\n",
    "\n",
    "    - **在闭合括号后面的冒号必不可少，而且非常值得注意的是你要使用英文输入法进行输入，否则就是错误的语法**。\n",
    "\n",
    "    - 如果在 IDE 中冒号后面回车 (换行) 你会自动地得到一个缩进。**函数缩进后面的语句被称作是语句块 (block)，缩进是为了表明语句和逻辑的从属关系，是 Python 最显著的特征之一**。很多初学者会忽视缩进问题，导致代码无法成功运行，在这里需要特别注意。\n",
    "\n",
    "- 函数的使用步骤：\n",
    "    - 先定义函数。\n",
    "    - 后调用函数。\n",
    "    \n",
    "- 注意事项：\n",
    "    - 不需要参数时，可以省略。\n",
    "    - 不需要返回值时，可以省略。"
   ]
  },
  {
   "cell_type": "code",
   "execution_count": 20,
   "id": "d8499b4d",
   "metadata": {},
   "outputs": [
    {
     "name": "stdout",
     "output_type": "stream",
     "text": [
      "Hi，我是黑马程序员。\n",
      "学Python来黑马。\n"
     ]
    }
   ],
   "source": [
    "# 简单的函数调用\n",
    "\n",
    "# 定义一个函数，输出相关信息\n",
    "def say_hi():\n",
    "    print('Hi，我是黑马程序员。\\n学Python来黑马。')\n",
    "    \n",
    "# 调用函数，让函数开始工作\n",
    "say_hi()"
   ]
  },
  {
   "cell_type": "code",
   "execution_count": 21,
   "id": "ab25fe46",
   "metadata": {},
   "outputs": [
    {
     "name": "stdout",
     "output_type": "stream",
     "text": [
      "1 + 2的计算结果是：3。\n"
     ]
    }
   ],
   "source": [
    "# 定义两个数字相加的函数，通过参数接收被计算的2个数字\n",
    "def add(x,y):\n",
    "    result = x + y\n",
    "    print(f'{x} + {y}的计算结果是：{result}。')\n",
    "    \n",
    "# 调用函数，传入被统计的的2个数字\n",
    "add(1,2)"
   ]
  },
  {
   "cell_type": "code",
   "execution_count": 1,
   "id": "522b7819",
   "metadata": {},
   "outputs": [
    {
     "name": "stdout",
     "output_type": "stream",
     "text": [
      "11\n"
     ]
    }
   ],
   "source": [
    "# 定义一个函数，完成两个数字相加的功能\n",
    "def add(a,b):\n",
    "    result = a + b\n",
    "    # 通过返回值，将相加的结果返回给调用者\n",
    "    return result\n",
    "print('我完事了。') # return结束了函数的运行，后面的代码将不起作用，必须重新定义函数或变量\n",
    "# 函数的返回值可以通过变量去接收\n",
    "r = add(5,6)\n",
    "print(r)"
   ]
  },
  {
   "cell_type": "markdown",
   "id": "42e6dc07",
   "metadata": {},
   "source": [
    "- 案例：把摄氏度转化为华氏度定义为函数fahrenheit_Converter( )，那么将输入进去的必然是摄氏度(Celsius)的数值，把C设为摄氏度参数，最后返回的是华氏度(fahrenheit)的数值，用下面的函数来表达："
   ]
  },
  {
   "cell_type": "code",
   "execution_count": 2,
   "id": "fbfd1d33",
   "metadata": {},
   "outputs": [],
   "source": [
    "def fahrenheit_converter(C):\n",
    "    fahrenheit = C * 9/5 + 32\n",
    "    return str(fahrenheit) + 'F'"
   ]
  },
  {
   "cell_type": "markdown",
   "id": "3ef50e10",
   "metadata": {},
   "source": [
    "- 注：计算的结果类型是float，不能与字符串“F”相合并，所以需要先用str( )函数进行转换。\n",
    "\n",
    "- 输入完以上代码后，函数定义完成，接下就开始使用它。这种使用函数的行为叫做“调用”(call)。也可以理解为：请求Python给去做一件事，如函数 len( )：“请Python测量这个(对象)的长度, 并将结果打印出来。”"
   ]
  },
  {
   "cell_type": "markdown",
   "id": "93920590",
   "metadata": {},
   "source": [
    "- 使用摄氏度转换器将35摄氏度转换成华氏度，将结果储存在名为C2F的变量并打印出来。"
   ]
  },
  {
   "cell_type": "code",
   "execution_count": 3,
   "id": "201f2ea4",
   "metadata": {},
   "outputs": [
    {
     "name": "stdout",
     "output_type": "stream",
     "text": [
      "95.0F\n"
     ]
    }
   ],
   "source": [
    "C2F = fahrenheit_converter(35)\n",
    "print(C2F)"
   ]
  },
  {
   "cell_type": "code",
   "execution_count": 74,
   "id": "cb3eeb50",
   "metadata": {},
   "outputs": [
    {
     "name": "stdout",
     "output_type": "stream",
     "text": [
      "(1, '<', 2)\n"
     ]
    }
   ],
   "source": [
    "def MaxofTwo(n1,n2):\n",
    "    if n1 > n2:\n",
    "        return(n1,'>',n2)\n",
    "    elif n1 < n2:\n",
    "        return(n1,'<',n2)\n",
    "    else:\n",
    "        return(n1,'=',n2)\n",
    "print(MaxofTwo(1,2))"
   ]
  },
  {
   "cell_type": "code",
   "execution_count": 75,
   "id": "9fe1039f",
   "metadata": {},
   "outputs": [
    {
     "name": "stdout",
     "output_type": "stream",
     "text": [
      "(0, '>', -1)\n"
     ]
    }
   ],
   "source": [
    "print(MaxofTwo(0,-1))"
   ]
  },
  {
   "cell_type": "code",
   "execution_count": 76,
   "id": "c1239f76",
   "metadata": {},
   "outputs": [
    {
     "name": "stdout",
     "output_type": "stream",
     "text": [
      "(1, '=', 1)\n"
     ]
    }
   ],
   "source": [
    "print(MaxofTwo(1,1))"
   ]
  },
  {
   "cell_type": "markdown",
   "id": "50d127a9",
   "metadata": {},
   "source": [
    "- 特殊的字面量：None，其类型是：<class'NoneType'>。无返回值的函数，实际上就是返回了：None这个字面量。\n",
    "\n",
    "- None类型的应用场景：\n",
    "    - 用在函数无返回值上。\n",
    "    - 用在if判断上：\n",
    "        - 在if判断中，None等同于False。\n",
    "        - 一般用于在函数中主动返回None，配合if判断做相关处理。\n",
    "    - 用于声明无内容的变量上：\n",
    "        - 定义变量，但暂时不需要变量有具体值，可以用None代替，如name = None。"
   ]
  },
  {
   "cell_type": "markdown",
   "id": "7352bd22",
   "metadata": {},
   "source": [
    "### 7.2 函数的嵌套调用\n",
    "\n",
    "- 定义：一个函数里面又调用了另一个函数。"
   ]
  },
  {
   "cell_type": "code",
   "execution_count": 2,
   "id": "2e8f4be3",
   "metadata": {},
   "outputs": [
    {
     "name": "stdout",
     "output_type": "stream",
     "text": [
      "---1---\n",
      "---2---\n",
      "---3---\n"
     ]
    }
   ],
   "source": [
    "# 定义函数function_b\n",
    "def function_b():\n",
    "    print('---2---')\n",
    "# 定义函数function_a，并在内部调用函数function_b\n",
    "def function_a():\n",
    "    print('---1---')\n",
    "    \n",
    "    # 嵌套调用function_b\n",
    "    function_b()\n",
    "    \n",
    "    print('---3---')\n",
    "# 调用函数function_a\n",
    "function_a()"
   ]
  },
  {
   "cell_type": "markdown",
   "id": "1eb184e6",
   "metadata": {},
   "source": [
    "- 以上函数的调用顺序是：首先调用a，执行打印1，然后执行调用b，打印2，最后再到打印3。"
   ]
  },
  {
   "cell_type": "markdown",
   "id": "4d8965cf",
   "metadata": {},
   "source": [
    "### 7.3 变量的作用域 "
   ]
  },
  {
   "cell_type": "markdown",
   "id": "01f6c3c9",
   "metadata": {},
   "source": [
    "- 局部变量，是指定义在函数体内部的变量，即只在函数体内部生效。\n",
    "\n",
    "- 全局变量，使用关键字global，可以在函数内部声明变量为全局变量。"
   ]
  },
  {
   "cell_type": "code",
   "execution_count": 3,
   "id": "5ec50d91",
   "metadata": {},
   "outputs": [
    {
     "name": "stdout",
     "output_type": "stream",
     "text": [
      "test_a:200\n",
      "test_b:500\n",
      "500\n"
     ]
    }
   ],
   "source": [
    "num=200\n",
    "def test_a():\n",
    "    print(f'test_a:{num}')\n",
    "    \n",
    "def test_b():\n",
    "    global num # 设置内部定义的变量为全局变量\n",
    "    num=500\n",
    "    print(f'test_b:{num}')\n",
    "    \n",
    "test_a()\n",
    "test_b()\n",
    "print(num)"
   ]
  },
  {
   "cell_type": "markdown",
   "id": "6b48971c",
   "metadata": {},
   "source": [
    "### 7.4 综合案例"
   ]
  },
  {
   "cell_type": "code",
   "execution_count": 6,
   "id": "54a52e20",
   "metadata": {},
   "outputs": [
    {
     "name": "stdout",
     "output_type": "stream",
     "text": [
      "请输入您的姓名：程序员\n",
      "--------------------主菜单---------------------\n",
      "程序员,您好，欢迎来到黑马银行ATM。请选择操作：\n",
      "查询余额\t【输入1】\n",
      "存款\t【输入2】\n",
      "取款\t【输入3】\n",
      "退出\t【输入4】\n",
      "请输入您的选择：1\n",
      "----------------查询余额----------------\n",
      "程序员，您好，您的余额为：500000元。\n",
      "--------------------主菜单---------------------\n",
      "程序员,您好，欢迎来到黑马银行ATM。请选择操作：\n",
      "查询余额\t【输入1】\n",
      "存款\t【输入2】\n",
      "取款\t【输入3】\n",
      "退出\t【输入4】\n",
      "请输入您的选择：2\n",
      "请您输入需要存入的金额：100\n",
      "---------------------存款---------------------\n",
      "程序员，您好，您成功存款100元。\n",
      "程序员，您好，您的余额为：500100元。\n",
      "--------------------主菜单---------------------\n",
      "程序员,您好，欢迎来到黑马银行ATM。请选择操作：\n",
      "查询余额\t【输入1】\n",
      "存款\t【输入2】\n",
      "取款\t【输入3】\n",
      "退出\t【输入4】\n",
      "请输入您的选择：3\n",
      "请输入您需要取出的金额：20000\n",
      "---------------------取款---------------------\n",
      "程序员，您好，您成功取款20000元。\n",
      "程序员，您好，您的余额为：480100元。\n",
      "--------------------主菜单---------------------\n",
      "程序员,您好，欢迎来到黑马银行ATM。请选择操作：\n",
      "查询余额\t【输入1】\n",
      "存款\t【输入2】\n",
      "取款\t【输入3】\n",
      "退出\t【输入4】\n",
      "请输入您的选择：4\n",
      "退出程序\n"
     ]
    }
   ],
   "source": [
    "# 定义全局变量\n",
    "money=500000\n",
    "name=None\n",
    "# 要求客户输入姓名\n",
    "name=input('请输入您的姓名：')\n",
    "# 定义查询函数\n",
    "def query(show_header):\n",
    "    if show_header:\n",
    "        print('----------------查询余额----------------')\n",
    "    print(f'{name}，您好，您的余额为：{money}元。')\n",
    "    \n",
    "# 定义存款函数\n",
    "def saving(num):\n",
    "    global money # money变量在函数内部定义为全局变量\n",
    "    money+=num\n",
    "    print('---------------------存款---------------------')\n",
    "    print(f'{name}，您好，您成功存款{num}元。')\n",
    "    # 调用query函数查询余额\n",
    "    query(False) # False表示查询时，不是（不要）shou_header\n",
    "    \n",
    "# 定义取款函数\n",
    "def get_money(num):\n",
    "    global money\n",
    "    money-=num\n",
    "    print('---------------------取款---------------------')\n",
    "    print(f'{name}，您好，您成功取款{num}元。')\n",
    "    #调用query函数查询余额\n",
    "    query(False)\n",
    "    \n",
    "# 定义主菜单函数\n",
    "def main():\n",
    "    print('--------------------主菜单---------------------')\n",
    "    print(f'{name},您好，欢迎来到黑马银行ATM。请选择操作：')\n",
    "    print('查询余额\\t【输入1】')\n",
    "    print('存款\\t【输入2】')\n",
    "    print('取款\\t【输入3】')\n",
    "    print('退出\\t【输入4】')\n",
    "    return input('请输入您的选择：')\n",
    "\n",
    "# 设置无限循环，确保程序不退出\n",
    "while True:\n",
    "    keyboard_input=main()\n",
    "    if keyboard_input=='1':\n",
    "        query(True) # True表示查询时是（需要）show_header\n",
    "        continue # 通过continue继续下一次循环，回到主菜单\n",
    "    elif keyboard_input=='2':\n",
    "        num=int(input('请您输入需要存入的金额：'))\n",
    "        saving(num)\n",
    "        continue\n",
    "    elif keyboard_input=='3':\n",
    "        num=int(input('请输入您需要取出的金额：'))\n",
    "        get_money(num)\n",
    "        continue\n",
    "    else:\n",
    "        print('退出程序')\n",
    "        break  # 通过break退出循环"
   ]
  },
  {
   "cell_type": "markdown",
   "id": "ca5c0be4",
   "metadata": {},
   "source": [
    "### 7.5 函数的多返回值（参数的类型）"
   ]
  },
  {
   "cell_type": "markdown",
   "id": "e90ad78d",
   "metadata": {},
   "source": [
    "def test_return(...):\n",
    "    \n",
    "    return 1,2\n",
    "    \n",
    "x,y=test_return(...)\n",
    "\n",
    "print(x) #结果1\n",
    "\n",
    "print(y) #结果2"
   ]
  },
  {
   "cell_type": "markdown",
   "id": "01e7a283",
   "metadata": {},
   "source": [
    "- 传递参数的方式有两种：\n",
    "\n",
    "    - 位置参数（positional argument）\n",
    "    \n",
    "    - 关键词参数（keyword argument）\n",
    "\n",
    "- 案例：从梯形的数学公式开始入手，首先还是创建函数。把函数的名称定为trapezoid_area，也就是梯形面积，设定参数为base_up(上底)，base_down(下底)，height(高)，每一个都用英文输入法的逗号隔开。梯形的面积需要知道这三个值才能求得，因此对于构造梯形面积函数来说，这三个参数缺一不可。"
   ]
  },
  {
   "cell_type": "code",
   "execution_count": 16,
   "id": "f972c018",
   "metadata": {},
   "outputs": [
    {
     "name": "stdout",
     "output_type": "stream",
     "text": [
      "梯形的面积1是4.5。\n",
      "梯形的面积2是4.5。\n",
      "梯形的面积3是4.5。\n"
     ]
    }
   ],
   "source": [
    "def trapezoid_area(base_up, base_down, height):\n",
    "    return 1/2 * (base_up + base_down) * height\n",
    "# 接下来调用函数\n",
    "area1=trapezoid_area(1,2,3)\n",
    "print(f'梯形的面积1是{area1}。')\n",
    "area2=trapezoid_area(base_up=1, base_down=2, height=3)\n",
    "print(f'梯形的面积2是{area2}。')\n",
    "area3=trapezoid_area(height=3, base_down=2, base_up=1)\n",
    "print(f'梯形的面积3是{area3}。')"
   ]
  },
  {
   "cell_type": "markdown",
   "id": "7424c04f",
   "metadata": {},
   "source": [
    "- 面积1：填入的参数1、2、3分别对应着参数base_up、base_down和height，这种传入参数的方式被称为**位置参数**。\n",
    "\n",
    "- 面积2：在调用函数的时候，将每个参数名称后面赋予一个想要传入的值，这种以名称作为逐一对应的参数传入方式被称作是**关键词参数**。\n",
    "\n",
    "- 面积3：参数按照反序传入，因为是关键词参数，所以并不影响函数正常运作。"
   ]
  },
  {
   "cell_type": "code",
   "execution_count": 9,
   "id": "095e2c12",
   "metadata": {},
   "outputs": [
    {
     "ename": "SyntaxError",
     "evalue": "positional argument follows keyword argument (3173648520.py, line 1)",
     "output_type": "error",
     "traceback": [
      "\u001b[0;36m  File \u001b[0;32m\"/var/folders/14/pj985hh56sl5pj_j6y0ldsk00000gn/T/ipykernel_10591/3173648520.py\"\u001b[0;36m, line \u001b[0;32m1\u001b[0m\n\u001b[0;31m    trapezoid_area(height=3, base_down=2, 1)\u001b[0m\n\u001b[0m                                           ^\u001b[0m\n\u001b[0;31mSyntaxError\u001b[0m\u001b[0;31m:\u001b[0m positional argument follows keyword argument\n"
     ]
    }
   ],
   "source": [
    "trapezoid_area(height=3, base_down=2, 1)"
   ]
  },
  {
   "cell_type": "markdown",
   "id": "0af7cbb6",
   "metadata": {},
   "source": [
    "- 上述函数参数反序传入，但是到了第三个却变成了位置参数，**遗憾的是这种方式是错误的语法**，因为如果按照位置来传入，最后一个应该是参数height的位置。但是前面height已经按照名称传入了值3，所以是冲突的。"
   ]
  },
  {
   "cell_type": "code",
   "execution_count": 10,
   "id": "7e43ba5e",
   "metadata": {},
   "outputs": [
    {
     "ename": "SyntaxError",
     "evalue": "positional argument follows keyword argument (2213735002.py, line 1)",
     "output_type": "error",
     "traceback": [
      "\u001b[0;36m  File \u001b[0;32m\"/var/folders/14/pj985hh56sl5pj_j6y0ldsk00000gn/T/ipykernel_10591/2213735002.py\"\u001b[0;36m, line \u001b[0;32m1\u001b[0m\n\u001b[0;31m    trapezoid_area(base_up=1, base_down=2, 3)\u001b[0m\n\u001b[0m                                            ^\u001b[0m\n\u001b[0;31mSyntaxError\u001b[0m\u001b[0;31m:\u001b[0m positional argument follows keyword argument\n"
     ]
    }
   ],
   "source": [
    "trapezoid_area(base_up=1, base_down=2, 3)"
   ]
  },
  {
   "cell_type": "markdown",
   "id": "78f82212",
   "metadata": {},
   "source": [
    "- 上述函数参数正序传入，前两个是以关键词的方式传入，最后一个以位置参数传入，但是**位置参数不能在关键词参数后面**，所以是错误的。"
   ]
  },
  {
   "cell_type": "code",
   "execution_count": 11,
   "id": "17ca0683",
   "metadata": {},
   "outputs": [
    {
     "data": {
      "text/plain": [
       "4.5"
      ]
     },
     "execution_count": 11,
     "metadata": {},
     "output_type": "execute_result"
    }
   ],
   "source": [
    "trapezoid_area(1, 2, height=3)"
   ]
  },
  {
   "cell_type": "markdown",
   "id": "bfcf601a",
   "metadata": {},
   "source": [
    "- 上述函数参数正序传入，前两个是以位置的方式传入，最后一个以关键词参数传入，这个函数是可以正常运行的。"
   ]
  },
  {
   "cell_type": "markdown",
   "id": "24821967",
   "metadata": {},
   "source": [
    "- 接下来是以上案例的变型："
   ]
  },
  {
   "cell_type": "code",
   "execution_count": 18,
   "id": "ecd86c56",
   "metadata": {},
   "outputs": [
    {
     "name": "stdout",
     "output_type": "stream",
     "text": [
      "梯形的面积4是2.5。\n"
     ]
    }
   ],
   "source": [
    "base_up = 1\n",
    "base_down = 2\n",
    "height = 3\n",
    "area4=trapezoid_area(height, base_down, base_up)\n",
    "print(f'梯形的面积4是{area4}。')"
   ]
  },
  {
   "cell_type": "markdown",
   "id": "ff0b70e9",
   "metadata": {},
   "source": [
    "- 上述base_up、base_down、height都是**变量**。函数调用可看作是："
   ]
  },
  {
   "cell_type": "code",
   "execution_count": 14,
   "id": "588bccd5",
   "metadata": {},
   "outputs": [
    {
     "data": {
      "text/plain": [
       "2.5"
      ]
     },
     "execution_count": 14,
     "metadata": {},
     "output_type": "execute_result"
    }
   ],
   "source": [
    "trapezoid_area(3,2,1)"
   ]
  },
  {
   "cell_type": "markdown",
   "id": "9589837e",
   "metadata": {},
   "source": [
    "- 这种传入参数的方式为**位置参数**。参数3、2、1分别对应着参数base_up、base_down和 height所在的位置，因此这次函数调用的结果应该是2.5。"
   ]
  },
  {
   "cell_type": "markdown",
   "id": "32b45542",
   "metadata": {},
   "source": [
    "- 缺省参数，也叫默认参数。用于定义函数，为参数提供默认值，调用函数时，可以不传入该默认参数的值。\n",
    "\n",
    "- **注意：所有位置参数必须出现在默认参数之前，包括函数定义的调用。**"
   ]
  },
  {
   "cell_type": "code",
   "execution_count": 21,
   "id": "857f453d",
   "metadata": {},
   "outputs": [
    {
     "name": "stdout",
     "output_type": "stream",
     "text": [
      "您的名字是Tom，年龄是20，性别是male。\n",
      "您的名字是Rose，年龄是18，性别是female。\n"
     ]
    }
   ],
   "source": [
    "def user_info(name,age,gender='male'): # 默认参数（赋值的）一定放在最后\n",
    "    print(f'您的名字是{name}，年龄是{age}，性别是{gender}。')\n",
    "# 调用函数    \n",
    "user_info('Tom',20)\n",
    "user_info('Rose',18,'female')"
   ]
  },
  {
   "cell_type": "markdown",
   "id": "a25dcc3a",
   "metadata": {},
   "source": [
    "- 不定长参数，也叫可变参数。用于不确定调用时会传递多少个参数（不传参数也可以）的场景。\n",
    "    - 类型包括：\n",
    "        - 位置传递。\n",
    "        - 关键字传递。"
   ]
  },
  {
   "cell_type": "code",
   "execution_count": 23,
   "id": "6b5c70dd",
   "metadata": {},
   "outputs": [
    {
     "name": "stdout",
     "output_type": "stream",
     "text": [
      "('Tom',)\n",
      "('Tom', 18)\n"
     ]
    }
   ],
   "source": [
    "# 位置传递\n",
    "def user_info(*args):\n",
    "    print(args)\n",
    "    \n",
    "# ('Tom',)\n",
    "# 调用函数\n",
    "user_info('Tom')\n",
    "# ('Tom',18)\n",
    "# 调用函数\n",
    "user_info('Tom',18)"
   ]
  },
  {
   "cell_type": "markdown",
   "id": "a71e8e3d",
   "metadata": {},
   "source": [
    "- **注意：所有传进的参数都会被args变量收集，它会根据传进参数的位置，合并为一个元组，args是元组类型。**"
   ]
  },
  {
   "cell_type": "code",
   "execution_count": 25,
   "id": "8a0e5099",
   "metadata": {},
   "outputs": [
    {
     "name": "stdout",
     "output_type": "stream",
     "text": [
      "{'name': 'Tom', 'age': 18, 'id': 110}\n"
     ]
    }
   ],
   "source": [
    "# 关键字传递\n",
    "def user_info(**kwargs):\n",
    "    print(kwargs)\n",
    "    \n",
    "# ('name','Tom','age':18,'id':110)\n",
    "# 调用函数\n",
    "user_info(name='Tom',age=18,id=110)"
   ]
  },
  {
   "cell_type": "markdown",
   "id": "f4f6e79c",
   "metadata": {},
   "source": [
    "- **注意：参数是键值对的情况下，所有的键值对都会被kwargs接受，同时会根据键值对组成字典。"
   ]
  },
  {
   "cell_type": "markdown",
   "id": "1f58b679",
   "metadata": {},
   "source": [
    "### 7.6 函数作为参数进行传递"
   ]
  },
  {
   "cell_type": "code",
   "execution_count": 2,
   "id": "8b587ea6",
   "metadata": {},
   "outputs": [
    {
     "name": "stdout",
     "output_type": "stream",
     "text": [
      "compute参数的类型是：<class 'function'>。\n",
      "计算结果是：3。\n"
     ]
    }
   ],
   "source": [
    "def test_func(compute):\n",
    "    result=compute(1,2) # 确定compute是函数\n",
    "    print(f'compute参数的类型是：{type(compute)}。')\n",
    "    print(f'计算结果是：{result}。')\n",
    "# 定义一个函数，准备作为参数传入另一个函数    \n",
    "def compute(x,y):\n",
    "    return x+y\n",
    "# 调用，并传入函数\n",
    "test_func(compute)"
   ]
  },
  {
   "cell_type": "markdown",
   "id": "e55e699e",
   "metadata": {},
   "source": [
    "- 函数compute作为参数，传入test_func函数中使用。\n",
    "    - test_func需要一个函数作为参数传入，这个函数需要接收2个数字进行计算，计算逻辑由这个被传入的函数决定。\n",
    "    - compute函数接收2个数字对其进行计算，compute函数作为参数，传递给了test_func函数使用。\n",
    "    - 最终，在test_func函数内部，由传入的compute函数完成了对数字的计算操作。"
   ]
  },
  {
   "cell_type": "markdown",
   "id": "819cc71d",
   "metadata": {},
   "source": [
    "### 7.7 lambda匿名函数\n",
    "\n",
    "- 函数的定义中：\n",
    "    - def关键字，可以定义带有名称的函数（可以基于名称重复使用）。\n",
    "    - lambda关键字，可以定义匿名函数（无名称），只可临时使用一次。\n",
    "    \n",
    "- 匿名函数定义的语法：\n",
    "\n",
    "lambda 传入参数：函数体（一行代码）\n",
    "\n",
    "    - lambda是关键字，表示定义匿名函数。\n",
    "    - 传入参数表示匿名函数的形式参数，如，x，y表示接收2个形式参数。\n",
    "    - 函数体就是函数的执行逻辑，要注意：只能写一行，无法写多行代码。"
   ]
  },
  {
   "cell_type": "code",
   "execution_count": 3,
   "id": "c8c3996a",
   "metadata": {},
   "outputs": [
    {
     "name": "stdout",
     "output_type": "stream",
     "text": [
      "计算结果是：3。\n"
     ]
    }
   ],
   "source": [
    "def test_func(compute):\n",
    "    result=compute(1,2) # 确定compute是函数\n",
    "    print(f'计算结果是：{result}。')\n",
    "# 通过lambda匿名函数的形式，将匿名函数作为参数传入    \n",
    "test_func(lambda x,y:x+y)"
   ]
  },
  {
   "cell_type": "markdown",
   "id": "186024ff",
   "metadata": {},
   "source": [
    "## 8 数据容器\n",
    "\n",
    "### 8.1 列表（list）\n",
    "\n",
    "- list是一种**有序**的**集合**，可以随时添加和删除其中的元素，使用`[方括号]`，每一份数据都称之为元素。\n",
    "\n",
    "- **列表索引**与字符串类似\n",
    "\n",
    "- 如果将函数定义为class（类）的成员，则函数被称之为“方法”。\n",
    "    - 函数的使用：num=add(1,2)\n",
    "    - 方法的使用：student=student()\n",
    "                num=student.add(1,2)"
   ]
  },
  {
   "cell_type": "markdown",
   "id": "2a22049a",
   "metadata": {},
   "source": [
    "- 列表常用方法：\n",
    "    - list.append（字符串、数值、布尔值）：追加元素\n",
    "    - list.pop(index)：去除索引位置的值，列表更新\n",
    "    - list.pop(...)：取出一个元素\n",
    "    - len(list)：长度\n",
    "    - max(list)：最大\n",
    "    - min(list)：最小\n",
    "    - list(seq)：元组转列表\n",
    "    - list.count(obj)：数数\n",
    "    - list.extend(seq)：增加元组中的元素\n",
    "    - list.remove(obj)：去除元素\n",
    "    - list.reverse(...)：反转\n",
    "    - list.sort(...)：排序\n",
    "    - list.index(...)：查找\n",
    "    \n",
    "- 列表的特点：\n",
    "    - 可以容纳多个元素。\n",
    "    - 可以容纳**不同类型**的元素。\n",
    "    - 数据是**有序**存储的（有下标序号）。\n",
    "    - 允许重复数据的存在。\n",
    "    - 可以修改（增加或者删减元素等）。"
   ]
  },
  {
   "cell_type": "markdown",
   "id": "c6840f93",
   "metadata": {},
   "source": [
    "#### 8.1.1 列表的常用功能"
   ]
  },
  {
   "cell_type": "code",
   "execution_count": 16,
   "id": "bf55bd8d",
   "metadata": {},
   "outputs": [
    {
     "data": {
      "text/plain": [
       "'HBA2'"
      ]
     },
     "execution_count": 16,
     "metadata": {},
     "output_type": "execute_result"
    }
   ],
   "source": [
    "gene = ['HBA1','HBA2']\n",
    "gene[-1] # 取最后一个值"
   ]
  },
  {
   "cell_type": "code",
   "execution_count": 17,
   "id": "bc74488b",
   "metadata": {},
   "outputs": [],
   "source": [
    "gene[0] = 'CYP3A4' # 将第一个元素重新赋值"
   ]
  },
  {
   "cell_type": "code",
   "execution_count": 18,
   "id": "27c800e0",
   "metadata": {},
   "outputs": [
    {
     "data": {
      "text/plain": [
       "['CYP3A4', 'HBA2']"
      ]
     },
     "execution_count": 18,
     "metadata": {},
     "output_type": "execute_result"
    }
   ],
   "source": [
    "gene # 查看新的列表"
   ]
  },
  {
   "cell_type": "code",
   "execution_count": 19,
   "id": "38151cec",
   "metadata": {},
   "outputs": [],
   "source": [
    "gene.append('TP56') # 在列表尾部追加TP56"
   ]
  },
  {
   "cell_type": "code",
   "execution_count": 20,
   "id": "b0b0cf47",
   "metadata": {},
   "outputs": [
    {
     "data": {
      "text/plain": [
       "['CYP3A4', 'HBA2', 'TP56']"
      ]
     },
     "execution_count": 20,
     "metadata": {},
     "output_type": "execute_result"
    }
   ],
   "source": [
    "gene # 查看新的列表"
   ]
  },
  {
   "cell_type": "code",
   "execution_count": 21,
   "id": "54ae257f",
   "metadata": {},
   "outputs": [
    {
     "data": {
      "text/plain": [
       "'CYP3A4'"
      ]
     },
     "execution_count": 21,
     "metadata": {},
     "output_type": "execute_result"
    }
   ],
   "source": [
    "gene.pop(0) # 取出第一个元素"
   ]
  },
  {
   "cell_type": "code",
   "execution_count": 22,
   "id": "fec14d0b",
   "metadata": {},
   "outputs": [
    {
     "data": {
      "text/plain": [
       "['HBA2', 'TP56']"
      ]
     },
     "execution_count": 22,
     "metadata": {},
     "output_type": "execute_result"
    }
   ],
   "source": [
    "gene # 查看新的列表"
   ]
  },
  {
   "cell_type": "code",
   "execution_count": 23,
   "id": "298a6c67",
   "metadata": {},
   "outputs": [
    {
     "name": "stdout",
     "output_type": "stream",
     "text": [
      "5\n"
     ]
    }
   ],
   "source": [
    "my_list=[[1,2,3],[4,5,6]]\n",
    "print(my_list[1][1]) # 取出嵌套列表中的元素5"
   ]
  },
  {
   "cell_type": "code",
   "execution_count": 25,
   "id": "13990e3e",
   "metadata": {
    "scrolled": true
   },
   "outputs": [
    {
     "name": "stdout",
     "output_type": "stream",
     "text": [
      "itheima在列表中的下表索引值是：1。\n",
      "列表被修改元素后，新的列表是：['传智教育', 'itheima', 'python']。\n",
      "列表插入新元素后，结果是：['传智教育', 'best', 'itheima', 'python']。\n",
      "列表追加了新元素后，结果是：['传智教育', 'best', 'itheima', 'python', '黑马程序员']。\n",
      "列表在追加了一个新列表后，结果是：['传智教育', 'best', 'itheima', 'python', '黑马程序员', 1, 2, 3]。\n"
     ]
    }
   ],
   "source": [
    "mylist=['itcast','itheima','python']\n",
    "# 1-查找某元素在列表内的下标索引（如果该元素不存在，则会报错）\n",
    "index=mylist.index('itheima')\n",
    "print(f'itheima在列表中的下表索引值是：{index}。')\n",
    "# 2-修改特定下标索引的元素\n",
    "mylist[0]='传智教育'\n",
    "print(f'列表被修改元素后，新的列表是：{mylist}。')\n",
    "# 3-在指定下标位置插入新元素\n",
    "mylist.insert(1,'best')\n",
    "print(f'列表插入新元素后，结果是：{mylist}。')\n",
    "# 4-在列表尾部添加单个元素\n",
    "mylist.append('黑马程序员')\n",
    "print(f'列表追加了新元素后，结果是：{mylist}。')\n",
    "# 5-在列表的尾部追加一批新元素\n",
    "mylist2=[1,2,3]\n",
    "mylist.extend(mylist2)\n",
    "print(f'列表在追加了一个新列表后，结果是：{mylist}。')"
   ]
  },
  {
   "cell_type": "code",
   "execution_count": 26,
   "id": "e563e845",
   "metadata": {},
   "outputs": [
    {
     "name": "stdout",
     "output_type": "stream",
     "text": [
      "列表删除元素后，结果是：['itcast', 'itheima']。\n",
      "通过pop取出元素后，列表内容为：['itheima']，取出的元素是：itcast。\n"
     ]
    }
   ],
   "source": [
    "# 6-删除指定下标索引的元素（2种方式）\n",
    "mylist=['itcast','itheima','python']\n",
    "# 6.1-del 列表[下标]\n",
    "del mylist[2]\n",
    "print(f'列表删除元素后，结果是：{mylist}。')\n",
    "# 6.2-列表.pop(下标)\n",
    "element=mylist.pop(0)\n",
    "print(f'通过pop取出元素后，列表内容为：{mylist}，取出的元素是：{element}。')"
   ]
  },
  {
   "cell_type": "code",
   "execution_count": 28,
   "id": "5afe7e44",
   "metadata": {},
   "outputs": [
    {
     "name": "stdout",
     "output_type": "stream",
     "text": [
      "通过remove移除元素后，列表的结果是：['itcast', 'itcast', 'itheima', 'python']。\n",
      "列表被清空了，结果是：[]。\n"
     ]
    }
   ],
   "source": [
    "# 7-删除某个元素在列表中的第一个匹配项\n",
    "mylist=['itcast','itheima','itcast','itheima','python']\n",
    "mylist.remove('itheima')\n",
    "print(f'通过remove移除元素后，列表的结果是：{mylist}。')\n",
    "# 8-清空列表\n",
    "mylist.clear()\n",
    "print(f'列表被清空了，结果是：{mylist}。')"
   ]
  },
  {
   "cell_type": "code",
   "execution_count": 29,
   "id": "f3c30624",
   "metadata": {},
   "outputs": [
    {
     "name": "stdout",
     "output_type": "stream",
     "text": [
      "列表中itheima的数量是2。\n",
      "列表的元素数量总共有：5个。\n"
     ]
    }
   ],
   "source": [
    "# 9-统计列表内某元素的数量\n",
    "mylist=['itcast','itheima','itcast','itheima','python']\n",
    "count_itheima=mylist.count('itheima')\n",
    "print(f'列表中itheima的数量是{count_itheima}。')\n",
    "# 10-统计列表中全部元素的数量\n",
    "count=len(mylist)\n",
    "print(f'列表的元素数量总共有：{count}个。')"
   ]
  },
  {
   "cell_type": "markdown",
   "id": "332ece1d",
   "metadata": {},
   "source": [
    "#### 8.1.2 列表的使用案例"
   ]
  },
  {
   "cell_type": "code",
   "execution_count": 31,
   "id": "b066a754",
   "metadata": {},
   "outputs": [
    {
     "name": "stdout",
     "output_type": "stream",
     "text": [
      "从列表中取出的第一个元素，应该是21，实际上是：21。\n",
      "从列表中取出的最后一个元素，应该是30，实际上是：30。\n",
      "元素31在列表的下标位置是：6。\n",
      "最后列表的内容是：[21, 25, 21, 23, 22, 20, 31, 29, 33, 30]。\n"
     ]
    }
   ],
   "source": [
    "# 定义这个列表，并用变量接收它\n",
    "mylist=[21,25,21,23,22,20]\n",
    "# 追加数字31到列表尾部\n",
    "mylist.append(31)\n",
    "# 追加新列表【29，33，30】到列表尾部\n",
    "mylist.extend([29,33,30])\n",
    "# 取出第一个元素21\n",
    "num1=mylist[0]\n",
    "print(f'从列表中取出的第一个元素，应该是21，实际上是：{num1}。')\n",
    "# 取出最后一个元素30\n",
    "num2=mylist[-1]\n",
    "print(f'从列表中取出的最后一个元素，应该是30，实际上是：{num2}。')\n",
    "# 查找元素31在列表中的下标位置\n",
    "index=mylist.index(31)\n",
    "print(f'元素31在列表的下标位置是：{index}。')\n",
    "print(f'最后列表的内容是：{mylist}。')"
   ]
  },
  {
   "cell_type": "markdown",
   "id": "856a3625",
   "metadata": {},
   "source": [
    "#### 8.1.3 列表的循环遍历"
   ]
  },
  {
   "cell_type": "markdown",
   "id": "cbec6531",
   "metadata": {},
   "source": [
    "- 将容器内的元素**依次取出**进行处理的行为，称之为：遍历、迭代。"
   ]
  },
  {
   "cell_type": "code",
   "execution_count": 33,
   "id": "ff4dc063",
   "metadata": {},
   "outputs": [
    {
     "name": "stdout",
     "output_type": "stream",
     "text": [
      "列表的元素：itcast。\n",
      "列表的元素：itheima。\n",
      "列表的元素：python。\n"
     ]
    }
   ],
   "source": [
    "# 用while函数遍历列表\n",
    "mylist=['itcast','itheima','python']\n",
    "# 循环控制变量通过下标索引来控制，默认为0\n",
    "# 每次循环将下标索引变量+1\n",
    "# 循环条件：下标索引变量<列表的元素数量\n",
    "\n",
    "index=0 #定义一个变量来标记列表下标索引，初始值为0\n",
    "while index<len(mylist):\n",
    "    # 通过index变量取出对应下标的元素\n",
    "    element=mylist[index]\n",
    "    print(f'列表的元素：{element}。')\n",
    "    # 至关重要的是，将循环变量index每次循环都+1\n",
    "    index+=1"
   ]
  },
  {
   "cell_type": "code",
   "execution_count": 34,
   "id": "92ad1058",
   "metadata": {},
   "outputs": [
    {
     "name": "stdout",
     "output_type": "stream",
     "text": [
      "列表的元素有：1\n",
      "列表的元素有：2\n",
      "列表的元素有：3\n",
      "列表的元素有：4\n",
      "列表的元素有：5\n"
     ]
    }
   ],
   "source": [
    "# 用for函数遍历列表\n",
    "mylist=[1,2,3,4,5,]\n",
    "# for 临时变量 in 数据容器：\n",
    "for element in mylist:\n",
    "    print(f'列表的元素有：{element}')\n"
   ]
  },
  {
   "cell_type": "markdown",
   "id": "1f252e16",
   "metadata": {},
   "source": [
    "- while循环和for循环的不同点：\n",
    "    - 在循环控制上：\n",
    "        - while循环**可以**自定循环条件，并且自行控制。\n",
    "        - for循环**不可以**自定循环条件，只可以逐个从容器中取出数据。\n",
    "    - 在无限循环上：\n",
    "        - while循环**可以**通过条件控制做到无限循环。\n",
    "        - for循环理论上**不可以**通过条件控制做到无限循环，因为被遍历的容器的容量不是无限的。\n",
    "    - 在使用场景上：\n",
    "        - while循环适用于任何想要循环的场景。\n",
    "        - for循环适用于遍历数据容器的场景或简单的固定次数的循环场景。"
   ]
  },
  {
   "cell_type": "markdown",
   "id": "03d7cc4a",
   "metadata": {},
   "source": [
    "### 8.2 元组（tuple）\n",
    "\n",
    "- 元组的特点：\n",
    "    - 可以容纳多个数据。。\n",
    "    - 可以容纳不同类型的数据。\n",
    "    - 允许重复数据的存在。\n",
    "    - 数据是**有序**存储的（下标索引）。\n",
    "    - 支持for循环。\n",
    "    \n",
    "- 元组与列表类似，不同点在于：\n",
    "    - 元组的元素不能修改，但元组内列表的元素可以修改。\n",
    "    - 元组使用`(圆括号)`。\n",
    "    - 元组创建很简单，只需要在括号中添加元素，并使用逗号隔开即可。\n",
    "        - teacherName = (\"Suan\",\"Larry\",\"Robin\")\n",
    "        - teacherName[0]\n",
    "        - teacherName[-1]\n",
    "        - teacherName[1]= \"wrong\""
   ]
  },
  {
   "cell_type": "code",
   "execution_count": 56,
   "id": "5d964791",
   "metadata": {},
   "outputs": [],
   "source": [
    "a = (1,2,3)"
   ]
  },
  {
   "cell_type": "code",
   "execution_count": 57,
   "id": "3ce0049e",
   "metadata": {},
   "outputs": [
    {
     "data": {
      "text/plain": [
       "tuple"
      ]
     },
     "execution_count": 57,
     "metadata": {},
     "output_type": "execute_result"
    }
   ],
   "source": [
    "type(a)"
   ]
  },
  {
   "cell_type": "code",
   "execution_count": 58,
   "id": "6dd5ce63",
   "metadata": {},
   "outputs": [
    {
     "data": {
      "text/plain": [
       "1"
      ]
     },
     "execution_count": 58,
     "metadata": {},
     "output_type": "execute_result"
    }
   ],
   "source": [
    "a[0]"
   ]
  },
  {
   "cell_type": "code",
   "execution_count": 59,
   "id": "774c6b89",
   "metadata": {},
   "outputs": [
    {
     "ename": "TypeError",
     "evalue": "'tuple' object does not support item assignment",
     "output_type": "error",
     "traceback": [
      "\u001b[0;31m---------------------------------------------------------------------------\u001b[0m",
      "\u001b[0;31mTypeError\u001b[0m                                 Traceback (most recent call last)",
      "\u001b[0;32m/var/folders/14/pj985hh56sl5pj_j6y0ldsk00000gn/T/ipykernel_3731/4200666372.py\u001b[0m in \u001b[0;36m<module>\u001b[0;34m\u001b[0m\n\u001b[0;32m----> 1\u001b[0;31m \u001b[0ma\u001b[0m\u001b[0;34m[\u001b[0m\u001b[0;36m0\u001b[0m\u001b[0;34m]\u001b[0m \u001b[0;34m=\u001b[0m \u001b[0;34m'he'\u001b[0m\u001b[0;34m\u001b[0m\u001b[0;34m\u001b[0m\u001b[0m\n\u001b[0m",
      "\u001b[0;31mTypeError\u001b[0m: 'tuple' object does not support item assignment"
     ]
    }
   ],
   "source": [
    "a[0] = 'he'"
   ]
  },
  {
   "cell_type": "markdown",
   "id": "dbc18878",
   "metadata": {},
   "source": [
    "- 这说明元组不支持赋值。"
   ]
  },
  {
   "cell_type": "markdown",
   "id": "2074f719",
   "metadata": {},
   "source": [
    "- 以上案例表面：元组适用于字符串的格式化，以及为了数据安全而不方便修改的内容。"
   ]
  },
  {
   "cell_type": "code",
   "execution_count": 39,
   "id": "8e98b975",
   "metadata": {},
   "outputs": [
    {
     "name": "stdout",
     "output_type": "stream",
     "text": [
      "t1的内容是：(1, 2, ['itheima', 'itcast'])。\n",
      "t1的内容是：(1, 2, ['黑马程序员', '传智教育'])。\n"
     ]
    }
   ],
   "source": [
    "t1=(1,2,['itheima','itcast'])\n",
    "print(f't1的内容是：{t1}。')\n",
    "t1[2][0]='黑马程序员'\n",
    "t1[2][1]='传智教育'\n",
    "print(f't1的内容是：{t1}。')"
   ]
  },
  {
   "cell_type": "markdown",
   "id": "d8d618b1",
   "metadata": {},
   "source": [
    "- 元组的操作："
   ]
  },
  {
   "cell_type": "code",
   "execution_count": 38,
   "id": "0558fcb1",
   "metadata": {},
   "outputs": [
    {
     "name": "stdout",
     "output_type": "stream",
     "text": [
      "t5的类型是：<class 'tuple'>，内容是：((1, 2, 3), (4, 5, 6))。\n",
      "从嵌套元组中取出的数据是：6。\n",
      "在元组t6中查找黑马程序员的下标是：1。\n",
      "在元组t7中黑马程序员的数量有：3个。\n",
      "t7元组中的元素有：5个。\n",
      "元组t7的元素有[0]\n",
      "元组t7的元素有[1]\n",
      "元组t7的元素有[2]\n",
      "元组t7的元素有[3]\n",
      "元组t7的元素有[4]\n",
      "元组t7的元素有传智教育。\n",
      "元组t7的元素有黑马程序员。\n",
      "元组t7的元素有黑马程序员。\n",
      "元组t7的元素有黑马程序员。\n",
      "元组t7的元素有Python。\n"
     ]
    }
   ],
   "source": [
    "# 元组的嵌套\n",
    "t5=((1,2,3),(4,5,6))\n",
    "print(f't5的类型是：{type(t5)}，内容是：{t5}。')\n",
    "\n",
    "# 下标索引取出内容\n",
    "num=t5[1][2]\n",
    "print(f'从嵌套元组中取出的数据是：{num}。')\n",
    "\n",
    "# index查找方法\n",
    "t6=('传智教育','黑马程序员','Python')\n",
    "index=t6.index('黑马程序员')\n",
    "print(f'在元组t6中查找黑马程序员的下标是：{index}。')\n",
    "\n",
    "# count统计方法\n",
    "t7=('传智教育','黑马程序员','黑马程序员','黑马程序员','Python')\n",
    "num=t7.count('黑马程序员')\n",
    "print(f'在元组t7中黑马程序员的数量有：{num}个。')\n",
    "\n",
    "# len函数统计元组中元素的数量\n",
    "num=len(t7)\n",
    "print(f't7元组中的元素有：{num}个。')\n",
    "\n",
    "# 元组的遍历（while）\n",
    "index=0\n",
    "while index<len(t7):\n",
    "    print(f'元组t7的元素有{[index]}')\n",
    "    # 至关重要\n",
    "    index+=1\n",
    "\n",
    "# 元组的遍历（for）\n",
    "for element in t7:\n",
    "    print(f'元组t7的元素有{element}。')"
   ]
  },
  {
   "cell_type": "markdown",
   "id": "fda29a3e",
   "metadata": {},
   "source": [
    "- 练习案例"
   ]
  },
  {
   "cell_type": "code",
   "execution_count": 16,
   "id": "f133b579",
   "metadata": {},
   "outputs": [
    {
     "name": "stdout",
     "output_type": "stream",
     "text": [
      "周杰伦的年龄所在的下标位置是：1。\n",
      "学生的姓名是：周杰伦。\n",
      "删除爱好football后，元组t0的内容是：('周杰伦', '11', ['music'])。\n",
      "增加新爱好后的元组内容为：('周杰伦', '11', ['music', 'coding'])。\n"
     ]
    }
   ],
   "source": [
    "# 定义一个元组\n",
    "t0=('周杰伦','11',['football','music'])\n",
    "# 查询其年龄所在的下标位置\n",
    "index=t0.index('11')\n",
    "print(f'周杰伦的年龄所在的下标位置是：{index}。')\n",
    "# 查询学生姓名\n",
    "name=t0[0]\n",
    "print(f'学生的姓名是：{name}。')\n",
    "# 删除爱好中的football\n",
    "del t0[2][0]\n",
    "print(f'删除爱好football后，元组t0的内容是：{t0}。')\n",
    "# 增加爱好coding到爱好列表内\n",
    "# mylist.append('黑马程序员')\n",
    "t0[2].append('coding')\n",
    "print(f'增加新爱好后的元组内容为：{t0}。')"
   ]
  },
  {
   "cell_type": "markdown",
   "id": "9bdb6854",
   "metadata": {},
   "source": [
    "### 8.3 集合（set）\n",
    "\n",
    "- 集合是一个包含**无序不重复**元素的序列，因此不支持下标索引访问。\n",
    "\n",
    "- 基本功能：**删除重复元素**。\n",
    "\n",
    "- 创建：{ }或者set( )。"
   ]
  },
  {
   "cell_type": "code",
   "execution_count": 60,
   "id": "d11a7160",
   "metadata": {},
   "outputs": [
    {
     "data": {
      "text/plain": [
       "{1, 2, 3, 4, 5}"
      ]
     },
     "execution_count": 60,
     "metadata": {},
     "output_type": "execute_result"
    }
   ],
   "source": [
    "s = {} #创建空集合\n",
    "s1 = set([1,1,1,2,3,3,4,5])\n",
    "s1"
   ]
  },
  {
   "cell_type": "code",
   "execution_count": 49,
   "id": "2287d545",
   "metadata": {},
   "outputs": [
    {
     "name": "stdout",
     "output_type": "stream",
     "text": [
      "my_set的内容是：{1, 2, 3, 4, 5}，类型是：<class 'set'>\n",
      "my_set_empty的内容是：set()，类型是：<class 'set'>\n",
      "my_set添加新元素后结果是：{1, 2, 3, 4, 5, 'Python'}。\n",
      "my_set移除元素2后结果是：{1, 3, 4, 5, 'Python'}。\n",
      "从集合中取出的元素是：1，取出元素后的集合是：{3, 4, 5, 'Python'}。\n",
      "集合清空后结果是：set()。\n"
     ]
    }
   ],
   "source": [
    "# 定义集合\n",
    "my_set={1,1,1,2,3,3,4,5}\n",
    "my_set_empty=set() # 定义空集合\n",
    "print(f'my_set的内容是：{my_set}，类型是：{type(my_set)}')\n",
    "print(f'my_set_empty的内容是：{my_set_empty}，类型是：{type(my_set_empty)}')\n",
    "# 添加新元素\n",
    "my_set.add('Python')\n",
    "print(f'my_set添加新元素后结果是：{my_set}。')\n",
    "# 移除元素\n",
    "my_set.remove(2)\n",
    "print(f'my_set移除元素2后结果是：{my_set}。')\n",
    "# 随机取出一个元素\n",
    "element=my_set.pop()\n",
    "print(f'从集合中取出的元素是：{element}，取出元素后的集合是：{my_set}。')\n",
    "# 清空集合，使用clear\n",
    "my_set.clear()\n",
    "print(f'集合清空后结果是：{my_set}。')"
   ]
  },
  {
   "cell_type": "code",
   "execution_count": 59,
   "id": "5c60c499",
   "metadata": {},
   "outputs": [
    {
     "name": "stdout",
     "output_type": "stream",
     "text": [
      "set1取出与set2的差集后，所得的结果是：{2, 3}。\n",
      "取出差集后，原有set1的内容是：{1, 2, 3}。\n",
      "取出差集后，原有set2的内容是：{1, 5, 6}。\n",
      "消除差集后，set1的结果是：{2, 3}。\n",
      "消除差集后，set2的结果是：{1, 5, 6}。\n",
      "合并2个集合后，所得结果为：{1, 2, 3, 5, 6}。\n",
      "合并2个集合后，set1的结果是：{2, 3}。\n",
      "合并2个集合后，set2的结果是：{1, 5, 6}。\n",
      "set5内的元素数量有5个。\n",
      "在set6中的元素有：1。\n",
      "在set6中的元素有：2。\n",
      "在set6中的元素有：3。\n",
      "在set6中的元素有：4。\n",
      "在set6中的元素有：5。\n"
     ]
    }
   ],
   "source": [
    "# 取2个集合的差集\n",
    "set1={1,2,3}\n",
    "set2={1,5,6}\n",
    "set3=set1.difference(set2)\n",
    "print(f'set1取出与set2的差集后，所得的结果是：{set3}。')\n",
    "print(f'取出差集后，原有set1的内容是：{set1}。')\n",
    "print(f'取出差集后，原有set2的内容是：{set2}。')\n",
    "# 消除2个集合的差集，即删除某集合内的相同元素\n",
    "set1.difference_update(set2) #删除set1中与set2相同的元素\n",
    "print(f'消除差集后，set1的结果是：{set1}。')\n",
    "print(f'消除差集后，set2的结果是：{set2}。')\n",
    "# 合并2个集合\n",
    "set4=set1.union(set2)\n",
    "print(f'合并2个集合后，所得结果为：{set4}。')\n",
    "print(f'合并2个集合后，set1的结果是：{set1}。')\n",
    "print(f'合并2个集合后，set2的结果是：{set2}。')\n",
    "# 统计集合内元素的数量，使用len（）函数\n",
    "set5={1,2,3,4,5,1,2,3,4,5}\n",
    "num=len(set5)\n",
    "print(f'set5内的元素数量有{num}个。')\n",
    "# 集合的遍历\n",
    "# 集合不支持下标索引，因此不能使用while循环\n",
    "# 但可以使用for循环\n",
    "set6={1,2,3,4,5}\n",
    "for element in set6:\n",
    "    print(f'在set6中的元素有：{element}。')"
   ]
  },
  {
   "cell_type": "markdown",
   "id": "2bc74ad5",
   "metadata": {},
   "source": [
    "- 集合的案例："
   ]
  },
  {
   "cell_type": "code",
   "execution_count": 60,
   "id": "a8788a8d",
   "metadata": {},
   "outputs": [
    {
     "name": "stdout",
     "output_type": "stream",
     "text": [
      "my_list列表中的内容是：['黑马程序员', '传智播客', '黑马程序员', '传智播客', 'itheima', 'itcast', 'itheima', 'itcast', 'best']。\n",
      "通过for循环后，得到的集合对象是：{'itcast', '传智播客', 'itheima', '黑马程序员', 'best'}。\n"
     ]
    }
   ],
   "source": [
    "my_list=['黑马程序员','传智播客','黑马程序员','传智播客','itheima','itcast','itheima','itcast','best']\n",
    "# 定义一个空集合\n",
    "my_set=set()\n",
    "# for循环遍历列表\n",
    "for element in my_list:\n",
    "    # 在for循环中将列表的元素添加至集合\n",
    "    my_set.add(element)\n",
    "# 最终得到元素去重后的集合对象，并打印输出\n",
    "print(f'my_list列表中的内容是：{my_list}。')\n",
    "print(f'通过for循环后，得到的集合对象是：{my_set}。')"
   ]
  },
  {
   "cell_type": "markdown",
   "id": "b4add541",
   "metadata": {},
   "source": [
    "### 8.4 字典（dict）\n",
    "\n",
    "- 字典的每个键值（key=>value）对，用冒号`:`分割，每个对之间，用逗号`,`分割，整个字典包括在花括号`{ }`中，格式如下所示：d = {key1:value1,key2:value2}。\n",
    "\n",
    "- 键必须是唯一的，但值则不必。"
   ]
  },
  {
   "cell_type": "code",
   "execution_count": 61,
   "id": "7c29062d",
   "metadata": {},
   "outputs": [
    {
     "name": "stdout",
     "output_type": "stream",
     "text": [
      "my_dict1的内容是：{'gene1': 'AAAAAAA', 'gene2': 'CCCCCCCCC'}，类型是：<class 'dict'>。\n",
      "my_dict2的内容是：{}，类型是：<class 'dict'>。\n",
      "my_dict3的内容是：{}，类型是：<class 'dict'>。\n"
     ]
    }
   ],
   "source": [
    "# 创建一个字典\n",
    "my_dict1={'gene1':'AAAAAAA','gene2':'CCCCCCCCC'}\n",
    "# 定义空字典\n",
    "my_dict2={}\n",
    "my_dict3=dict()\n",
    "print(f'my_dict1的内容是：{my_dict1}，类型是：{type(my_dict1)}。')\n",
    "print(f'my_dict2的内容是：{my_dict2}，类型是：{type(my_dict2)}。')\n",
    "print(f'my_dict3的内容是：{my_dict3}，类型是：{type(my_dict3)}。')"
   ]
  },
  {
   "cell_type": "code",
   "execution_count": 72,
   "id": "75c9dd65",
   "metadata": {},
   "outputs": [
    {
     "name": "stdout",
     "output_type": "stream",
     "text": [
      "gene1的序列是：AAAAAAA。\n",
      "添加新的键值对后，my_dict1的内容是：{'gene1': 'AAAAAAA', 'gene2': 'CCCCCCCCC', 'gene3': 'GGGGGGGGGG'}。\n",
      "gene1更新后，my_dict1的内容是：{'gene1': 'BBBBBBBB', 'gene2': 'CCCCCCCCC', 'gene3': 'GGGGGGGGGG'}。\n"
     ]
    }
   ],
   "source": [
    "# 通过键名gene1取出对应的值\n",
    "value1=my_dict1['gene1']\n",
    "print(f'gene1的序列是：{value1}。')\n",
    "# 添加新的键值对\n",
    "my_dict1['gene3'] = 'GGGGGGGGGG'\n",
    "print(f'添加新的键值对后，my_dict1的内容是：{my_dict1}。')\n",
    "# 更新键值对\n",
    "my_dict1['gene1']='BBBBBBBB'\n",
    "print(f'gene1更新后，my_dict1的内容是：{my_dict1}。')"
   ]
  },
  {
   "cell_type": "code",
   "execution_count": 73,
   "id": "5cb39613",
   "metadata": {},
   "outputs": [
    {
     "name": "stdout",
     "output_type": "stream",
     "text": [
      "gene1====>BBBBBBBB\n",
      "gene2====>CCCCCCCCC\n",
      "gene3====>GGGGGGGGGG\n"
     ]
    }
   ],
   "source": [
    "# for循环取出所有键值对\n",
    "for key in my_dict1:\n",
    "    value = my_dict1[key]\n",
    "    print(key+'====>'+value)"
   ]
  },
  {
   "cell_type": "code",
   "execution_count": 85,
   "id": "2ae76bee",
   "metadata": {},
   "outputs": [
    {
     "name": "stdout",
     "output_type": "stream",
     "text": [
      "my_dict1被移除了一个元素后，结果是：{'gene1': 'AAAAAAA', 'gene3': 'CCCCCCCCC', 'gene4': 'DDDDDDDD'}，gene2的序列是：BBBBBBBBB。\n",
      "my_dict4中全部的key是：dict_keys(['gene1', 'gene3', 'gene4'])。\n",
      "my_dict4的key是gene1。\n",
      "my_dict4的value是：AAAAAAA。\n",
      "my_dict4的key是gene3。\n",
      "my_dict4的value是：CCCCCCCCC。\n",
      "my_dict4的key是gene4。\n",
      "my_dict4的value是：DDDDDDDD。\n",
      "my_dict4的key是gene1。\n",
      "my_dict4的value是：AAAAAAA。\n",
      "my_dict4的key是gene3。\n",
      "my_dict4的value是：CCCCCCCCC。\n",
      "my_dict4的key是gene4。\n",
      "my_dict4的value是：DDDDDDDD。\n",
      "my_dict4中的元素数量有3个。\n",
      "my_dict4被清空后，结果为：{}。\n"
     ]
    }
   ],
   "source": [
    "my_dict4={'gene1':'AAAAAAA','gene2':'BBBBBBBBB','gene3':'CCCCCCCCC','gene4':'DDDDDDDD'}\n",
    "# 删除元素\n",
    "seq=my_dict4.pop('gene2')\n",
    "print(f'my_dict1被移除了一个元素后，结果是：{my_dict4}，gene2的序列是：{seq}。')\n",
    "# 获取全部的key\n",
    "keys=my_dict4.keys()\n",
    "print(f'my_dict4中全部的key是：{keys}。')\n",
    "# 用for循环遍历字典\n",
    "# 方法一：\n",
    "for key in keys:\n",
    "    print(f'my_dict4的key是{key}。')\n",
    "    print(f'my_dict4的value是：{my_dict4[key]}。')\n",
    "# 方法二：\n",
    "for key in my_dict4:\n",
    "    print(f'my_dict4的key是{key}。')\n",
    "    print(f'my_dict4的value是：{my_dict4[key]}。')\n",
    "# 统计字典内元素的数量\n",
    "num=len(my_dict4)\n",
    "print(f'my_dict4中的元素数量有{num}个。')\n",
    "# 清空字典\n",
    "my_dict4.clear()\n",
    "print(f'my_dict4被清空后，结果为：{my_dict4}。')"
   ]
  },
  {
   "cell_type": "code",
   "execution_count": 71,
   "id": "ce8bab7b",
   "metadata": {},
   "outputs": [
    {
     "name": "stdout",
     "output_type": "stream",
     "text": [
      "学生的考试成绩是：{'Tom': {'AAA': 99, 'BBB': 88, 'CCC': 77}, 'Lucy': {'AAA': 95, 'BBB': 85, 'CCC': 75}, 'Bob': {'AAA': 90, 'BBB': 80, 'CCC': 70}}。\n",
      "Tom的BBB分数是：88\n"
     ]
    }
   ],
   "source": [
    "# 定义嵌套字典\n",
    "stu_score_dict={\n",
    "    'Tom':{\n",
    "        'AAA':99,\n",
    "        'BBB':88,\n",
    "        'CCC':77\n",
    "    },'Lucy':{\n",
    "        'AAA':95,\n",
    "        'BBB':85,\n",
    "        'CCC':75\n",
    "    },'Bob':{\n",
    "        'AAA':90,\n",
    "        'BBB':80,\n",
    "        'CCC':70\n",
    "    }\n",
    "}\n",
    "print(f'学生的考试成绩是：{stu_score_dict}。')\n",
    "\n",
    "# 从嵌套字典中获取信息\n",
    "# 查看Tom的BBB的分数\n",
    "score=stu_score_dict['Tom']['BBB']\n",
    "print(f'Tom的BBB分数是：{score}')"
   ]
  },
  {
   "cell_type": "markdown",
   "id": "47c6c0ab",
   "metadata": {},
   "source": [
    "- 案例：升职加薪，对所有级别为1级的员工，级别上升1级，薪水增加1千元"
   ]
  },
  {
   "cell_type": "code",
   "execution_count": 1,
   "id": "e441eaa2",
   "metadata": {},
   "outputs": [
    {
     "name": "stdout",
     "output_type": "stream",
     "text": [
      "员工在升级加薪之前的情况是：{'Tom': {'部门': '科技部', '工资': 3000, '级别': 1}, 'Bob': {'部门': '市场部', '工资': 5000, '级别': 2}, 'Jim': {'部门': '市场部', '工资': 7000, '级别': 3}, 'Cook': {'部门': '科技部', '工资': 4000, '级别': 1}, 'Jobs': {'部门': '市场部', '工资': 6000, '级别': 2}}。\n",
      "对员工进行升级加薪的结果是：{'Tom': {'部门': '科技部', '工资': 4000, '级别': 2}, 'Bob': {'部门': '市场部', '工资': 5000, '级别': 2}, 'Jim': {'部门': '市场部', '工资': 7000, '级别': 3}, 'Cook': {'部门': '科技部', '工资': 5000, '级别': 2}, 'Jobs': {'部门': '市场部', '工资': 6000, '级别': 2}}。\n"
     ]
    }
   ],
   "source": [
    "# 组织字典记录数据\n",
    "info_dict={\n",
    "    'Tom':{\n",
    "        '部门':'科技部',\n",
    "        '工资':3000,\n",
    "        '级别':1\n",
    "    },\n",
    "    'Bob':{\n",
    "        '部门':'市场部',\n",
    "        '工资':5000,\n",
    "        '级别':2\n",
    "    },\n",
    "    'Jim':{\n",
    "        '部门':'市场部',\n",
    "        '工资':7000,\n",
    "        '级别':3\n",
    "    },\n",
    "    'Cook':{\n",
    "        '部门':'科技部',\n",
    "        '工资':4000,\n",
    "        '级别':1\n",
    "    },\n",
    "    'Jobs':{\n",
    "        '部门':'市场部',\n",
    "        '工资':6000,\n",
    "        '级别':2\n",
    "    },\n",
    "}\n",
    "\n",
    "print(f'员工在升级加薪之前的情况是：{info_dict}。')\n",
    "# for循环遍历字典\n",
    "for name in info_dict:\n",
    "    # if条件判断符合条件的员工\n",
    "    if info_dict[name]['级别']==1:\n",
    "        # 升级加薪\n",
    "        # 获取员工的信息字典\n",
    "        employee_info_dict=info_dict[name]\n",
    "        #修改员工信息\n",
    "        employee_info_dict['级别']=2   # 级别+1\n",
    "        employee_info_dict['工资']+=1000   # 工资+1000\n",
    "        # 将员工的信息更新回info_dict\n",
    "        info_dict[name]=employee_info_dict\n",
    "# 输出结果\n",
    "print(f'对员工进行升级加薪的结果是：{info_dict}。')"
   ]
  },
  {
   "cell_type": "markdown",
   "id": "7247a182",
   "metadata": {},
   "source": [
    "### 8.5 数据容器小结\n",
    "\n",
    "- 是否支持下标索引：\n",
    "    - 支持：列表、元组、字符串，都是序列类型。\n",
    "    - 不支持：集合、字典，都是非序列类型。\n",
    "- 是否支持重复元素：\n",
    "    - 支持：列表、元组、字符串，都是序列类型。\n",
    "    - 不支持：集合、字典，都是非序列类型。\n",
    "- 是否可以修改：\n",
    "    - 支持：列表、集合、字典。\n",
    "    - 不支持：元组、字符串。\n",
    "- 使用场景：\n",
    "    - 列表：一批数据，**可修改**、可重复的储存场景。\n",
    "    - 元组：一批数据，**不可修改**、可重复的储存场景。\n",
    "    - 字符串：一串字符串的储存场景。\n",
    "    - 集合：一批数据，**去重**储存场景。\n",
    "    - 字典：一批数据，可**用key检索value**的储存场景。"
   ]
  },
  {
   "cell_type": "markdown",
   "id": "c159015d",
   "metadata": {},
   "source": [
    "### 8.6 数据容器的通用操作\n",
    "\n",
    "- 5类数据容器都支持for循环遍历，列表、元组、字符串支持while循环，集合字典不支持（无法下标索引）。"
   ]
  },
  {
   "cell_type": "markdown",
   "id": "b70a6b63",
   "metadata": {},
   "source": [
    "- 通用统计功能：\n",
    "    - len(容器)：统计容器的元素个数。\n",
    "    - max(容器)：统计容器内的最大元素。\n",
    "    - min(容器)：统计容器内的最小元素。"
   ]
  },
  {
   "cell_type": "code",
   "execution_count": 7,
   "id": "ee990fc5",
   "metadata": {},
   "outputs": [
    {
     "name": "stdout",
     "output_type": "stream",
     "text": [
      "列表元素有5个。\n",
      "元组元素有5个。\n",
      "字符串元素有5个。\n",
      "集合元素有5个。\n",
      "字典元素有5个。\n",
      "列表中最大的元素是5。\n",
      "元组中最大的元素是5。\n",
      "字符串中最大的元素是5。\n",
      "集合中最大的元素是5。\n",
      "字典中最大的元素是5。\n",
      "列表中最小的元素是1。\n",
      "元组中最小的元素是1。\n",
      "字符串中最小的元素是1。\n",
      "集合中最小的元素是1。\n",
      "字典中最小的元素是1。\n"
     ]
    }
   ],
   "source": [
    "my_list=[1,2,3,4,5]\n",
    "my_tuple=(1,2,3,4,5)\n",
    "my_str='abcdefg'\n",
    "my_set={1,2,3,4,5}\n",
    "my_dict={'key1':1,'key2':2,'key3':3,'key4':4,'key5':5}\n",
    "print(f'列表元素有{len(my_list)}个。')\n",
    "print(f'元组元素有{len(my_list)}个。')\n",
    "print(f'字符串元素有{len(my_list)}个。')\n",
    "print(f'集合元素有{len(my_list)}个。')\n",
    "print(f'字典元素有{len(my_list)}个。')\n",
    "\n",
    "print(f'列表中最大的元素是{max(my_list)}。')\n",
    "print(f'元组中最大的元素是{max(my_list)}。')\n",
    "print(f'字符串中最大的元素是{max(my_list)}。')\n",
    "print(f'集合中最大的元素是{max(my_list)}。')\n",
    "print(f'字典中最大的元素是{max(my_list)}。')\n",
    "\n",
    "print(f'列表中最小的元素是{min(my_list)}。')\n",
    "print(f'元组中最小的元素是{min(my_list)}。')\n",
    "print(f'字符串中最小的元素是{min(my_list)}。')\n",
    "print(f'集合中最小的元素是{min(my_list)}。')\n",
    "print(f'字典中最小的元素是{min(my_list)}。')"
   ]
  },
  {
   "cell_type": "markdown",
   "id": "3abdb1a1",
   "metadata": {},
   "source": [
    "- 通用转换功能：\n",
    "    - 将给定容器转换为列表。\n",
    "    - 将给定容器转换为字符串。\n",
    "    - 将给定容器转换为元组。\n",
    "    - 将给定容器转换为集合。"
   ]
  },
  {
   "cell_type": "code",
   "execution_count": 11,
   "id": "d193b4a6",
   "metadata": {},
   "outputs": [
    {
     "name": "stdout",
     "output_type": "stream",
     "text": [
      "列表转列表的结果是：[1, 2, 3, 4, 5]。\n",
      "元组转列表的结果是：[1, 2, 3, 4, 5]。\n",
      "字符串转列表的结果是：['a', 'b', 'c', 'd', 'e', 'f', 'g']。\n",
      "集合转列表的结果是：[1, 2, 3, 4, 5]。\n",
      "字典转列表的结果是：['key1', 'key2', 'key3', 'key4', 'key5']。\n",
      "列表转字符串的结果是：[1, 2, 3, 4, 5]。\n",
      "元组转字符串的结果是：(1, 2, 3, 4, 5)。\n",
      "字符串转字符串的结果是：abcdefg。\n",
      "集合转字符串的结果是：{1, 2, 3, 4, 5}。\n",
      "字典转字符串的结果是：{'key1': 1, 'key2': 2, 'key3': 3, 'key4': 4, 'key5': 5}。\n",
      "列表转元组的结果是：(1, 2, 3, 4, 5)。\n",
      "元组转元组的结果是：(1, 2, 3, 4, 5)。\n",
      "字符串转元组的结果是：('a', 'b', 'c', 'd', 'e', 'f', 'g')。\n",
      "集合转元组的结果是：(1, 2, 3, 4, 5)。\n",
      "字典转元组的结果是：('key1', 'key2', 'key3', 'key4', 'key5')。\n",
      "列表转集合的结果是：{1, 2, 3, 4, 5}。\n",
      "元组转集合的结果是：{1, 2, 3, 4, 5}。\n",
      "字符串转集合的结果是：{'e', 'b', 'c', 'd', 'f', 'g', 'a'}。\n",
      "集合转集合的结果是：{1, 2, 3, 4, 5}。\n",
      "字典转集合的结果是：{'key4', 'key2', 'key5', 'key3', 'key1'}。\n"
     ]
    }
   ],
   "source": [
    "print(f'列表转列表的结果是：{list(my_list)}。')\n",
    "print(f'元组转列表的结果是：{list(my_tuple)}。')\n",
    "print(f'字符串转列表的结果是：{list(my_str)}。')\n",
    "print(f'集合转列表的结果是：{list(my_set)}。')\n",
    "print(f'字典转列表的结果是：{list(my_dict)}。')\n",
    "\n",
    "print(f'列表转字符串的结果是：{str(my_list)}。')\n",
    "print(f'元组转字符串的结果是：{str(my_tuple)}。')\n",
    "print(f'字符串转字符串的结果是：{str(my_str)}。')\n",
    "print(f'集合转字符串的结果是：{str(my_set)}。')\n",
    "print(f'字典转字符串的结果是：{str(my_dict)}。')\n",
    "\n",
    "print(f'列表转元组的结果是：{tuple(my_list)}。')\n",
    "print(f'元组转元组的结果是：{tuple(my_tuple)}。')\n",
    "print(f'字符串转元组的结果是：{tuple(my_str)}。')\n",
    "print(f'集合转元组的结果是：{tuple(my_set)}。')\n",
    "print(f'字典转元组的结果是：{tuple(my_dict)}。')\n",
    "\n",
    "print(f'列表转集合的结果是：{set(my_list)}。')\n",
    "print(f'元组转集合的结果是：{set(my_tuple)}。')\n",
    "print(f'字符串转集合的结果是：{set(my_str)}。')\n",
    "print(f'集合转集合的结果是：{set(my_set)}。')\n",
    "print(f'字典转集合的结果是：{set(my_dict)}。')"
   ]
  },
  {
   "cell_type": "markdown",
   "id": "50d9b858",
   "metadata": {},
   "source": [
    "- 通用排序功能：sorted(容器,[reverse=True])，其结果都会变成列表。"
   ]
  },
  {
   "cell_type": "code",
   "execution_count": 13,
   "id": "7306fb81",
   "metadata": {},
   "outputs": [
    {
     "name": "stdout",
     "output_type": "stream",
     "text": [
      "列表对象的排序结果是：[1, 2, 3, 4, 5]。\n",
      "元组对象的排序结果是：[1, 2, 3, 4, 5]。\n",
      "字符串对象的排序结果是：['a', 'b', 'c', 'd', 'e', 'f', 'g']。\n",
      "集合对象的排序结果是：[1, 2, 3, 4, 5]。\n",
      "字典对象的排序结果是：['key1', 'key2', 'key3', 'key4', 'key5']。\n",
      "列表对象的反向排序结果是：[5, 4, 3, 2, 1]。\n",
      "元组对象的反向排序结果是：[5, 4, 3, 2, 1]。\n",
      "字符串对象的反向排序结果是：['g', 'f', 'e', 'd', 'c', 'b', 'a']。\n",
      "集合对象的反向排序结果是：[5, 4, 3, 2, 1]。\n",
      "字典对象的反向排序结果是：['key5', 'key4', 'key3', 'key2', 'key1']。\n"
     ]
    }
   ],
   "source": [
    "my_list=[3,1,2,5,4]\n",
    "my_tuple=(3,1,2,5,4)\n",
    "my_str='cbdagfe'\n",
    "my_set={3,1,2,5,4}\n",
    "my_dict={'key3':1,'key1':2,'key2':3,'key5':4,'key4':5}\n",
    "print(f'列表对象的排序结果是：{sorted(my_list)}。')\n",
    "print(f'元组对象的排序结果是：{sorted(my_tuple)}。')\n",
    "print(f'字符串对象的排序结果是：{sorted(my_str)}。')\n",
    "print(f'集合对象的排序结果是：{sorted(my_set)}。')\n",
    "print(f'字典对象的排序结果是：{sorted(my_dict)}。')\n",
    "\n",
    "print(f'列表对象的反向排序结果是：{sorted(my_list,reverse=True)}。')\n",
    "print(f'元组对象的反向排序结果是：{sorted(my_tuple,reverse=True)}。')\n",
    "print(f'字符串对象的反向排序结果是：{sorted(my_str,reverse=True)}。')\n",
    "print(f'集合对象的反向排序结果是：{sorted(my_set,reverse=True)}。')\n",
    "print(f'字典对象的反向排序结果是：{sorted(my_dict,reverse=True)}。')"
   ]
  },
  {
   "cell_type": "markdown",
   "id": "5761f54b",
   "metadata": {},
   "source": [
    "## 9 文件操作\n",
    "\n",
    "### 9.1 文件的编码\n",
    "\n",
    "- 定义：将内容翻译成二进制，或将二进制翻译回可识别内容。"
   ]
  },
  {
   "cell_type": "markdown",
   "id": "2f4f8a47",
   "metadata": {},
   "source": [
    "### 9.2 文件的读取\n",
    "\n",
    "- open( )方法返回一个文件对象，最常使用的为两个参数：\n",
    "    - 文件对象 = open('文件路径','模式')\n",
    "    \n",
    "- mode参数：\n",
    "    - `r` 只读模式：只能查看，不能修改。\n",
    "    - `w` 只写模式：之前的同名文件被覆盖。\n",
    "    - `a` 添加模式：数据都添加到末尾，打开文件。\n",
    "    \n",
    "- 读取文件\n",
    "    - 文件对象.readline( )：一次读入一行。\n",
    "    - 文件对象.read( )：如首次使用read方法，则读取全部内容，否则将读取将剩余未读取内容。\n",
    "        - 如需去除开头和结尾的空格和换行符（\\n），则使用`对象.strip()`去除首尾空格和换行符。\n",
    "    - 文件对象.close( )：在完成读取/写入时，必须关闭打开的文件对象，否则无法从外部修改或者删除该文件。\n",
    "        - 如希望文件在执行完函数调用后直接关闭，则可以考虑使用with open语句，配合for循环，当循环结束时，文件自动关闭。"
   ]
  },
  {
   "cell_type": "markdown",
   "id": "fceb9659",
   "metadata": {},
   "source": [
    "- 查找文件路径\n",
    "    - macOS：选择文件，按Option+Command+C，即可复制路径。\n",
    "    - Windows：选择文件，按住shift，鼠标右键复制路径（粘贴时要注意将`\\`变成`/`）。\n",
    "        - 推荐使用[Path Copy Copy](https://pathcopycopy.github.io)。默认情况下Windows的文件路径是backslash（\\），UNIX系文件路径是 forward slash(/）。在这个软件里，如果选择复制Long Path那就是Windows类型，如果选择UNIX Path就是UNIX类型。"
   ]
  },
  {
   "cell_type": "code",
   "execution_count": 23,
   "id": "5ae827cf",
   "metadata": {},
   "outputs": [
    {
     "data": {
      "text/plain": [
       "'>gi|2765658|emb|Z78533.1|CIZ78533 C.irapeanum 5.8S rRNA gene and ITS1 and ITS2 DNA\\n'"
      ]
     },
     "execution_count": 23,
     "metadata": {},
     "output_type": "execute_result"
    }
   ],
   "source": [
    "file = open('/Users/liang.hanqing/Documents/jupyter/Biopython/examples/ls_orchid.fasta','r')\n",
    "file.readline() #读文件的第一行"
   ]
  },
  {
   "cell_type": "code",
   "execution_count": 24,
   "id": "33c25b21",
   "metadata": {},
   "outputs": [
    {
     "data": {
      "text/plain": [
       "'CGTAACAAGGTTTCCGTAGGTGAACCTGCGGAAGGATCATTGATGAGACCGTGGAATAAACGATCGAGTG\\n'"
      ]
     },
     "execution_count": 24,
     "metadata": {},
     "output_type": "execute_result"
    }
   ],
   "source": [
    "file.readline() # 读文件的第二行"
   ]
  },
  {
   "cell_type": "markdown",
   "id": "7342ff95",
   "metadata": {},
   "source": [
    "- 读文件的第三行"
   ]
  },
  {
   "cell_type": "code",
   "execution_count": 25,
   "id": "399b19a8",
   "metadata": {},
   "outputs": [
    {
     "data": {
      "text/plain": [
       "'AATCCGGAGGACCGGTGTACTCAGCTCACCGGGGGCATTGCTCCCGTGGTGACCCTGATTTGTTGTTGGG\\n'"
      ]
     },
     "execution_count": 25,
     "metadata": {},
     "output_type": "execute_result"
    }
   ],
   "source": [
    "file.readline() # 读文件的第三行"
   ]
  },
  {
   "cell_type": "code",
   "execution_count": 27,
   "id": "a7436ea5",
   "metadata": {
    "scrolled": true
   },
   "outputs": [
    {
     "name": "stdout",
     "output_type": "stream",
     "text": [
      "CLUSTAL X (1.81) multiple sequence alignment\n",
      "\n",
      "\n",
      "B3PFT7_CELJU/62-126                 AINRNTQQLTQDLRAMPNWSLRFVYIVDRNNQDLLKRPLPPGIMVLAPRL\n",
      "K4KEM7_SIMAS/61-125                 AVNATEREFTERIRTLPHWARRNVFVLDSQGFEIFDRELPSPVADLMRKL\n",
      "B7RZ31_9GAMM/59-123                 MQNTPAERLPAIIEKAKSKHDINVWLLDRQGRDLLEQRVPAKVATVANQL\n",
      "A0A143HL37_9GAMM/57-121             ARRHGQEYFQQWLERQPKKVKEQVFAVDQFGRELLGRPLPEDMAPMLIAL\n",
      "A0A0X3UC67_9GAMM/57-121             TRRHGPESFRFWLERQPVEARDRIYAIDRSGAEILDRPIPRGMAPLFKVL\n",
      "\n",
      "B3PFT7_CELJU/62-126                 TAKHPYDKVQDRNRK\n",
      "K4KEM7_SIMAS/61-125                 DLDRPFKKLERKNRT\n",
      "B7RZ31_9GAMM/59-123                 RGRKRRAFARHREGP\n",
      "A0A143HL37_9GAMM/57-121             NYRNRESHAQVDKKP\n",
      "A0A0X3UC67_9GAMM/57-121             SFRNREDQGLVNNKP\n",
      "\n",
      "\n",
      "\n"
     ]
    }
   ],
   "source": [
    "# 直接读取文件全部内容，最后执行关闭文件\n",
    "file = open('/Users/liang.hanqing/Documents/jupyter/Biopython/examples/PF18225.alignment.aln','r')\n",
    "content=file.read()\n",
    "print(content)\n",
    "file.close()"
   ]
  },
  {
   "cell_type": "code",
   "execution_count": 32,
   "id": "e406cd0f",
   "metadata": {
    "scrolled": true
   },
   "outputs": [
    {
     "name": "stdout",
     "output_type": "stream",
     "text": [
      "CLUSTAL X (1.81) multiple sequence alignment\n",
      "\n",
      "\n",
      "\n",
      "\n",
      "\n",
      "B3PFT7_CELJU/62-126                 AINRNTQQLTQDLRAMPNWSLRFVYIVDRNNQDLLKRPLPPGIMVLAPRL\n",
      "\n",
      "K4KEM7_SIMAS/61-125                 AVNATEREFTERIRTLPHWARRNVFVLDSQGFEIFDRELPSPVADLMRKL\n",
      "\n",
      "B7RZ31_9GAMM/59-123                 MQNTPAERLPAIIEKAKSKHDINVWLLDRQGRDLLEQRVPAKVATVANQL\n",
      "\n",
      "A0A143HL37_9GAMM/57-121             ARRHGQEYFQQWLERQPKKVKEQVFAVDQFGRELLGRPLPEDMAPMLIAL\n",
      "\n",
      "A0A0X3UC67_9GAMM/57-121             TRRHGPESFRFWLERQPVEARDRIYAIDRSGAEILDRPIPRGMAPLFKVL\n",
      "\n",
      "\n",
      "\n",
      "B3PFT7_CELJU/62-126                 TAKHPYDKVQDRNRK\n",
      "\n",
      "K4KEM7_SIMAS/61-125                 DLDRPFKKLERKNRT\n",
      "\n",
      "B7RZ31_9GAMM/59-123                 RGRKRRAFARHREGP\n",
      "\n",
      "A0A143HL37_9GAMM/57-121             NYRNRESHAQVDKKP\n",
      "\n",
      "A0A0X3UC67_9GAMM/57-121             SFRNREDQGLVNNKP\n",
      "\n",
      "\n",
      "\n",
      "\n",
      "\n"
     ]
    }
   ],
   "source": [
    "# with open语句操作文件\n",
    "with open('/Users/liang.hanqing/Documents/jupyter/Biopython/examples/PF18225.alignment.aln','r') as file:\n",
    "    for line in file:\n",
    "        print(line)"
   ]
  },
  {
   "cell_type": "markdown",
   "id": "c9b651e1",
   "metadata": {},
   "source": [
    "### 9.3 文件的写入"
   ]
  },
  {
   "cell_type": "code",
   "execution_count": null,
   "id": "1b4421dd",
   "metadata": {},
   "outputs": [],
   "source": [
    "# 打开不存在的文件\n",
    "import time\n",
    "file=open('文件保存的路径','w')\n",
    "file.write('写入的内容') # 内容写入到内存中\n",
    "# 将内存中积攒的内容写入到硬盘的文件中\n",
    "f.flush() \n",
    "time.sleep(600000)\n",
    "# 或者直接close关闭，因为close内置了flush功能\n",
    "file.close()\n",
    "\n",
    "# 打开一个存在的文件\n",
    "file=open('文件保存的路径','w')\n",
    "# 写入内容，flush刷新\n",
    "file.write('写入内容')\n",
    "file.close()"
   ]
  },
  {
   "cell_type": "markdown",
   "id": "1b47eabb",
   "metadata": {},
   "source": [
    "### 9.4 文件的追加"
   ]
  },
  {
   "cell_type": "code",
   "execution_count": null,
   "id": "53c32e4b",
   "metadata": {},
   "outputs": [],
   "source": [
    "# 打开不存在的文件\n",
    "import time\n",
    "file=open('文件保存的路径','a')\n",
    "file.write('写入的内容') # 内容写入到内存中\n",
    "# flush刷新\n",
    "file.flush() \n",
    "# close关闭\n",
    "file.close()\n",
    "\n",
    "# 打开一个存在的文件\n",
    "file=open('文件保存的路径','w')\n",
    "# 可以换行写入内容，flush刷新\n",
    "file.write('\\n写入内容')\n",
    "file.close()"
   ]
  },
  {
   "cell_type": "markdown",
   "id": "08f4e60c",
   "metadata": {},
   "source": [
    "## 10 运行异常、模块与包"
   ]
  },
  {
   "cell_type": "markdown",
   "id": "e19d1acd",
   "metadata": {},
   "source": [
    "### 10.1 Python的异常\n",
    "\n",
    "- 异常，就是所谓的bug，常伴随报错error。\n",
    "\n",
    "- 捕获异常（异常的处理）\n",
    "\n",
    "- 捕获异常的语法："
   ]
  },
  {
   "cell_type": "code",
   "execution_count": null,
   "id": "c2ee916c",
   "metadata": {},
   "outputs": [],
   "source": [
    "try:\n",
    "    可能要发生异常的语句\n",
    "except[异常 as 别名:]\n",
    "    出现异常的准备手段\n",
    "[else:]\n",
    "    未出现异常时应做的事情\n",
    "[finally:]\n",
    "    不管出不出现异常都会做的事情"
   ]
  },
  {
   "cell_type": "markdown",
   "id": "e1fb1acf",
   "metadata": {},
   "source": [
    "- 捕获所有异常\n",
    "        - except:\n",
    "        - except Exception:\n",
    "        - 两种方式捕获全部的异常"
   ]
  },
  {
   "cell_type": "markdown",
   "id": "b94ddf01",
   "metadata": {},
   "source": [
    "- 异常的传递"
   ]
  },
  {
   "cell_type": "code",
   "execution_count": 33,
   "id": "c74a4b4d",
   "metadata": {},
   "outputs": [
    {
     "name": "stdout",
     "output_type": "stream",
     "text": [
      "func2 开始执行\n",
      "func1 开始执行\n",
      "出现异常了，异常的信息是：division by zero\n"
     ]
    }
   ],
   "source": [
    "def func1():\n",
    "    print('func1 开始执行')\n",
    "    num=1/0  # 肯定有除以0的异常\n",
    "    print('func1 结束执行')\n",
    "    \n",
    "# 定义一个无异常的方法，调用上面的方法\n",
    "def func2():\n",
    "    print('func2 开始执行')\n",
    "    func1()\n",
    "    print('func2 结束执行')\n",
    "    \n",
    "# 定义一个方法，调用上面的方法\n",
    "def main():\n",
    "    try:\n",
    "        func2()\n",
    "    except Exception as error:\n",
    "        print(f'出现异常了，异常的信息是：{error}')\n",
    "        \n",
    "main()"
   ]
  },
  {
   "cell_type": "markdown",
   "id": "17aa9a86",
   "metadata": {},
   "source": [
    "### 10.2 模块的概念和导入"
   ]
  },
  {
   "cell_type": "markdown",
   "id": "3f149a7b",
   "metadata": {},
   "source": [
    "- 模块（Module）就是Python的一个文件，以.py结尾，里面包含可执行的代码。"
   ]
  },
  {
   "cell_type": "markdown",
   "id": "fa61216d",
   "metadata": {},
   "source": [
    "- 模块的导入语法：[from 模块名] import [模块、类、变量、函数等] [as 别名]\n",
    "\n",
    "- 常用的组合形式包括：\n",
    "    - import 模块名\n",
    "    - from 模块名 import 类、变量、方法等\n",
    "    - from 模块名 import *\n",
    "    - from 模块名 as 别名  \n",
    "    - from 模块名 import 功能名 as 别名 # from time import sleep as sl"
   ]
  },
  {
   "cell_type": "markdown",
   "id": "f1c89a2d",
   "metadata": {},
   "source": [
    "- 制作自定义模块：在Python代码文件中正常写代码即可。"
   ]
  },
  {
   "cell_type": "code",
   "execution_count": null,
   "id": "9f47cb17",
   "metadata": {},
   "outputs": [],
   "source": [
    "if __main__ == '__main__'"
   ]
  },
  {
   "cell_type": "markdown",
   "id": "2b396b9d",
   "metadata": {},
   "source": [
    "- 以上变量表示，只有当程序是直接执行的才会进入if内部，如果是被导入的，则if无法进入。"
   ]
  },
  {
   "cell_type": "markdown",
   "id": "82542ba8",
   "metadata": {},
   "source": [
    "- 注意事项：\n",
    "    - 不同模块，同名的功能，如果都被导入，那么后导入的会覆盖先导入的。\n",
    "    - `__all__`变量可以`import*`的时候，控制哪些功能可以被导入。"
   ]
  },
  {
   "cell_type": "markdown",
   "id": "d6747bb2",
   "metadata": {},
   "source": [
    "### 10.3 自定义包"
   ]
  },
  {
   "cell_type": "markdown",
   "id": "f857b793",
   "metadata": {},
   "source": [
    "- 从物理上看，包就是一个**文件夹**，在该文件夹下包含了一个`__init__.py`文件，该文件包含了多个模块文件。"
   ]
  },
  {
   "cell_type": "code",
   "execution_count": null,
   "id": "e54fd474",
   "metadata": {},
   "outputs": [],
   "source": [
    "%%writefile /Users/liang.hanqing/Documents/jupyter/Python3/general.py"
   ]
  }
 ],
 "metadata": {
  "kernelspec": {
   "display_name": "Python 3 (ipykernel)",
   "language": "python",
   "name": "python3"
  },
  "language_info": {
   "codemirror_mode": {
    "name": "ipython",
    "version": 3
   },
   "file_extension": ".py",
   "mimetype": "text/x-python",
   "name": "python",
   "nbconvert_exporter": "python",
   "pygments_lexer": "ipython3",
   "version": "3.9.13"
  },
  "toc": {
   "base_numbering": 1,
   "nav_menu": {},
   "number_sections": false,
   "sideBar": true,
   "skip_h1_title": true,
   "title_cell": "Table of Contents",
   "title_sidebar": "Contents",
   "toc_cell": true,
   "toc_position": {
    "height": "calc(100% - 180px)",
    "left": "10px",
    "top": "150px",
    "width": "284px"
   },
   "toc_section_display": true,
   "toc_window_display": true
  }
 },
 "nbformat": 4,
 "nbformat_minor": 5
}
