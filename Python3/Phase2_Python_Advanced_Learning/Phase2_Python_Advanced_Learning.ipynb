{
 "cells": [
  {
   "cell_type": "markdown",
   "id": "ae3b4c3e",
   "metadata": {},
   "source": [
    "# Python进阶语法学习（第二阶段）"
   ]
  },
  {
   "cell_type": "markdown",
   "id": "400d3d09",
   "metadata": {},
   "source": [
    "Source：\n",
    "\n",
    "1. [【B站】2022新版黑马程序员python教程](https://www.bilibili.com/video/BV1qW4y1a7fU/?spm_id_from=333.1007.top_right_bar_window_custom_collection.content.click)。"
   ]
  },
  {
   "cell_type": "markdown",
   "id": "c48ba024",
   "metadata": {
    "toc": true
   },
   "source": [
    "<h1>Table of Contents<span class=\"tocSkip\"></span></h1>\n",
    "<div class=\"toc\"><ul class=\"toc-item\"><li><span><a href=\"#1-对象和类\" data-toc-modified-id=\"1-对象和类-1\">1 对象和类</a></span><ul class=\"toc-item\"><li><span><a href=\"#1.1-类的成员方法\" data-toc-modified-id=\"1.1-类的成员方法-1.1\">1.1 类的成员方法</a></span></li><li><span><a href=\"#1.2-面向对象的编程\" data-toc-modified-id=\"1.2-面向对象的编程-1.2\">1.2 面向对象的编程</a></span></li></ul></li><li><span><a href=\"#2-魔术方法\" data-toc-modified-id=\"2-魔术方法-2\">2 魔术方法</a></span><ul class=\"toc-item\"><li><span><a href=\"#2.1-构造方法\" data-toc-modified-id=\"2.1-构造方法-2.1\">2.1 构造方法</a></span></li><li><span><a href=\"#2.2-字符串方法\" data-toc-modified-id=\"2.2-字符串方法-2.2\">2.2 字符串方法</a></span></li><li><span><a href=\"#2.3-运算符的比较方法\" data-toc-modified-id=\"2.3-运算符的比较方法-2.3\">2.3 运算符的比较方法</a></span></li></ul></li><li><span><a href=\"#3-封装\" data-toc-modified-id=\"3-封装-3\">3 封装</a></span></li><li><span><a href=\"#4-类的继承\" data-toc-modified-id=\"4-类的继承-4\">4 类的继承</a></span></li><li><span><a href=\"#5-父类成员的复写和调用\" data-toc-modified-id=\"5-父类成员的复写和调用-5\">5 父类成员的复写和调用</a></span><ul class=\"toc-item\"><li><span><a href=\"#5.1-复写\" data-toc-modified-id=\"5.1-复写-5.1\">5.1 复写</a></span></li><li><span><a href=\"#5.2-调用父类同名成员\" data-toc-modified-id=\"5.2-调用父类同名成员-5.2\">5.2 调用父类同名成员</a></span></li></ul></li><li><span><a href=\"#6-类型注解\" data-toc-modified-id=\"6-类型注解-6\">6 类型注解</a></span><ul class=\"toc-item\"><li><span><a href=\"#6.1-为变量设置类型注解\" data-toc-modified-id=\"6.1-为变量设置类型注解-6.1\">6.1 为变量设置类型注解</a></span></li><li><span><a href=\"#6.2-函数（方法）的类型注解\" data-toc-modified-id=\"6.2-函数（方法）的类型注解-6.2\">6.2 函数（方法）的类型注解</a></span><ul class=\"toc-item\"><li><span><a href=\"#6.2.1-形参注释\" data-toc-modified-id=\"6.2.1-形参注释-6.2.1\">6.2.1 形参注释</a></span></li><li><span><a href=\"#6.2.2-返回值注释\" data-toc-modified-id=\"6.2.2-返回值注释-6.2.2\">6.2.2 返回值注释</a></span></li></ul></li><li><span><a href=\"#6.3-Union类型\" data-toc-modified-id=\"6.3-Union类型-6.3\">6.3 Union类型</a></span></li></ul></li><li><span><a href=\"#7-多态\" data-toc-modified-id=\"7-多态-7\">7 多态</a></span></li></ul></div>"
   ]
  },
  {
   "cell_type": "markdown",
   "id": "16b1a25d",
   "metadata": {},
   "source": [
    "## 1 对象和类"
   ]
  },
  {
   "cell_type": "markdown",
   "id": "7888b9b3",
   "metadata": {},
   "source": [
    "- 在程序中设计表格，被称之为：**设计类（class）**。"
   ]
  },
  {
   "cell_type": "code",
   "execution_count": null,
   "id": "6c6cc108",
   "metadata": {},
   "outputs": [],
   "source": [
    "class Student:\n",
    "    name=None   # 记录学生姓名"
   ]
  },
  {
   "cell_type": "markdown",
   "id": "793a38dd",
   "metadata": {},
   "source": [
    "- 在程序中打印生产表格，被称之为：**创建对象**。"
   ]
  },
  {
   "cell_type": "code",
   "execution_count": null,
   "id": "5b6aca16",
   "metadata": {},
   "outputs": [],
   "source": [
    "# 基于类创建对象\n",
    "stu_1=Student()\n",
    "stu_2=Student()"
   ]
  },
  {
   "cell_type": "markdown",
   "id": "23fda5a4",
   "metadata": {},
   "source": [
    "- 在程序中填写表格，被称之为：**对象属性赋值**。"
   ]
  },
  {
   "cell_type": "code",
   "execution_count": null,
   "id": "fc5eacda",
   "metadata": {},
   "outputs": [],
   "source": [
    "stu_1.name='Tom' # 为学生1对象赋予名称属性值\n",
    "stu_2.name='Jack' # 为学生2对象赋予名称属性值"
   ]
  },
  {
   "cell_type": "markdown",
   "id": "fb4da7fc",
   "metadata": {},
   "source": [
    "- 案例："
   ]
  },
  {
   "cell_type": "code",
   "execution_count": 1,
   "id": "8537f268",
   "metadata": {},
   "outputs": [
    {
     "name": "stdout",
     "output_type": "stream",
     "text": [
      "Tom\n",
      "male\n",
      "USA\n",
      "LA\n",
      "18\n"
     ]
    }
   ],
   "source": [
    "# 设计一个类（类比生活中设计一张登记表）\n",
    "class Student:\n",
    "    name=None          # 记录学生姓名\n",
    "    gender=None        # 记录学生性别\n",
    "    nationality=None   # 记录学生国籍\n",
    "    native_place=None  # 记录学生籍贯\n",
    "    age=None           # 记录学生年龄\n",
    "    \n",
    "# 创建一个对象（类比生活中打印一张登记表）\n",
    "stu_1=Student()\n",
    "# 给对象属性进行赋值（类比生活中填写表格）\n",
    "stu_1.name='Tom'\n",
    "stu_1.gender='male'\n",
    "stu_1.nationality='USA'\n",
    "stu_1.native_place='LA'\n",
    "stu_1.age=18\n",
    "# 获取对象记录的信息\n",
    "print(stu_1.name)\n",
    "print(stu_1.gender)\n",
    "print(stu_1.nationality)\n",
    "print(stu_1.native_place)\n",
    "print(stu_1.age)"
   ]
  },
  {
   "cell_type": "markdown",
   "id": "00e3d5db",
   "metadata": {},
   "source": [
    "### 1.1 类的成员方法"
   ]
  },
  {
   "cell_type": "markdown",
   "id": "0654dede",
   "metadata": {},
   "source": [
    "- 创建类对象的语法：对象名=类名称( )"
   ]
  },
  {
   "cell_type": "code",
   "execution_count": 1,
   "id": "dcba40c7",
   "metadata": {},
   "outputs": [
    {
     "name": "stdout",
     "output_type": "stream",
     "text": [
      "Hi，大家好，我是Tom\n"
     ]
    }
   ],
   "source": [
    "class Student:\n",
    "    name=None     # 学生的姓名\n",
    "    age=None      # 学生的年龄\n",
    "    \n",
    "    def say_hi(self):\n",
    "        print(f'Hi，大家好，我是{self.name}')\n",
    "        \n",
    "stu=Student()\n",
    "stu.name='Tom'\n",
    "stu.say_hi()"
   ]
  },
  {
   "cell_type": "markdown",
   "id": "467ea7b2",
   "metadata": {},
   "source": [
    "- 类中定义的属性（变量），被称之为：**成员变量**。\n",
    "\n",
    "- 类中定义的行为（函数），被称之为：**成员方法**。即类中的函数叫做方法。"
   ]
  },
  {
   "cell_type": "markdown",
   "id": "44090d0b",
   "metadata": {},
   "source": [
    "- 在类中定义成员方法，与定义函数基本一致，但仍有细微区别："
   ]
  },
  {
   "cell_type": "code",
   "execution_count": null,
   "id": "2d22c9e0",
   "metadata": {},
   "outputs": [],
   "source": [
    "def 方法名(self,形参1,......,形参N):\n",
    "    方法体"
   ]
  },
  {
   "cell_type": "markdown",
   "id": "c468e5b7",
   "metadata": {},
   "source": [
    "- self关键字是成员方法定义的时候，**必须填写**。\n",
    "    - 它用来表示类对象自身的意思。\n",
    "    - 当使用类对象调用方法的时候，self会自动被python传入。\n",
    "    - **在方法内部，想要访问类的成员变量，必须使用self**。"
   ]
  },
  {
   "cell_type": "markdown",
   "id": "4add063b",
   "metadata": {},
   "source": [
    "- 案例演示"
   ]
  },
  {
   "cell_type": "code",
   "execution_count": 6,
   "id": "805c520f",
   "metadata": {},
   "outputs": [
    {
     "name": "stdout",
     "output_type": "stream",
     "text": [
      "大家好，我是Tom，请多多关照。\n",
      "大家好，我是Jack，请多多关照。\n",
      "大家好，我是Lily，I am 12。\n",
      "大家好，我是Lucy，I am 13。\n"
     ]
    }
   ],
   "source": [
    "# 定义一个带有成员方法的类\n",
    "class Student:\n",
    "    name=None    # 学生的姓名\n",
    "    \n",
    "    def say_hi1(self):\n",
    "        print(f'大家好，我是{self.name}，请多多关照。')\n",
    "        \n",
    "    def say_hi2(self,msg):\n",
    "        print(f'大家好，我是{self.name}，{msg}。')\n",
    "        \n",
    "stu1=Student()\n",
    "stu1.name='Tom'\n",
    "stu1.say_hi1()\n",
    "\n",
    "stu2=Student()\n",
    "stu2.name='Jack'\n",
    "stu2.say_hi1()\n",
    "\n",
    "stu3=Student()\n",
    "stu3.name='Lily'\n",
    "stu3.say_hi2('I am 12')\n",
    "\n",
    "stu4=Student()\n",
    "stu4.name='Lucy'\n",
    "stu4.say_hi2('I am 13')"
   ]
  },
  {
   "cell_type": "markdown",
   "id": "20e468b8",
   "metadata": {},
   "source": [
    "### 1.2 面向对象的编程"
   ]
  },
  {
   "cell_type": "markdown",
   "id": "17d7f936",
   "metadata": {},
   "source": [
    "- 面向对象的编程，就是使用对象进行编程。即，先设计类，再基于类创建对象，并使用对象来完成具体的工作。"
   ]
  },
  {
   "cell_type": "code",
   "execution_count": null,
   "id": "d64ab0de",
   "metadata": {},
   "outputs": [],
   "source": [
    "# 设计一个闹钟类\n",
    "class Clock:\n",
    "    id=None    # 序列化\n",
    "    price=None # 价格\n",
    "    \n",
    "    def ring(self):\n",
    "        import winsound\n",
    "        winsound.Beep(2000,3000)\n",
    "        \n",
    "# 构建2个闹钟对象并让其工作\n",
    "clock1=Clock()\n",
    "clock1.id='003032'\n",
    "clock1.price=19.99\n",
    "print(f'闹钟ID：{clock1.id}，价格：{clock1.price}。')\n",
    "clock1.ring()\n",
    "\n",
    "clock2=Clock()\n",
    "clock2.id='003033'\n",
    "clock2.price=21.99\n",
    "print(f'闹钟ID：{clock2.id}，价格：{clock2.price}。')\n",
    "clock2.ring()"
   ]
  },
  {
   "cell_type": "markdown",
   "id": "dcf03afa",
   "metadata": {},
   "source": [
    "## 2 魔术方法\n",
    "\n",
    "### 2.1 构造方法"
   ]
  },
  {
   "cell_type": "markdown",
   "id": "01c0122d",
   "metadata": {},
   "source": [
    "- Python类可以使用：`__init__( )`方法，称之为构造方法。\n",
    "\n",
    "- 可以实现：\n",
    "    - 在创建类对象（或者构造类）的时候，会自动执行。\n",
    "    - 在创建类对象（或者构造类）的时候，将传入参数自动传递给`__init__( )`方法使用。"
   ]
  },
  {
   "cell_type": "code",
   "execution_count": 9,
   "id": "86f96ace",
   "metadata": {},
   "outputs": [
    {
     "name": "stdout",
     "output_type": "stream",
     "text": [
      "Student类创建了一个类对象\n",
      "Tom\n",
      "21\n",
      "12345\n"
     ]
    }
   ],
   "source": [
    "# 构造方法的名称：__init__\n",
    "class Student:\n",
    "    def __init__(self,name,age,tel):\n",
    "        self.name=name\n",
    "        self.age=age\n",
    "        self.tel=tel\n",
    "        print('Student类创建了一个类对象')\n",
    "        \n",
    "stu=Student('Tom',21,'12345')\n",
    "\n",
    "print(stu.name)\n",
    "print(stu.age)\n",
    "print(stu.tel)"
   ]
  },
  {
   "cell_type": "markdown",
   "id": "2e0e6630",
   "metadata": {},
   "source": [
    "### 2.2 字符串方法"
   ]
  },
  {
   "cell_type": "code",
   "execution_count": 2,
   "id": "d3cea18e",
   "metadata": {},
   "outputs": [
    {
     "name": "stdout",
     "output_type": "stream",
     "text": [
      "<__main__.Student object at 0x7fd850214100>\n",
      "<__main__.Student object at 0x7fd850214100>\n"
     ]
    }
   ],
   "source": [
    "class Student:\n",
    "    def __init__(self,name,age):\n",
    "        self.name=name\n",
    "        self.age=age\n",
    "        \n",
    "stu=Student('Tom',21)\n",
    "\n",
    "print(stu)\n",
    "print(str(stu))"
   ]
  },
  {
   "cell_type": "markdown",
   "id": "78724ee9",
   "metadata": {},
   "source": [
    "- 以上仅得到两串类的内存地址，没有什么实际意义。"
   ]
  },
  {
   "cell_type": "code",
   "execution_count": 3,
   "id": "1e0bfe47",
   "metadata": {},
   "outputs": [
    {
     "name": "stdout",
     "output_type": "stream",
     "text": [
      "Student类对象，name：Tom，age：21。\n",
      "Student类对象，name：Tom，age：21。\n"
     ]
    }
   ],
   "source": [
    "class Student:\n",
    "    def __init__(self,name,age):\n",
    "        self.name=name\n",
    "        self.age=age\n",
    "        \n",
    "    # __str__魔术方法\n",
    "    def __str__(self):\n",
    "        return f'Student类对象，name：{self.name}，age：{self.age}。'\n",
    "        \n",
    "stu=Student('Tom',21)\n",
    "\n",
    "print(stu)\n",
    "print(str(stu))"
   ]
  },
  {
   "cell_type": "markdown",
   "id": "899b90b4",
   "metadata": {},
   "source": [
    "### 2.3 运算符的比较方法"
   ]
  },
  {
   "cell_type": "code",
   "execution_count": 4,
   "id": "30383242",
   "metadata": {},
   "outputs": [
    {
     "ename": "TypeError",
     "evalue": "'<' not supported between instances of 'Student' and 'Student'",
     "output_type": "error",
     "traceback": [
      "\u001b[0;31m---------------------------------------------------------------------------\u001b[0m",
      "\u001b[0;31mTypeError\u001b[0m                                 Traceback (most recent call last)",
      "\u001b[0;32m/var/folders/14/pj985hh56sl5pj_j6y0ldsk00000gn/T/ipykernel_43162/438772686.py\u001b[0m in \u001b[0;36m<module>\u001b[0;34m\u001b[0m\n\u001b[1;32m      6\u001b[0m \u001b[0mstu1\u001b[0m\u001b[0;34m=\u001b[0m\u001b[0mStudent\u001b[0m\u001b[0;34m(\u001b[0m\u001b[0;34m'Tom'\u001b[0m\u001b[0;34m,\u001b[0m\u001b[0;36m21\u001b[0m\u001b[0;34m)\u001b[0m\u001b[0;34m\u001b[0m\u001b[0;34m\u001b[0m\u001b[0m\n\u001b[1;32m      7\u001b[0m \u001b[0mstu2\u001b[0m\u001b[0;34m=\u001b[0m\u001b[0mStudent\u001b[0m\u001b[0;34m(\u001b[0m\u001b[0;34m'Jack'\u001b[0m\u001b[0;34m,\u001b[0m\u001b[0;36m25\u001b[0m\u001b[0;34m)\u001b[0m\u001b[0;34m\u001b[0m\u001b[0;34m\u001b[0m\u001b[0m\n\u001b[0;32m----> 8\u001b[0;31m \u001b[0mprint\u001b[0m\u001b[0;34m(\u001b[0m\u001b[0mstu1\u001b[0m\u001b[0;34m<\u001b[0m\u001b[0mstu2\u001b[0m\u001b[0;34m)\u001b[0m\u001b[0;34m\u001b[0m\u001b[0;34m\u001b[0m\u001b[0m\n\u001b[0m",
      "\u001b[0;31mTypeError\u001b[0m: '<' not supported between instances of 'Student' and 'Student'"
     ]
    }
   ],
   "source": [
    "class Student:\n",
    "    def __init__(self,name,age):\n",
    "        self.name=name\n",
    "        self.age=age\n",
    "        \n",
    "stu1=Student('Tom',21)\n",
    "stu2=Student('Jack',25)\n",
    "print(stu1<stu2)"
   ]
  },
  {
   "cell_type": "markdown",
   "id": "cd8bddfa",
   "metadata": {},
   "source": [
    "- 报错的原因是，当前这个类在定义的时候，不支持比较这个功能。"
   ]
  },
  {
   "cell_type": "code",
   "execution_count": 6,
   "id": "b0a6b4d9",
   "metadata": {},
   "outputs": [
    {
     "name": "stdout",
     "output_type": "stream",
     "text": [
      "True\n",
      "False\n"
     ]
    }
   ],
   "source": [
    "class Student:\n",
    "    def __init__(self,name,age):\n",
    "        self.name=name\n",
    "        self.age=age\n",
    "        \n",
    "    # __lt__魔术方法，只支持<,>比较，不支持<=,>=比较\n",
    "    def __lt__(self,other):\n",
    "        return self.age<other.age\n",
    "        \n",
    "stu1=Student('Tom',21)\n",
    "stu2=Student('Jack',25)\n",
    "print(stu1<stu2)\n",
    "print(stu1>stu2)"
   ]
  },
  {
   "cell_type": "code",
   "execution_count": 7,
   "id": "24229cc3",
   "metadata": {},
   "outputs": [
    {
     "name": "stdout",
     "output_type": "stream",
     "text": [
      "True\n",
      "False\n"
     ]
    }
   ],
   "source": [
    "class Student:\n",
    "    def __init__(self,name,age):\n",
    "        self.name=name\n",
    "        self.age=age\n",
    "        \n",
    "    # __le__魔术方法，支持<=,>=比较\n",
    "    def __le__(self,other):\n",
    "        return self.age<=other.age\n",
    "        \n",
    "stu1=Student('Tom',21)\n",
    "stu2=Student('Jack',25)\n",
    "print(stu1<=stu2)\n",
    "print(stu1>=stu2)"
   ]
  },
  {
   "cell_type": "code",
   "execution_count": 8,
   "id": "1275492b",
   "metadata": {},
   "outputs": [
    {
     "name": "stdout",
     "output_type": "stream",
     "text": [
      "False\n"
     ]
    }
   ],
   "source": [
    "class Student:\n",
    "    def __init__(self,name,age):\n",
    "        self.name=name\n",
    "        self.age=age\n",
    "        \n",
    "    # __eq__魔术方法，支持=比较\n",
    "    def __eq__(self,other):\n",
    "        return self.age==other.age\n",
    "        \n",
    "stu1=Student('Tom',21)\n",
    "stu2=Student('Jack',25)\n",
    "print(stu1==stu2)"
   ]
  },
  {
   "cell_type": "markdown",
   "id": "4fc4b8f0",
   "metadata": {},
   "source": [
    "## 3 封装"
   ]
  },
  {
   "cell_type": "markdown",
   "id": "9067abb9",
   "metadata": {},
   "source": [
    "- 定义：将现实世界事物（属性、行为），封装到类中，描述为**成员变量**和**成员方法**。"
   ]
  },
  {
   "cell_type": "markdown",
   "id": "19aaa44a",
   "metadata": {},
   "source": [
    "- 私有成员，不能够被用户直接使用，但可以在内部使用，即类似于现实事物中不公开的属性和行为。\n",
    "    - 私有成员变量。\n",
    "    - 私有成员方法。\n",
    "    \n",
    "- 定义私有成员的方法：\n",
    "    - 私有成员变量：变量名以2个下划线开头。\n",
    "    - 私有成员方法：方法名以2个下划线开头。"
   ]
  },
  {
   "cell_type": "code",
   "execution_count": 11,
   "id": "25d019c7",
   "metadata": {},
   "outputs": [
    {
     "name": "stdout",
     "output_type": "stream",
     "text": [
      "让CPU以单核模式运行。\n",
      "电量不足，无法使用5g通话，并已设置为单核运行进行省电。\n"
     ]
    }
   ],
   "source": [
    "# 定义一个类，内含私有成员变量和私有成员方法\n",
    "class Phone:\n",
    "    __current_voltage=0.5  # 当前手机运行电压\n",
    "    \n",
    "    def __keep_single_core(self):\n",
    "        print('让CPU以单核模式运行。')\n",
    "        \n",
    "    def call_by_5g(self):\n",
    "        if self.__current_voltage>=1:  # 当前手机运行电压大于等于1时，显示5g通话已开启\n",
    "            print('5g通话已开启')\n",
    "        else:\n",
    "            self.__keep_single_core()\n",
    "            print('电量不足，无法使用5g通话，并已设置为单核运行进行省电。')\n",
    "        \n",
    "phone=Phone()\n",
    "phone.call_by_5g()"
   ]
  },
  {
   "cell_type": "markdown",
   "id": "c558c63b",
   "metadata": {},
   "source": [
    "- **注意：类对象无法访问私有成员。**\n",
    "\n",
    "- 类中的其他成员可以访问私有成员。\n",
    "\n",
    "- 因此，私有成员的意义就是：在类中，提供仅供内部使用的属性和方法，而不对外开放（类对象无法使用）。"
   ]
  },
  {
   "cell_type": "markdown",
   "id": "176326a6",
   "metadata": {},
   "source": [
    "- 封装练习"
   ]
  },
  {
   "cell_type": "code",
   "execution_count": 1,
   "id": "77481e93",
   "metadata": {},
   "outputs": [
    {
     "name": "stdout",
     "output_type": "stream",
     "text": [
      "5g开启\n",
      "正在通话中\n"
     ]
    }
   ],
   "source": [
    "# 定义一个类，用来描述手机\n",
    "class Phone:\n",
    "    # 提供私有成员变量：__is_5g_enable\n",
    "    __is_5g_enable=True  # 5g状态\n",
    "    \n",
    "    # 提供私有成员方法：__check_5g()\n",
    "    def __check_5g(self):\n",
    "        if self.__is_5g_enable:\n",
    "            print('5g开启')\n",
    "        else:\n",
    "            print('5g关闭，使用4g网络')\n",
    "    \n",
    "    # 提供公开成员方法：call_by_5g()\n",
    "    def call_by_5g(self):\n",
    "        self.__check_5g()\n",
    "        print('正在通话中')\n",
    "        \n",
    "phone=Phone()\n",
    "phone.call_by_5g()"
   ]
  },
  {
   "cell_type": "markdown",
   "id": "4e27aaac",
   "metadata": {},
   "source": [
    "## 4 类的继承\n",
    "\n",
    "- 从父类那里继承（复制）成员变量和成员方法（不含私有）。"
   ]
  },
  {
   "cell_type": "code",
   "execution_count": null,
   "id": "8ed3fd2d",
   "metadata": {},
   "outputs": [],
   "source": [
    "# 父类\n",
    "class Phone:\n",
    "    IMEI=None     # 序列号\n",
    "    producer=None # 厂商\n",
    "    \n",
    "    def call_by_4g(self):\n",
    "        print('4g通话')\n",
    "        \n",
    "# 子类\n",
    "class Phone2022(Phone):\n",
    "    face_id=True   # 面部识别\n",
    "    \n",
    "    def call_by_5g(self):\n",
    "        print('2022年最新5g通话')"
   ]
  },
  {
   "cell_type": "markdown",
   "id": "51ef77e5",
   "metadata": {},
   "source": [
    "- 继承的语法："
   ]
  },
  {
   "cell_type": "code",
   "execution_count": null,
   "id": "15f074e2",
   "metadata": {},
   "outputs": [],
   "source": [
    "class 类名(父类名):\n",
    "    类内容体"
   ]
  },
  {
   "cell_type": "markdown",
   "id": "5de3cf48",
   "metadata": {},
   "source": [
    "- 继承分为：单继承和多继承\n",
    "\n",
    "- 上述语法可以完成类的单继承。"
   ]
  },
  {
   "cell_type": "code",
   "execution_count": 2,
   "id": "52b0176c",
   "metadata": {},
   "outputs": [
    {
     "name": "stdout",
     "output_type": "stream",
     "text": [
      "HM\n",
      "4g通话\n",
      "2022年最新功能：5g通话\n"
     ]
    }
   ],
   "source": [
    "# 单继承示例\n",
    "class Phone:\n",
    "    IMEI=None     # 序列号\n",
    "    producer='HM' # 厂商\n",
    "    \n",
    "    def call_by_4g(self):\n",
    "        print('4g通话')\n",
    "        \n",
    "class Phone2022(Phone):\n",
    "    face_id=10001   # 面部识别\n",
    "    \n",
    "    def call_by_5g(self):\n",
    "        print('2022年最新功能：5g通话')\n",
    "        \n",
    "phone=Phone2022()\n",
    "print(phone.producer)\n",
    "phone.call_by_4g()\n",
    "phone.call_by_5g()"
   ]
  },
  {
   "cell_type": "markdown",
   "id": "c5652c44",
   "metadata": {},
   "source": [
    "- 多继承：一个子类继承多个父类。"
   ]
  },
  {
   "cell_type": "code",
   "execution_count": null,
   "id": "a724bd90",
   "metadata": {},
   "outputs": [],
   "source": [
    "class 类名(父类1,父类2,父类3,......,父类N):\n",
    "    类内容体"
   ]
  },
  {
   "cell_type": "code",
   "execution_count": 4,
   "id": "411d3a17",
   "metadata": {},
   "outputs": [
    {
     "name": "stdout",
     "output_type": "stream",
     "text": [
      "4g通话\n",
      "NFC读卡\n",
      "NFC写卡\n",
      "红外遥控开启了\n",
      "Apple\n"
     ]
    }
   ],
   "source": [
    "# 多继承示例\n",
    "class Phone:\n",
    "    IMEI=None     # 序列号\n",
    "    producer='Apple' # 厂商\n",
    "    \n",
    "    def call_by_4g(self):\n",
    "        print('4g通话')\n",
    "        \n",
    "class NFCReader:\n",
    "    nfc_type='第五代'\n",
    "    producer='HM'\n",
    "    \n",
    "    def read_card(self):\n",
    "        print('NFC读卡')\n",
    "        \n",
    "    def write_card(self):\n",
    "        print('NFC写卡')\n",
    "        \n",
    "class RemoteControl:\n",
    "    rc_type='红外遥控'\n",
    "    \n",
    "    def control(self):\n",
    "        print('红外遥控开启了')\n",
    "        \n",
    "class MyPhone(Phone,NFCReader,RemoteControl):\n",
    "    pass # 如果不想添加新功能，就用pass补上，符合语法要求\n",
    "\n",
    "phone=MyPhone()\n",
    "phone.call_by_4g()\n",
    "phone.read_card()\n",
    "phone.write_card()\n",
    "phone.control()\n",
    "print(phone.producer)"
   ]
  },
  {
   "cell_type": "markdown",
   "id": "29187427",
   "metadata": {},
   "source": [
    "- 例子中producer的继承，按照父类从左到右的顺序来继承，因此是Apple。"
   ]
  },
  {
   "cell_type": "markdown",
   "id": "80932a47",
   "metadata": {},
   "source": [
    "## 5 父类成员的复写和调用"
   ]
  },
  {
   "cell_type": "markdown",
   "id": "b57a3d51",
   "metadata": {},
   "source": [
    "### 5.1 复写"
   ]
  },
  {
   "cell_type": "markdown",
   "id": "949cb2ad",
   "metadata": {},
   "source": [
    "- 子类继承父类的成员属性和成员方法后，如果对其不满意，可以进行复写。即，在子类中重新定义同名的属性或者方法。"
   ]
  },
  {
   "cell_type": "code",
   "execution_count": null,
   "id": "788a5fd9",
   "metadata": {},
   "outputs": [],
   "source": [
    "class Phone:\n",
    "    IMEI=None        # 序列号\n",
    "    producer='Apple' # 厂商\n",
    "    \n",
    "    def call_by_5g(self):\n",
    "        print('父类的5g通话')   \n",
    "        \n",
    "class MyPhone(Phone):\n",
    "    producer='ITHEIMA'     # 复写父类属性\n",
    "    \n",
    "    def call_by_5g(self):  # 复写父类方法\n",
    "        print('子类的5g通话')"
   ]
  },
  {
   "cell_type": "markdown",
   "id": "df2caca1",
   "metadata": {},
   "source": [
    "- 复写的示例："
   ]
  },
  {
   "cell_type": "code",
   "execution_count": 7,
   "id": "d085231e",
   "metadata": {},
   "outputs": [
    {
     "name": "stdout",
     "output_type": "stream",
     "text": [
      "开启CPU单核模式，确保通话的时候省电\n",
      "使用5g网络进行通话\n",
      "关闭CPU单核模式，确保性能\n",
      "ITHEIMA\n"
     ]
    }
   ],
   "source": [
    "class Phone:\n",
    "    IMEI=None        # 序列号\n",
    "    producer='Apple' # 厂商\n",
    "    \n",
    "    def call_by_5g(self):\n",
    "        print('使用5g网络进行通话')   \n",
    "        \n",
    "class MyPhone(Phone):\n",
    "    producer='ITHEIMA'     # 复写父类的成员属性\n",
    "    \n",
    "    def call_by_5g(self):  # 复写父类方法\n",
    "        print('开启CPU单核模式，确保通话的时候省电')\n",
    "        print('使用5g网络进行通话')\n",
    "        print('关闭CPU单核模式，确保性能')\n",
    "\n",
    "phone=MyPhone()\n",
    "phone.call_by_5g()\n",
    "print(phone.producer)"
   ]
  },
  {
   "cell_type": "markdown",
   "id": "beee591a",
   "metadata": {},
   "source": [
    "### 5.2 调用父类同名成员"
   ]
  },
  {
   "cell_type": "markdown",
   "id": "8359d1f3",
   "metadata": {},
   "source": [
    "- 方式1：调用父类成员\n",
    "    - 使用成员变量：父类名.成员变量\n",
    "    - 使用成员方法：父类名.成员方法(self)\n",
    "    \n",
    "- 方式2：使用super( )调用父类成员\n",
    "    - 使用成员变量：super( ).成员变量\n",
    "    - 使用成员方法：super( ).成员方法( )"
   ]
  },
  {
   "cell_type": "code",
   "execution_count": 8,
   "id": "3672d786",
   "metadata": {
    "scrolled": true
   },
   "outputs": [
    {
     "name": "stdout",
     "output_type": "stream",
     "text": [
      "开启CPU单核模式，确保通话的时候省电\n",
      "父类的厂商是：Apple\n",
      "使用5g网络进行通话\n",
      "关闭CPU单核模式，确保性能\n",
      "ITHEIMA\n"
     ]
    }
   ],
   "source": [
    "class Phone:\n",
    "    IMEI=None        # 序列号\n",
    "    producer='Apple' # 厂商\n",
    "    \n",
    "    def call_by_5g(self):\n",
    "        print('使用5g网络进行通话')   \n",
    "        \n",
    "class MyPhone(Phone):\n",
    "    producer='ITHEIMA'     # 复写父类的成员属性\n",
    "    \n",
    "    def call_by_5g(self):  # 复写父类方法\n",
    "        print('开启CPU单核模式，确保通话的时候省电')\n",
    "        # 方式1\n",
    "        print(f'父类的厂商是：{Phone.producer}')\n",
    "        Phone.call_by_5g(self)\n",
    "        print('关闭CPU单核模式，确保性能')\n",
    "\n",
    "phone=MyPhone()\n",
    "phone.call_by_5g()\n",
    "print(phone.producer)"
   ]
  },
  {
   "cell_type": "code",
   "execution_count": 10,
   "id": "7a18cd45",
   "metadata": {},
   "outputs": [
    {
     "name": "stdout",
     "output_type": "stream",
     "text": [
      "开启CPU单核模式，确保通话的时候省电\n",
      "父类的厂商是：Apple\n",
      "使用5g网络进行通话\n",
      "关闭CPU单核模式，确保性能\n",
      "ITHEIMA\n"
     ]
    }
   ],
   "source": [
    "class Phone:\n",
    "    IMEI=None        # 序列号\n",
    "    producer='Apple' # 厂商\n",
    "    \n",
    "    def call_by_5g(self):\n",
    "        print('使用5g网络进行通话')   \n",
    "        \n",
    "class MyPhone(Phone):\n",
    "    producer='ITHEIMA'     # 复写父类的成员属性\n",
    "    \n",
    "    def call_by_5g(self):  # 复写父类方法\n",
    "        print('开启CPU单核模式，确保通话的时候省电')\n",
    "        # 方式2\n",
    "        print(f'父类的厂商是：{super().producer}')\n",
    "        super().call_by_5g()\n",
    "        print('关闭CPU单核模式，确保性能')\n",
    "\n",
    "phone=MyPhone()\n",
    "phone.call_by_5g()\n",
    "print(phone.producer)"
   ]
  },
  {
   "cell_type": "markdown",
   "id": "483d41e6",
   "metadata": {},
   "source": [
    "## 6 类型注解\n",
    "\n",
    "### 6.1 为变量设置类型注解\n",
    "\n",
    "- 基础语法为：\n",
    "    - 变量:类型"
   ]
  },
  {
   "cell_type": "code",
   "execution_count": null,
   "id": "b0ee14c1",
   "metadata": {},
   "outputs": [],
   "source": [
    "# 基础数据类型注释\n",
    "var_1:int=10\n",
    "var_2:float=3.1415\n",
    "var_3:bool=True\n",
    "var_4:str='itheima'\n",
    "    \n",
    "# 类对象类型注解\n",
    "class Student:\n",
    "    pass\n",
    "stu:Student=Student()\n",
    "    \n",
    "# 基础容器类型注解\n",
    "my_list:list=[1,2,3]\n",
    "my_tuple:tuple=(1,2,3)\n",
    "my_set:set={1,2,3}\n",
    "my_dict:dict={'itheima':666}\n",
    "my_str:str='itheima'\n",
    "    \n",
    "# 容器类型详细注解\n",
    "my_list:list[int]=[1,2,3]\n",
    "my_tuple:tuple[str,int,bool]=(1,2,3)\n",
    "my_set:set[int]={1,2,3}\n",
    "my_dict:dict[str,int]={'itheima':666}"
   ]
  },
  {
   "cell_type": "markdown",
   "id": "dc5c073a",
   "metadata": {},
   "source": [
    "- **注意：**\n",
    "    - **元组类型设置类型详细注解，需要将每个元素都标记出来。**\n",
    "    - **字典类型设置类型详细注解，需要2个类型，第一是key，第二是value。**"
   ]
  },
  {
   "cell_type": "markdown",
   "id": "87de0cd5",
   "metadata": {},
   "source": [
    "- 具体使用场景："
   ]
  },
  {
   "cell_type": "code",
   "execution_count": null,
   "id": "188fe89a",
   "metadata": {},
   "outputs": [],
   "source": [
    "# 为变量设置注解，显示的变量定义，一般无需注解：\n",
    "var_1:int=10\n",
    "var_2:list=[1,2,3]\n",
    "var_3:dict={'itheima':666}\n",
    "var_4:student=student()"
   ]
  },
  {
   "cell_type": "markdown",
   "id": "caa8ba18",
   "metadata": {},
   "source": [
    "- 以上就算不写注解，也明确知晓变量的类型。"
   ]
  },
  {
   "cell_type": "code",
   "execution_count": 11,
   "id": "1cdba284",
   "metadata": {},
   "outputs": [],
   "source": [
    "# 一般，无法直接看出变量类型的时候，才会添加变量的类型注解\n",
    "class Student:\n",
    "    pass\n",
    "\n",
    "var_1:int=random.randint(1,10)\n",
    "var_2:dict=json.loads(data)\n",
    "var_3:Student=func()"
   ]
  },
  {
   "cell_type": "markdown",
   "id": "7c06fc6e",
   "metadata": {},
   "source": [
    "- 类型注解的主要功能在于：\n",
    "    - 帮助第三方IDE工具（如pycharm）对代码进行类型判断，协助做代码提示。\n",
    "    - 帮助开发者自身对变量进行类型注释（备注）。\n",
    "    \n",
    "- 值得注意的是：\n",
    "    - IDE工具并不会真正的对类型做验证和判断，因此类型注释主要是给自己看的。\n",
    "    - 也就是说，如下所示的代码并不会报错！"
   ]
  },
  {
   "cell_type": "code",
   "execution_count": 12,
   "id": "40b0f661",
   "metadata": {},
   "outputs": [],
   "source": [
    "var_1:int='itheima'\n",
    "var_2:str=123"
   ]
  },
  {
   "cell_type": "markdown",
   "id": "6d3122cd",
   "metadata": {},
   "source": [
    "### 6.2 函数（方法）的类型注解\n",
    "\n",
    "#### 6.2.1 形参注释"
   ]
  },
  {
   "cell_type": "code",
   "execution_count": null,
   "id": "9499c182",
   "metadata": {},
   "outputs": [],
   "source": [
    "def 函数方法名(形参名:类型,形参名:类型,......):\n",
    "    pass"
   ]
  },
  {
   "cell_type": "code",
   "execution_count": 1,
   "id": "7fbea55a",
   "metadata": {},
   "outputs": [
    {
     "data": {
      "text/plain": [
       "5"
      ]
     },
     "execution_count": 1,
     "metadata": {},
     "output_type": "execute_result"
    }
   ],
   "source": [
    "# 对形参进行类型注解\n",
    "def add(x:int,y:int):\n",
    "    return x+y\n",
    "\n",
    "add(2,3)"
   ]
  },
  {
   "cell_type": "markdown",
   "id": "254fdae8",
   "metadata": {},
   "source": [
    "#### 6.2.2 返回值注释"
   ]
  },
  {
   "cell_type": "code",
   "execution_count": null,
   "id": "8adbcbbe",
   "metadata": {},
   "outputs": [],
   "source": [
    "def 函数方法名(形参:类型,......,形参：类型)->返回值类型:\n",
    "    pass"
   ]
  },
  {
   "cell_type": "code",
   "execution_count": null,
   "id": "fe6a34a1",
   "metadata": {},
   "outputs": [],
   "source": [
    "# 对返回值进行注解\n",
    "def func(data:list)->list:\n",
    "    return data"
   ]
  },
  {
   "cell_type": "markdown",
   "id": "4f9cebd2",
   "metadata": {},
   "source": [
    "### 6.3 Union类型"
   ]
  },
  {
   "cell_type": "markdown",
   "id": "fe0bff6b",
   "metadata": {},
   "source": [
    "- 使用`Union[类型,......,类型]`，可以定义联合类型注解。\n",
    "\n",
    "- Union联合类型注释，在变量注释、函数（方法）形参和返回值注释中，均可使用。"
   ]
  },
  {
   "cell_type": "code",
   "execution_count": null,
   "id": "5ea53d67",
   "metadata": {},
   "outputs": [],
   "source": [
    "my_list:list[Union(int,str)]=[1,2,'itcast','itheima']\n",
    "    \n",
    "my_dict:dict[str,Union[str,int]]={'name':'Tom','age':31}\n",
    "    \n",
    "def func(data:Union[int,str])->Union[int,str]:\n",
    "    pass"
   ]
  },
  {
   "cell_type": "code",
   "execution_count": null,
   "id": "46d05446",
   "metadata": {},
   "outputs": [],
   "source": [
    "# 使用Union类型，必须先导入包\n",
    "from typing import Union\n",
    "my_list:list[Union(int,str)]=[1,2,'itcast','itheima']\n",
    "def func(data:Union[int,str])->Union[int,str]:\n",
    "    pass\n",
    "func()"
   ]
  },
  {
   "cell_type": "markdown",
   "id": "bfa068d6",
   "metadata": {},
   "source": [
    "## 7 多态\n",
    "\n",
    "- 多态指的是，多种状态，即完成某个行为时，使用不同的对象会得到不同的状态。比如：\n",
    "    - 函数（方法）形参声明接收**父类对象**，实际传入父类的子类对象进行工作。\n",
    "    - 即：\n",
    "        - 以父类做定义声明。\n",
    "        - 以子类做实际工作。\n",
    "        - 用以获得同一行为的不同状态。"
   ]
  },
  {
   "cell_type": "code",
   "execution_count": 8,
   "id": "f7e0161b",
   "metadata": {},
   "outputs": [
    {
     "name": "stdout",
     "output_type": "stream",
     "text": [
      "汪汪汪汪\n",
      "喵喵喵喵\n"
     ]
    }
   ],
   "source": [
    "class Animal:\n",
    "    def speak(self):\n",
    "        pass\n",
    "    \n",
    "class Dog(Animal):\n",
    "    def speak(self):\n",
    "        print('汪汪汪汪')\n",
    "        \n",
    "class Cat(Animal):\n",
    "    def speak(self):\n",
    "        print('喵喵喵喵')\n",
    "        \n",
    "def make_noise(animal:Animal):\n",
    "    \"\"\"制造点噪音，需要传入Animal对象\"\"\"\n",
    "    animal.speak()\n",
    "    \n",
    "# 演示多态，使用2个子类对象来调用函数\n",
    "dog=Dog()\n",
    "cat=Cat()\n",
    "\n",
    "make_noise(dog)\n",
    "make_noise(cat)"
   ]
  },
  {
   "cell_type": "markdown",
   "id": "8787f0d9",
   "metadata": {},
   "source": [
    "- 抽象类（接口）：好比定义一个标准，包含一些抽象的方法，要求子类必须实现。"
   ]
  },
  {
   "cell_type": "code",
   "execution_count": 11,
   "id": "cfc01930",
   "metadata": {},
   "outputs": [
    {
     "name": "stdout",
     "output_type": "stream",
     "text": [
      "美的空调制冷\n",
      "格力空调制冷\n",
      "美的空调制热\n",
      "格力空调制热\n",
      "美的空调左右摆风\n",
      "格力空调左右摆风\n"
     ]
    }
   ],
   "source": [
    "# 抽象类示例\n",
    "class AC:    # 做顶层设计，一般不直接使用\n",
    "    def cool_wind(self):\n",
    "        \"\"\"制冷\"\"\"\n",
    "        pass\n",
    "    def hot_wind(self):\n",
    "        \"\"\"制热\"\"\"\n",
    "        pass\n",
    "    def swing_l_r(self):\n",
    "        \"\"\"左右摆风\"\"\"\n",
    "        pass\n",
    "    \n",
    "class Midea_AC(AC):   # 子类做具体使用\n",
    "    def cool_wind(self):\n",
    "        print('美的空调制冷')\n",
    "        \n",
    "    def hot_wind(self):\n",
    "        print('美的空调制热')\n",
    "        \n",
    "    def swing_l_r(self):\n",
    "        print('美的空调左右摆风')\n",
    "        \n",
    "class GREE_AC(AC):   # 子类做具体使用\n",
    "    def cool_wind(self):\n",
    "        print('格力空调制冷')\n",
    "        \n",
    "    def hot_wind(self):\n",
    "        print('格力空调制热')\n",
    "        \n",
    "    def swing_l_r(self):\n",
    "        print('格力空调左右摆风')\n",
    "        \n",
    "def make_cool(ac:AC):\n",
    "    ac.cool_wind()\n",
    "    \n",
    "def make_hot(ac:AC):\n",
    "    ac.hot_wind()\n",
    "    \n",
    "def make_swing(ac:AC):\n",
    "    ac.swing_l_r()\n",
    "    \n",
    "midea_ac=Midea_AC()\n",
    "gree_ac=GREE_AC()\n",
    "\n",
    "make_cool(midea_ac)\n",
    "make_cool(gree_ac)\n",
    "\n",
    "make_hot(midea_ac)\n",
    "make_hot(gree_ac)\n",
    "\n",
    "make_swing(midea_ac)\n",
    "make_swing(gree_ac)"
   ]
  }
 ],
 "metadata": {
  "kernelspec": {
   "display_name": "Python 3 (ipykernel)",
   "language": "python",
   "name": "python3"
  },
  "language_info": {
   "codemirror_mode": {
    "name": "ipython",
    "version": 3
   },
   "file_extension": ".py",
   "mimetype": "text/x-python",
   "name": "python",
   "nbconvert_exporter": "python",
   "pygments_lexer": "ipython3",
   "version": "3.9.13"
  },
  "toc": {
   "base_numbering": 1,
   "nav_menu": {},
   "number_sections": false,
   "sideBar": true,
   "skip_h1_title": true,
   "title_cell": "Table of Contents",
   "title_sidebar": "Contents",
   "toc_cell": true,
   "toc_position": {},
   "toc_section_display": true,
   "toc_window_display": false
  }
 },
 "nbformat": 4,
 "nbformat_minor": 5
}
