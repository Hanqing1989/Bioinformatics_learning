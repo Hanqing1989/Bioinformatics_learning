{
 "cells": [
  {
   "cell_type": "markdown",
   "id": "ae3b4c3e",
   "metadata": {},
   "source": [
    "# Python进阶语法学习（第二阶段）"
   ]
  },
  {
   "cell_type": "markdown",
   "id": "400d3d09",
   "metadata": {},
   "source": [
    "Source：\n",
    "\n",
    "1. [【B站】2022新版黑马程序员python教程](https://www.bilibili.com/video/BV1qW4y1a7fU/?spm_id_from=333.1007.top_right_bar_window_custom_collection.content.click)。"
   ]
  },
  {
   "cell_type": "markdown",
   "id": "c48ba024",
   "metadata": {
    "toc": true
   },
   "source": [
    "<h1>Table of Contents<span class=\"tocSkip\"></span></h1>\n",
    "<div class=\"toc\"><ul class=\"toc-item\"><li><span><a href=\"#1-对象和类\" data-toc-modified-id=\"1-对象和类-1\">1 对象和类</a></span><ul class=\"toc-item\"><li><span><a href=\"#1.1-类的成员方法\" data-toc-modified-id=\"1.1-类的成员方法-1.1\">1.1 类的成员方法</a></span></li><li><span><a href=\"#1.2-面向对象的编程\" data-toc-modified-id=\"1.2-面向对象的编程-1.2\">1.2 面向对象的编程</a></span></li></ul></li><li><span><a href=\"#2-构造方法\" data-toc-modified-id=\"2-构造方法-2\">2 构造方法</a></span></li></ul></div>"
   ]
  },
  {
   "cell_type": "markdown",
   "id": "16b1a25d",
   "metadata": {},
   "source": [
    "## 1 对象和类"
   ]
  },
  {
   "cell_type": "markdown",
   "id": "7888b9b3",
   "metadata": {},
   "source": [
    "- 在程序中设计表格，被称之为：**设计类（class）**。"
   ]
  },
  {
   "cell_type": "code",
   "execution_count": null,
   "id": "6c6cc108",
   "metadata": {},
   "outputs": [],
   "source": [
    "class Student:\n",
    "    name=None   # 记录学生姓名"
   ]
  },
  {
   "cell_type": "markdown",
   "id": "793a38dd",
   "metadata": {},
   "source": [
    "- 在程序中打印生产表格，被称之为：**创建对象**。"
   ]
  },
  {
   "cell_type": "code",
   "execution_count": null,
   "id": "5b6aca16",
   "metadata": {},
   "outputs": [],
   "source": [
    "# 基于类创建对象\n",
    "stu_1=Student()\n",
    "stu_2=Student()"
   ]
  },
  {
   "cell_type": "markdown",
   "id": "23fda5a4",
   "metadata": {},
   "source": [
    "- 在程序中填写表格，被称之为：**对象属性赋值**。"
   ]
  },
  {
   "cell_type": "code",
   "execution_count": null,
   "id": "fc5eacda",
   "metadata": {},
   "outputs": [],
   "source": [
    "stu_1.name='Tom' # 为学生1对象赋予名称属性值\n",
    "stu_2.name='Jack' # 为学生2对象赋予名称属性值"
   ]
  },
  {
   "cell_type": "markdown",
   "id": "fb4da7fc",
   "metadata": {},
   "source": [
    "- 案例："
   ]
  },
  {
   "cell_type": "code",
   "execution_count": 1,
   "id": "8537f268",
   "metadata": {},
   "outputs": [
    {
     "name": "stdout",
     "output_type": "stream",
     "text": [
      "Tom\n",
      "male\n",
      "USA\n",
      "LA\n",
      "18\n"
     ]
    }
   ],
   "source": [
    "# 设计一个类（类比生活中设计一张登记表）\n",
    "class Student:\n",
    "    name=None          # 记录学生姓名\n",
    "    gender=None        # 记录学生性别\n",
    "    nationality=None   # 记录学生国籍\n",
    "    native_place=None  # 记录学生籍贯\n",
    "    age=None           # 记录学生年龄\n",
    "    \n",
    "# 创建一个对象（类比生活中打印一张登记表）\n",
    "stu_1=Student()\n",
    "# 给对象属性进行赋值（类比生活中填写表格）\n",
    "stu_1.name='Tom'\n",
    "stu_1.gender='male'\n",
    "stu_1.nationality='USA'\n",
    "stu_1.native_place='LA'\n",
    "stu_1.age=18\n",
    "# 获取对象记录的信息\n",
    "print(stu_1.name)\n",
    "print(stu_1.gender)\n",
    "print(stu_1.nationality)\n",
    "print(stu_1.native_place)\n",
    "print(stu_1.age)"
   ]
  },
  {
   "cell_type": "markdown",
   "id": "00e3d5db",
   "metadata": {},
   "source": [
    "### 1.1 类的成员方法"
   ]
  },
  {
   "cell_type": "markdown",
   "id": "0654dede",
   "metadata": {},
   "source": [
    "- 创建类对象的语法：对象名=类名称( )"
   ]
  },
  {
   "cell_type": "code",
   "execution_count": 1,
   "id": "dcba40c7",
   "metadata": {},
   "outputs": [
    {
     "name": "stdout",
     "output_type": "stream",
     "text": [
      "Hi，大家好，我是Tom\n"
     ]
    }
   ],
   "source": [
    "class Student:\n",
    "    name=None     # 学生的姓名\n",
    "    age=None      # 学生的年龄\n",
    "    \n",
    "    def say_hi(self):\n",
    "        print(f'Hi，大家好，我是{self.name}')\n",
    "        \n",
    "stu=Student()\n",
    "stu.name='Tom'\n",
    "stu.say_hi()"
   ]
  },
  {
   "cell_type": "markdown",
   "id": "467ea7b2",
   "metadata": {},
   "source": [
    "- 类中定义的属性（变量），被称之为：**成员变量**。\n",
    "\n",
    "- 类中定义的行为（函数），被称之为：**成员方法**。即类中的函数叫做方法。"
   ]
  },
  {
   "cell_type": "markdown",
   "id": "44090d0b",
   "metadata": {},
   "source": [
    "- 在类中定义成员方法，与定义函数基本一致，但仍有细微区别："
   ]
  },
  {
   "cell_type": "code",
   "execution_count": null,
   "id": "2d22c9e0",
   "metadata": {},
   "outputs": [],
   "source": [
    "def 方法名(self,形参1,......,形参N):\n",
    "    方法体"
   ]
  },
  {
   "cell_type": "markdown",
   "id": "c468e5b7",
   "metadata": {},
   "source": [
    "- self关键字是成员方法定义的时候，**必须填写**。\n",
    "    - 它用来表示类对象自身的意思。\n",
    "    - 当使用类对象调用方法的时候，self会自动被python传入。\n",
    "    - **在方法内部，想要访问类的成员变量，必须使用self**。"
   ]
  },
  {
   "cell_type": "markdown",
   "id": "4add063b",
   "metadata": {},
   "source": [
    "- 案例演示"
   ]
  },
  {
   "cell_type": "code",
   "execution_count": 6,
   "id": "805c520f",
   "metadata": {},
   "outputs": [
    {
     "name": "stdout",
     "output_type": "stream",
     "text": [
      "大家好，我是Tom，请多多关照。\n",
      "大家好，我是Jack，请多多关照。\n",
      "大家好，我是Lily，I am 12。\n",
      "大家好，我是Lucy，I am 13。\n"
     ]
    }
   ],
   "source": [
    "# 定义一个带有成员方法的类\n",
    "class Student:\n",
    "    name=None    # 学生的姓名\n",
    "    \n",
    "    def say_hi1(self):\n",
    "        print(f'大家好，我是{self.name}，请多多关照。')\n",
    "        \n",
    "    def say_hi2(self,msg):\n",
    "        print(f'大家好，我是{self.name}，{msg}。')\n",
    "        \n",
    "stu1=Student()\n",
    "stu1.name='Tom'\n",
    "stu1.say_hi1()\n",
    "\n",
    "stu2=Student()\n",
    "stu2.name='Jack'\n",
    "stu2.say_hi1()\n",
    "\n",
    "stu3=Student()\n",
    "stu3.name='Lily'\n",
    "stu3.say_hi2('I am 12')\n",
    "\n",
    "stu4=Student()\n",
    "stu4.name='Lucy'\n",
    "stu4.say_hi2('I am 13')"
   ]
  },
  {
   "cell_type": "markdown",
   "id": "20e468b8",
   "metadata": {},
   "source": [
    "### 1.2 面向对象的编程"
   ]
  },
  {
   "cell_type": "markdown",
   "id": "17d7f936",
   "metadata": {},
   "source": [
    "- 面向对象的编程，就是使用对象进行编程。即，先设计类，再基于类创建对象，并使用对象来完成具体的工作。"
   ]
  },
  {
   "cell_type": "code",
   "execution_count": null,
   "id": "d64ab0de",
   "metadata": {},
   "outputs": [],
   "source": [
    "# 设计一个闹钟类\n",
    "class Clock:\n",
    "    id=None    # 序列化\n",
    "    price=None # 价格\n",
    "    \n",
    "    def ring(self):\n",
    "        import winsound\n",
    "        winsound.Beep(2000,3000)\n",
    "        \n",
    "# 构建2个闹钟对象并让其工作\n",
    "clock1=Clock()\n",
    "clock1.id='003032'\n",
    "clock1.price=19.99\n",
    "print(f'闹钟ID：{clock1.id}，价格：{clock1.price}。')\n",
    "clock1.ring()\n",
    "\n",
    "clock2=Clock()\n",
    "clock2.id='003033'\n",
    "clock2.price=21.99\n",
    "print(f'闹钟ID：{clock2.id}，价格：{clock2.price}。')\n",
    "clock2.ring()"
   ]
  },
  {
   "cell_type": "markdown",
   "id": "dcf03afa",
   "metadata": {},
   "source": [
    "## 2 构造方法"
   ]
  },
  {
   "cell_type": "markdown",
   "id": "01c0122d",
   "metadata": {},
   "source": [
    "- Python类可以使用：`__init__( )`方法，称之为构造方法。\n",
    "\n",
    "- 可以实现：\n",
    "    - 在创建类对象（或者构造类）的时候，会自动执行。\n",
    "    - 在创建类对象（或者构造类）的时候，将传入参数自动传递给`__init__( )`方法使用。"
   ]
  },
  {
   "cell_type": "code",
   "execution_count": 9,
   "id": "86f96ace",
   "metadata": {},
   "outputs": [
    {
     "name": "stdout",
     "output_type": "stream",
     "text": [
      "Student类创建了一个类对象\n",
      "Tom\n",
      "21\n",
      "12345\n"
     ]
    }
   ],
   "source": [
    "# 构造方法的名称：__init__\n",
    "class Student:\n",
    "    def __init__(self,name,age,tel):\n",
    "        self.name=name\n",
    "        self.age=age\n",
    "        self.tel=tel\n",
    "        print('Student类创建了一个类对象')\n",
    "        \n",
    "stu=Student('Tom',21,'12345')\n",
    "\n",
    "print(stu.name)\n",
    "print(stu.age)\n",
    "print(stu.tel)"
   ]
  },
  {
   "cell_type": "code",
   "execution_count": null,
   "id": "47d10d5c",
   "metadata": {},
   "outputs": [],
   "source": []
  }
 ],
 "metadata": {
  "kernelspec": {
   "display_name": "Python 3 (ipykernel)",
   "language": "python",
   "name": "python3"
  },
  "language_info": {
   "codemirror_mode": {
    "name": "ipython",
    "version": 3
   },
   "file_extension": ".py",
   "mimetype": "text/x-python",
   "name": "python",
   "nbconvert_exporter": "python",
   "pygments_lexer": "ipython3",
   "version": "3.9.13"
  },
  "toc": {
   "base_numbering": 1,
   "nav_menu": {},
   "number_sections": false,
   "sideBar": true,
   "skip_h1_title": true,
   "title_cell": "Table of Contents",
   "title_sidebar": "Contents",
   "toc_cell": true,
   "toc_position": {},
   "toc_section_display": true,
   "toc_window_display": false
  }
 },
 "nbformat": 4,
 "nbformat_minor": 5
}
