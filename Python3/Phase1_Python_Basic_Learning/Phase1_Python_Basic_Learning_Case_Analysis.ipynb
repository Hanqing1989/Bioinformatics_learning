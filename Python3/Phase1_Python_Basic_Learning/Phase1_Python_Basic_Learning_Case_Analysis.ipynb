{
 "cells": [
  {
   "cell_type": "markdown",
   "id": "d877e376",
   "metadata": {},
   "source": [
    "# Python基础语法学习-案例分析（第一阶段）"
   ]
  },
  {
   "cell_type": "markdown",
   "id": "933fe05c",
   "metadata": {
    "toc": true
   },
   "source": [
    "<h1>Table of Contents<span class=\"tocSkip\"></span></h1>\n",
    "<div class=\"toc\"><ul class=\"toc-item\"><li><span><a href=\"#1-json数据格式\" data-toc-modified-id=\"1-json数据格式-1\">1 json数据格式</a></span></li></ul></div>"
   ]
  },
  {
   "cell_type": "markdown",
   "id": "201f5750",
   "metadata": {},
   "source": [
    "## 1 json数据格式"
   ]
  },
  {
   "cell_type": "markdown",
   "id": "727a3da4",
   "metadata": {},
   "source": [
    "- json是一种轻量级的数据交互格式，本质上是一个带有特定格式的字符串。\n",
    "\n",
    "- 主要功能是在各个编程语言中负责数据的传递和交互。"
   ]
  },
  {
   "cell_type": "code",
   "execution_count": null,
   "id": "dbf7f32e",
   "metadata": {},
   "outputs": [],
   "source": [
    "# json的数据格式\n",
    "{'name':'admin','age':18}\n",
    "# 也可以是\n",
    "[{'name':'admin','age':18},{'name':'root','age':16},{'name':'张三','age':20}]"
   ]
  },
  {
   "cell_type": "markdown",
   "id": "fdd241b7",
   "metadata": {},
   "source": [
    "- Python数据和Json数据的相互转换"
   ]
  },
  {
   "cell_type": "code",
   "execution_count": null,
   "id": "7d184440",
   "metadata": {},
   "outputs": [],
   "source": [
    "# 导入json模块\n",
    "import json\n",
    "# 准备符合json格式要求的Python数据\n",
    "data=[{'name':'老王','age':16},{'name':'张三','age':20}]\n",
    "# 通过json.dumps(data)方法，把Python数据转换为json数据\n",
    "data=json.dumps(data)\n",
    "# 通过json.dumps(data)方法，把json数据转换为Python数据\n",
    "data=json.loads(data)"
   ]
  },
  {
   "cell_type": "markdown",
   "id": "069dd433",
   "metadata": {},
   "source": [
    "- Json数据和Python字典的相互转换示例"
   ]
  },
  {
   "cell_type": "code",
   "execution_count": 23,
   "id": "5630d08d",
   "metadata": {
    "scrolled": true
   },
   "outputs": [
    {
     "name": "stdout",
     "output_type": "stream",
     "text": [
      "<class 'str'>\n",
      "[{\"name\": \"张三\", \"age\": 18}, {\"name\": \"李四\", \"age\": 16}, {\"name\": \"王五\", \"age\": 20}]\n",
      "<class 'str'>\n",
      "{\"name\": \"Tom\", \"addr\": \"USA\"}\n",
      "<class 'list'>\n",
      "[{'name': '张三', 'age': 18}, {'name': '李四', 'age': 16}, {'name': '王五', 'age': 20}]\n",
      "<class 'dict'>\n",
      "{'name': 'Tom', 'addr': 'USA'}\n"
     ]
    }
   ],
   "source": [
    "import json\n",
    "data=[{'name':'张三','age':18},{'name':'李四','age':16},{'name':'王五','age':20}]\n",
    "json_str1=json.dumps(data,ensure_ascii=False) #如果传入参数为中文，则需要写ensure_ascii=False，表明不使用ASCII码进行转换\n",
    "print(type(json_str1))\n",
    "print(json_str1)\n",
    "# 准备字典，将字典转换为json\n",
    "dict1={'name':'Tom','addr':'USA'}\n",
    "json_str2=json.dumps(dict1)\n",
    "print(type(json_str2))\n",
    "print(json_str2)\n",
    "# 将json字符串转换为Python数据类型\n",
    "# 注意：json字符串规定：最外层用单引号，内层都用双引号\n",
    "json_str3='[{\"name\":\"张三\",\"age\":18},{\"name\":\"李四\",\"age\":16},{\"name\":\"王五\",\"age\":20}]'\n",
    "list3=json.loads(json_str3)\n",
    "print(type(list3))\n",
    "print(list3)\n",
    "json_str4='{\"name\":\"Tom\",\"addr\":\"USA\"}'\n",
    "dict4=json.loads(json_str4)\n",
    "print(type(dict4))\n",
    "print(dict4)"
   ]
  },
  {
   "cell_type": "code",
   "execution_count": null,
   "id": "0666d3f8",
   "metadata": {},
   "outputs": [],
   "source": []
  }
 ],
 "metadata": {
  "kernelspec": {
   "display_name": "Python 3 (ipykernel)",
   "language": "python",
   "name": "python3"
  },
  "language_info": {
   "codemirror_mode": {
    "name": "ipython",
    "version": 3
   },
   "file_extension": ".py",
   "mimetype": "text/x-python",
   "name": "python",
   "nbconvert_exporter": "python",
   "pygments_lexer": "ipython3",
   "version": "3.9.13"
  },
  "toc": {
   "base_numbering": 1,
   "nav_menu": {},
   "number_sections": false,
   "sideBar": true,
   "skip_h1_title": true,
   "title_cell": "Table of Contents",
   "title_sidebar": "Contents",
   "toc_cell": true,
   "toc_position": {},
   "toc_section_display": true,
   "toc_window_display": false
  }
 },
 "nbformat": 4,
 "nbformat_minor": 5
}
