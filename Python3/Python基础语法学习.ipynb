{
 "cells": [
  {
   "cell_type": "markdown",
   "id": "cc92651e",
   "metadata": {},
   "source": [
    "# Python基础语法学习"
   ]
  },
  {
   "cell_type": "markdown",
   "id": "feb55ee3",
   "metadata": {},
   "source": [
    "Source：\n",
    "\n",
    "1. [Biopython中文教程](https://biopython-cn.readthedocs.io/zh_CN/latest/cn/chr01.html)。\n",
    "\n",
    "2. [编程小白的第一本Python入门书](https://www.ituring.com.cn/book/1863)。\n",
    "\n",
    "3. [【B站】2022新版黑马程序员python教程](https://www.bilibili.com/video/BV1qW4y1a7fU/?spm_id_from=333.1007.top_right_bar_window_custom_collection.content.click)。"
   ]
  },
  {
   "cell_type": "markdown",
   "id": "db86e0b7",
   "metadata": {
    "toc": true
   },
   "source": [
    "<h1>Table of Contents<span class=\"tocSkip\"></span></h1>\n",
    "<div class=\"toc\"><ul class=\"toc-item\"><li><span><a href=\"#代码规范\" data-toc-modified-id=\"代码规范-1\"><span class=\"toc-item-num\">1&nbsp;&nbsp;</span>代码规范</a></span></li><li><span><a href=\"#注释\" data-toc-modified-id=\"注释-2\"><span class=\"toc-item-num\">2&nbsp;&nbsp;</span>注释</a></span><ul class=\"toc-item\"><li><span><a href=\"#注释语句的作用\" data-toc-modified-id=\"注释语句的作用-2.1\"><span class=\"toc-item-num\">2.1&nbsp;&nbsp;</span>注释语句的作用</a></span></li><li><span><a href=\"#注释类型\" data-toc-modified-id=\"注释类型-2.2\"><span class=\"toc-item-num\">2.2&nbsp;&nbsp;</span>注释类型</a></span></li></ul></li><li><span><a href=\"#标识符\" data-toc-modified-id=\"标识符-3\"><span class=\"toc-item-num\">3&nbsp;&nbsp;</span>标识符</a></span></li><li><span><a href=\"#运算符\" data-toc-modified-id=\"运算符-4\"><span class=\"toc-item-num\">4&nbsp;&nbsp;</span>运算符</a></span><ul class=\"toc-item\"><li><span><a href=\"#数学运算符\" data-toc-modified-id=\"数学运算符-4.1\"><span class=\"toc-item-num\">4.1&nbsp;&nbsp;</span>数学运算符</a></span></li><li><span><a href=\"#赋值运算符\" data-toc-modified-id=\"赋值运算符-4.2\"><span class=\"toc-item-num\">4.2&nbsp;&nbsp;</span>赋值运算符</a></span></li></ul></li><li><span><a href=\"#基本数据类型\" data-toc-modified-id=\"基本数据类型-5\"><span class=\"toc-item-num\">5&nbsp;&nbsp;</span>基本数据类型</a></span><ul class=\"toc-item\"><li><span><a href=\"#数字、判断类型、布尔值\" data-toc-modified-id=\"数字、判断类型、布尔值-5.1\"><span class=\"toc-item-num\">5.1&nbsp;&nbsp;</span>数字、判断类型、布尔值</a></span></li><li><span><a href=\"#变量和字符串（string）\" data-toc-modified-id=\"变量和字符串（string）-5.2\"><span class=\"toc-item-num\">5.2&nbsp;&nbsp;</span>变量和字符串（string）</a></span><ul class=\"toc-item\"><li><span><a href=\"#字符串格式化\" data-toc-modified-id=\"字符串格式化-5.2.1\"><span class=\"toc-item-num\">5.2.1&nbsp;&nbsp;</span>字符串格式化</a></span></li><li><span><a href=\"#类型转换\" data-toc-modified-id=\"类型转换-5.2.2\"><span class=\"toc-item-num\">5.2.2&nbsp;&nbsp;</span>类型转换</a></span></li><li><span><a href=\"#字符串运算方法\" data-toc-modified-id=\"字符串运算方法-5.2.3\"><span class=\"toc-item-num\">5.2.3&nbsp;&nbsp;</span>字符串运算方法</a></span></li><li><span><a href=\"#字符串切片和索引\" data-toc-modified-id=\"字符串切片和索引-5.2.4\"><span class=\"toc-item-num\">5.2.4&nbsp;&nbsp;</span>字符串切片和索引</a></span></li><li><span><a href=\"#字符串的方法\" data-toc-modified-id=\"字符串的方法-5.2.5\"><span class=\"toc-item-num\">5.2.5&nbsp;&nbsp;</span>字符串的方法</a></span></li></ul></li></ul></li><li><span><a href=\"#数据结构\" data-toc-modified-id=\"数据结构-6\"><span class=\"toc-item-num\">6&nbsp;&nbsp;</span>数据结构</a></span><ul class=\"toc-item\"><li><span><a href=\"#列表（list）\" data-toc-modified-id=\"列表（list）-6.1\"><span class=\"toc-item-num\">6.1&nbsp;&nbsp;</span>列表（list）</a></span></li><li><span><a href=\"#元组（tuple）\" data-toc-modified-id=\"元组（tuple）-6.2\"><span class=\"toc-item-num\">6.2&nbsp;&nbsp;</span>元组（tuple）</a></span></li><li><span><a href=\"#集合（set）\" data-toc-modified-id=\"集合（set）-6.3\"><span class=\"toc-item-num\">6.3&nbsp;&nbsp;</span>集合（set）</a></span></li><li><span><a href=\"#字典（dict）\" data-toc-modified-id=\"字典（dict）-6.4\"><span class=\"toc-item-num\">6.4&nbsp;&nbsp;</span>字典（dict）</a></span></li></ul></li><li><span><a href=\"#判断与循环\" data-toc-modified-id=\"判断与循环-7\"><span class=\"toc-item-num\">7&nbsp;&nbsp;</span>判断与循环</a></span><ul class=\"toc-item\"><li><span><a href=\"#条件控制（if）\" data-toc-modified-id=\"条件控制（if）-7.1\"><span class=\"toc-item-num\">7.1&nbsp;&nbsp;</span>条件控制（if）</a></span></li><li><span><a href=\"#循环（Loop）\" data-toc-modified-id=\"循环（Loop）-7.2\"><span class=\"toc-item-num\">7.2&nbsp;&nbsp;</span>循环（Loop）</a></span><ul class=\"toc-item\"><li><span><a href=\"#for循环\" data-toc-modified-id=\"for循环-7.2.1\"><span class=\"toc-item-num\">7.2.1&nbsp;&nbsp;</span>for循环</a></span></li><li><span><a href=\"#while循环\" data-toc-modified-id=\"while循环-7.2.2\"><span class=\"toc-item-num\">7.2.2&nbsp;&nbsp;</span>while循环</a></span></li><li><span><a href=\"#break循环\" data-toc-modified-id=\"break循环-7.2.3\"><span class=\"toc-item-num\">7.2.3&nbsp;&nbsp;</span>break循环</a></span></li><li><span><a href=\"#continue循环\" data-toc-modified-id=\"continue循环-7.2.4\"><span class=\"toc-item-num\">7.2.4&nbsp;&nbsp;</span>continue循环</a></span></li></ul></li></ul></li><li><span><a href=\"#函数\" data-toc-modified-id=\"函数-8\"><span class=\"toc-item-num\">8&nbsp;&nbsp;</span>函数</a></span><ul class=\"toc-item\"><li><span><a href=\"#定义函数\" data-toc-modified-id=\"定义函数-8.1\"><span class=\"toc-item-num\">8.1&nbsp;&nbsp;</span>定义函数</a></span></li><li><span><a href=\"#传递参数与参数类型\" data-toc-modified-id=\"传递参数与参数类型-8.2\"><span class=\"toc-item-num\">8.2&nbsp;&nbsp;</span>传递参数与参数类型</a></span></li><li><span><a href=\"#读取文件\" data-toc-modified-id=\"读取文件-8.3\"><span class=\"toc-item-num\">8.3&nbsp;&nbsp;</span>读取文件</a></span><ul class=\"toc-item\"><li><span><a href=\"#打开文件对象\" data-toc-modified-id=\"打开文件对象-8.3.1\"><span class=\"toc-item-num\">8.3.1&nbsp;&nbsp;</span>打开文件对象</a></span></li><li><span><a href=\"#查找文件路径\" data-toc-modified-id=\"查找文件路径-8.3.2\"><span class=\"toc-item-num\">8.3.2&nbsp;&nbsp;</span>查找文件路径</a></span></li></ul></li></ul></li></ul></div>"
   ]
  },
  {
   "cell_type": "markdown",
   "id": "a65e9d35",
   "metadata": {},
   "source": [
    "## 代码规范"
   ]
  },
  {
   "cell_type": "code",
   "execution_count": 1,
   "id": "e93e34d5",
   "metadata": {},
   "outputs": [
    {
     "name": "stdout",
     "output_type": "stream",
     "text": [
      "Hello world!\n"
     ]
    }
   ],
   "source": [
    "print('Hello world!')"
   ]
  },
  {
   "cell_type": "markdown",
   "id": "8546607b",
   "metadata": {},
   "source": [
    "- 严格的缩进"
   ]
  },
  {
   "cell_type": "code",
   "execution_count": 2,
   "id": "feb22c60",
   "metadata": {},
   "outputs": [
    {
     "name": "stdout",
     "output_type": "stream",
     "text": [
      "Hello world!\n"
     ]
    }
   ],
   "source": [
    "    print('Hello world!')#缩进错误"
   ]
  },
  {
   "cell_type": "markdown",
   "id": "a36c44da",
   "metadata": {},
   "source": [
    "- 区分大小写（比如函数名）"
   ]
  },
  {
   "cell_type": "code",
   "execution_count": 3,
   "id": "07553068",
   "metadata": {},
   "outputs": [
    {
     "ename": "NameError",
     "evalue": "name 'Print' is not defined",
     "output_type": "error",
     "traceback": [
      "\u001b[0;31m---------------------------------------------------------------------------\u001b[0m",
      "\u001b[0;31mNameError\u001b[0m                                 Traceback (most recent call last)",
      "\u001b[0;32m/var/folders/14/pj985hh56sl5pj_j6y0ldsk00000gn/T/ipykernel_3731/1600588866.py\u001b[0m in \u001b[0;36m<module>\u001b[0;34m\u001b[0m\n\u001b[0;32m----> 1\u001b[0;31m \u001b[0mPrint\u001b[0m\u001b[0;34m(\u001b[0m\u001b[0;34m'Hello world!'\u001b[0m\u001b[0;34m)\u001b[0m\u001b[0;34m\u001b[0m\u001b[0;34m\u001b[0m\u001b[0m\n\u001b[0m",
      "\u001b[0;31mNameError\u001b[0m: name 'Print' is not defined"
     ]
    }
   ],
   "source": [
    "Print('Hello world!')"
   ]
  },
  {
   "cell_type": "markdown",
   "id": "5504d073",
   "metadata": {},
   "source": [
    "- 语法结构中禁止使用中文符号（比如中文双引号）"
   ]
  },
  {
   "cell_type": "code",
   "execution_count": 4,
   "id": "4e2f8519",
   "metadata": {},
   "outputs": [
    {
     "ename": "SyntaxError",
     "evalue": "invalid character '“' (U+201C) (3845946514.py, line 1)",
     "output_type": "error",
     "traceback": [
      "\u001b[0;36m  File \u001b[0;32m\"/var/folders/14/pj985hh56sl5pj_j6y0ldsk00000gn/T/ipykernel_3731/3845946514.py\"\u001b[0;36m, line \u001b[0;32m1\u001b[0m\n\u001b[0;31m    print(“Hello world!”)\u001b[0m\n\u001b[0m          ^\u001b[0m\n\u001b[0;31mSyntaxError\u001b[0m\u001b[0;31m:\u001b[0m invalid character '“' (U+201C)\n"
     ]
    }
   ],
   "source": [
    "print(“Hello world!”)"
   ]
  },
  {
   "cell_type": "markdown",
   "id": "d1cb4133",
   "metadata": {},
   "source": [
    "## 注释\n",
    "\n",
    "### 注释语句的作用\n",
    "\n",
    "- 注明代码的作用，其本身不会被Python执行。\n",
    "\n",
    "- 便于与他人协作以及维护和管理\n",
    "\n",
    "### 注释类型\n",
    "\n",
    "- 单行注释：单个`#`+空格+说明。"
   ]
  },
  {
   "cell_type": "code",
   "execution_count": 6,
   "id": "662465d6",
   "metadata": {},
   "outputs": [
    {
     "name": "stdout",
     "output_type": "stream",
     "text": [
      "ok\n"
     ]
    }
   ],
   "source": [
    "print('ok') # 单行注释"
   ]
  },
  {
   "cell_type": "markdown",
   "id": "1f335858",
   "metadata": {},
   "source": [
    "- 多行注释：连续三个英文双引号对上下文进行包裹（\"\"\"注释内容\"\"\"），一般写在文件开头的地方。"
   ]
  },
  {
   "cell_type": "code",
   "execution_count": 9,
   "id": "9498570a",
   "metadata": {},
   "outputs": [
    {
     "data": {
      "text/plain": [
       "\"\\n多行注释\\n连续三个\\n变音符号\\n这里的print('ok')\\n不会被执行\\n\""
      ]
     },
     "execution_count": 9,
     "metadata": {},
     "output_type": "execute_result"
    }
   ],
   "source": [
    "\"\"\"\n",
    "多行注释\n",
    "连续三个\n",
    "变音符号\n",
    "这里的print('ok')\n",
    "不会被执行\n",
    "\"\"\""
   ]
  },
  {
   "cell_type": "markdown",
   "id": "9074cc0d",
   "metadata": {},
   "source": [
    "## 标识符\n",
    "\n",
    "- 主要用于起名字：\n",
    "    - 变量的名字。\n",
    "    - 方法的名字。\n",
    "    - 类的名字。\n",
    "    - ...\n",
    "    \n",
    "- 命名规则：\n",
    "    - 内容限定：\n",
    "        - 英文。\n",
    "        - 中文（不推荐）。\n",
    "        - 数字（不可以用在开头）。\n",
    "        - 下划线`_`。\n",
    "        - 其余任何内容都不被允许！\n",
    "        \n",
    "    - 大小写敏感：\n",
    "        - Andy = “安迪1”\n",
    "        - andy = “安迪2”\n",
    "        - 以上两者在print语句中是可以区分的。\n",
    "        \n",
    "    - 不可以使用关键字。\n",
    "        - 关键字同样大小写敏感。\n",
    "        \n",
    "- 变量命名规范：\n",
    "    - 见名知意。\n",
    "    - 下划线命名法：多个单词组合成变量名，使用下划线进行分割。\n",
    "    - 英文字母全小写。\n",
    "    "
   ]
  },
  {
   "cell_type": "markdown",
   "id": "68aaeb40",
   "metadata": {},
   "source": [
    "- 查看关键字"
   ]
  },
  {
   "cell_type": "code",
   "execution_count": 16,
   "id": "b91d536b",
   "metadata": {},
   "outputs": [
    {
     "data": {
      "text/plain": [
       "['False',\n",
       " 'None',\n",
       " 'True',\n",
       " '__peg_parser__',\n",
       " 'and',\n",
       " 'as',\n",
       " 'assert',\n",
       " 'async',\n",
       " 'await',\n",
       " 'break',\n",
       " 'class',\n",
       " 'continue',\n",
       " 'def',\n",
       " 'del',\n",
       " 'elif',\n",
       " 'else',\n",
       " 'except',\n",
       " 'finally',\n",
       " 'for',\n",
       " 'from',\n",
       " 'global',\n",
       " 'if',\n",
       " 'import',\n",
       " 'in',\n",
       " 'is',\n",
       " 'lambda',\n",
       " 'nonlocal',\n",
       " 'not',\n",
       " 'or',\n",
       " 'pass',\n",
       " 'raise',\n",
       " 'return',\n",
       " 'try',\n",
       " 'while',\n",
       " 'with',\n",
       " 'yield']"
      ]
     },
     "execution_count": 16,
     "metadata": {},
     "output_type": "execute_result"
    }
   ],
   "source": [
    "import keyword\n",
    "keyword.kwlist"
   ]
  },
  {
   "cell_type": "markdown",
   "id": "e2013faa",
   "metadata": {},
   "source": [
    "## 运算符\n",
    "\n",
    "### 数学运算符\n",
    "\n",
    "- 加：`+`\n",
    "\n",
    "- 减：`-`\n",
    "\n",
    "- 乘：`*`\n",
    "\n",
    "- 除：`/`\n",
    "\n",
    "- 取整数：`//`\n",
    "\n",
    "- 取余数：`%`\n",
    "\n",
    "- 乘方：`**`"
   ]
  },
  {
   "cell_type": "code",
   "execution_count": 8,
   "id": "62303a97",
   "metadata": {},
   "outputs": [
    {
     "name": "stdout",
     "output_type": "stream",
     "text": [
      "1 + 1 =  2\n",
      "2 - 1 =  1\n",
      "3 * 3 =  9\n",
      "4 / 2 =  2.0\n",
      "11 // 2 =  5\n",
      "9 % 2 =  1\n",
      "2 ** 2 =  4\n"
     ]
    }
   ],
   "source": [
    "print('1 + 1 = ', 1 + 1)\n",
    "print('2 - 1 = ', 2 - 1)\n",
    "print('3 * 3 = ', 3 * 3)\n",
    "print('4 / 2 = ', 4 / 2)\n",
    "print('11 // 2 = ', 11 // 2)\n",
    "print('9 % 2 = ', 9 % 2)\n",
    "print('2 ** 2 = ', 2 ** 2)"
   ]
  },
  {
   "cell_type": "markdown",
   "id": "4f7f4a31",
   "metadata": {},
   "source": [
    "### 赋值运算符\n",
    "\n",
    "- 标准赋值运算符：=，赋值运算符，把=右边的结果 赋给 左边的变量。\n",
    "\n",
    "- 复合赋值运算符：\n",
    "    - `+=`，加法赋值运算符，c `+=` a等效于c = c + a。\n",
    "    - `-=`，减法赋值运算符，c `-=` a等效于c = c - a。\n",
    "    - `*=`，乘法赋值运算符，c `*=` a等效于c = c * a。\n",
    "    - `/=`，除法赋值运算符，c `/=` a等效于c = c / a。\n",
    "    - `%=`，取模赋值运算符，c `%=` a等效于c = c % a。\n",
    "    - `**=`，幂赋值运算符，c `**=` a等效于c = c ** a。\n",
    "    - `//=`，取整除赋值运算符，c `//=` a等效于c = c // a。"
   ]
  },
  {
   "cell_type": "code",
   "execution_count": 12,
   "id": "8813e44d",
   "metadata": {},
   "outputs": [
    {
     "name": "stdout",
     "output_type": "stream",
     "text": [
      "num += 1:  11\n",
      "num -= 1:  10\n",
      "num *= 4:  40\n",
      "num /= 2:  20.0\n",
      "num %= 2:  1\n",
      "num **= 2:  1\n",
      "num //= 2:  4\n"
     ]
    }
   ],
   "source": [
    "num = 10\n",
    "num += 1\n",
    "print('num += 1: ', num)\n",
    "num -= 1\n",
    "print('num -= 1: ', num)\n",
    "num *= 4\n",
    "print('num *= 4: ', num)\n",
    "num /= 2\n",
    "print('num /= 2: ', num)\n",
    "\n",
    "num = 3\n",
    "num %= 2\n",
    "print('num %= 2: ', num)\n",
    "num **= 2\n",
    "print('num **= 2: ', num)\n",
    "\n",
    "num = 9\n",
    "num //= 2\n",
    "print('num //= 2: ', num)"
   ]
  },
  {
   "cell_type": "markdown",
   "id": "d31a43f7",
   "metadata": {},
   "source": [
    "## 基本数据类型\n",
    "\n",
    "- 常用的6中数据类型：\n",
    "    - 数字（number）：包括整数（int）、浮点数（float）、复数（complex）、布尔（bool）。\n",
    "    - 字符串（string）：描述文本的一种数据类型，可**由任意数量的字符组成**。\n",
    "    - 列表（list）：有序的**可变**序列，是使用最频繁的数据类型，可有序的记录一堆数据。\n",
    "    - 元组（tuple）：**有序**的**不可变**序列，可**有序**的记录一堆**不可变**的数据集合。\n",
    "    - 集合（set）：**无序**的**不重复**集合，可**无序**记录一堆**不重复**的数据集合。\n",
    "    - 字典（dict）：无序键值（key-value）集合，可无序记录一堆key-value型的数据集合。\n"
   ]
  },
  {
   "cell_type": "markdown",
   "id": "3b7cf313",
   "metadata": {},
   "source": [
    "### 数字、判断类型、布尔值"
   ]
  },
  {
   "cell_type": "markdown",
   "id": "21872bf9",
   "metadata": {},
   "source": [
    "- 整数（int）、浮点数（float）、type（）、isinstance（）、True、False。"
   ]
  },
  {
   "cell_type": "code",
   "execution_count": 10,
   "id": "3abab51c",
   "metadata": {},
   "outputs": [
    {
     "name": "stdout",
     "output_type": "stream",
     "text": [
      "<class 'int'>\n"
     ]
    }
   ],
   "source": [
    "print(type(1)) #int"
   ]
  },
  {
   "cell_type": "code",
   "execution_count": 11,
   "id": "ec5e608c",
   "metadata": {},
   "outputs": [
    {
     "name": "stdout",
     "output_type": "stream",
     "text": [
      "<class 'float'>\n"
     ]
    }
   ],
   "source": [
    "print(type(1.0)) #float"
   ]
  },
  {
   "cell_type": "code",
   "execution_count": 12,
   "id": "9997c6c5",
   "metadata": {},
   "outputs": [
    {
     "name": "stdout",
     "output_type": "stream",
     "text": [
      "<class 'str'>\n"
     ]
    }
   ],
   "source": [
    "print(type('1')) #str"
   ]
  },
  {
   "cell_type": "code",
   "execution_count": 13,
   "id": "daf76f48",
   "metadata": {},
   "outputs": [
    {
     "name": "stdout",
     "output_type": "stream",
     "text": [
      "<class 'bool'>\n"
     ]
    }
   ],
   "source": [
    "print(type(True)) #True"
   ]
  },
  {
   "cell_type": "code",
   "execution_count": 14,
   "id": "8792d611",
   "metadata": {},
   "outputs": [
    {
     "name": "stdout",
     "output_type": "stream",
     "text": [
      "True\n"
     ]
    }
   ],
   "source": [
    "print(isinstance(1,int)) #1是整数吗？"
   ]
  },
  {
   "cell_type": "code",
   "execution_count": 15,
   "id": "a1758474",
   "metadata": {},
   "outputs": [
    {
     "name": "stdout",
     "output_type": "stream",
     "text": [
      "False\n"
     ]
    }
   ],
   "source": [
    "print(isinstance(1,float)) #1是浮点数吗？"
   ]
  },
  {
   "cell_type": "markdown",
   "id": "5a9f7205",
   "metadata": {},
   "source": [
    "- 注：以上出现的“class”表示类型。"
   ]
  },
  {
   "cell_type": "markdown",
   "id": "efe59f55",
   "metadata": {},
   "source": [
    "### 变量和字符串（string）\n",
    "\n",
    "- **变量**：用于存储不同的数据类型，实现数据的复用。\n",
    "\n",
    "- 语法：\n",
    "    - 变量名 = 数据（数值、字符串、布尔值。。。）\n",
    "    - 等号表示“赋值”。\n",
    "    - 等号两边有一个空格。\n",
    "    \n",
    "- 变量命名规则：\n",
    "    - 不能以数字开头：age = 8\n",
    "    - 区分大小写：level_1 = 1\n",
    "    - 见名知意：ClassDog = 'dog'\n",
    "    - 不能与**关键字**同名：Print = 1"
   ]
  },
  {
   "cell_type": "markdown",
   "id": "f076f88d",
   "metadata": {},
   "source": [
    "- 被写在代码中的固定的值，称之为“字面量”。常见的字面量包括：整数、浮点数、字符串。基于print语句的输出：print(字面量)。\n",
    "\n",
    "- 字符串（string）：由单/双引号（英文）包裹的任意文本。\n",
    "\n",
    "- 使用`\\`**转义**特殊字符\n",
    "    - `\\'` 单引号本身\n",
    "    - `\\n` 换行符\n",
    "    - `\\t` 制表符\n",
    "    - `\\\\` \\本身"
   ]
  },
  {
   "cell_type": "code",
   "execution_count": 1,
   "id": "16b5362c",
   "metadata": {},
   "outputs": [
    {
     "name": "stdout",
     "output_type": "stream",
     "text": [
      "10\n"
     ]
    }
   ],
   "source": [
    "print(10)"
   ]
  },
  {
   "cell_type": "code",
   "execution_count": 2,
   "id": "6adad22c",
   "metadata": {},
   "outputs": [
    {
     "name": "stdout",
     "output_type": "stream",
     "text": [
      "13.14\n"
     ]
    }
   ],
   "source": [
    "print(13.14)"
   ]
  },
  {
   "cell_type": "code",
   "execution_count": 4,
   "id": "110ccc11",
   "metadata": {},
   "outputs": [
    {
     "name": "stdout",
     "output_type": "stream",
     "text": [
      "黑马程序员\n"
     ]
    }
   ],
   "source": [
    "print(\"黑马程序员\")"
   ]
  },
  {
   "cell_type": "code",
   "execution_count": 5,
   "id": "c78fd0fb",
   "metadata": {},
   "outputs": [
    {
     "name": "stdout",
     "output_type": "stream",
     "text": [
      "黑马程序员\n"
     ]
    }
   ],
   "source": [
    "print('黑马程序员')"
   ]
  },
  {
   "cell_type": "code",
   "execution_count": 22,
   "id": "45b6cd0e",
   "metadata": {},
   "outputs": [
    {
     "name": "stdout",
     "output_type": "stream",
     "text": [
      "'\n"
     ]
    }
   ],
   "source": [
    "print('\\'')"
   ]
  },
  {
   "cell_type": "code",
   "execution_count": 18,
   "id": "4d879606",
   "metadata": {},
   "outputs": [
    {
     "name": "stdout",
     "output_type": "stream",
     "text": [
      "ATCG\n",
      "ATCG\n"
     ]
    }
   ],
   "source": [
    "print('ATCG\\nATCG')"
   ]
  },
  {
   "cell_type": "code",
   "execution_count": 19,
   "id": "f430cbec",
   "metadata": {},
   "outputs": [
    {
     "name": "stdout",
     "output_type": "stream",
     "text": [
      "ATCG\tATCG\n"
     ]
    }
   ],
   "source": [
    "print('ATCG\\tATCG')"
   ]
  },
  {
   "cell_type": "code",
   "execution_count": 20,
   "id": "f11d6572",
   "metadata": {},
   "outputs": [
    {
     "name": "stdout",
     "output_type": "stream",
     "text": [
      "I'am Python\n"
     ]
    }
   ],
   "source": [
    "print('I\\'am Python')"
   ]
  },
  {
   "cell_type": "markdown",
   "id": "d1ea63bc",
   "metadata": {},
   "source": [
    "- 在print语句中，使用逗号来分割不同类型的字面量。"
   ]
  },
  {
   "cell_type": "code",
   "execution_count": 7,
   "id": "da3cd7f4",
   "metadata": {},
   "outputs": [
    {
     "name": "stdout",
     "output_type": "stream",
     "text": [
      "钱包还有： 50\n",
      "买了冰淇淋花费10元，还剩余： 40 元\n"
     ]
    }
   ],
   "source": [
    "# 定义一个变量，用来记录钱包余额\n",
    "money = 50\n",
    "\n",
    "# 通过print语句，输出变量记录的内容\n",
    "print('钱包还有：', money)\n",
    "\n",
    "# 买了一个冰淇淋，花费10元\n",
    "money = money - 10\n",
    "print('买了冰淇淋花费10元，还剩余：', money, '元')"
   ]
  },
  {
   "cell_type": "markdown",
   "id": "569502a3",
   "metadata": {},
   "source": [
    "#### 字符串格式化\n",
    "\n",
    "- 使用print(...)占位符格式化输出\n",
    "    - print( 'name:%s,age:%d' %(name,age))\n",
    "    - %s：将内容转换为字符串，放入占位位置。\n",
    "    - %d：将内容转换为整数，放入占位位置。\n",
    "    - %f：将内容转换为浮点数，放入占位位置。\n",
    "\n",
    "- 字符串类型"
   ]
  },
  {
   "cell_type": "code",
   "execution_count": 14,
   "id": "bdea5290",
   "metadata": {},
   "outputs": [
    {
     "name": "stdout",
     "output_type": "stream",
     "text": [
      "学IT就来黑马程序员\n"
     ]
    }
   ],
   "source": [
    "name = '黑马程序员'\n",
    "message = '学IT就来%s' % name # % 表示：我要占位，s 表示：将变量变成 字符串 放入占位的地方\n",
    "print(message)"
   ]
  },
  {
   "cell_type": "markdown",
   "id": "4f34cf77",
   "metadata": {},
   "source": [
    "- 数字类型"
   ]
  },
  {
   "cell_type": "code",
   "execution_count": 15,
   "id": "2f8b5f00",
   "metadata": {},
   "outputs": [
    {
     "name": "stdout",
     "output_type": "stream",
     "text": [
      "Python大数据学科，北京57期，毕业平均工资：16781\n"
     ]
    }
   ],
   "source": [
    "class_num = 57\n",
    "avg_salary = 16781\n",
    "message = 'Python大数据学科，北京%s期，毕业平均工资：%s' % (class_num, avg_salary)\n",
    "print(message)"
   ]
  },
  {
   "cell_type": "code",
   "execution_count": 16,
   "id": "6b9ba142",
   "metadata": {},
   "outputs": [
    {
     "name": "stdout",
     "output_type": "stream",
     "text": [
      "传智播客，成立于：2006，今天的股价是：19.990000\n"
     ]
    }
   ],
   "source": [
    "name = '传智播客'\n",
    "setup_year = 2006\n",
    "stock_price = 19.99\n",
    "message = '%s，成立于：%d，今天的股价是：%f' % (name, setup_year, stock_price)\n",
    "print(message)"
   ]
  },
  {
   "cell_type": "markdown",
   "id": "0439071f",
   "metadata": {},
   "source": [
    "- 使用input(...)接受用户输入：返回字符串\n",
    "\n",
    "- 在运行数学运算时，需要将字符串强制转换为数字（这里是整数int）"
   ]
  },
  {
   "cell_type": "code",
   "execution_count": 44,
   "id": "0566d71b",
   "metadata": {},
   "outputs": [
    {
     "name": "stdout",
     "output_type": "stream",
     "text": [
      "please enter your name:MJ\n"
     ]
    }
   ],
   "source": [
    "name = input('please enter your name:')"
   ]
  },
  {
   "cell_type": "code",
   "execution_count": 45,
   "id": "5b0f67de",
   "metadata": {},
   "outputs": [
    {
     "name": "stdout",
     "output_type": "stream",
     "text": [
      "please enter your score:100\n"
     ]
    }
   ],
   "source": [
    "score = input('please enter your score:')"
   ]
  },
  {
   "cell_type": "code",
   "execution_count": 46,
   "id": "67ec05d4",
   "metadata": {},
   "outputs": [
    {
     "name": "stdout",
     "output_type": "stream",
     "text": [
      "name:MJ,score:50\n"
     ]
    }
   ],
   "source": [
    "print('name:%s,score:%d' %(name,int(score) * 0.5))"
   ]
  },
  {
   "cell_type": "markdown",
   "id": "23d8d118",
   "metadata": {},
   "source": [
    "#### 类型转换\n",
    "\n",
    "- str（...）转换成字符串\n",
    "\n",
    "- int（...）转换成整数\n",
    "\n",
    "- float（...）转换成浮点数"
   ]
  },
  {
   "cell_type": "code",
   "execution_count": 23,
   "id": "6fac06c1",
   "metadata": {},
   "outputs": [
    {
     "data": {
      "text/plain": [
       "'100'"
      ]
     },
     "execution_count": 23,
     "metadata": {},
     "output_type": "execute_result"
    }
   ],
   "source": [
    "str(100)"
   ]
  },
  {
   "cell_type": "code",
   "execution_count": 24,
   "id": "6a1cf27f",
   "metadata": {},
   "outputs": [
    {
     "data": {
      "text/plain": [
       "100"
      ]
     },
     "execution_count": 24,
     "metadata": {},
     "output_type": "execute_result"
    }
   ],
   "source": [
    "int('100')"
   ]
  },
  {
   "cell_type": "code",
   "execution_count": 25,
   "id": "0542f0ba",
   "metadata": {},
   "outputs": [
    {
     "data": {
      "text/plain": [
       "100.0"
      ]
     },
     "execution_count": 25,
     "metadata": {},
     "output_type": "execute_result"
    }
   ],
   "source": [
    "float(100)"
   ]
  },
  {
   "cell_type": "markdown",
   "id": "910c9a4f",
   "metadata": {},
   "source": [
    "#### 字符串运算方法\n",
    "\n",
    "- str1 + str2 + str3 +。。。：`+`拼接任意多个字符串\n",
    "\n",
    "- str * number：`*`重复字符串任意次\n",
    "\n",
    "- len(str)：计算字符串长度\n",
    "\n",
    "- 通过索引获取特定字符：`[]`\n",
    "\n",
    "- 通过索引获取一段字符：`[:]\n",
    "\n",
    "- in：包含\n",
    "\n",
    "- not in：不包含"
   ]
  },
  {
   "cell_type": "code",
   "execution_count": 26,
   "id": "ee6b6a3e",
   "metadata": {},
   "outputs": [
    {
     "data": {
      "text/plain": [
       "'Python'"
      ]
     },
     "execution_count": 26,
     "metadata": {},
     "output_type": "execute_result"
    }
   ],
   "source": [
    "'Pyth' + 'on'"
   ]
  },
  {
   "cell_type": "code",
   "execution_count": 27,
   "id": "bafd1752",
   "metadata": {},
   "outputs": [
    {
     "data": {
      "text/plain": [
       "'ATCGATCGATCGATCGATCGATCGATCGATCGATCGATCG'"
      ]
     },
     "execution_count": 27,
     "metadata": {},
     "output_type": "execute_result"
    }
   ],
   "source": [
    "'ATCG' * 10"
   ]
  },
  {
   "cell_type": "code",
   "execution_count": 17,
   "id": "ed96865e",
   "metadata": {},
   "outputs": [
    {
     "data": {
      "text/plain": [
       "36"
      ]
     },
     "execution_count": 17,
     "metadata": {},
     "output_type": "execute_result"
    }
   ],
   "source": [
    "len(keyword.kwlist)"
   ]
  },
  {
   "cell_type": "code",
   "execution_count": 28,
   "id": "eefc326f",
   "metadata": {},
   "outputs": [
    {
     "data": {
      "text/plain": [
       "True"
      ]
     },
     "execution_count": 28,
     "metadata": {},
     "output_type": "execute_result"
    }
   ],
   "source": [
    "'a' in 'abc'"
   ]
  },
  {
   "cell_type": "code",
   "execution_count": 29,
   "id": "0785eb3b",
   "metadata": {},
   "outputs": [
    {
     "data": {
      "text/plain": [
       "False"
      ]
     },
     "execution_count": 29,
     "metadata": {},
     "output_type": "execute_result"
    }
   ],
   "source": [
    "'ac' in 'abc' #因为ac没连载一起，所以False"
   ]
  },
  {
   "cell_type": "markdown",
   "id": "10cfb5c8",
   "metadata": {},
   "source": [
    "#### 字符串切片和索引\n",
    "\n",
    "- 字符串切片和索引：截取任意位置的字符\n",
    "\n",
    "- Python索引从0开始，即第一个元素的位置为0\n",
    "\n",
    "- 语法：\n",
    "    - 字符串[索引]：单个元素\n",
    "    - 字符串[起始值:结束值:步长N]：多个元素（N大于0时，表示从左到右间隔N-1个元素取值；N为-1时，从右到左取值，逆序输出。）"
   ]
  },
  {
   "cell_type": "code",
   "execution_count": 30,
   "id": "1ee22235",
   "metadata": {},
   "outputs": [],
   "source": [
    "a = 'abcdef'"
   ]
  },
  {
   "cell_type": "markdown",
   "id": "7ddcfa89",
   "metadata": {},
   "source": [
    "- 取单个元素"
   ]
  },
  {
   "cell_type": "code",
   "execution_count": 31,
   "id": "7b212b42",
   "metadata": {},
   "outputs": [
    {
     "data": {
      "text/plain": [
       "'a'"
      ]
     },
     "execution_count": 31,
     "metadata": {},
     "output_type": "execute_result"
    }
   ],
   "source": [
    "a[0]"
   ]
  },
  {
   "cell_type": "markdown",
   "id": "01e337c9",
   "metadata": {},
   "source": [
    "- 取倒数第一个元素"
   ]
  },
  {
   "cell_type": "code",
   "execution_count": 32,
   "id": "00980aa0",
   "metadata": {},
   "outputs": [
    {
     "data": {
      "text/plain": [
       "'f'"
      ]
     },
     "execution_count": 32,
     "metadata": {},
     "output_type": "execute_result"
    }
   ],
   "source": [
    "a[-1]"
   ]
  },
  {
   "cell_type": "markdown",
   "id": "37144413",
   "metadata": {},
   "source": [
    "- 取多个元素：取到结束值前一位元素"
   ]
  },
  {
   "cell_type": "code",
   "execution_count": 33,
   "id": "374a281f",
   "metadata": {},
   "outputs": [
    {
     "data": {
      "text/plain": [
       "'abcde'"
      ]
     },
     "execution_count": 33,
     "metadata": {},
     "output_type": "execute_result"
    }
   ],
   "source": [
    "a[0:5]"
   ]
  },
  {
   "cell_type": "markdown",
   "id": "3a173399",
   "metadata": {},
   "source": [
    "- 取倒数第二个到末尾的元素"
   ]
  },
  {
   "cell_type": "code",
   "execution_count": 35,
   "id": "cf092a75",
   "metadata": {},
   "outputs": [
    {
     "data": {
      "text/plain": [
       "'def'"
      ]
     },
     "execution_count": 35,
     "metadata": {},
     "output_type": "execute_result"
    }
   ],
   "source": [
    "a[-3:]"
   ]
  },
  {
   "cell_type": "markdown",
   "id": "3c62f8d8",
   "metadata": {},
   "source": [
    "- 取完整序列"
   ]
  },
  {
   "cell_type": "code",
   "execution_count": 34,
   "id": "dd52b475",
   "metadata": {},
   "outputs": [
    {
     "data": {
      "text/plain": [
       "'abcdef'"
      ]
     },
     "execution_count": 34,
     "metadata": {},
     "output_type": "execute_result"
    }
   ],
   "source": [
    "a[::]"
   ]
  },
  {
   "cell_type": "markdown",
   "id": "dbae7296",
   "metadata": {},
   "source": [
    "- 步长为2，从左到右间隔一个元素取值"
   ]
  },
  {
   "cell_type": "code",
   "execution_count": 36,
   "id": "ea2fe6a2",
   "metadata": {},
   "outputs": [
    {
     "data": {
      "text/plain": [
       "'ace'"
      ]
     },
     "execution_count": 36,
     "metadata": {},
     "output_type": "execute_result"
    }
   ],
   "source": [
    "a[::2]"
   ]
  },
  {
   "cell_type": "markdown",
   "id": "3f8c9374",
   "metadata": {},
   "source": [
    "- 步长为-1，从最右向左取值，逆序输出"
   ]
  },
  {
   "cell_type": "code",
   "execution_count": 37,
   "id": "2d1285f1",
   "metadata": {},
   "outputs": [
    {
     "data": {
      "text/plain": [
       "'fedcba'"
      ]
     },
     "execution_count": 37,
     "metadata": {},
     "output_type": "execute_result"
    }
   ],
   "source": [
    "a[::-1]"
   ]
  },
  {
   "cell_type": "markdown",
   "id": "7e742db3",
   "metadata": {},
   "source": [
    "#### 字符串的方法\n",
    "\n",
    "- 字符串.方法名（...）\n",
    "\n",
    "- 常用方法：\n",
    "    - Str.upper( )：全部大写\n",
    "    - Str.lower( )：全部小写\n",
    "    - Str.count(char)：统计char出现的次数\n",
    "    - Str.startswith(char)：判断以char开始，返回True or False\n",
    "    - Str.endswith(char)：判断以char结束，返回True or False\n",
    "    - Str.strip(char)：删除字符串中的所有char字符\n",
    "    - Str.rstrip(char)：删除字符串中的右边char字符\n",
    "    - Str.split(char)：将char作为分割符，默认为空格（任意多个空格、制表符、换行符），返回分割的字符串列表）"
   ]
  },
  {
   "cell_type": "code",
   "execution_count": 38,
   "id": "88b9af9c",
   "metadata": {},
   "outputs": [],
   "source": [
    "a = 'atcg'"
   ]
  },
  {
   "cell_type": "markdown",
   "id": "81d33c03",
   "metadata": {},
   "source": [
    "- 全部大写"
   ]
  },
  {
   "cell_type": "code",
   "execution_count": 39,
   "id": "46e90731",
   "metadata": {},
   "outputs": [
    {
     "data": {
      "text/plain": [
       "'ATCG'"
      ]
     },
     "execution_count": 39,
     "metadata": {},
     "output_type": "execute_result"
    }
   ],
   "source": [
    "a.upper()"
   ]
  },
  {
   "cell_type": "markdown",
   "id": "265c25ea",
   "metadata": {},
   "source": [
    "- 统计a出现的次数"
   ]
  },
  {
   "cell_type": "code",
   "execution_count": 40,
   "id": "361cb515",
   "metadata": {},
   "outputs": [
    {
     "data": {
      "text/plain": [
       "1"
      ]
     },
     "execution_count": 40,
     "metadata": {},
     "output_type": "execute_result"
    }
   ],
   "source": [
    "a.count('a')"
   ]
  },
  {
   "cell_type": "markdown",
   "id": "f964ceab",
   "metadata": {},
   "source": [
    "- 删除末尾的空格"
   ]
  },
  {
   "cell_type": "code",
   "execution_count": 41,
   "id": "ec5a014a",
   "metadata": {},
   "outputs": [
    {
     "data": {
      "text/plain": [
       "'gggggggggaaaaaa'"
      ]
     },
     "execution_count": 41,
     "metadata": {},
     "output_type": "execute_result"
    }
   ],
   "source": [
    "'gggggggggaaaaaa     '.rstrip()"
   ]
  },
  {
   "cell_type": "markdown",
   "id": "311d4092",
   "metadata": {},
   "source": [
    "- 删除两端的a"
   ]
  },
  {
   "cell_type": "code",
   "execution_count": 42,
   "id": "85780692",
   "metadata": {},
   "outputs": [
    {
     "data": {
      "text/plain": [
       "'gggggggg'"
      ]
     },
     "execution_count": 42,
     "metadata": {},
     "output_type": "execute_result"
    }
   ],
   "source": [
    "'aaaaaggggggggaaaaaa'.strip('a')"
   ]
  },
  {
   "cell_type": "markdown",
   "id": "0f0d77dc",
   "metadata": {},
   "source": [
    "- 分割（`\\n`为换行符）"
   ]
  },
  {
   "cell_type": "code",
   "execution_count": 43,
   "id": "2f216cab",
   "metadata": {},
   "outputs": [
    {
     "data": {
      "text/plain": [
       "['>HBA1', 'atttgcgggg', '>HBA2', 'aaaaaaaaaa']"
      ]
     },
     "execution_count": 43,
     "metadata": {},
     "output_type": "execute_result"
    }
   ],
   "source": [
    "'>HBA1\\natttgcgggg\\n>HBA2\\naaaaaaaaaa'.split('\\n')"
   ]
  },
  {
   "cell_type": "markdown",
   "id": "4d7c6a61",
   "metadata": {},
   "source": [
    "## 数据结构\n",
    "\n",
    "### 列表（list）\n",
    "\n",
    "- list是一种有序的**集合**，可以随时添加和删除其中的元素\n",
    "\n",
    "- **列表索引**与字符串类似\n",
    "\n",
    "- 列表常用方法：\n",
    "    - list.append（字符串、数值、布尔值）：追加元素\n",
    "    - list.pop(index)：去除索引位置的值，列表更新\n",
    "    - list.pop()：去除最后一个元素\n",
    "    - len(list)：长度\n",
    "    - max(list)：最大\n",
    "    - min(list)：最小\n",
    "    - list(seq)：元组转列表\n",
    "    - list.count(obj)：数数\n",
    "    - list.extend(seq)：增加元组中的元素\n",
    "    - list.remove(obj)：去除元素\n",
    "    - list.reverse()：反转\n",
    "    - list.sort()：排序\n",
    "    - list.index()：查找"
   ]
  },
  {
   "cell_type": "code",
   "execution_count": 55,
   "id": "732bf8bc",
   "metadata": {},
   "outputs": [],
   "source": [
    "gene = ['HBA1','HBA2']"
   ]
  },
  {
   "cell_type": "markdown",
   "id": "5dcfcbf9",
   "metadata": {},
   "source": [
    "- 取最后一个值"
   ]
  },
  {
   "cell_type": "code",
   "execution_count": 48,
   "id": "2728c66d",
   "metadata": {},
   "outputs": [
    {
     "data": {
      "text/plain": [
       "'HBA2'"
      ]
     },
     "execution_count": 48,
     "metadata": {},
     "output_type": "execute_result"
    }
   ],
   "source": [
    "gene[-1]"
   ]
  },
  {
   "cell_type": "markdown",
   "id": "ee1c76e8",
   "metadata": {},
   "source": [
    "- 将第一个元素重新赋值"
   ]
  },
  {
   "cell_type": "code",
   "execution_count": 49,
   "id": "cbf36c11",
   "metadata": {},
   "outputs": [],
   "source": [
    "gene[0] = 'CYP3A4'"
   ]
  },
  {
   "cell_type": "markdown",
   "id": "fad243e6",
   "metadata": {},
   "source": [
    "- 查看新的列表"
   ]
  },
  {
   "cell_type": "code",
   "execution_count": 50,
   "id": "c3e7abde",
   "metadata": {},
   "outputs": [
    {
     "data": {
      "text/plain": [
       "['CYP3A4', 'HBA2']"
      ]
     },
     "execution_count": 50,
     "metadata": {},
     "output_type": "execute_result"
    }
   ],
   "source": [
    "gene"
   ]
  },
  {
   "cell_type": "markdown",
   "id": "d48ed5ac",
   "metadata": {},
   "source": [
    "- 追加TP56"
   ]
  },
  {
   "cell_type": "code",
   "execution_count": 51,
   "id": "9ae7422c",
   "metadata": {},
   "outputs": [],
   "source": [
    "gene.append('TP56')"
   ]
  },
  {
   "cell_type": "code",
   "execution_count": 52,
   "id": "14cfe93f",
   "metadata": {},
   "outputs": [
    {
     "data": {
      "text/plain": [
       "['CYP3A4', 'HBA2', 'TP56']"
      ]
     },
     "execution_count": 52,
     "metadata": {},
     "output_type": "execute_result"
    }
   ],
   "source": [
    "gene"
   ]
  },
  {
   "cell_type": "markdown",
   "id": "fb235f00",
   "metadata": {},
   "source": [
    "- 去除第一个元素"
   ]
  },
  {
   "cell_type": "code",
   "execution_count": 53,
   "id": "acc99af8",
   "metadata": {},
   "outputs": [
    {
     "data": {
      "text/plain": [
       "'CYP3A4'"
      ]
     },
     "execution_count": 53,
     "metadata": {},
     "output_type": "execute_result"
    }
   ],
   "source": [
    "gene.pop(0)"
   ]
  },
  {
   "cell_type": "code",
   "execution_count": 54,
   "id": "acfab3de",
   "metadata": {},
   "outputs": [
    {
     "data": {
      "text/plain": [
       "['HBA2', 'TP56']"
      ]
     },
     "execution_count": 54,
     "metadata": {},
     "output_type": "execute_result"
    }
   ],
   "source": [
    "gene"
   ]
  },
  {
   "cell_type": "markdown",
   "id": "23f4a65e",
   "metadata": {},
   "source": [
    "### 元组（tuple）\n",
    "\n",
    "- 元组与列表类似，不同点在于：\n",
    "    - 元组的元素不能修改。\n",
    "    - 元组使用圆括号，列表使用方括号。\n",
    "    - 元组创建很简单，只需要在括号中添加元素，并使用逗号隔开即可。\n",
    "        - teacherName = (\"Suan\",\"Larry\",\"Robin\")\n",
    "        - teacherName[0]\n",
    "        - teacherName[-1]\n",
    "        - teacherName[1]= \"wrong\""
   ]
  },
  {
   "cell_type": "code",
   "execution_count": 56,
   "id": "5134a971",
   "metadata": {},
   "outputs": [],
   "source": [
    "a = (1,2,3)"
   ]
  },
  {
   "cell_type": "code",
   "execution_count": 57,
   "id": "27c93702",
   "metadata": {},
   "outputs": [
    {
     "data": {
      "text/plain": [
       "tuple"
      ]
     },
     "execution_count": 57,
     "metadata": {},
     "output_type": "execute_result"
    }
   ],
   "source": [
    "type(a)"
   ]
  },
  {
   "cell_type": "code",
   "execution_count": 58,
   "id": "a7086db2",
   "metadata": {},
   "outputs": [
    {
     "data": {
      "text/plain": [
       "1"
      ]
     },
     "execution_count": 58,
     "metadata": {},
     "output_type": "execute_result"
    }
   ],
   "source": [
    "a[0]"
   ]
  },
  {
   "cell_type": "code",
   "execution_count": 59,
   "id": "9a755387",
   "metadata": {},
   "outputs": [
    {
     "ename": "TypeError",
     "evalue": "'tuple' object does not support item assignment",
     "output_type": "error",
     "traceback": [
      "\u001b[0;31m---------------------------------------------------------------------------\u001b[0m",
      "\u001b[0;31mTypeError\u001b[0m                                 Traceback (most recent call last)",
      "\u001b[0;32m/var/folders/14/pj985hh56sl5pj_j6y0ldsk00000gn/T/ipykernel_3731/4200666372.py\u001b[0m in \u001b[0;36m<module>\u001b[0;34m\u001b[0m\n\u001b[0;32m----> 1\u001b[0;31m \u001b[0ma\u001b[0m\u001b[0;34m[\u001b[0m\u001b[0;36m0\u001b[0m\u001b[0;34m]\u001b[0m \u001b[0;34m=\u001b[0m \u001b[0;34m'he'\u001b[0m\u001b[0;34m\u001b[0m\u001b[0;34m\u001b[0m\u001b[0m\n\u001b[0m",
      "\u001b[0;31mTypeError\u001b[0m: 'tuple' object does not support item assignment"
     ]
    }
   ],
   "source": [
    "a[0] = 'he'"
   ]
  },
  {
   "cell_type": "markdown",
   "id": "b350d13f",
   "metadata": {},
   "source": [
    "- 这说明元组不支持赋值。"
   ]
  },
  {
   "cell_type": "markdown",
   "id": "309612eb",
   "metadata": {},
   "source": [
    "- 以上案例表面：元组适用于字符串的格式化，以及为了数据安全而不方便修改的内容。"
   ]
  },
  {
   "cell_type": "markdown",
   "id": "c160ea27",
   "metadata": {},
   "source": [
    "### 集合（set）\n",
    "\n",
    "- 集合是一个包含**无序不重复**元素的序列。\n",
    "\n",
    "- 基本功能：**删除重复元素**。\n",
    "\n",
    "- 创建：{ }或者set( )。"
   ]
  },
  {
   "cell_type": "code",
   "execution_count": 60,
   "id": "81d228b6",
   "metadata": {},
   "outputs": [
    {
     "data": {
      "text/plain": [
       "{1, 2, 3, 4, 5}"
      ]
     },
     "execution_count": 60,
     "metadata": {},
     "output_type": "execute_result"
    }
   ],
   "source": [
    "s = {} #创建空集合\n",
    "s1 = set([1,1,1,2,3,3,4,5])\n",
    "s1"
   ]
  },
  {
   "cell_type": "markdown",
   "id": "b59f9e41",
   "metadata": {},
   "source": [
    "### 字典（dict）\n",
    "\n",
    "- 字典的每个键值（key=>value）对，用冒号`:`分割，每个对之间，用逗号`,`分割，整个字典包括在花括号`{ }`中，格式如下所示：d = {key1:value1,key2:value2}。\n",
    "\n",
    "- 键必须是唯一的，但值则不必。"
   ]
  },
  {
   "cell_type": "markdown",
   "id": "d30dc1c7",
   "metadata": {},
   "source": [
    "- 创建一个字典"
   ]
  },
  {
   "cell_type": "code",
   "execution_count": 61,
   "id": "4d4a61b1",
   "metadata": {},
   "outputs": [
    {
     "data": {
      "text/plain": [
       "{'gene1': 'AAAAAAA', 'gene2': 'CCCCCCCCC'}"
      ]
     },
     "execution_count": 61,
     "metadata": {},
     "output_type": "execute_result"
    }
   ],
   "source": [
    "fasta = {'gene1':'AAAAAAA','gene2':'CCCCCCCCC'}\n",
    "fasta"
   ]
  },
  {
   "cell_type": "markdown",
   "id": "bd81f8df",
   "metadata": {},
   "source": [
    "- 通过键名gene1取出对应的序列"
   ]
  },
  {
   "cell_type": "code",
   "execution_count": 62,
   "id": "856d6c37",
   "metadata": {},
   "outputs": [
    {
     "data": {
      "text/plain": [
       "'AAAAAAA'"
      ]
     },
     "execution_count": 62,
     "metadata": {},
     "output_type": "execute_result"
    }
   ],
   "source": [
    "fasta['gene1']"
   ]
  },
  {
   "cell_type": "markdown",
   "id": "ff13466c",
   "metadata": {},
   "source": [
    "- 添加新的键值对"
   ]
  },
  {
   "cell_type": "code",
   "execution_count": 63,
   "id": "561054c3",
   "metadata": {},
   "outputs": [
    {
     "name": "stdout",
     "output_type": "stream",
     "text": [
      "{'gene1': 'AAAAAAA', 'gene2': 'CCCCCCCCC', 'gene3': 'GGGGGGGGGG'}\n"
     ]
    }
   ],
   "source": [
    "fasta['gene3'] = 'GGGGGGGGGG'\n",
    "print(fasta)"
   ]
  },
  {
   "cell_type": "markdown",
   "id": "81e6110d",
   "metadata": {},
   "source": [
    "- 循环取出所有键值对"
   ]
  },
  {
   "cell_type": "code",
   "execution_count": 64,
   "id": "384b016e",
   "metadata": {},
   "outputs": [
    {
     "name": "stdout",
     "output_type": "stream",
     "text": [
      "gene1====>AAAAAAA\n",
      "gene2====>CCCCCCCCC\n",
      "gene3====>GGGGGGGGGG\n"
     ]
    }
   ],
   "source": [
    "for key in fasta:\n",
    "    value = fasta[key]\n",
    "    print(key+'====>'+value)"
   ]
  },
  {
   "cell_type": "markdown",
   "id": "957f5d11",
   "metadata": {},
   "source": [
    "## 判断与循环\n",
    "\n",
    "### 条件控制（if）\n",
    "\n",
    "- 每个条件后要使用**冒号**（:），表示接下来是满足条件后要执行的语句块。\n",
    "\n",
    "- 使用缩进来划分语句块，相同缩进数的语句在一起组成一个语句块。\n",
    "\n",
    "    if 判断条件1:\n",
    "        执行语句1\n",
    "    elif 判断条件2：\n",
    "        执行语句2\n",
    "    else：\n",
    "        执行语句3"
   ]
  },
  {
   "cell_type": "markdown",
   "id": "000b231f",
   "metadata": {},
   "source": [
    "- 数值判断：\n",
    "    - larger --- >\n",
    "    - smaller --- <\n",
    "    - equal --- ==\n",
    "    - larger or equal --- >=\n",
    "    \n",
    "- 字符判断：\n",
    "    - ==：字符相等\n",
    "    - !=：字符不等\n",
    "    - in：包含\n",
    "    - not in：不包含"
   ]
  },
  {
   "cell_type": "code",
   "execution_count": 65,
   "id": "033e65c8",
   "metadata": {},
   "outputs": [
    {
     "name": "stdout",
     "output_type": "stream",
     "text": [
      "不及格\n"
     ]
    }
   ],
   "source": [
    "score = 38\n",
    "if score >= 90:\n",
    "    print('优秀')\n",
    "elif score >= 80:\n",
    "    print('良好')\n",
    "elif score >= 60:\n",
    "    print('及格')\n",
    "else:\n",
    "    print('不及格')"
   ]
  },
  {
   "cell_type": "markdown",
   "id": "0b6f7213",
   "metadata": {},
   "source": [
    "### 循环（Loop）\n",
    "\n",
    "#### for循环\n",
    "\n",
    "- for循环可以遍历所有序列的基本类型，如字符串、列表、字典等。\n",
    "\n",
    "- for循环的一般格式：\n",
    "    - `for` item `in` iterable:\n",
    "            do something\n",
    "            \n",
    "    - item为变量名，iterable为可迭代的或像列表的集合形态的对象，比如range。\n",
    "                \n",
    "- rang( )函数：生成数字序列，可用于for循环中遍历数字序列。\n",
    "    - range(start,end,step)，start为起始值，end为结束值，step为步长。\n",
    "        - 例如，range(0,8,1)得出[0,1,2,3,4,5,6,7]\n",
    "\n",
    "#### while循环\n",
    "\n",
    "- 与for循环的相同点为：都能循环做一件重复的事情。\n",
    "\n",
    "- 与for循环的**不同点**为：for循环会在可迭代的序列被穷尽的时候停止，while循环则是在条件不成立的时候停止，因此while的作用概括成一句话就是：只要…条件成立，就一直做……。\n",
    "\n",
    "- while循环的一般格式：\n",
    "    - `while` condition:\n",
    "            do something\n",
    "        \n",
    "    - condition为成立条件。\n",
    "    \n",
    "- 因为在while后面的表达式是永远成立的，所以print会一直进行下去直至你的cpu过热。这种条件永远为True的循环，我们称之为死循环 (Infinite Loop)，在终端或者命令行中按Ctrl + C停止运行。\n",
    "\n",
    "- 控制while循环的两种方式：1、在循环过程中制造某种可以使循环停下来的条件；2、改变使循环成立的条件。"
   ]
  },
  {
   "cell_type": "markdown",
   "id": "2aa024b1",
   "metadata": {},
   "source": [
    "- 计算100以内的和\n",
    "    - 赋初始化值"
   ]
  },
  {
   "cell_type": "code",
   "execution_count": 66,
   "id": "c0bfcfe1",
   "metadata": {},
   "outputs": [],
   "source": [
    "number = 0"
   ]
  },
  {
   "cell_type": "markdown",
   "id": "3861a1c2",
   "metadata": {},
   "source": [
    "   - range函数生成1到100的序列，循环一次将值累加到number。"
   ]
  },
  {
   "cell_type": "code",
   "execution_count": 69,
   "id": "784f7d51",
   "metadata": {},
   "outputs": [
    {
     "name": "stdout",
     "output_type": "stream",
     "text": [
      "5050\n"
     ]
    }
   ],
   "source": [
    "for i in range(1,101):\n",
    "    number = number + i\n",
    "print(number)"
   ]
  },
  {
   "cell_type": "code",
   "execution_count": 70,
   "id": "957b6cb6",
   "metadata": {},
   "outputs": [
    {
     "name": "stdout",
     "output_type": "stream",
     "text": [
      "5050\n"
     ]
    }
   ],
   "source": [
    "number = 0\n",
    "i = 1\n",
    "while i <= 100:  #循环条件\n",
    "    number += i\n",
    "    i += 1  #循环一次将计数加1，否则一直是形成死循环\n",
    "print(number)"
   ]
  },
  {
   "cell_type": "markdown",
   "id": "c2ba8a63",
   "metadata": {},
   "source": [
    "#### break循环\n",
    "\n",
    "- break：跳出后续所有循环\n",
    "\n",
    "- break跳出后续所有循环，打印1，2，3。"
   ]
  },
  {
   "cell_type": "code",
   "execution_count": 72,
   "id": "ba035cfe",
   "metadata": {},
   "outputs": [
    {
     "name": "stdout",
     "output_type": "stream",
     "text": [
      "1\n",
      "2\n",
      "3\n"
     ]
    }
   ],
   "source": [
    "for i in range(1,5):\n",
    "    print(i)\n",
    "    if i == 3:\n",
    "        break"
   ]
  },
  {
   "cell_type": "markdown",
   "id": "4ce98365",
   "metadata": {},
   "source": [
    "#### continue循环\n",
    "\n",
    "- continue：跳过当前循环\n",
    "\n",
    "- continue跳出当前循环执行下一循环，打印1，2，4。"
   ]
  },
  {
   "cell_type": "code",
   "execution_count": 73,
   "id": "de6f9070",
   "metadata": {},
   "outputs": [
    {
     "name": "stdout",
     "output_type": "stream",
     "text": [
      "1\n",
      "2\n",
      "4\n"
     ]
    }
   ],
   "source": [
    "for i in range(1,5):\n",
    "    if i == 3:\n",
    "        continue\n",
    "    print(i)"
   ]
  },
  {
   "cell_type": "markdown",
   "id": "4af88b67",
   "metadata": {},
   "source": [
    "## 函数\n",
    "\n",
    "### 定义函数\n",
    "\n",
    "- `def` 函数名(参数1，参数2，……):\n",
    "            \n",
    "        return(函数结果)\n",
    "  \n",
    "  \n",
    "- 调用函数：\n",
    "    - 函数名(参数1，参数2，……)\n",
    "    \n",
    "- 需要注意的是：\n",
    "\n",
    "- def 和 return 是关键宇 (keyword)，Python 就是靠识别这些特定的关键字来明白用户的意图，实现更为复杂的编程。\n",
    "\n",
    "- **在闭合括号后面的冒号必不可少，而且非常值得注意的是你要使用英文输入法进行输入，否则就是错误的语法**。\n",
    "\n",
    "- 如果在 IDE 中冒号后面回车 (换行) 你会自动地得到一个缩进。**函数缩进后面的语句被称作是语句块 (block)，缩进是为了表明语句和逻辑的从属关系，是 Python 最显著的特征之一**。很多初学者会忽视缩进问题，导致代码无法成功运行，在这里需要特别注意。"
   ]
  },
  {
   "cell_type": "markdown",
   "id": "42e6dc07",
   "metadata": {},
   "source": [
    "- 案例：把摄氏度转化为华氏度定义为函数fahrenheit_Converter( )，那么将输入进去的必然是摄氏度(Celsius)的数值，把C设为摄氏度参数，最后返回的是华氏度(fahrenheit)的数值，用下面的函数来表达："
   ]
  },
  {
   "cell_type": "code",
   "execution_count": 2,
   "id": "fbfd1d33",
   "metadata": {},
   "outputs": [],
   "source": [
    "def fahrenheit_converter(C):\n",
    "    fahrenheit = C * 9/5 + 32\n",
    "    return str(fahrenheit) + 'F'"
   ]
  },
  {
   "cell_type": "markdown",
   "id": "3ef50e10",
   "metadata": {},
   "source": [
    "- 注：计算的结果类型是float，不能与字符串“F”相合并，所以需要先用str( )函数进行转换。\n",
    "\n",
    "- 输入完以上代码后，函数定义完成，接下就开始使用它。这种使用函数的行为叫做“调用”(call)。也可以理解为：请求Python给去做一件事，如函数 len( )：“请Python测量这个(对象)的长度, 并将结果打印出来。”"
   ]
  },
  {
   "cell_type": "markdown",
   "id": "93920590",
   "metadata": {},
   "source": [
    "- 使用摄氏度转换器将35摄氏度转换成华氏度，将结果储存在名为C2F的变量并打印出来。"
   ]
  },
  {
   "cell_type": "code",
   "execution_count": 3,
   "id": "201f2ea4",
   "metadata": {},
   "outputs": [
    {
     "name": "stdout",
     "output_type": "stream",
     "text": [
      "95.0F\n"
     ]
    }
   ],
   "source": [
    "C2F = fahrenheit_converter(35)\n",
    "print(C2F)"
   ]
  },
  {
   "cell_type": "code",
   "execution_count": 74,
   "id": "cb3eeb50",
   "metadata": {},
   "outputs": [
    {
     "name": "stdout",
     "output_type": "stream",
     "text": [
      "(1, '<', 2)\n"
     ]
    }
   ],
   "source": [
    "def MaxofTwo(n1,n2):\n",
    "    if n1 > n2:\n",
    "        return(n1,'>',n2)\n",
    "    elif n1 < n2:\n",
    "        return(n1,'<',n2)\n",
    "    else:\n",
    "        return(n1,'=',n2)\n",
    "print(MaxofTwo(1,2))"
   ]
  },
  {
   "cell_type": "code",
   "execution_count": 75,
   "id": "9fe1039f",
   "metadata": {},
   "outputs": [
    {
     "name": "stdout",
     "output_type": "stream",
     "text": [
      "(0, '>', -1)\n"
     ]
    }
   ],
   "source": [
    "print(MaxofTwo(0,-1))"
   ]
  },
  {
   "cell_type": "code",
   "execution_count": 76,
   "id": "c1239f76",
   "metadata": {},
   "outputs": [
    {
     "name": "stdout",
     "output_type": "stream",
     "text": [
      "(1, '=', 1)\n"
     ]
    }
   ],
   "source": [
    "print(MaxofTwo(1,1))"
   ]
  },
  {
   "cell_type": "markdown",
   "id": "9215ebc0",
   "metadata": {},
   "source": [
    "### 传递参数与参数类型\n",
    "\n",
    "- 传递参数的方式有两种：\n",
    "\n",
    "    - 位置参数（positional argument）\n",
    "    \n",
    "    - 关键词参数（keyword argument）\n",
    "\n",
    "- 案例：从梯形的数学公式开始入手，首先还是创建函数。把函数的名称定为trapezoid_area，也就是梯形面积，设定参数为base_up(上底)，base_down(下底)，height(高)，每一个都用英文输入法的逗号隔开。梯形的面积需要知道这三个值才能求得，因此对于构造梯形面积函数来说，这三个参数缺一不可。"
   ]
  },
  {
   "cell_type": "code",
   "execution_count": 4,
   "id": "d51a1dd6",
   "metadata": {},
   "outputs": [],
   "source": [
    "def trapezoid_area(base_up, base_down, height):\n",
    "    return 1/2 * (base_up + base_down) * height"
   ]
  },
  {
   "cell_type": "markdown",
   "id": "94b942a5",
   "metadata": {},
   "source": [
    "- 接下来调用函数："
   ]
  },
  {
   "cell_type": "code",
   "execution_count": 5,
   "id": "f9098b87",
   "metadata": {},
   "outputs": [
    {
     "data": {
      "text/plain": [
       "4.5"
      ]
     },
     "execution_count": 5,
     "metadata": {},
     "output_type": "execute_result"
    }
   ],
   "source": [
    "trapezoid_area(1,2,3)"
   ]
  },
  {
   "cell_type": "markdown",
   "id": "baa46130",
   "metadata": {},
   "source": [
    "- 填入的参数1、2、3分别对应着参数base_up、base_down和height，这种传入参数的方式被称为**位置参数**。"
   ]
  },
  {
   "cell_type": "code",
   "execution_count": 6,
   "id": "0a1d5bb9",
   "metadata": {},
   "outputs": [
    {
     "data": {
      "text/plain": [
       "4.5"
      ]
     },
     "execution_count": 6,
     "metadata": {},
     "output_type": "execute_result"
    }
   ],
   "source": [
    "trapezoid_area(base_up=1, base_down=2, height=3)"
   ]
  },
  {
   "cell_type": "markdown",
   "id": "0c3550fe",
   "metadata": {},
   "source": [
    "- 在调用函数的时候，将每个参数名称后面赋予一个想要传入的值，这种以名称作为逐一对应的参数传入方式被称作是**关键词参数**。"
   ]
  },
  {
   "cell_type": "code",
   "execution_count": 8,
   "id": "ff905fc5",
   "metadata": {},
   "outputs": [
    {
     "data": {
      "text/plain": [
       "4.5"
      ]
     },
     "execution_count": 8,
     "metadata": {},
     "output_type": "execute_result"
    }
   ],
   "source": [
    "trapezoid_area(height=3, base_down=2, base_up=1)"
   ]
  },
  {
   "cell_type": "markdown",
   "id": "99262138",
   "metadata": {},
   "source": [
    "-  上述函数参数按照反序传入，因为是关键词参数，所以并不影响函数正常运作。"
   ]
  },
  {
   "cell_type": "code",
   "execution_count": 9,
   "id": "d904d35c",
   "metadata": {},
   "outputs": [
    {
     "ename": "SyntaxError",
     "evalue": "positional argument follows keyword argument (3173648520.py, line 1)",
     "output_type": "error",
     "traceback": [
      "\u001b[0;36m  File \u001b[0;32m\"/var/folders/14/pj985hh56sl5pj_j6y0ldsk00000gn/T/ipykernel_10591/3173648520.py\"\u001b[0;36m, line \u001b[0;32m1\u001b[0m\n\u001b[0;31m    trapezoid_area(height=3, base_down=2, 1)\u001b[0m\n\u001b[0m                                           ^\u001b[0m\n\u001b[0;31mSyntaxError\u001b[0m\u001b[0;31m:\u001b[0m positional argument follows keyword argument\n"
     ]
    }
   ],
   "source": [
    "trapezoid_area(height=3, base_down=2, 1)"
   ]
  },
  {
   "cell_type": "markdown",
   "id": "ab2d002f",
   "metadata": {},
   "source": [
    "- 上述函数参数反序传入，但是到了第三个却变成了位置参数，**遗憾的是这种方式是错误的语法**，因为如果按照位置来传入，最后一个应该是参数height的位置。但是前面height已经按照名称传入了值3，所以是冲突的。"
   ]
  },
  {
   "cell_type": "code",
   "execution_count": 10,
   "id": "18a75c3b",
   "metadata": {},
   "outputs": [
    {
     "ename": "SyntaxError",
     "evalue": "positional argument follows keyword argument (2213735002.py, line 1)",
     "output_type": "error",
     "traceback": [
      "\u001b[0;36m  File \u001b[0;32m\"/var/folders/14/pj985hh56sl5pj_j6y0ldsk00000gn/T/ipykernel_10591/2213735002.py\"\u001b[0;36m, line \u001b[0;32m1\u001b[0m\n\u001b[0;31m    trapezoid_area(base_up=1, base_down=2, 3)\u001b[0m\n\u001b[0m                                            ^\u001b[0m\n\u001b[0;31mSyntaxError\u001b[0m\u001b[0;31m:\u001b[0m positional argument follows keyword argument\n"
     ]
    }
   ],
   "source": [
    "trapezoid_area(base_up=1, base_down=2, 3)"
   ]
  },
  {
   "cell_type": "markdown",
   "id": "8d48672d",
   "metadata": {},
   "source": [
    "- 上述函数参数正序传入，前两个是以关键词的方式传入，最后一个以位置参数传入，但是**位置参数不能在关键词参数后面**，所以是错误的。"
   ]
  },
  {
   "cell_type": "code",
   "execution_count": 11,
   "id": "16416861",
   "metadata": {},
   "outputs": [
    {
     "data": {
      "text/plain": [
       "4.5"
      ]
     },
     "execution_count": 11,
     "metadata": {},
     "output_type": "execute_result"
    }
   ],
   "source": [
    "trapezoid_area(1, 2, height=3)"
   ]
  },
  {
   "cell_type": "markdown",
   "id": "538ad2e7",
   "metadata": {},
   "source": [
    "- 上述函数参数正序传入，前两个是以位置的方式传入，最后一个以关键词参数传入，这个函数是可以正常运行的。"
   ]
  },
  {
   "cell_type": "markdown",
   "id": "88217f7b",
   "metadata": {},
   "source": [
    "- 接下来是以上案例的变型："
   ]
  },
  {
   "cell_type": "code",
   "execution_count": 13,
   "id": "edb9cc51",
   "metadata": {},
   "outputs": [
    {
     "data": {
      "text/plain": [
       "2.5"
      ]
     },
     "execution_count": 13,
     "metadata": {},
     "output_type": "execute_result"
    }
   ],
   "source": [
    "base_up = 1\n",
    "base_down = 2\n",
    "height = 3\n",
    "trapezoid_area(height, base_down, base_up)"
   ]
  },
  {
   "cell_type": "markdown",
   "id": "57b35578",
   "metadata": {},
   "source": [
    "- 这里的base_up、base_down、height都是**变量**。函数调用可看作是："
   ]
  },
  {
   "cell_type": "code",
   "execution_count": 14,
   "id": "617484bf",
   "metadata": {},
   "outputs": [
    {
     "data": {
      "text/plain": [
       "2.5"
      ]
     },
     "execution_count": 14,
     "metadata": {},
     "output_type": "execute_result"
    }
   ],
   "source": [
    "trapezoid_area(3,2,1)"
   ]
  },
  {
   "cell_type": "markdown",
   "id": "e59e883b",
   "metadata": {},
   "source": [
    "- 这种传入参数的方式为**位置参数**。参数3、2、1分别对应着参数base_up、base_down和 height所在的位置，因此这次函数调用的结果应该是2.5。"
   ]
  },
  {
   "cell_type": "markdown",
   "id": "d95febde",
   "metadata": {},
   "source": [
    "### 读取文件\n",
    "\n",
    "#### 打开文件对象\n",
    "\n",
    "- open( )方法返回一个文件对象，最常使用的为两个参数：\n",
    "    - 文件对象 = open(文件路径,模式)\n",
    "    \n",
    "- mode参数：\n",
    "    - `r` 只读模式：只能查看，不能修改。\n",
    "    - `w` 只写模式：之前的同名文件被覆盖。\n",
    "    - `a` 添加模式：数据都添加到末尾 打开文件。\n",
    "    \n",
    "- 读取文件\n",
    "    - 文件对象.readline( ):一次读入一行。\n",
    "    - 文件对象.read( ):将剩余文件全部读取。\n",
    "    - 文件对象.close( ):在完成读取/写入时，必须关闭打开的文件对象。"
   ]
  },
  {
   "cell_type": "markdown",
   "id": "06a5a70c",
   "metadata": {},
   "source": [
    "- 读文件的第一行"
   ]
  },
  {
   "cell_type": "code",
   "execution_count": 83,
   "id": "c6dd5b7d",
   "metadata": {},
   "outputs": [
    {
     "data": {
      "text/plain": [
       "'>gi|2765658|emb|Z78533.1|CIZ78533 C.irapeanum 5.8S rRNA gene and ITS1 and ITS2 DNA\\n'"
      ]
     },
     "execution_count": 83,
     "metadata": {},
     "output_type": "execute_result"
    }
   ],
   "source": [
    "file = open('/Users/liang.hanqing/Documents/jupyter/biopython-master/Doc/examples/ls_orchid.fasta','r')\n",
    "file.readline()"
   ]
  },
  {
   "cell_type": "markdown",
   "id": "ab87b19f",
   "metadata": {},
   "source": [
    "- 读文件的第二行"
   ]
  },
  {
   "cell_type": "code",
   "execution_count": 84,
   "id": "51c35378",
   "metadata": {},
   "outputs": [
    {
     "data": {
      "text/plain": [
       "'CGTAACAAGGTTTCCGTAGGTGAACCTGCGGAAGGATCATTGATGAGACCGTGGAATAAACGATCGAGTG\\n'"
      ]
     },
     "execution_count": 84,
     "metadata": {},
     "output_type": "execute_result"
    }
   ],
   "source": [
    "file.readline()"
   ]
  },
  {
   "cell_type": "markdown",
   "id": "9b73e41e",
   "metadata": {},
   "source": [
    "- 读文件的第三行"
   ]
  },
  {
   "cell_type": "code",
   "execution_count": 85,
   "id": "be0c893d",
   "metadata": {},
   "outputs": [
    {
     "data": {
      "text/plain": [
       "'AATCCGGAGGACCGGTGTACTCAGCTCACCGGGGGCATTGCTCCCGTGGTGACCCTGATTTGTTGTTGGG\\n'"
      ]
     },
     "execution_count": 85,
     "metadata": {},
     "output_type": "execute_result"
    }
   ],
   "source": [
    "file.readline()"
   ]
  },
  {
   "cell_type": "markdown",
   "id": "1f0e8e8c",
   "metadata": {},
   "source": [
    "#### 查找文件路径\n",
    "\n",
    "- macOS：选择文件，按Option+Command+C，即可复制路径。\n",
    "\n",
    "- Windows：选择文件，按住shift，鼠标右键复制路径（粘贴时要注意将`\\`变成`/`）。\n",
    "    - 推荐使用[Path Copy Copy](https://pathcopycopy.github.io)。默认情况下Windows的文件路径是backslash（\\），UNIX系文件路径是 forward slash(/）。在这个软件里，如果选择复制Long Path那就是Windows类型，如果选择UNIX Path就是UNIX类型。"
   ]
  }
 ],
 "metadata": {
  "kernelspec": {
   "display_name": "Python 3 (ipykernel)",
   "language": "python",
   "name": "python3"
  },
  "language_info": {
   "codemirror_mode": {
    "name": "ipython",
    "version": 3
   },
   "file_extension": ".py",
   "mimetype": "text/x-python",
   "name": "python",
   "nbconvert_exporter": "python",
   "pygments_lexer": "ipython3",
   "version": "3.9.13"
  },
  "toc": {
   "base_numbering": 1,
   "nav_menu": {},
   "number_sections": true,
   "sideBar": true,
   "skip_h1_title": true,
   "title_cell": "Table of Contents",
   "title_sidebar": "Contents",
   "toc_cell": true,
   "toc_position": {
    "height": "calc(100% - 180px)",
    "left": "10px",
    "top": "150px",
    "width": "185.797px"
   },
   "toc_section_display": true,
   "toc_window_display": true
  }
 },
 "nbformat": 4,
 "nbformat_minor": 5
}
