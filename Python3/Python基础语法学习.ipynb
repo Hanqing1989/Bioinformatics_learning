{
 "cells": [
  {
   "cell_type": "markdown",
   "id": "cc92651e",
   "metadata": {},
   "source": [
    "# Python基础语法学习"
   ]
  },
  {
   "cell_type": "markdown",
   "id": "feb55ee3",
   "metadata": {},
   "source": [
    "Source：\n",
    "\n",
    "1. [Biopython中文教程](https://biopython-cn.readthedocs.io/zh_CN/latest/cn/chr01.html)。\n",
    "\n",
    "2. [编程小白的第一本Python入门书](https://www.ituring.com.cn/book/1863)。\n",
    "\n",
    "3. [【B站】2022新版黑马程序员python教程](https://www.bilibili.com/video/BV1qW4y1a7fU/?spm_id_from=333.1007.top_right_bar_window_custom_collection.content.click)。"
   ]
  },
  {
   "cell_type": "markdown",
   "id": "db86e0b7",
   "metadata": {
    "toc": true
   },
   "source": [
    "<h1>Table of Contents<span class=\"tocSkip\"></span></h1>\n",
    "<div class=\"toc\"><ul class=\"toc-item\"><li><span><a href=\"#代码规范\" data-toc-modified-id=\"代码规范-1\"><span class=\"toc-item-num\">1&nbsp;&nbsp;</span>代码规范</a></span></li><li><span><a href=\"#注释\" data-toc-modified-id=\"注释-2\"><span class=\"toc-item-num\">2&nbsp;&nbsp;</span>注释</a></span><ul class=\"toc-item\"><li><span><a href=\"#注释语句的作用\" data-toc-modified-id=\"注释语句的作用-2.1\"><span class=\"toc-item-num\">2.1&nbsp;&nbsp;</span>注释语句的作用</a></span></li><li><span><a href=\"#注释类型\" data-toc-modified-id=\"注释类型-2.2\"><span class=\"toc-item-num\">2.2&nbsp;&nbsp;</span>注释类型</a></span></li></ul></li><li><span><a href=\"#标识符\" data-toc-modified-id=\"标识符-3\"><span class=\"toc-item-num\">3&nbsp;&nbsp;</span>标识符</a></span></li><li><span><a href=\"#运算符\" data-toc-modified-id=\"运算符-4\"><span class=\"toc-item-num\">4&nbsp;&nbsp;</span>运算符</a></span><ul class=\"toc-item\"><li><span><a href=\"#数学运算符\" data-toc-modified-id=\"数学运算符-4.1\"><span class=\"toc-item-num\">4.1&nbsp;&nbsp;</span>数学运算符</a></span></li><li><span><a href=\"#赋值运算符\" data-toc-modified-id=\"赋值运算符-4.2\"><span class=\"toc-item-num\">4.2&nbsp;&nbsp;</span>赋值运算符</a></span></li></ul></li><li><span><a href=\"#基本数据类型\" data-toc-modified-id=\"基本数据类型-5\"><span class=\"toc-item-num\">5&nbsp;&nbsp;</span>基本数据类型</a></span><ul class=\"toc-item\"><li><span><a href=\"#数字、判断类型、布尔值\" data-toc-modified-id=\"数字、判断类型、布尔值-5.1\"><span class=\"toc-item-num\">5.1&nbsp;&nbsp;</span>数字、判断类型、布尔值</a></span></li><li><span><a href=\"#变量和字符串（string）\" data-toc-modified-id=\"变量和字符串（string）-5.2\"><span class=\"toc-item-num\">5.2&nbsp;&nbsp;</span>变量和字符串（string）</a></span><ul class=\"toc-item\"><li><span><a href=\"#字符串格式化\" data-toc-modified-id=\"字符串格式化-5.2.1\"><span class=\"toc-item-num\">5.2.1&nbsp;&nbsp;</span>字符串格式化</a></span><ul class=\"toc-item\"><li><span><a href=\"#使用print(...)占位符格式化输出\" data-toc-modified-id=\"使用print(...)占位符格式化输出-5.2.1.1\"><span class=\"toc-item-num\">5.2.1.1&nbsp;&nbsp;</span>使用print(...)占位符格式化输出</a></span></li><li><span><a href=\"#使用input(...)接受用户输入：返回字符串\" data-toc-modified-id=\"使用input(...)接受用户输入：返回字符串-5.2.1.2\"><span class=\"toc-item-num\">5.2.1.2&nbsp;&nbsp;</span>使用input(...)接受用户输入：返回字符串</a></span></li><li><span><a href=\"#字符串的快速格式化\" data-toc-modified-id=\"字符串的快速格式化-5.2.1.3\"><span class=\"toc-item-num\">5.2.1.3&nbsp;&nbsp;</span>字符串的快速格式化</a></span></li><li><span><a href=\"#表达式的格式化\" data-toc-modified-id=\"表达式的格式化-5.2.1.4\"><span class=\"toc-item-num\">5.2.1.4&nbsp;&nbsp;</span>表达式的格式化</a></span></li><li><span><a href=\"#print输出不换行的方法\" data-toc-modified-id=\"print输出不换行的方法-5.2.1.5\"><span class=\"toc-item-num\">5.2.1.5&nbsp;&nbsp;</span>print输出不换行的方法</a></span></li><li><span><a href=\"#练习题\" data-toc-modified-id=\"练习题-5.2.1.6\"><span class=\"toc-item-num\">5.2.1.6&nbsp;&nbsp;</span>练习题</a></span></li></ul></li><li><span><a href=\"#数字的精度控制，使用辅助符号“m.n“来控制数据的宽度和精度。\" data-toc-modified-id=\"数字的精度控制，使用辅助符号“m.n“来控制数据的宽度和精度。-5.2.2\"><span class=\"toc-item-num\">5.2.2&nbsp;&nbsp;</span>数字的精度控制，使用辅助符号“m.n“来控制数据的宽度和精度。</a></span></li><li><span><a href=\"#类型转换\" data-toc-modified-id=\"类型转换-5.2.3\"><span class=\"toc-item-num\">5.2.3&nbsp;&nbsp;</span>类型转换</a></span></li><li><span><a href=\"#字符串运算方法\" data-toc-modified-id=\"字符串运算方法-5.2.4\"><span class=\"toc-item-num\">5.2.4&nbsp;&nbsp;</span>字符串运算方法</a></span></li><li><span><a href=\"#字符串切片和索引\" data-toc-modified-id=\"字符串切片和索引-5.2.5\"><span class=\"toc-item-num\">5.2.5&nbsp;&nbsp;</span>字符串切片和索引</a></span></li><li><span><a href=\"#字符串的方法\" data-toc-modified-id=\"字符串的方法-5.2.6\"><span class=\"toc-item-num\">5.2.6&nbsp;&nbsp;</span>字符串的方法</a></span></li></ul></li></ul></li><li><span><a href=\"#数据结构\" data-toc-modified-id=\"数据结构-6\"><span class=\"toc-item-num\">6&nbsp;&nbsp;</span>数据结构</a></span><ul class=\"toc-item\"><li><span><a href=\"#列表（list）\" data-toc-modified-id=\"列表（list）-6.1\"><span class=\"toc-item-num\">6.1&nbsp;&nbsp;</span>列表（list）</a></span></li><li><span><a href=\"#元组（tuple）\" data-toc-modified-id=\"元组（tuple）-6.2\"><span class=\"toc-item-num\">6.2&nbsp;&nbsp;</span>元组（tuple）</a></span></li><li><span><a href=\"#集合（set）\" data-toc-modified-id=\"集合（set）-6.3\"><span class=\"toc-item-num\">6.3&nbsp;&nbsp;</span>集合（set）</a></span></li><li><span><a href=\"#字典（dict）\" data-toc-modified-id=\"字典（dict）-6.4\"><span class=\"toc-item-num\">6.4&nbsp;&nbsp;</span>字典（dict）</a></span></li></ul></li><li><span><a href=\"#判断与循环\" data-toc-modified-id=\"判断与循环-7\"><span class=\"toc-item-num\">7&nbsp;&nbsp;</span>判断与循环</a></span><ul class=\"toc-item\"><li><span><a href=\"#布尔类型和比较运算符\" data-toc-modified-id=\"布尔类型和比较运算符-7.1\"><span class=\"toc-item-num\">7.1&nbsp;&nbsp;</span>布尔类型和比较运算符</a></span></li><li><span><a href=\"#if语句的基本各式\" data-toc-modified-id=\"if语句的基本各式-7.2\"><span class=\"toc-item-num\">7.2&nbsp;&nbsp;</span>if语句的基本各式</a></span></li><li><span><a href=\"#循环（Loop）\" data-toc-modified-id=\"循环（Loop）-7.3\"><span class=\"toc-item-num\">7.3&nbsp;&nbsp;</span>循环（Loop）</a></span><ul class=\"toc-item\"><li><span><a href=\"#for循环\" data-toc-modified-id=\"for循环-7.3.1\"><span class=\"toc-item-num\">7.3.1&nbsp;&nbsp;</span>for循环</a></span></li><li><span><a href=\"#while循环\" data-toc-modified-id=\"while循环-7.3.2\"><span class=\"toc-item-num\">7.3.2&nbsp;&nbsp;</span>while循环</a></span></li><li><span><a href=\"#break循环\" data-toc-modified-id=\"break循环-7.3.3\"><span class=\"toc-item-num\">7.3.3&nbsp;&nbsp;</span>break循环</a></span></li><li><span><a href=\"#continue循环\" data-toc-modified-id=\"continue循环-7.3.4\"><span class=\"toc-item-num\">7.3.4&nbsp;&nbsp;</span>continue循环</a></span></li></ul></li></ul></li><li><span><a href=\"#函数\" data-toc-modified-id=\"函数-8\"><span class=\"toc-item-num\">8&nbsp;&nbsp;</span>函数</a></span><ul class=\"toc-item\"><li><span><a href=\"#定义函数\" data-toc-modified-id=\"定义函数-8.1\"><span class=\"toc-item-num\">8.1&nbsp;&nbsp;</span>定义函数</a></span></li><li><span><a href=\"#传递参数与参数类型\" data-toc-modified-id=\"传递参数与参数类型-8.2\"><span class=\"toc-item-num\">8.2&nbsp;&nbsp;</span>传递参数与参数类型</a></span></li><li><span><a href=\"#读取文件\" data-toc-modified-id=\"读取文件-8.3\"><span class=\"toc-item-num\">8.3&nbsp;&nbsp;</span>读取文件</a></span><ul class=\"toc-item\"><li><span><a href=\"#打开文件对象\" data-toc-modified-id=\"打开文件对象-8.3.1\"><span class=\"toc-item-num\">8.3.1&nbsp;&nbsp;</span>打开文件对象</a></span></li><li><span><a href=\"#查找文件路径\" data-toc-modified-id=\"查找文件路径-8.3.2\"><span class=\"toc-item-num\">8.3.2&nbsp;&nbsp;</span>查找文件路径</a></span></li></ul></li></ul></li></ul></div>"
   ]
  },
  {
   "cell_type": "markdown",
   "id": "a65e9d35",
   "metadata": {},
   "source": [
    "## 代码规范"
   ]
  },
  {
   "cell_type": "code",
   "execution_count": 1,
   "id": "e93e34d5",
   "metadata": {},
   "outputs": [
    {
     "name": "stdout",
     "output_type": "stream",
     "text": [
      "Hello world!\n"
     ]
    }
   ],
   "source": [
    "print('Hello world!')"
   ]
  },
  {
   "cell_type": "markdown",
   "id": "8546607b",
   "metadata": {},
   "source": [
    "- 严格的缩进"
   ]
  },
  {
   "cell_type": "code",
   "execution_count": 2,
   "id": "feb22c60",
   "metadata": {},
   "outputs": [
    {
     "name": "stdout",
     "output_type": "stream",
     "text": [
      "Hello world!\n"
     ]
    }
   ],
   "source": [
    "    print('Hello world!')#缩进错误"
   ]
  },
  {
   "cell_type": "markdown",
   "id": "a36c44da",
   "metadata": {},
   "source": [
    "- 区分大小写（比如函数名）"
   ]
  },
  {
   "cell_type": "code",
   "execution_count": 3,
   "id": "07553068",
   "metadata": {},
   "outputs": [
    {
     "ename": "NameError",
     "evalue": "name 'Print' is not defined",
     "output_type": "error",
     "traceback": [
      "\u001b[0;31m---------------------------------------------------------------------------\u001b[0m",
      "\u001b[0;31mNameError\u001b[0m                                 Traceback (most recent call last)",
      "\u001b[0;32m/var/folders/14/pj985hh56sl5pj_j6y0ldsk00000gn/T/ipykernel_3731/1600588866.py\u001b[0m in \u001b[0;36m<module>\u001b[0;34m\u001b[0m\n\u001b[0;32m----> 1\u001b[0;31m \u001b[0mPrint\u001b[0m\u001b[0;34m(\u001b[0m\u001b[0;34m'Hello world!'\u001b[0m\u001b[0;34m)\u001b[0m\u001b[0;34m\u001b[0m\u001b[0;34m\u001b[0m\u001b[0m\n\u001b[0m",
      "\u001b[0;31mNameError\u001b[0m: name 'Print' is not defined"
     ]
    }
   ],
   "source": [
    "Print('Hello world!')"
   ]
  },
  {
   "cell_type": "markdown",
   "id": "5504d073",
   "metadata": {},
   "source": [
    "- 语法结构中禁止使用中文符号（比如中文双引号）"
   ]
  },
  {
   "cell_type": "code",
   "execution_count": 4,
   "id": "4e2f8519",
   "metadata": {},
   "outputs": [
    {
     "ename": "SyntaxError",
     "evalue": "invalid character '“' (U+201C) (3845946514.py, line 1)",
     "output_type": "error",
     "traceback": [
      "\u001b[0;36m  File \u001b[0;32m\"/var/folders/14/pj985hh56sl5pj_j6y0ldsk00000gn/T/ipykernel_3731/3845946514.py\"\u001b[0;36m, line \u001b[0;32m1\u001b[0m\n\u001b[0;31m    print(“Hello world!”)\u001b[0m\n\u001b[0m          ^\u001b[0m\n\u001b[0;31mSyntaxError\u001b[0m\u001b[0;31m:\u001b[0m invalid character '“' (U+201C)\n"
     ]
    }
   ],
   "source": [
    "print(“Hello world!”)"
   ]
  },
  {
   "cell_type": "markdown",
   "id": "d1cb4133",
   "metadata": {},
   "source": [
    "## 注释\n",
    "\n",
    "### 注释语句的作用\n",
    "\n",
    "- 注明代码的作用，其本身不会被Python执行。\n",
    "\n",
    "- 便于与他人协作以及维护和管理\n",
    "\n",
    "### 注释类型\n",
    "\n",
    "- 单行注释：单个`#`+空格+说明。"
   ]
  },
  {
   "cell_type": "code",
   "execution_count": 6,
   "id": "662465d6",
   "metadata": {},
   "outputs": [
    {
     "name": "stdout",
     "output_type": "stream",
     "text": [
      "ok\n"
     ]
    }
   ],
   "source": [
    "print('ok') # 单行注释"
   ]
  },
  {
   "cell_type": "markdown",
   "id": "1f335858",
   "metadata": {},
   "source": [
    "- 多行注释：连续三个英文双引号对上下文进行包裹（\"\"\"注释内容\"\"\"），一般写在文件开头的地方。"
   ]
  },
  {
   "cell_type": "code",
   "execution_count": 9,
   "id": "9498570a",
   "metadata": {},
   "outputs": [
    {
     "data": {
      "text/plain": [
       "\"\\n多行注释\\n连续三个\\n变音符号\\n这里的print('ok')\\n不会被执行\\n\""
      ]
     },
     "execution_count": 9,
     "metadata": {},
     "output_type": "execute_result"
    }
   ],
   "source": [
    "\"\"\"\n",
    "多行注释\n",
    "连续三个\n",
    "变音符号\n",
    "这里的print('ok')\n",
    "不会被执行\n",
    "\"\"\""
   ]
  },
  {
   "cell_type": "markdown",
   "id": "9074cc0d",
   "metadata": {},
   "source": [
    "## 标识符\n",
    "\n",
    "- 主要用于起名字：\n",
    "    - 变量的名字。\n",
    "    - 方法的名字。\n",
    "    - 类的名字。\n",
    "    - ...\n",
    "    \n",
    "- 命名规则：\n",
    "    - 内容限定：\n",
    "        - 英文。\n",
    "        - 中文（不推荐）。\n",
    "        - 数字（不可以用在开头）。\n",
    "        - 下划线`_`。\n",
    "        - 其余任何内容都不被允许！\n",
    "        \n",
    "    - 大小写敏感：\n",
    "        - Andy = “安迪1”\n",
    "        - andy = “安迪2”\n",
    "        - 以上两者在print语句中是可以区分的。\n",
    "        \n",
    "    - 不可以使用关键字。\n",
    "        - 关键字同样大小写敏感。\n",
    "        \n",
    "- 变量命名规范：\n",
    "    - 见名知意。\n",
    "    - 下划线命名法：多个单词组合成变量名，使用下划线进行分割。\n",
    "    - 英文字母全小写。\n",
    "    "
   ]
  },
  {
   "cell_type": "markdown",
   "id": "68aaeb40",
   "metadata": {},
   "source": [
    "- 查看关键字"
   ]
  },
  {
   "cell_type": "code",
   "execution_count": 16,
   "id": "b91d536b",
   "metadata": {},
   "outputs": [
    {
     "data": {
      "text/plain": [
       "['False',\n",
       " 'None',\n",
       " 'True',\n",
       " '__peg_parser__',\n",
       " 'and',\n",
       " 'as',\n",
       " 'assert',\n",
       " 'async',\n",
       " 'await',\n",
       " 'break',\n",
       " 'class',\n",
       " 'continue',\n",
       " 'def',\n",
       " 'del',\n",
       " 'elif',\n",
       " 'else',\n",
       " 'except',\n",
       " 'finally',\n",
       " 'for',\n",
       " 'from',\n",
       " 'global',\n",
       " 'if',\n",
       " 'import',\n",
       " 'in',\n",
       " 'is',\n",
       " 'lambda',\n",
       " 'nonlocal',\n",
       " 'not',\n",
       " 'or',\n",
       " 'pass',\n",
       " 'raise',\n",
       " 'return',\n",
       " 'try',\n",
       " 'while',\n",
       " 'with',\n",
       " 'yield']"
      ]
     },
     "execution_count": 16,
     "metadata": {},
     "output_type": "execute_result"
    }
   ],
   "source": [
    "import keyword\n",
    "keyword.kwlist"
   ]
  },
  {
   "cell_type": "markdown",
   "id": "e2013faa",
   "metadata": {},
   "source": [
    "## 运算符\n",
    "\n",
    "### 数学运算符\n",
    "\n",
    "- 加：`+`\n",
    "\n",
    "- 减：`-`\n",
    "\n",
    "- 乘：`*`\n",
    "\n",
    "- 除：`/`\n",
    "\n",
    "- 取整数：`//`\n",
    "\n",
    "- 取余数：`%` （判断奇偶数：if (num % 2) == 0是偶数）\n",
    "\n",
    "- 乘方：`**`"
   ]
  },
  {
   "cell_type": "code",
   "execution_count": 8,
   "id": "62303a97",
   "metadata": {},
   "outputs": [
    {
     "name": "stdout",
     "output_type": "stream",
     "text": [
      "1 + 1 =  2\n",
      "2 - 1 =  1\n",
      "3 * 3 =  9\n",
      "4 / 2 =  2.0\n",
      "11 // 2 =  5\n",
      "9 % 2 =  1\n",
      "2 ** 2 =  4\n"
     ]
    }
   ],
   "source": [
    "print('1 + 1 = ', 1 + 1)\n",
    "print('2 - 1 = ', 2 - 1)\n",
    "print('3 * 3 = ', 3 * 3)\n",
    "print('4 / 2 = ', 4 / 2)\n",
    "print('11 // 2 = ', 11 // 2)\n",
    "print('9 % 2 = ', 9 % 2)\n",
    "print('2 ** 2 = ', 2 ** 2)"
   ]
  },
  {
   "cell_type": "markdown",
   "id": "4f7f4a31",
   "metadata": {},
   "source": [
    "### 赋值运算符\n",
    "\n",
    "- 标准赋值运算符：=，赋值运算符，把=右边的结果 赋给 左边的变量。\n",
    "\n",
    "- 复合赋值运算符：\n",
    "    - `+=`，加法赋值运算符，c `+=` a等效于c = c + a。\n",
    "    - `-=`，减法赋值运算符，c `-=` a等效于c = c - a。\n",
    "    - `*=`，乘法赋值运算符，c `*=` a等效于c = c * a。\n",
    "    - `/=`，除法赋值运算符，c `/=` a等效于c = c / a。\n",
    "    - `%=`，取模赋值运算符，c `%=` a等效于c = c % a。\n",
    "    - `**=`，幂赋值运算符，c `**=` a等效于c = c ** a。\n",
    "    - `//=`，取整除赋值运算符，c `//=` a等效于c = c // a。"
   ]
  },
  {
   "cell_type": "code",
   "execution_count": 12,
   "id": "8813e44d",
   "metadata": {},
   "outputs": [
    {
     "name": "stdout",
     "output_type": "stream",
     "text": [
      "num += 1:  11\n",
      "num -= 1:  10\n",
      "num *= 4:  40\n",
      "num /= 2:  20.0\n",
      "num %= 2:  1\n",
      "num **= 2:  1\n",
      "num //= 2:  4\n"
     ]
    }
   ],
   "source": [
    "num = 10\n",
    "num += 1\n",
    "print('num += 1: ', num)\n",
    "num -= 1\n",
    "print('num -= 1: ', num)\n",
    "num *= 4\n",
    "print('num *= 4: ', num)\n",
    "num /= 2\n",
    "print('num /= 2: ', num)\n",
    "\n",
    "num = 3\n",
    "num %= 2\n",
    "print('num %= 2: ', num)\n",
    "num **= 2\n",
    "print('num **= 2: ', num)\n",
    "\n",
    "num = 9\n",
    "num //= 2\n",
    "print('num //= 2: ', num)"
   ]
  },
  {
   "cell_type": "markdown",
   "id": "d31a43f7",
   "metadata": {},
   "source": [
    "## 基本数据类型\n",
    "\n",
    "- 常用的6中数据类型：\n",
    "    - 数字（number）：包括整数（int）、浮点数（float）、复数（complex）、布尔（bool）。\n",
    "    - 字符串（string）：描述文本的一种数据类型，可**由任意数量的字符组成**。\n",
    "    - 列表（list）：有序的**可变**序列，是使用最频繁的数据类型，可有序的记录一堆数据。\n",
    "    - 元组（tuple）：**有序**的**不可变**序列，可**有序**的记录一堆**不可变**的数据集合。\n",
    "    - 集合（set）：**无序**的**不重复**集合，可**无序**记录一堆**不重复**的数据集合。\n",
    "    - 字典（dict）：无序键值（key-value）集合，可无序记录一堆key-value型的数据集合。\n"
   ]
  },
  {
   "cell_type": "markdown",
   "id": "3b7cf313",
   "metadata": {},
   "source": [
    "### 数字、判断类型、布尔值"
   ]
  },
  {
   "cell_type": "markdown",
   "id": "21872bf9",
   "metadata": {},
   "source": [
    "- 整数（int）、浮点数（float）、type（）、isinstance（）、True、False。"
   ]
  },
  {
   "cell_type": "code",
   "execution_count": 10,
   "id": "3abab51c",
   "metadata": {},
   "outputs": [
    {
     "name": "stdout",
     "output_type": "stream",
     "text": [
      "<class 'int'>\n"
     ]
    }
   ],
   "source": [
    "print(type(1)) #int"
   ]
  },
  {
   "cell_type": "code",
   "execution_count": 11,
   "id": "ec5e608c",
   "metadata": {},
   "outputs": [
    {
     "name": "stdout",
     "output_type": "stream",
     "text": [
      "<class 'float'>\n"
     ]
    }
   ],
   "source": [
    "print(type(1.0)) #float"
   ]
  },
  {
   "cell_type": "code",
   "execution_count": 12,
   "id": "9997c6c5",
   "metadata": {},
   "outputs": [
    {
     "name": "stdout",
     "output_type": "stream",
     "text": [
      "<class 'str'>\n"
     ]
    }
   ],
   "source": [
    "print(type('1')) #str"
   ]
  },
  {
   "cell_type": "code",
   "execution_count": 13,
   "id": "daf76f48",
   "metadata": {},
   "outputs": [
    {
     "name": "stdout",
     "output_type": "stream",
     "text": [
      "<class 'bool'>\n"
     ]
    }
   ],
   "source": [
    "print(type(True)) #True"
   ]
  },
  {
   "cell_type": "code",
   "execution_count": 14,
   "id": "8792d611",
   "metadata": {},
   "outputs": [
    {
     "name": "stdout",
     "output_type": "stream",
     "text": [
      "True\n"
     ]
    }
   ],
   "source": [
    "print(isinstance(1,int)) #1是整数吗？"
   ]
  },
  {
   "cell_type": "code",
   "execution_count": 15,
   "id": "a1758474",
   "metadata": {},
   "outputs": [
    {
     "name": "stdout",
     "output_type": "stream",
     "text": [
      "False\n"
     ]
    }
   ],
   "source": [
    "print(isinstance(1,float)) #1是浮点数吗？"
   ]
  },
  {
   "cell_type": "markdown",
   "id": "5a9f7205",
   "metadata": {},
   "source": [
    "- 注：以上出现的“class”表示类型。"
   ]
  },
  {
   "cell_type": "markdown",
   "id": "efe59f55",
   "metadata": {},
   "source": [
    "### 变量和字符串（string）\n",
    "\n",
    "- **变量**：用于存储不同的数据类型，实现数据的复用。\n",
    "\n",
    "- 语法：\n",
    "    - 变量名 = 数据（数值、字符串、布尔值。。。）\n",
    "    - 等号表示“赋值”。\n",
    "    - 等号两边有一个空格。\n",
    "    \n",
    "- 变量命名规则：\n",
    "    - 不能以数字开头：age = 8\n",
    "    - 区分大小写：level_1 = 1\n",
    "    - 见名知意：ClassDog = 'dog'\n",
    "    - 不能与**关键字**同名：Print = 1"
   ]
  },
  {
   "cell_type": "markdown",
   "id": "f076f88d",
   "metadata": {},
   "source": [
    "- 被写在代码中的固定的值，称之为“字面量”。常见的字面量包括：整数、浮点数、字符串。基于print语句的输出：print(字面量)。\n",
    "\n",
    "- 字符串（string）：由单/双引号（英文）包裹的任意文本。\n",
    "\n",
    "- 使用`\\`**转义**特殊字符\n",
    "    - `\\'` 单引号本身\n",
    "    - `\\n` 换行符\n",
    "    - `\\t` 制表符\n",
    "    - `\\\\` \\本身"
   ]
  },
  {
   "cell_type": "code",
   "execution_count": 1,
   "id": "16b5362c",
   "metadata": {},
   "outputs": [
    {
     "name": "stdout",
     "output_type": "stream",
     "text": [
      "10\n"
     ]
    }
   ],
   "source": [
    "print(10)"
   ]
  },
  {
   "cell_type": "code",
   "execution_count": 2,
   "id": "6adad22c",
   "metadata": {},
   "outputs": [
    {
     "name": "stdout",
     "output_type": "stream",
     "text": [
      "13.14\n"
     ]
    }
   ],
   "source": [
    "print(13.14)"
   ]
  },
  {
   "cell_type": "code",
   "execution_count": 4,
   "id": "110ccc11",
   "metadata": {},
   "outputs": [
    {
     "name": "stdout",
     "output_type": "stream",
     "text": [
      "黑马程序员\n"
     ]
    }
   ],
   "source": [
    "print(\"黑马程序员\")"
   ]
  },
  {
   "cell_type": "code",
   "execution_count": 5,
   "id": "c78fd0fb",
   "metadata": {},
   "outputs": [
    {
     "name": "stdout",
     "output_type": "stream",
     "text": [
      "黑马程序员\n"
     ]
    }
   ],
   "source": [
    "print('黑马程序员')"
   ]
  },
  {
   "cell_type": "code",
   "execution_count": 22,
   "id": "45b6cd0e",
   "metadata": {},
   "outputs": [
    {
     "name": "stdout",
     "output_type": "stream",
     "text": [
      "'\n"
     ]
    }
   ],
   "source": [
    "print('\\'')"
   ]
  },
  {
   "cell_type": "code",
   "execution_count": 18,
   "id": "4d879606",
   "metadata": {},
   "outputs": [
    {
     "name": "stdout",
     "output_type": "stream",
     "text": [
      "ATCG\n",
      "ATCG\n"
     ]
    }
   ],
   "source": [
    "print('ATCG\\nATCG')"
   ]
  },
  {
   "cell_type": "code",
   "execution_count": 19,
   "id": "f430cbec",
   "metadata": {},
   "outputs": [
    {
     "name": "stdout",
     "output_type": "stream",
     "text": [
      "ATCG\tATCG\n"
     ]
    }
   ],
   "source": [
    "print('ATCG\\tATCG')"
   ]
  },
  {
   "cell_type": "code",
   "execution_count": 20,
   "id": "f11d6572",
   "metadata": {},
   "outputs": [
    {
     "name": "stdout",
     "output_type": "stream",
     "text": [
      "I'am Python\n"
     ]
    }
   ],
   "source": [
    "print('I\\'am Python')"
   ]
  },
  {
   "cell_type": "markdown",
   "id": "55593610",
   "metadata": {},
   "source": [
    "- 制表符的对齐功能"
   ]
  },
  {
   "cell_type": "code",
   "execution_count": 4,
   "id": "142cf88d",
   "metadata": {},
   "outputs": [
    {
     "name": "stdout",
     "output_type": "stream",
     "text": [
      "Hello World\n",
      "itheima best\n"
     ]
    }
   ],
   "source": [
    "print('Hello World')\n",
    "print('itheima best')"
   ]
  },
  {
   "cell_type": "code",
   "execution_count": 5,
   "id": "799a8e37",
   "metadata": {},
   "outputs": [
    {
     "name": "stdout",
     "output_type": "stream",
     "text": [
      "Hello\tWorld\n",
      "itheima\tbest\n"
     ]
    }
   ],
   "source": [
    "print('Hello\\tWorld')\n",
    "print('itheima\\tbest')"
   ]
  },
  {
   "cell_type": "markdown",
   "id": "d1ea63bc",
   "metadata": {},
   "source": [
    "- 在print语句中，使用逗号来分割不同类型的字面量。"
   ]
  },
  {
   "cell_type": "code",
   "execution_count": 7,
   "id": "da3cd7f4",
   "metadata": {},
   "outputs": [
    {
     "name": "stdout",
     "output_type": "stream",
     "text": [
      "钱包还有： 50\n",
      "买了冰淇淋花费10元，还剩余： 40 元\n"
     ]
    }
   ],
   "source": [
    "# 定义一个变量，用来记录钱包余额\n",
    "money = 50\n",
    "\n",
    "# 通过print语句，输出变量记录的内容\n",
    "print('钱包还有：', money)\n",
    "\n",
    "# 买了一个冰淇淋，花费10元\n",
    "money = money - 10\n",
    "print('买了冰淇淋花费10元，还剩余：', money, '元')"
   ]
  },
  {
   "cell_type": "markdown",
   "id": "569502a3",
   "metadata": {},
   "source": [
    "#### 字符串格式化\n",
    "\n",
    "##### 使用print(...)占位符格式化输出\n",
    "    - print( 'name:%s,age:%d' %(name,age))\n",
    "    - %s：将内容转换为字符串，放入占位位置。\n",
    "    - %d：将内容转换为整数，放入占位位置。\n",
    "    - %f：将内容转换为浮点数，放入占位位置。\n",
    "\n",
    "- 字符串类型"
   ]
  },
  {
   "cell_type": "code",
   "execution_count": 14,
   "id": "bdea5290",
   "metadata": {},
   "outputs": [
    {
     "name": "stdout",
     "output_type": "stream",
     "text": [
      "学IT就来黑马程序员\n"
     ]
    }
   ],
   "source": [
    "name = '黑马程序员'\n",
    "message = '学IT就来%s' % name # % 表示：我要占位，s 表示：将变量变成 字符串 放入占位的地方\n",
    "print(message)"
   ]
  },
  {
   "cell_type": "markdown",
   "id": "4f34cf77",
   "metadata": {},
   "source": [
    "- 数字类型"
   ]
  },
  {
   "cell_type": "code",
   "execution_count": 15,
   "id": "2f8b5f00",
   "metadata": {},
   "outputs": [
    {
     "name": "stdout",
     "output_type": "stream",
     "text": [
      "Python大数据学科，北京57期，毕业平均工资：16781\n"
     ]
    }
   ],
   "source": [
    "class_num = 57\n",
    "avg_salary = 16781\n",
    "message = 'Python大数据学科，北京%s期，毕业平均工资：%s' % (class_num, avg_salary)\n",
    "print(message)"
   ]
  },
  {
   "cell_type": "code",
   "execution_count": 16,
   "id": "6b9ba142",
   "metadata": {},
   "outputs": [
    {
     "name": "stdout",
     "output_type": "stream",
     "text": [
      "传智播客，成立于：2006，今天的股价是：19.990000\n"
     ]
    }
   ],
   "source": [
    "name = '传智播客'\n",
    "setup_year = 2006\n",
    "stock_price = 19.99\n",
    "message = '%s，成立于：%d，今天的股价是：%f' % (name, setup_year, stock_price)\n",
    "print(message)"
   ]
  },
  {
   "cell_type": "markdown",
   "id": "0439071f",
   "metadata": {},
   "source": [
    "##### 使用input(...)接受用户输入：返回字符串\n",
    "\n",
    "- 在运行数学运算时，需要将字符串强制转换为数字（这里是整数int）"
   ]
  },
  {
   "cell_type": "code",
   "execution_count": 44,
   "id": "0566d71b",
   "metadata": {},
   "outputs": [
    {
     "name": "stdout",
     "output_type": "stream",
     "text": [
      "please enter your name:MJ\n"
     ]
    }
   ],
   "source": [
    "name = input('please enter your name:')"
   ]
  },
  {
   "cell_type": "code",
   "execution_count": 45,
   "id": "5b0f67de",
   "metadata": {},
   "outputs": [
    {
     "name": "stdout",
     "output_type": "stream",
     "text": [
      "please enter your score:100\n"
     ]
    }
   ],
   "source": [
    "score = input('please enter your score:')"
   ]
  },
  {
   "cell_type": "code",
   "execution_count": 46,
   "id": "67ec05d4",
   "metadata": {},
   "outputs": [
    {
     "name": "stdout",
     "output_type": "stream",
     "text": [
      "name:MJ,score:50\n"
     ]
    }
   ],
   "source": [
    "print('name:%s,score:%d' %(name,int(score) * 0.5))"
   ]
  },
  {
   "cell_type": "markdown",
   "id": "41e89858",
   "metadata": {},
   "source": [
    "##### 字符串的快速格式化\n",
    "\n",
    "- 语法：f“内容｛变量｝”（f是，format的缩写）\n",
    "    - f'{表达式}'\n",
    "    - '%s\\%d\\%f' % (表达式、表达式、表达式)"
   ]
  },
  {
   "cell_type": "code",
   "execution_count": 4,
   "id": "be3313b4",
   "metadata": {},
   "outputs": [
    {
     "name": "stdout",
     "output_type": "stream",
     "text": [
      "我是传智播客，成立于：2006，今天的股价是：19.99\n"
     ]
    }
   ],
   "source": [
    "name = '传智播客'\n",
    "setup_year = 2006\n",
    "stock_price = 19.99\n",
    "print(f'我是{name}，成立于：{setup_year}，今天的股价是：{stock_price}')"
   ]
  },
  {
   "cell_type": "markdown",
   "id": "d061214f",
   "metadata": {},
   "source": [
    "##### 表达式的格式化\n",
    "\n",
    "- 表达式：一条具有明确执行结果的代码语句。\n",
    "    - 比如，1 + 1、5 * 2.\n",
    "    - 比如，name = '张三'，age = 11 + 11。"
   ]
  },
  {
   "cell_type": "code",
   "execution_count": 5,
   "id": "d86b30d2",
   "metadata": {},
   "outputs": [
    {
     "name": "stdout",
     "output_type": "stream",
     "text": [
      "1 * 1的结果是：1\n",
      "1 * 1的结果是：1\n",
      "字符串在Python中的类型是：<class 'str'>\n"
     ]
    }
   ],
   "source": [
    "print('1 * 1的结果是：%d' % (1 * 1))\n",
    "print(f'1 * 1的结果是：{1 * 1}')\n",
    "print('字符串在Python中的类型是：%s' % type('字符串'))"
   ]
  },
  {
   "cell_type": "markdown",
   "id": "00aede42",
   "metadata": {},
   "source": [
    "##### print输出不换行的方法"
   ]
  },
  {
   "cell_type": "markdown",
   "id": "a3bb13f4",
   "metadata": {},
   "source": [
    "- 在print语句中，加上end=''即可输出不换行。"
   ]
  },
  {
   "cell_type": "code",
   "execution_count": 3,
   "id": "5d627a18",
   "metadata": {},
   "outputs": [
    {
     "name": "stdout",
     "output_type": "stream",
     "text": [
      "HelloWorld"
     ]
    }
   ],
   "source": [
    "print('Hello', end='')\n",
    "print('World', end='')"
   ]
  },
  {
   "cell_type": "markdown",
   "id": "2cdc18ca",
   "metadata": {},
   "source": [
    "##### 练习题"
   ]
  },
  {
   "cell_type": "code",
   "execution_count": 7,
   "id": "c10ce436",
   "metadata": {},
   "outputs": [
    {
     "name": "stdout",
     "output_type": "stream",
     "text": [
      "公司：传智播客，股票代码：003032，当前股价：19.99\n",
      "每日增长系数：1.2，经过7天的增长后，股价达到了：71.63\n"
     ]
    }
   ],
   "source": [
    "# 定义需要的变量\n",
    "name = '传智播客'\n",
    "stock_price = 19.99\n",
    "stock_code = '003032'\n",
    "# 股票 价格 每日 增长 因子\n",
    "stock_price_daily_growth_factor = 1.2\n",
    "growth_days = 7\n",
    "\n",
    "finally_stock_price = stock_price * stock_price_daily_growth_factor ** growth_days\n",
    "\n",
    "print(f'公司：{name}，股票代码：{stock_code}，当前股价：{stock_price}')\n",
    "print('每日增长系数：%.1f，经过%d天的增长后，股价达到了：%.2f' % (stock_price_daily_growth_factor, growth_days, finally_stock_price))"
   ]
  },
  {
   "cell_type": "markdown",
   "id": "ecb228f4",
   "metadata": {},
   "source": [
    "#### 数字的精度控制，使用辅助符号“m.n“来控制数据的宽度和精度。\n",
    "    - m，控制宽度，要求为数字（很少使用），设置的宽度小于数字自身，不生效。\n",
    "    - .n，控制小数点精度，要求为数字，进行小数的四舍五入。\n",
    "    - 例如，%5d：表示将整数的宽度控制在5位，如数字11，被设置为5d，就会变成：【空格】【空格】【空格】11，用三个空格补足宽度。\n",
    "    - %5.2f：表示将宽度控制为5，将小数点精度设置为2。小数点和小数部分也算入宽度计算。如对数字11.345设置了%7.2f之后，结果是：【空格】【空格】11.35。用2个空格补足宽度，小数部分限制2位精度后，四舍五入为.35。\n"
   ]
  },
  {
   "cell_type": "code",
   "execution_count": 3,
   "id": "7900f7ad",
   "metadata": {},
   "outputs": [
    {
     "name": "stdout",
     "output_type": "stream",
     "text": [
      "数字11，宽度为5，结果是：   11\n",
      "数字11，宽度为1，结果是：11\n",
      "数字11.345，宽度为7，小数精度为2，结果是：  11.35\n",
      "数字11.345，宽度不限制，小数精度为2，结果是：11.35\n"
     ]
    }
   ],
   "source": [
    "num1 = 11\n",
    "num2 = 11.345\n",
    "print('数字11，宽度为5，结果是：%5d' % num1)\n",
    "print('数字11，宽度为1，结果是：%1d' % num1) # 宽度比原数字小，因此不生效\n",
    "print('数字11.345，宽度为7，小数精度为2，结果是：%7.2f' % num2)\n",
    "print('数字11.345，宽度不限制，小数精度为2，结果是：%.2f' % num2)"
   ]
  },
  {
   "cell_type": "markdown",
   "id": "23d8d118",
   "metadata": {},
   "source": [
    "#### 类型转换\n",
    "\n",
    "- str（...）转换成字符串\n",
    "\n",
    "- int（...）转换成整数\n",
    "\n",
    "- float（...）转换成浮点数"
   ]
  },
  {
   "cell_type": "code",
   "execution_count": 23,
   "id": "6fac06c1",
   "metadata": {},
   "outputs": [
    {
     "data": {
      "text/plain": [
       "'100'"
      ]
     },
     "execution_count": 23,
     "metadata": {},
     "output_type": "execute_result"
    }
   ],
   "source": [
    "str(100)"
   ]
  },
  {
   "cell_type": "code",
   "execution_count": 24,
   "id": "6a1cf27f",
   "metadata": {},
   "outputs": [
    {
     "data": {
      "text/plain": [
       "100"
      ]
     },
     "execution_count": 24,
     "metadata": {},
     "output_type": "execute_result"
    }
   ],
   "source": [
    "int('100')"
   ]
  },
  {
   "cell_type": "code",
   "execution_count": 25,
   "id": "0542f0ba",
   "metadata": {},
   "outputs": [
    {
     "data": {
      "text/plain": [
       "100.0"
      ]
     },
     "execution_count": 25,
     "metadata": {},
     "output_type": "execute_result"
    }
   ],
   "source": [
    "float(100)"
   ]
  },
  {
   "cell_type": "markdown",
   "id": "910c9a4f",
   "metadata": {},
   "source": [
    "#### 字符串运算方法\n",
    "\n",
    "- str1 + str2 + str3 +。。。：`+`拼接任意多个字符串\n",
    "\n",
    "- str * number：`*`重复字符串任意次\n",
    "\n",
    "- len(str)：计算字符串长度\n",
    "\n",
    "- 通过索引获取特定字符：`[]`\n",
    "\n",
    "- 通过索引获取一段字符：`[:]\n",
    "\n",
    "- in：包含\n",
    "\n",
    "- not in：不包含"
   ]
  },
  {
   "cell_type": "code",
   "execution_count": 26,
   "id": "ee6b6a3e",
   "metadata": {},
   "outputs": [
    {
     "data": {
      "text/plain": [
       "'Python'"
      ]
     },
     "execution_count": 26,
     "metadata": {},
     "output_type": "execute_result"
    }
   ],
   "source": [
    "'Pyth' + 'on'"
   ]
  },
  {
   "cell_type": "code",
   "execution_count": 27,
   "id": "bafd1752",
   "metadata": {},
   "outputs": [
    {
     "data": {
      "text/plain": [
       "'ATCGATCGATCGATCGATCGATCGATCGATCGATCGATCG'"
      ]
     },
     "execution_count": 27,
     "metadata": {},
     "output_type": "execute_result"
    }
   ],
   "source": [
    "'ATCG' * 10"
   ]
  },
  {
   "cell_type": "code",
   "execution_count": 17,
   "id": "ed96865e",
   "metadata": {},
   "outputs": [
    {
     "data": {
      "text/plain": [
       "36"
      ]
     },
     "execution_count": 17,
     "metadata": {},
     "output_type": "execute_result"
    }
   ],
   "source": [
    "len(keyword.kwlist)"
   ]
  },
  {
   "cell_type": "code",
   "execution_count": 28,
   "id": "eefc326f",
   "metadata": {},
   "outputs": [
    {
     "data": {
      "text/plain": [
       "True"
      ]
     },
     "execution_count": 28,
     "metadata": {},
     "output_type": "execute_result"
    }
   ],
   "source": [
    "'a' in 'abc'"
   ]
  },
  {
   "cell_type": "code",
   "execution_count": 29,
   "id": "0785eb3b",
   "metadata": {},
   "outputs": [
    {
     "data": {
      "text/plain": [
       "False"
      ]
     },
     "execution_count": 29,
     "metadata": {},
     "output_type": "execute_result"
    }
   ],
   "source": [
    "'ac' in 'abc' #因为ac没连载一起，所以False"
   ]
  },
  {
   "cell_type": "markdown",
   "id": "10cfb5c8",
   "metadata": {},
   "source": [
    "#### 字符串切片和索引\n",
    "\n",
    "- 字符串切片和索引：截取任意位置的字符\n",
    "\n",
    "- Python索引从0开始，即第一个元素的位置为0\n",
    "\n",
    "- 语法：\n",
    "    - 字符串[索引]：单个元素\n",
    "    - 字符串[起始值:结束值:步长N]：多个元素（N大于0时，表示从左到右间隔N-1个元素取值；N为-1时，从右到左取值，逆序输出。）"
   ]
  },
  {
   "cell_type": "code",
   "execution_count": 30,
   "id": "1ee22235",
   "metadata": {},
   "outputs": [],
   "source": [
    "a = 'abcdef'"
   ]
  },
  {
   "cell_type": "markdown",
   "id": "7ddcfa89",
   "metadata": {},
   "source": [
    "- 取单个元素"
   ]
  },
  {
   "cell_type": "code",
   "execution_count": 31,
   "id": "7b212b42",
   "metadata": {},
   "outputs": [
    {
     "data": {
      "text/plain": [
       "'a'"
      ]
     },
     "execution_count": 31,
     "metadata": {},
     "output_type": "execute_result"
    }
   ],
   "source": [
    "a[0]"
   ]
  },
  {
   "cell_type": "markdown",
   "id": "01e337c9",
   "metadata": {},
   "source": [
    "- 取倒数第一个元素"
   ]
  },
  {
   "cell_type": "code",
   "execution_count": 32,
   "id": "00980aa0",
   "metadata": {},
   "outputs": [
    {
     "data": {
      "text/plain": [
       "'f'"
      ]
     },
     "execution_count": 32,
     "metadata": {},
     "output_type": "execute_result"
    }
   ],
   "source": [
    "a[-1]"
   ]
  },
  {
   "cell_type": "markdown",
   "id": "37144413",
   "metadata": {},
   "source": [
    "- 取多个元素：取到结束值前一位元素"
   ]
  },
  {
   "cell_type": "code",
   "execution_count": 33,
   "id": "374a281f",
   "metadata": {},
   "outputs": [
    {
     "data": {
      "text/plain": [
       "'abcde'"
      ]
     },
     "execution_count": 33,
     "metadata": {},
     "output_type": "execute_result"
    }
   ],
   "source": [
    "a[0:5]"
   ]
  },
  {
   "cell_type": "markdown",
   "id": "3a173399",
   "metadata": {},
   "source": [
    "- 取倒数第二个到末尾的元素"
   ]
  },
  {
   "cell_type": "code",
   "execution_count": 35,
   "id": "cf092a75",
   "metadata": {},
   "outputs": [
    {
     "data": {
      "text/plain": [
       "'def'"
      ]
     },
     "execution_count": 35,
     "metadata": {},
     "output_type": "execute_result"
    }
   ],
   "source": [
    "a[-3:]"
   ]
  },
  {
   "cell_type": "markdown",
   "id": "3c62f8d8",
   "metadata": {},
   "source": [
    "- 取完整序列"
   ]
  },
  {
   "cell_type": "code",
   "execution_count": 34,
   "id": "dd52b475",
   "metadata": {},
   "outputs": [
    {
     "data": {
      "text/plain": [
       "'abcdef'"
      ]
     },
     "execution_count": 34,
     "metadata": {},
     "output_type": "execute_result"
    }
   ],
   "source": [
    "a[::]"
   ]
  },
  {
   "cell_type": "markdown",
   "id": "dbae7296",
   "metadata": {},
   "source": [
    "- 步长为2，从左到右间隔一个元素取值"
   ]
  },
  {
   "cell_type": "code",
   "execution_count": 36,
   "id": "ea2fe6a2",
   "metadata": {},
   "outputs": [
    {
     "data": {
      "text/plain": [
       "'ace'"
      ]
     },
     "execution_count": 36,
     "metadata": {},
     "output_type": "execute_result"
    }
   ],
   "source": [
    "a[::2]"
   ]
  },
  {
   "cell_type": "markdown",
   "id": "3f8c9374",
   "metadata": {},
   "source": [
    "- 步长为-1，从最右向左取值，逆序输出"
   ]
  },
  {
   "cell_type": "code",
   "execution_count": 37,
   "id": "2d1285f1",
   "metadata": {},
   "outputs": [
    {
     "data": {
      "text/plain": [
       "'fedcba'"
      ]
     },
     "execution_count": 37,
     "metadata": {},
     "output_type": "execute_result"
    }
   ],
   "source": [
    "a[::-1]"
   ]
  },
  {
   "cell_type": "markdown",
   "id": "7e742db3",
   "metadata": {},
   "source": [
    "#### 字符串的方法\n",
    "\n",
    "- 字符串.方法名（...）\n",
    "\n",
    "- 常用方法：\n",
    "    - Str.upper( )：全部大写\n",
    "    - Str.lower( )：全部小写\n",
    "    - Str.count(char)：统计char出现的次数\n",
    "    - Str.startswith(char)：判断以char开始，返回True or False\n",
    "    - Str.endswith(char)：判断以char结束，返回True or False\n",
    "    - Str.strip(char)：删除字符串中的所有char字符\n",
    "    - Str.rstrip(char)：删除字符串中的右边char字符\n",
    "    - Str.split(char)：将char作为分割符，默认为空格（任意多个空格、制表符、换行符），返回分割的字符串列表）"
   ]
  },
  {
   "cell_type": "code",
   "execution_count": 38,
   "id": "88b9af9c",
   "metadata": {},
   "outputs": [],
   "source": [
    "a = 'atcg'"
   ]
  },
  {
   "cell_type": "markdown",
   "id": "81d33c03",
   "metadata": {},
   "source": [
    "- 全部大写"
   ]
  },
  {
   "cell_type": "code",
   "execution_count": 39,
   "id": "46e90731",
   "metadata": {},
   "outputs": [
    {
     "data": {
      "text/plain": [
       "'ATCG'"
      ]
     },
     "execution_count": 39,
     "metadata": {},
     "output_type": "execute_result"
    }
   ],
   "source": [
    "a.upper()"
   ]
  },
  {
   "cell_type": "markdown",
   "id": "265c25ea",
   "metadata": {},
   "source": [
    "- 统计a出现的次数"
   ]
  },
  {
   "cell_type": "code",
   "execution_count": 40,
   "id": "361cb515",
   "metadata": {},
   "outputs": [
    {
     "data": {
      "text/plain": [
       "1"
      ]
     },
     "execution_count": 40,
     "metadata": {},
     "output_type": "execute_result"
    }
   ],
   "source": [
    "a.count('a')"
   ]
  },
  {
   "cell_type": "markdown",
   "id": "f964ceab",
   "metadata": {},
   "source": [
    "- 删除末尾的空格"
   ]
  },
  {
   "cell_type": "code",
   "execution_count": 41,
   "id": "ec5a014a",
   "metadata": {},
   "outputs": [
    {
     "data": {
      "text/plain": [
       "'gggggggggaaaaaa'"
      ]
     },
     "execution_count": 41,
     "metadata": {},
     "output_type": "execute_result"
    }
   ],
   "source": [
    "'gggggggggaaaaaa     '.rstrip()"
   ]
  },
  {
   "cell_type": "markdown",
   "id": "311d4092",
   "metadata": {},
   "source": [
    "- 删除两端的a"
   ]
  },
  {
   "cell_type": "code",
   "execution_count": 42,
   "id": "85780692",
   "metadata": {},
   "outputs": [
    {
     "data": {
      "text/plain": [
       "'gggggggg'"
      ]
     },
     "execution_count": 42,
     "metadata": {},
     "output_type": "execute_result"
    }
   ],
   "source": [
    "'aaaaaggggggggaaaaaa'.strip('a')"
   ]
  },
  {
   "cell_type": "markdown",
   "id": "0f0d77dc",
   "metadata": {},
   "source": [
    "- 分割（`\\n`为换行符）"
   ]
  },
  {
   "cell_type": "code",
   "execution_count": 43,
   "id": "2f216cab",
   "metadata": {},
   "outputs": [
    {
     "data": {
      "text/plain": [
       "['>HBA1', 'atttgcgggg', '>HBA2', 'aaaaaaaaaa']"
      ]
     },
     "execution_count": 43,
     "metadata": {},
     "output_type": "execute_result"
    }
   ],
   "source": [
    "'>HBA1\\natttgcgggg\\n>HBA2\\naaaaaaaaaa'.split('\\n')"
   ]
  },
  {
   "cell_type": "markdown",
   "id": "4d7c6a61",
   "metadata": {},
   "source": [
    "## 数据结构\n",
    "\n",
    "### 列表（list）\n",
    "\n",
    "- list是一种有序的**集合**，可以随时添加和删除其中的元素\n",
    "\n",
    "- **列表索引**与字符串类似\n",
    "\n",
    "- 列表常用方法：\n",
    "    - list.append（字符串、数值、布尔值）：追加元素\n",
    "    - list.pop(index)：去除索引位置的值，列表更新\n",
    "    - list.pop()：去除最后一个元素\n",
    "    - len(list)：长度\n",
    "    - max(list)：最大\n",
    "    - min(list)：最小\n",
    "    - list(seq)：元组转列表\n",
    "    - list.count(obj)：数数\n",
    "    - list.extend(seq)：增加元组中的元素\n",
    "    - list.remove(obj)：去除元素\n",
    "    - list.reverse()：反转\n",
    "    - list.sort()：排序\n",
    "    - list.index()：查找"
   ]
  },
  {
   "cell_type": "code",
   "execution_count": 55,
   "id": "732bf8bc",
   "metadata": {},
   "outputs": [],
   "source": [
    "gene = ['HBA1','HBA2']"
   ]
  },
  {
   "cell_type": "markdown",
   "id": "5dcfcbf9",
   "metadata": {},
   "source": [
    "- 取最后一个值"
   ]
  },
  {
   "cell_type": "code",
   "execution_count": 48,
   "id": "2728c66d",
   "metadata": {},
   "outputs": [
    {
     "data": {
      "text/plain": [
       "'HBA2'"
      ]
     },
     "execution_count": 48,
     "metadata": {},
     "output_type": "execute_result"
    }
   ],
   "source": [
    "gene[-1]"
   ]
  },
  {
   "cell_type": "markdown",
   "id": "ee1c76e8",
   "metadata": {},
   "source": [
    "- 将第一个元素重新赋值"
   ]
  },
  {
   "cell_type": "code",
   "execution_count": 49,
   "id": "cbf36c11",
   "metadata": {},
   "outputs": [],
   "source": [
    "gene[0] = 'CYP3A4'"
   ]
  },
  {
   "cell_type": "markdown",
   "id": "fad243e6",
   "metadata": {},
   "source": [
    "- 查看新的列表"
   ]
  },
  {
   "cell_type": "code",
   "execution_count": 50,
   "id": "c3e7abde",
   "metadata": {},
   "outputs": [
    {
     "data": {
      "text/plain": [
       "['CYP3A4', 'HBA2']"
      ]
     },
     "execution_count": 50,
     "metadata": {},
     "output_type": "execute_result"
    }
   ],
   "source": [
    "gene"
   ]
  },
  {
   "cell_type": "markdown",
   "id": "d48ed5ac",
   "metadata": {},
   "source": [
    "- 追加TP56"
   ]
  },
  {
   "cell_type": "code",
   "execution_count": 51,
   "id": "9ae7422c",
   "metadata": {},
   "outputs": [],
   "source": [
    "gene.append('TP56')"
   ]
  },
  {
   "cell_type": "code",
   "execution_count": 52,
   "id": "14cfe93f",
   "metadata": {},
   "outputs": [
    {
     "data": {
      "text/plain": [
       "['CYP3A4', 'HBA2', 'TP56']"
      ]
     },
     "execution_count": 52,
     "metadata": {},
     "output_type": "execute_result"
    }
   ],
   "source": [
    "gene"
   ]
  },
  {
   "cell_type": "markdown",
   "id": "fb235f00",
   "metadata": {},
   "source": [
    "- 去除第一个元素"
   ]
  },
  {
   "cell_type": "code",
   "execution_count": 53,
   "id": "acc99af8",
   "metadata": {},
   "outputs": [
    {
     "data": {
      "text/plain": [
       "'CYP3A4'"
      ]
     },
     "execution_count": 53,
     "metadata": {},
     "output_type": "execute_result"
    }
   ],
   "source": [
    "gene.pop(0)"
   ]
  },
  {
   "cell_type": "code",
   "execution_count": 54,
   "id": "acfab3de",
   "metadata": {},
   "outputs": [
    {
     "data": {
      "text/plain": [
       "['HBA2', 'TP56']"
      ]
     },
     "execution_count": 54,
     "metadata": {},
     "output_type": "execute_result"
    }
   ],
   "source": [
    "gene"
   ]
  },
  {
   "cell_type": "markdown",
   "id": "23f4a65e",
   "metadata": {},
   "source": [
    "### 元组（tuple）\n",
    "\n",
    "- 元组与列表类似，不同点在于：\n",
    "    - 元组的元素不能修改。\n",
    "    - 元组使用圆括号，列表使用方括号。\n",
    "    - 元组创建很简单，只需要在括号中添加元素，并使用逗号隔开即可。\n",
    "        - teacherName = (\"Suan\",\"Larry\",\"Robin\")\n",
    "        - teacherName[0]\n",
    "        - teacherName[-1]\n",
    "        - teacherName[1]= \"wrong\""
   ]
  },
  {
   "cell_type": "code",
   "execution_count": 56,
   "id": "5134a971",
   "metadata": {},
   "outputs": [],
   "source": [
    "a = (1,2,3)"
   ]
  },
  {
   "cell_type": "code",
   "execution_count": 57,
   "id": "27c93702",
   "metadata": {},
   "outputs": [
    {
     "data": {
      "text/plain": [
       "tuple"
      ]
     },
     "execution_count": 57,
     "metadata": {},
     "output_type": "execute_result"
    }
   ],
   "source": [
    "type(a)"
   ]
  },
  {
   "cell_type": "code",
   "execution_count": 58,
   "id": "a7086db2",
   "metadata": {},
   "outputs": [
    {
     "data": {
      "text/plain": [
       "1"
      ]
     },
     "execution_count": 58,
     "metadata": {},
     "output_type": "execute_result"
    }
   ],
   "source": [
    "a[0]"
   ]
  },
  {
   "cell_type": "code",
   "execution_count": 59,
   "id": "9a755387",
   "metadata": {},
   "outputs": [
    {
     "ename": "TypeError",
     "evalue": "'tuple' object does not support item assignment",
     "output_type": "error",
     "traceback": [
      "\u001b[0;31m---------------------------------------------------------------------------\u001b[0m",
      "\u001b[0;31mTypeError\u001b[0m                                 Traceback (most recent call last)",
      "\u001b[0;32m/var/folders/14/pj985hh56sl5pj_j6y0ldsk00000gn/T/ipykernel_3731/4200666372.py\u001b[0m in \u001b[0;36m<module>\u001b[0;34m\u001b[0m\n\u001b[0;32m----> 1\u001b[0;31m \u001b[0ma\u001b[0m\u001b[0;34m[\u001b[0m\u001b[0;36m0\u001b[0m\u001b[0;34m]\u001b[0m \u001b[0;34m=\u001b[0m \u001b[0;34m'he'\u001b[0m\u001b[0;34m\u001b[0m\u001b[0;34m\u001b[0m\u001b[0m\n\u001b[0m",
      "\u001b[0;31mTypeError\u001b[0m: 'tuple' object does not support item assignment"
     ]
    }
   ],
   "source": [
    "a[0] = 'he'"
   ]
  },
  {
   "cell_type": "markdown",
   "id": "b350d13f",
   "metadata": {},
   "source": [
    "- 这说明元组不支持赋值。"
   ]
  },
  {
   "cell_type": "markdown",
   "id": "309612eb",
   "metadata": {},
   "source": [
    "- 以上案例表面：元组适用于字符串的格式化，以及为了数据安全而不方便修改的内容。"
   ]
  },
  {
   "cell_type": "markdown",
   "id": "c160ea27",
   "metadata": {},
   "source": [
    "### 集合（set）\n",
    "\n",
    "- 集合是一个包含**无序不重复**元素的序列。\n",
    "\n",
    "- 基本功能：**删除重复元素**。\n",
    "\n",
    "- 创建：{ }或者set( )。"
   ]
  },
  {
   "cell_type": "code",
   "execution_count": 60,
   "id": "81d228b6",
   "metadata": {},
   "outputs": [
    {
     "data": {
      "text/plain": [
       "{1, 2, 3, 4, 5}"
      ]
     },
     "execution_count": 60,
     "metadata": {},
     "output_type": "execute_result"
    }
   ],
   "source": [
    "s = {} #创建空集合\n",
    "s1 = set([1,1,1,2,3,3,4,5])\n",
    "s1"
   ]
  },
  {
   "cell_type": "markdown",
   "id": "b59f9e41",
   "metadata": {},
   "source": [
    "### 字典（dict）\n",
    "\n",
    "- 字典的每个键值（key=>value）对，用冒号`:`分割，每个对之间，用逗号`,`分割，整个字典包括在花括号`{ }`中，格式如下所示：d = {key1:value1,key2:value2}。\n",
    "\n",
    "- 键必须是唯一的，但值则不必。"
   ]
  },
  {
   "cell_type": "markdown",
   "id": "d30dc1c7",
   "metadata": {},
   "source": [
    "- 创建一个字典"
   ]
  },
  {
   "cell_type": "code",
   "execution_count": 61,
   "id": "4d4a61b1",
   "metadata": {},
   "outputs": [
    {
     "data": {
      "text/plain": [
       "{'gene1': 'AAAAAAA', 'gene2': 'CCCCCCCCC'}"
      ]
     },
     "execution_count": 61,
     "metadata": {},
     "output_type": "execute_result"
    }
   ],
   "source": [
    "fasta = {'gene1':'AAAAAAA','gene2':'CCCCCCCCC'}\n",
    "fasta"
   ]
  },
  {
   "cell_type": "markdown",
   "id": "bd81f8df",
   "metadata": {},
   "source": [
    "- 通过键名gene1取出对应的序列"
   ]
  },
  {
   "cell_type": "code",
   "execution_count": 62,
   "id": "856d6c37",
   "metadata": {},
   "outputs": [
    {
     "data": {
      "text/plain": [
       "'AAAAAAA'"
      ]
     },
     "execution_count": 62,
     "metadata": {},
     "output_type": "execute_result"
    }
   ],
   "source": [
    "fasta['gene1']"
   ]
  },
  {
   "cell_type": "markdown",
   "id": "ff13466c",
   "metadata": {},
   "source": [
    "- 添加新的键值对"
   ]
  },
  {
   "cell_type": "code",
   "execution_count": 63,
   "id": "561054c3",
   "metadata": {},
   "outputs": [
    {
     "name": "stdout",
     "output_type": "stream",
     "text": [
      "{'gene1': 'AAAAAAA', 'gene2': 'CCCCCCCCC', 'gene3': 'GGGGGGGGGG'}\n"
     ]
    }
   ],
   "source": [
    "fasta['gene3'] = 'GGGGGGGGGG'\n",
    "print(fasta)"
   ]
  },
  {
   "cell_type": "markdown",
   "id": "81e6110d",
   "metadata": {},
   "source": [
    "- 循环取出所有键值对"
   ]
  },
  {
   "cell_type": "code",
   "execution_count": 64,
   "id": "384b016e",
   "metadata": {},
   "outputs": [
    {
     "name": "stdout",
     "output_type": "stream",
     "text": [
      "gene1====>AAAAAAA\n",
      "gene2====>CCCCCCCCC\n",
      "gene3====>GGGGGGGGGG\n"
     ]
    }
   ],
   "source": [
    "for key in fasta:\n",
    "    value = fasta[key]\n",
    "    print(key+'====>'+value)"
   ]
  },
  {
   "cell_type": "markdown",
   "id": "4acb0ac6",
   "metadata": {},
   "source": [
    "## 判断与循环"
   ]
  },
  {
   "cell_type": "markdown",
   "id": "1c3899f6",
   "metadata": {},
   "source": [
    "### 布尔类型和比较运算符\n",
    "\n",
    "- 布尔表达现实生活中的逻辑，即真和假。\n",
    "    - True表示真，本质上是数字1。\n",
    "    - False表示假，本质上是数字0。\n",
    "    \n",
    "- 定义变量存储布尔类型数据：`变量名称 = 布尔类型字面量`\n",
    "\n",
    "- 比较运算符：\n",
    "    - `==`：判断内容**是否相等**，满足为True，不满足为False。\n",
    "    - `!=`：判断内容**是否不相等**，满足为True，不满足为False。\n",
    "    - `>`：判断运算符左侧内容**是否大于**右侧，满足为True，不满足为False。\n",
    "    - `<`：判断运算符左侧内容**是否小于**右侧，满足为True，不满足为False。\n",
    "    - `>=`：判断运算符左侧内容**是否大于等于**右侧，满足为True，不满足为False。\n",
    "    - `<=`：判断运算符左侧内容**是否小于等于**右侧，满足为True，不满足为False。"
   ]
  },
  {
   "cell_type": "code",
   "execution_count": 10,
   "id": "34546f6c",
   "metadata": {},
   "outputs": [
    {
     "name": "stdout",
     "output_type": "stream",
     "text": [
      "10 == 10的结果是：True\n",
      "10 != 15的结果是：True\n",
      "itcast == itheima的结果是：False\n"
     ]
    }
   ],
   "source": [
    "num1 = 10\n",
    "num2 = 10\n",
    "print(f'10 == 10的结果是：{num1 == num2}')\n",
    "\n",
    "num1 = 10\n",
    "num2 = 15\n",
    "print(f'10 != 15的结果是：{num1 != num2}')\n",
    "\n",
    "name1 = 'itcast'\n",
    "name2 = 'itheima'\n",
    "print(f'itcast == itheima的结果是：{name1 == name2}')"
   ]
  },
  {
   "cell_type": "markdown",
   "id": "957f5d11",
   "metadata": {},
   "source": [
    "### if语句的基本各式\n",
    "\n",
    "- 每个条件后要使用**冒号**（:），表示接下来是满足条件后要执行的语句块。\n",
    "\n",
    "- 使用缩进来划分语句块，相同缩进数的语句在一起组成一个语句块。\n",
    "\n",
    "    if 判断条件1:\n",
    "        执行语句1\n",
    "    elif 判断条件2：\n",
    "        执行语句2\n",
    "    else：\n",
    "        执行语句3"
   ]
  },
  {
   "cell_type": "markdown",
   "id": "000b231f",
   "metadata": {},
   "source": [
    "- 数值判断：\n",
    "    - larger --- >\n",
    "    - smaller --- <\n",
    "    - equal --- ==\n",
    "    - larger or equal --- >=\n",
    "    \n",
    "- 字符判断：\n",
    "    - ==：字符相等\n",
    "    - !=：字符不等\n",
    "    - in：包含\n",
    "    - not in：不包含"
   ]
  },
  {
   "cell_type": "code",
   "execution_count": 65,
   "id": "033e65c8",
   "metadata": {},
   "outputs": [
    {
     "name": "stdout",
     "output_type": "stream",
     "text": [
      "不及格\n"
     ]
    }
   ],
   "source": [
    "score = 38\n",
    "if score >= 90:\n",
    "    print('优秀')\n",
    "elif score >= 80:\n",
    "    print('良好')\n",
    "elif score >= 60:\n",
    "    print('及格')\n",
    "else:\n",
    "    print('不及格')"
   ]
  },
  {
   "cell_type": "code",
   "execution_count": 1,
   "id": "42599683",
   "metadata": {},
   "outputs": [
    {
     "name": "stdout",
     "output_type": "stream",
     "text": [
      "请输入你的年龄：20\n",
      "您已成年，需要买票10元。\n"
     ]
    }
   ],
   "source": [
    "age = int(input('请输入你的年龄：'))\n",
    "if age >= 18:\n",
    "    print('您已成年，需要买票10元。')\n",
    "else:\n",
    "    print('您未成年，可以免费游玩。')"
   ]
  },
  {
   "cell_type": "code",
   "execution_count": 3,
   "id": "bcd73207",
   "metadata": {},
   "outputs": [
    {
     "name": "stdout",
     "output_type": "stream",
     "text": [
      "请猜一个数字：1\n",
      "猜错了，请再猜一次：2\n",
      "猜错了，请再猜一次：3\n",
      "Sorry，你猜错了\n"
     ]
    }
   ],
   "source": [
    "# 定义一个变量数字\n",
    "num = 5\n",
    "# 键入猜想数字，通过多次if和elif的组合进行猜想比较\n",
    "if int(input('请猜一个数字：')) == num:\n",
    "    print('恭喜第一次就才对啦')\n",
    "elif int(input('猜错了，请再猜一次：')) == num:\n",
    "    print('猜对了')\n",
    "elif int(input('猜错了，请再猜一次：')) == num:\n",
    "    print('恭喜，最后一次机会，你猜对了')\n",
    "else:\n",
    "    print('Sorry，你猜错了')"
   ]
  },
  {
   "cell_type": "markdown",
   "id": "55e08140",
   "metadata": {},
   "source": [
    "- 判断语句的嵌套：许多逻辑的判断是嵌套的，多层次的。可以使用if、elif、else进行自由组合，完成特定需求。"
   ]
  },
  {
   "cell_type": "code",
   "execution_count": 5,
   "id": "b50c3762",
   "metadata": {},
   "outputs": [
    {
     "name": "stdout",
     "output_type": "stream",
     "text": [
      "你的身高是多少：130\n",
      "你的身高超出限制，不可以免费。\n",
      "但是，如果vip级别大于3，可以免费。\n",
      "你的vip级别是多少：5\n",
      "恭喜你，vip级别达标，可以免费。\n"
     ]
    }
   ],
   "source": [
    "if int(input('你的身高是多少：')) > 120:\n",
    "    print('你的身高超出限制，不可以免费。')\n",
    "    print('但是，如果vip级别大于3，可以免费。')\n",
    "    \n",
    "    if int(input('你的vip级别是多少：')) > 3:\n",
    "        print('恭喜你，vip级别达标，可以免费。')\n",
    "    else:\n",
    "        print('Sorry，你需要买票10元。')\n",
    "else:\n",
    "    print('欢迎小朋友，免费游玩。')"
   ]
  },
  {
   "cell_type": "code",
   "execution_count": 6,
   "id": "c526a0f0",
   "metadata": {},
   "outputs": [
    {
     "name": "stdout",
     "output_type": "stream",
     "text": [
      "你是成年人。\n",
      "你的年龄达标了。\n",
      "恭喜你，年龄和入职时间都达标，可以领取礼物。\n"
     ]
    }
   ],
   "source": [
    "age = 20\n",
    "year = 3\n",
    "level = 1\n",
    "if age >= 18:\n",
    "    print('你是成年人。')\n",
    "    if age < 30:\n",
    "        print('你的年龄达标了。')\n",
    "        if year > 2:\n",
    "            print('恭喜你，年龄和入职时间都达标，可以领取礼物。')\n",
    "        elif level > 3:\n",
    "            print('恭喜你，年龄和级别都达标，可以领取礼物。')\n",
    "        else:\n",
    "            print('不好意思，尽管年龄达标，但是入职时间和级别都不达标。')\n",
    "    else:\n",
    "        print('不好意思，年龄太大了。')\n",
    "else:\n",
    "    print('不好意思，小朋友不可以领取。')"
   ]
  },
  {
   "cell_type": "markdown",
   "id": "0b6f7213",
   "metadata": {},
   "source": [
    "### 循环（Loop）\n",
    "\n",
    "#### for循环\n",
    "\n",
    "- for循环可以遍历所有序列的基本类型，如字符串、列表、字典等。\n",
    "\n",
    "- for循环的一般格式：\n",
    "    - `for` item `in` iterable:\n",
    "            do something\n",
    "            \n",
    "    - item为变量名，iterable为可迭代的或像列表的集合形态的对象，比如range。\n",
    "                \n",
    "\n",
    "- range语句，可获得一个简单的数字序列，可用于for循环中遍历数字序列。\n",
    "    - 语法1：range(num)，获取一个从0开始，到num结束的数字序列（不含num本身）。如range(5)取得的数据是：[0, 1, 2, 3, 4]\n",
    "    - 语法2：range(num1, num2)，获得从num1开始，到num2结束的数字序列（不含num2本身）。如，range(5,10)取得的数据是：[5,6,7,8,9]\n",
    "    - 语法3：range(num1, num2 ,step)，获得从num1开始，到num2结束的数字序列（不含num2本身），step为数字之间的步长，默认为1。如，range(5,10,2)得出[5,7,9]"
   ]
  },
  {
   "cell_type": "markdown",
   "id": "cab01363",
   "metadata": {},
   "source": [
    "- 统计下列字符串中有多少个字母a"
   ]
  },
  {
   "cell_type": "code",
   "execution_count": 7,
   "id": "317539e3",
   "metadata": {},
   "outputs": [
    {
     "name": "stdout",
     "output_type": "stream",
     "text": [
      "被统计的字符串中有4个a\n"
     ]
    }
   ],
   "source": [
    "name = 'itheima is a brand of itcast'\n",
    "# 定义一个变量来统计a的个数\n",
    "count = 0\n",
    "# for 循环统计\n",
    "# for 临时变量 in 被统计的数据：\n",
    "for X in name:\n",
    "    if X == 'a':\n",
    "        count += 1\n",
    "print(f'被统计的字符串中有{count}个a')"
   ]
  },
  {
   "cell_type": "markdown",
   "id": "2aa024b1",
   "metadata": {},
   "source": [
    "- 计算100以内的和\n",
    "    - 赋初始化值"
   ]
  },
  {
   "cell_type": "code",
   "execution_count": 10,
   "id": "a80dcea1",
   "metadata": {
    "scrolled": true
   },
   "outputs": [
    {
     "name": "stdout",
     "output_type": "stream",
     "text": [
      "5050\n"
     ]
    }
   ],
   "source": [
    "# range函数生成1到100的序列，循环一次将值累加到number。\n",
    "number = 0\n",
    "for i in range(1,101):\n",
    "    number = number + i\n",
    "print(number)"
   ]
  },
  {
   "cell_type": "markdown",
   "id": "d7ba3333",
   "metadata": {},
   "source": [
    "- 案例：有几个偶数"
   ]
  },
  {
   "cell_type": "code",
   "execution_count": 17,
   "id": "b8a8f21e",
   "metadata": {},
   "outputs": [
    {
     "name": "stdout",
     "output_type": "stream",
     "text": [
      "1到100范围内，有50个偶数。\n"
     ]
    }
   ],
   "source": [
    "num = 0\n",
    "count = 0\n",
    "for i in range(1,101):\n",
    "    num += i\n",
    "    if (num % 2) == 0:\n",
    "        count += 1\n",
    "print(f'1到100范围内，有{count}个偶数。')"
   ]
  },
  {
   "cell_type": "markdown",
   "id": "017547da",
   "metadata": {},
   "source": [
    "- for循环的嵌套应用（九九乘法表）"
   ]
  },
  {
   "cell_type": "code",
   "execution_count": 18,
   "id": "9b38e84b",
   "metadata": {},
   "outputs": [
    {
     "name": "stdout",
     "output_type": "stream",
     "text": [
      "1 * 1 = 1\t\n",
      "1 * 2 = 2\t2 * 2 = 4\t\n",
      "1 * 3 = 3\t2 * 3 = 6\t3 * 3 = 9\t\n",
      "1 * 4 = 4\t2 * 4 = 8\t3 * 4 = 12\t4 * 4 = 16\t\n",
      "1 * 5 = 5\t2 * 5 = 10\t3 * 5 = 15\t4 * 5 = 20\t5 * 5 = 25\t\n",
      "1 * 6 = 6\t2 * 6 = 12\t3 * 6 = 18\t4 * 6 = 24\t5 * 6 = 30\t6 * 6 = 36\t\n",
      "1 * 7 = 7\t2 * 7 = 14\t3 * 7 = 21\t4 * 7 = 28\t5 * 7 = 35\t6 * 7 = 42\t7 * 7 = 49\t\n",
      "1 * 8 = 8\t2 * 8 = 16\t3 * 8 = 24\t4 * 8 = 32\t5 * 8 = 40\t6 * 8 = 48\t7 * 8 = 56\t8 * 8 = 64\t\n",
      "1 * 9 = 9\t2 * 9 = 18\t3 * 9 = 27\t4 * 9 = 36\t5 * 9 = 45\t6 * 9 = 54\t7 * 9 = 63\t8 * 9 = 72\t9 * 9 = 81\t\n"
     ]
    }
   ],
   "source": [
    "# 通过外层循环控制行数\n",
    "for i in range(1,10):\n",
    "    # 通过内层循环控制每一列的数据\n",
    "    for j in range(1,i + 1):\n",
    "        # 在内层循环中每行输出的内容\n",
    "        print(f'{j} * {i} = {j * i}\\t', end='')\n",
    "    # 外层循环可以通过print内空格，输出一个换行\n",
    "    print()"
   ]
  },
  {
   "cell_type": "markdown",
   "id": "8e1e3fd2",
   "metadata": {},
   "source": [
    "#### while循环\n",
    "\n",
    "- 与for循环的相同点为：都能循环做一件重复的事情。\n",
    "\n",
    "- 与for循环的**不同点**为：for循环会在可迭代的序列被穷尽的时候停止，while循环则是在条件不成立的时候停止，因此while的作用概括成一句话就是：只要…条件成立，就一直做……。\n",
    "\n",
    "- while循环的一般格式：\n",
    "    - `while` condition:\n",
    "            do something\n",
    "        \n",
    "    - condition为成立条件。\n",
    "    \n",
    "- 因为在while后面的表达式是永远成立的，所以print会一直进行下去直至你的cpu过热。这种条件永远为True的循环，我们称之为死循环 (Infinite Loop)，在终端或者命令行中按Ctrl + C停止运行。\n",
    "\n",
    "- 控制while循环的两种方式：1、在循环过程中制造某种可以使循环停下来的条件；2、改变使循环成立的条件。"
   ]
  },
  {
   "cell_type": "code",
   "execution_count": 8,
   "id": "957b6cb6",
   "metadata": {
    "scrolled": true
   },
   "outputs": [
    {
     "name": "stdout",
     "output_type": "stream",
     "text": [
      "1到100累加的和是：5050\n"
     ]
    }
   ],
   "source": [
    "sum = 0\n",
    "i = 1\n",
    "while i <= 100:  #循环条件\n",
    "    sum += i\n",
    "    i += 1  #循环一次将计数加1，否则一直是形成死循环\n",
    "print(f'1到100累加的和是：{sum}')"
   ]
  },
  {
   "cell_type": "markdown",
   "id": "1708a167",
   "metadata": {},
   "source": [
    "- 案例：猜数字"
   ]
  },
  {
   "cell_type": "code",
   "execution_count": 2,
   "id": "9406e64f",
   "metadata": {},
   "outputs": [
    {
     "name": "stdout",
     "output_type": "stream",
     "text": [
      "请输入你猜测的数字：50\n",
      "你猜的小了。\n",
      "请输入你猜测的数字：75\n",
      "你猜的大了。\n",
      "请输入你猜测的数字：65\n",
      "你猜的小了。\n",
      "请输入你猜测的数字：70\n",
      "你猜的小了。\n",
      "请输入你猜测的数字：72\n",
      "你猜的大了。\n",
      "请输入你猜测的数字：71\n",
      "猜中了！\n",
      "你总共猜测了6次\n"
     ]
    }
   ],
   "source": [
    "# 获取1-100的随机数\n",
    "import random\n",
    "num = random.randint(1, 100)\n",
    "# 定义变量，记录猜测总次数\n",
    "count = 0\n",
    "\n",
    "# 通过布尔类型的变量，做循环是否继续的标记\n",
    "flag = True\n",
    "while flag:\n",
    "    guess_num = int(input('请输入你猜测的数字：'))\n",
    "    count += 1\n",
    "    if guess_num == num:\n",
    "        print('猜中了！')\n",
    "        # 设置False为终止循环条件\n",
    "        flag = False\n",
    "    else:\n",
    "        if guess_num > num:\n",
    "            print('你猜的大了。')\n",
    "        else:\n",
    "            print('你猜的小了。')\n",
    "print(f'你总共猜测了{count}次')"
   ]
  },
  {
   "cell_type": "markdown",
   "id": "aea44e98",
   "metadata": {},
   "source": [
    "- while循环的嵌套（九九乘法表）"
   ]
  },
  {
   "cell_type": "code",
   "execution_count": 6,
   "id": "5fd2e320",
   "metadata": {},
   "outputs": [
    {
     "name": "stdout",
     "output_type": "stream",
     "text": [
      "1 * 1 = 1\t\n",
      "1 * 2 = 2\t2 * 2 = 4\t\n",
      "1 * 3 = 3\t2 * 3 = 6\t3 * 3 = 9\t\n",
      "1 * 4 = 4\t2 * 4 = 8\t3 * 4 = 12\t4 * 4 = 16\t\n",
      "1 * 5 = 5\t2 * 5 = 10\t3 * 5 = 15\t4 * 5 = 20\t5 * 5 = 25\t\n",
      "1 * 6 = 6\t2 * 6 = 12\t3 * 6 = 18\t4 * 6 = 24\t5 * 6 = 30\t6 * 6 = 36\t\n",
      "1 * 7 = 7\t2 * 7 = 14\t3 * 7 = 21\t4 * 7 = 28\t5 * 7 = 35\t6 * 7 = 42\t7 * 7 = 49\t\n",
      "1 * 8 = 8\t2 * 8 = 16\t3 * 8 = 24\t4 * 8 = 32\t5 * 8 = 40\t6 * 8 = 48\t7 * 8 = 56\t8 * 8 = 64\t\n",
      "1 * 9 = 9\t2 * 9 = 18\t3 * 9 = 27\t4 * 9 = 36\t5 * 9 = 45\t6 * 9 = 54\t7 * 9 = 63\t8 * 9 = 72\t9 * 9 = 81\t\n"
     ]
    }
   ],
   "source": [
    "# 定义外层循环的控制变量\n",
    "i = 1\n",
    "while i <= 9:\n",
    "    # 定义内层循环的控制变量\n",
    "    j = 1\n",
    "    while j <= i:\n",
    "        # 内层循环的print语句，不要换行，通过\\t制表符进行对齐\n",
    "        print(f'{j} * {i} = {j * i}\\t', end='')\n",
    "        j += 1\n",
    "    i += 1\n",
    "    print() #print内空格，就是输出一个换行"
   ]
  },
  {
   "cell_type": "markdown",
   "id": "c2ba8a63",
   "metadata": {},
   "source": [
    "#### break循环\n",
    "\n",
    "- break：跳出后续所有循环\n",
    "\n",
    "- break跳出后续所有循环，打印1，2，3。"
   ]
  },
  {
   "cell_type": "code",
   "execution_count": 72,
   "id": "ba035cfe",
   "metadata": {},
   "outputs": [
    {
     "name": "stdout",
     "output_type": "stream",
     "text": [
      "1\n",
      "2\n",
      "3\n"
     ]
    }
   ],
   "source": [
    "for i in range(1,5):\n",
    "    print(i)\n",
    "    if i == 3:\n",
    "        break"
   ]
  },
  {
   "cell_type": "markdown",
   "id": "4ce98365",
   "metadata": {},
   "source": [
    "#### continue循环\n",
    "\n",
    "- continue：跳过当前循环\n",
    "\n",
    "- continue跳出当前循环执行下一循环，打印1，2，4。"
   ]
  },
  {
   "cell_type": "code",
   "execution_count": 73,
   "id": "de6f9070",
   "metadata": {},
   "outputs": [
    {
     "name": "stdout",
     "output_type": "stream",
     "text": [
      "1\n",
      "2\n",
      "4\n"
     ]
    }
   ],
   "source": [
    "for i in range(1,5):\n",
    "    if i == 3:\n",
    "        continue\n",
    "    print(i)"
   ]
  },
  {
   "cell_type": "markdown",
   "id": "9bc649de",
   "metadata": {},
   "source": [
    "- 案例：发工资\n",
    "\n",
    "- 某公司，帐户余额有10000元，给20个员工发工资。\n",
    "    - 员工编号从1到20，从编号1开始依次领取工资，每人领取1000元。\n",
    "    - 领工资时，财务判断员工的绩效分为1-10分，随机生成，如果低于5，不发工资，换下一位。\n",
    "    - 如果发完工资，则剩余员工将不再得到工资。\n",
    "    \n",
    "- 提示：\n",
    "    - 使用循环对员工依次发放工资。\n",
    "    - continue用于跳过员工，break直接结束发工资。\n",
    "    - 随机数可用：\n",
    "        - import random\n",
    "        - num = random.randint(num1,num2)"
   ]
  },
  {
   "cell_type": "code",
   "execution_count": 19,
   "id": "1f03830c",
   "metadata": {},
   "outputs": [
    {
     "name": "stdout",
     "output_type": "stream",
     "text": [
      "员工1，满足条件，发放1000元，公司账户余额为9000。\n",
      "员工2绩效分为1,不满足条件，不发工资，下一位。\n",
      "员工3绩效分为4,不满足条件，不发工资，下一位。\n",
      "员工4，满足条件，发放1000元，公司账户余额为8000。\n",
      "员工5绩效分为3,不满足条件，不发工资，下一位。\n",
      "员工6绩效分为1,不满足条件，不发工资，下一位。\n",
      "员工7绩效分为1,不满足条件，不发工资，下一位。\n",
      "员工8，满足条件，发放1000元，公司账户余额为7000。\n",
      "员工9绩效分为2,不满足条件，不发工资，下一位。\n",
      "员工10绩效分为4,不满足条件，不发工资，下一位。\n",
      "员工11，满足条件，发放1000元，公司账户余额为6000。\n",
      "员工12绩效分为4,不满足条件，不发工资，下一位。\n",
      "员工13绩效分为2,不满足条件，不发工资，下一位。\n",
      "员工14，满足条件，发放1000元，公司账户余额为5000。\n",
      "员工15，满足条件，发放1000元，公司账户余额为4000。\n",
      "员工16绩效分为4,不满足条件，不发工资，下一位。\n",
      "员工17，满足条件，发放1000元，公司账户余额为3000。\n",
      "员工18，满足条件，发放1000元，公司账户余额为2000。\n",
      "员工19绩效分为4,不满足条件，不发工资，下一位。\n",
      "员工20绩效分为2,不满足条件，不发工资，下一位。\n"
     ]
    }
   ],
   "source": [
    "# 定义账户余额变量\n",
    "money = 10000\n",
    "# for循环对员工发工资\n",
    "for i in range(1,21):\n",
    "    import random\n",
    "    score = random.randint(1,10)\n",
    "    \n",
    "    if score < 5:\n",
    "        print(f'员工{i}绩效分为{score},不满足条件，不发工资，下一位。')\n",
    "        # continue跳过发放\n",
    "        continue\n",
    "        \n",
    "    # 要判断余额情况\n",
    "    if money >= 1000:\n",
    "        money -= 1000\n",
    "        print(f'员工{i}，满足条件，发放1000元，公司账户余额为{money}。')\n",
    "    else:\n",
    "        print(f'余额补足，当前余额为{money}元，不够发工资，下个月再来。')\n",
    "        # break结束发放\n",
    "        break"
   ]
  },
  {
   "cell_type": "markdown",
   "id": "4af88b67",
   "metadata": {},
   "source": [
    "## 函数\n",
    "\n",
    "### 定义函数\n",
    "\n",
    "- `def` 函数名(参数1，参数2，……):\n",
    "            \n",
    "        return(函数结果)\n",
    "  \n",
    "  \n",
    "- 调用函数：\n",
    "    - 函数名(参数1，参数2，……)\n",
    "    \n",
    "- 需要注意的是：\n",
    "\n",
    "- def 和 return 是关键宇 (keyword)，Python 就是靠识别这些特定的关键字来明白用户的意图，实现更为复杂的编程。\n",
    "\n",
    "- **在闭合括号后面的冒号必不可少，而且非常值得注意的是你要使用英文输入法进行输入，否则就是错误的语法**。\n",
    "\n",
    "- 如果在 IDE 中冒号后面回车 (换行) 你会自动地得到一个缩进。**函数缩进后面的语句被称作是语句块 (block)，缩进是为了表明语句和逻辑的从属关系，是 Python 最显著的特征之一**。很多初学者会忽视缩进问题，导致代码无法成功运行，在这里需要特别注意。\n",
    "\n",
    "- 函数的使用步骤：\n",
    "    - 先定义函数。\n",
    "    - 后调用函数。\n",
    "    \n",
    "- 注意事项：\n",
    "    - 不需要参数时，可以省略。\n",
    "    - 不需要返回值时，可以省略。"
   ]
  },
  {
   "cell_type": "code",
   "execution_count": 20,
   "id": "d8499b4d",
   "metadata": {},
   "outputs": [
    {
     "name": "stdout",
     "output_type": "stream",
     "text": [
      "Hi，我是黑马程序员。\n",
      "学Python来黑马。\n"
     ]
    }
   ],
   "source": [
    "# 简单的函数调用\n",
    "\n",
    "# 定义一个函数，输出相关信息\n",
    "def say_hi():\n",
    "    print('Hi，我是黑马程序员。\\n学Python来黑马。')\n",
    "    \n",
    "# 调用函数，让函数开始工作\n",
    "say_hi()"
   ]
  },
  {
   "cell_type": "code",
   "execution_count": 21,
   "id": "ab25fe46",
   "metadata": {},
   "outputs": [
    {
     "name": "stdout",
     "output_type": "stream",
     "text": [
      "1 + 2的计算结果是：3。\n"
     ]
    }
   ],
   "source": [
    "# 定义两个数字相加的函数，通过参数接收被计算的2个数字\n",
    "def add(x,y):\n",
    "    result = x + y\n",
    "    print(f'{x} + {y}的计算结果是：{result}。')\n",
    "    \n",
    "# 调用函数，传入被统计的的2个数字\n",
    "add(1,2)"
   ]
  },
  {
   "cell_type": "markdown",
   "id": "42e6dc07",
   "metadata": {},
   "source": [
    "- 案例：把摄氏度转化为华氏度定义为函数fahrenheit_Converter( )，那么将输入进去的必然是摄氏度(Celsius)的数值，把C设为摄氏度参数，最后返回的是华氏度(fahrenheit)的数值，用下面的函数来表达："
   ]
  },
  {
   "cell_type": "code",
   "execution_count": 2,
   "id": "fbfd1d33",
   "metadata": {},
   "outputs": [],
   "source": [
    "def fahrenheit_converter(C):\n",
    "    fahrenheit = C * 9/5 + 32\n",
    "    return str(fahrenheit) + 'F'"
   ]
  },
  {
   "cell_type": "markdown",
   "id": "3ef50e10",
   "metadata": {},
   "source": [
    "- 注：计算的结果类型是float，不能与字符串“F”相合并，所以需要先用str( )函数进行转换。\n",
    "\n",
    "- 输入完以上代码后，函数定义完成，接下就开始使用它。这种使用函数的行为叫做“调用”(call)。也可以理解为：请求Python给去做一件事，如函数 len( )：“请Python测量这个(对象)的长度, 并将结果打印出来。”"
   ]
  },
  {
   "cell_type": "markdown",
   "id": "93920590",
   "metadata": {},
   "source": [
    "- 使用摄氏度转换器将35摄氏度转换成华氏度，将结果储存在名为C2F的变量并打印出来。"
   ]
  },
  {
   "cell_type": "code",
   "execution_count": 3,
   "id": "201f2ea4",
   "metadata": {},
   "outputs": [
    {
     "name": "stdout",
     "output_type": "stream",
     "text": [
      "95.0F\n"
     ]
    }
   ],
   "source": [
    "C2F = fahrenheit_converter(35)\n",
    "print(C2F)"
   ]
  },
  {
   "cell_type": "code",
   "execution_count": 74,
   "id": "cb3eeb50",
   "metadata": {},
   "outputs": [
    {
     "name": "stdout",
     "output_type": "stream",
     "text": [
      "(1, '<', 2)\n"
     ]
    }
   ],
   "source": [
    "def MaxofTwo(n1,n2):\n",
    "    if n1 > n2:\n",
    "        return(n1,'>',n2)\n",
    "    elif n1 < n2:\n",
    "        return(n1,'<',n2)\n",
    "    else:\n",
    "        return(n1,'=',n2)\n",
    "print(MaxofTwo(1,2))"
   ]
  },
  {
   "cell_type": "code",
   "execution_count": 75,
   "id": "9fe1039f",
   "metadata": {},
   "outputs": [
    {
     "name": "stdout",
     "output_type": "stream",
     "text": [
      "(0, '>', -1)\n"
     ]
    }
   ],
   "source": [
    "print(MaxofTwo(0,-1))"
   ]
  },
  {
   "cell_type": "code",
   "execution_count": 76,
   "id": "c1239f76",
   "metadata": {},
   "outputs": [
    {
     "name": "stdout",
     "output_type": "stream",
     "text": [
      "(1, '=', 1)\n"
     ]
    }
   ],
   "source": [
    "print(MaxofTwo(1,1))"
   ]
  },
  {
   "cell_type": "markdown",
   "id": "9215ebc0",
   "metadata": {},
   "source": [
    "### 传递参数与参数类型\n",
    "\n",
    "- 传递参数的方式有两种：\n",
    "\n",
    "    - 位置参数（positional argument）\n",
    "    \n",
    "    - 关键词参数（keyword argument）\n",
    "\n",
    "- 案例：从梯形的数学公式开始入手，首先还是创建函数。把函数的名称定为trapezoid_area，也就是梯形面积，设定参数为base_up(上底)，base_down(下底)，height(高)，每一个都用英文输入法的逗号隔开。梯形的面积需要知道这三个值才能求得，因此对于构造梯形面积函数来说，这三个参数缺一不可。"
   ]
  },
  {
   "cell_type": "code",
   "execution_count": 4,
   "id": "d51a1dd6",
   "metadata": {},
   "outputs": [],
   "source": [
    "def trapezoid_area(base_up, base_down, height):\n",
    "    return 1/2 * (base_up + base_down) * height"
   ]
  },
  {
   "cell_type": "markdown",
   "id": "94b942a5",
   "metadata": {},
   "source": [
    "- 接下来调用函数："
   ]
  },
  {
   "cell_type": "code",
   "execution_count": 5,
   "id": "f9098b87",
   "metadata": {},
   "outputs": [
    {
     "data": {
      "text/plain": [
       "4.5"
      ]
     },
     "execution_count": 5,
     "metadata": {},
     "output_type": "execute_result"
    }
   ],
   "source": [
    "trapezoid_area(1,2,3)"
   ]
  },
  {
   "cell_type": "markdown",
   "id": "baa46130",
   "metadata": {},
   "source": [
    "- 填入的参数1、2、3分别对应着参数base_up、base_down和height，这种传入参数的方式被称为**位置参数**。"
   ]
  },
  {
   "cell_type": "code",
   "execution_count": 6,
   "id": "0a1d5bb9",
   "metadata": {},
   "outputs": [
    {
     "data": {
      "text/plain": [
       "4.5"
      ]
     },
     "execution_count": 6,
     "metadata": {},
     "output_type": "execute_result"
    }
   ],
   "source": [
    "trapezoid_area(base_up=1, base_down=2, height=3)"
   ]
  },
  {
   "cell_type": "markdown",
   "id": "0c3550fe",
   "metadata": {},
   "source": [
    "- 在调用函数的时候，将每个参数名称后面赋予一个想要传入的值，这种以名称作为逐一对应的参数传入方式被称作是**关键词参数**。"
   ]
  },
  {
   "cell_type": "code",
   "execution_count": 8,
   "id": "ff905fc5",
   "metadata": {},
   "outputs": [
    {
     "data": {
      "text/plain": [
       "4.5"
      ]
     },
     "execution_count": 8,
     "metadata": {},
     "output_type": "execute_result"
    }
   ],
   "source": [
    "trapezoid_area(height=3, base_down=2, base_up=1)"
   ]
  },
  {
   "cell_type": "markdown",
   "id": "99262138",
   "metadata": {},
   "source": [
    "-  上述函数参数按照反序传入，因为是关键词参数，所以并不影响函数正常运作。"
   ]
  },
  {
   "cell_type": "code",
   "execution_count": 9,
   "id": "d904d35c",
   "metadata": {},
   "outputs": [
    {
     "ename": "SyntaxError",
     "evalue": "positional argument follows keyword argument (3173648520.py, line 1)",
     "output_type": "error",
     "traceback": [
      "\u001b[0;36m  File \u001b[0;32m\"/var/folders/14/pj985hh56sl5pj_j6y0ldsk00000gn/T/ipykernel_10591/3173648520.py\"\u001b[0;36m, line \u001b[0;32m1\u001b[0m\n\u001b[0;31m    trapezoid_area(height=3, base_down=2, 1)\u001b[0m\n\u001b[0m                                           ^\u001b[0m\n\u001b[0;31mSyntaxError\u001b[0m\u001b[0;31m:\u001b[0m positional argument follows keyword argument\n"
     ]
    }
   ],
   "source": [
    "trapezoid_area(height=3, base_down=2, 1)"
   ]
  },
  {
   "cell_type": "markdown",
   "id": "ab2d002f",
   "metadata": {},
   "source": [
    "- 上述函数参数反序传入，但是到了第三个却变成了位置参数，**遗憾的是这种方式是错误的语法**，因为如果按照位置来传入，最后一个应该是参数height的位置。但是前面height已经按照名称传入了值3，所以是冲突的。"
   ]
  },
  {
   "cell_type": "code",
   "execution_count": 10,
   "id": "18a75c3b",
   "metadata": {},
   "outputs": [
    {
     "ename": "SyntaxError",
     "evalue": "positional argument follows keyword argument (2213735002.py, line 1)",
     "output_type": "error",
     "traceback": [
      "\u001b[0;36m  File \u001b[0;32m\"/var/folders/14/pj985hh56sl5pj_j6y0ldsk00000gn/T/ipykernel_10591/2213735002.py\"\u001b[0;36m, line \u001b[0;32m1\u001b[0m\n\u001b[0;31m    trapezoid_area(base_up=1, base_down=2, 3)\u001b[0m\n\u001b[0m                                            ^\u001b[0m\n\u001b[0;31mSyntaxError\u001b[0m\u001b[0;31m:\u001b[0m positional argument follows keyword argument\n"
     ]
    }
   ],
   "source": [
    "trapezoid_area(base_up=1, base_down=2, 3)"
   ]
  },
  {
   "cell_type": "markdown",
   "id": "8d48672d",
   "metadata": {},
   "source": [
    "- 上述函数参数正序传入，前两个是以关键词的方式传入，最后一个以位置参数传入，但是**位置参数不能在关键词参数后面**，所以是错误的。"
   ]
  },
  {
   "cell_type": "code",
   "execution_count": 11,
   "id": "16416861",
   "metadata": {},
   "outputs": [
    {
     "data": {
      "text/plain": [
       "4.5"
      ]
     },
     "execution_count": 11,
     "metadata": {},
     "output_type": "execute_result"
    }
   ],
   "source": [
    "trapezoid_area(1, 2, height=3)"
   ]
  },
  {
   "cell_type": "markdown",
   "id": "538ad2e7",
   "metadata": {},
   "source": [
    "- 上述函数参数正序传入，前两个是以位置的方式传入，最后一个以关键词参数传入，这个函数是可以正常运行的。"
   ]
  },
  {
   "cell_type": "markdown",
   "id": "88217f7b",
   "metadata": {},
   "source": [
    "- 接下来是以上案例的变型："
   ]
  },
  {
   "cell_type": "code",
   "execution_count": 13,
   "id": "edb9cc51",
   "metadata": {},
   "outputs": [
    {
     "data": {
      "text/plain": [
       "2.5"
      ]
     },
     "execution_count": 13,
     "metadata": {},
     "output_type": "execute_result"
    }
   ],
   "source": [
    "base_up = 1\n",
    "base_down = 2\n",
    "height = 3\n",
    "trapezoid_area(height, base_down, base_up)"
   ]
  },
  {
   "cell_type": "markdown",
   "id": "57b35578",
   "metadata": {},
   "source": [
    "- 这里的base_up、base_down、height都是**变量**。函数调用可看作是："
   ]
  },
  {
   "cell_type": "code",
   "execution_count": 14,
   "id": "617484bf",
   "metadata": {},
   "outputs": [
    {
     "data": {
      "text/plain": [
       "2.5"
      ]
     },
     "execution_count": 14,
     "metadata": {},
     "output_type": "execute_result"
    }
   ],
   "source": [
    "trapezoid_area(3,2,1)"
   ]
  },
  {
   "cell_type": "markdown",
   "id": "e59e883b",
   "metadata": {},
   "source": [
    "- 这种传入参数的方式为**位置参数**。参数3、2、1分别对应着参数base_up、base_down和 height所在的位置，因此这次函数调用的结果应该是2.5。"
   ]
  },
  {
   "cell_type": "markdown",
   "id": "d95febde",
   "metadata": {},
   "source": [
    "### 读取文件\n",
    "\n",
    "#### 打开文件对象\n",
    "\n",
    "- open( )方法返回一个文件对象，最常使用的为两个参数：\n",
    "    - 文件对象 = open(文件路径,模式)\n",
    "    \n",
    "- mode参数：\n",
    "    - `r` 只读模式：只能查看，不能修改。\n",
    "    - `w` 只写模式：之前的同名文件被覆盖。\n",
    "    - `a` 添加模式：数据都添加到末尾 打开文件。\n",
    "    \n",
    "- 读取文件\n",
    "    - 文件对象.readline( ):一次读入一行。\n",
    "    - 文件对象.read( ):将剩余文件全部读取。\n",
    "    - 文件对象.close( ):在完成读取/写入时，必须关闭打开的文件对象。"
   ]
  },
  {
   "cell_type": "markdown",
   "id": "06a5a70c",
   "metadata": {},
   "source": [
    "- 读文件的第一行"
   ]
  },
  {
   "cell_type": "code",
   "execution_count": 83,
   "id": "c6dd5b7d",
   "metadata": {},
   "outputs": [
    {
     "data": {
      "text/plain": [
       "'>gi|2765658|emb|Z78533.1|CIZ78533 C.irapeanum 5.8S rRNA gene and ITS1 and ITS2 DNA\\n'"
      ]
     },
     "execution_count": 83,
     "metadata": {},
     "output_type": "execute_result"
    }
   ],
   "source": [
    "file = open('/Users/liang.hanqing/Documents/jupyter/biopython-master/Doc/examples/ls_orchid.fasta','r')\n",
    "file.readline()"
   ]
  },
  {
   "cell_type": "markdown",
   "id": "ab87b19f",
   "metadata": {},
   "source": [
    "- 读文件的第二行"
   ]
  },
  {
   "cell_type": "code",
   "execution_count": 84,
   "id": "51c35378",
   "metadata": {},
   "outputs": [
    {
     "data": {
      "text/plain": [
       "'CGTAACAAGGTTTCCGTAGGTGAACCTGCGGAAGGATCATTGATGAGACCGTGGAATAAACGATCGAGTG\\n'"
      ]
     },
     "execution_count": 84,
     "metadata": {},
     "output_type": "execute_result"
    }
   ],
   "source": [
    "file.readline()"
   ]
  },
  {
   "cell_type": "markdown",
   "id": "9b73e41e",
   "metadata": {},
   "source": [
    "- 读文件的第三行"
   ]
  },
  {
   "cell_type": "code",
   "execution_count": 85,
   "id": "be0c893d",
   "metadata": {},
   "outputs": [
    {
     "data": {
      "text/plain": [
       "'AATCCGGAGGACCGGTGTACTCAGCTCACCGGGGGCATTGCTCCCGTGGTGACCCTGATTTGTTGTTGGG\\n'"
      ]
     },
     "execution_count": 85,
     "metadata": {},
     "output_type": "execute_result"
    }
   ],
   "source": [
    "file.readline()"
   ]
  },
  {
   "cell_type": "markdown",
   "id": "1f0e8e8c",
   "metadata": {},
   "source": [
    "#### 查找文件路径\n",
    "\n",
    "- macOS：选择文件，按Option+Command+C，即可复制路径。\n",
    "\n",
    "- Windows：选择文件，按住shift，鼠标右键复制路径（粘贴时要注意将`\\`变成`/`）。\n",
    "    - 推荐使用[Path Copy Copy](https://pathcopycopy.github.io)。默认情况下Windows的文件路径是backslash（\\），UNIX系文件路径是 forward slash(/）。在这个软件里，如果选择复制Long Path那就是Windows类型，如果选择UNIX Path就是UNIX类型。"
   ]
  }
 ],
 "metadata": {
  "kernelspec": {
   "display_name": "Python 3 (ipykernel)",
   "language": "python",
   "name": "python3"
  },
  "language_info": {
   "codemirror_mode": {
    "name": "ipython",
    "version": 3
   },
   "file_extension": ".py",
   "mimetype": "text/x-python",
   "name": "python",
   "nbconvert_exporter": "python",
   "pygments_lexer": "ipython3",
   "version": "3.9.13"
  },
  "toc": {
   "base_numbering": 1,
   "nav_menu": {},
   "number_sections": true,
   "sideBar": true,
   "skip_h1_title": true,
   "title_cell": "Table of Contents",
   "title_sidebar": "Contents",
   "toc_cell": true,
   "toc_position": {
    "height": "calc(100% - 180px)",
    "left": "10px",
    "top": "150px",
    "width": "185.797px"
   },
   "toc_section_display": true,
   "toc_window_display": false
  }
 },
 "nbformat": 4,
 "nbformat_minor": 5
}
